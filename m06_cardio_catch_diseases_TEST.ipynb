{
 "cells": [
  {
   "cell_type": "markdown",
   "metadata": {},
   "source": [
    "# 0.0 Initial"
   ]
  },
  {
   "cell_type": "markdown",
   "metadata": {
    "heading_collapsed": true
   },
   "source": [
    "## 0.1. Import"
   ]
  },
  {
   "cell_type": "code",
   "execution_count": 62,
   "metadata": {
    "ExecuteTime": {
     "end_time": "2021-10-24T20:49:54.986427Z",
     "start_time": "2021-10-24T20:49:54.981429Z"
    },
    "hidden": true
   },
   "outputs": [],
   "source": [
    "#!pip uninstall pandas\n",
    "#!pip install --upgrade pandas\n",
    "#!pip install prettytable\n",
    "#!pip install termcolor\n",
    "#!pip install ReliefF"
   ]
  },
  {
   "cell_type": "code",
   "execution_count": 63,
   "metadata": {
    "ExecuteTime": {
     "end_time": "2021-10-24T20:49:55.161320Z",
     "start_time": "2021-10-24T20:49:55.017407Z"
    },
    "hidden": true
   },
   "outputs": [],
   "source": [
    "import pickle\n",
    "import random\n",
    "\n",
    "import pandas            as pd\n",
    "import numpy             as np\n",
    "import seaborn           as sns\n",
    "import matplotlib.pyplot as plt\n",
    "import xgboost           as xgb\n",
    "\n",
    "from sklearn    import decomposition   as d\n",
    "from matplotlib import pyplot          as plt\n",
    "from sklearn    import model_selection as ms\n",
    "from keras      import models          as ml\n",
    "from keras      import layers          as l\n",
    "from sklearn    import linear_model    as lm\n",
    "#from sklearn    import metrics         as m\n",
    "from scikitplot import metrics         as mt\n",
    "\n",
    "from sklearn.svm             import SVC\n",
    "from sklearn.neighbors       import KNeighborsClassifier\n",
    "from sklearn.metrics         import f1_score\n",
    "from sklearn.metrics         import cohen_kappa_score\n",
    "from sklearn.metrics         import balanced_accuracy_score\n",
    "from sklearn.metrics         import accuracy_score\n",
    "from sklearn.model_selection import KFold\n",
    "from sklearn.pipeline        import make_pipeline\n",
    "from sklearn.tree            import DecisionTreeClassifier\n",
    "from sklearn.ensemble        import RandomForestClassifier, BaggingClassifier, AdaBoostClassifier\n",
    "from sklearn.pipeline        import Pipeline\n",
    "from sklearn.model_selection import train_test_split, GridSearchCV\n",
    "from sklearn                 import datasets\n",
    "from ReliefF                 import ReliefF\n",
    "from termcolor               import colored\n",
    "from prettytable             import PrettyTable \n",
    "from boruta                  import BorutaPy\n",
    "from keras.callbacks         import EarlyStopping\n",
    "from sklearn.ensemble        import RandomForestRegressor\n",
    "from sklearn.linear_model    import LinearRegression,Lasso\n",
    "from numpy                   import asarray\n",
    "from sklearn.preprocessing   import StandardScaler\n",
    "from sklearn.preprocessing   import MinMaxScaler\n",
    "from IPython.display         import Image"
   ]
  },
  {
   "cell_type": "markdown",
   "metadata": {},
   "source": [
    "## 0.2. Helper Functions"
   ]
  },
  {
   "cell_type": "code",
   "execution_count": 210,
   "metadata": {
    "ExecuteTime": {
     "end_time": "2021-10-25T00:23:46.152802Z",
     "start_time": "2021-10-25T00:23:46.047667Z"
    },
    "code_folding": []
   },
   "outputs": [],
   "source": [
    "def bmi (height, weight):\n",
    "    bmi = weight/((height/100)**2)\n",
    "    return bmi\n",
    "\n",
    "def mean_absolute_error (y,yhat):\n",
    "    return np.mean(np.abs(y-yhat))\n",
    "\n",
    "def naive_forecast (yhat):\n",
    "    n = yhat.shape[0]\n",
    "    d = np.abs(np.diff(yhat)).sum()/(n-1)\n",
    "    return d\n",
    "    \n",
    "def mean_absolute_scaled_error (y,yhat):\n",
    "    return mean_absolute_error(y,yhat)/naive_forecast(yhat)\n",
    "\n",
    "#def mean_absolute_percentage_error (y,yhat):\n",
    "#    return np.mean(np.abs(y-yhat)/y)\n",
    "\n",
    "def mean_squared_error (y,yhat):\n",
    "    return np.mean(pow((yhat-y),2))\n",
    "\n",
    "def ml_error (model_name, y, yhat):\n",
    "    mae = mean_absolute_error(y,yhat)\n",
    "    mase = mean_absolute_scaled_error(np.expm1(y),np.expm1(yhat))\n",
    "    rmse = np.sqrt(mean_squared_error(y,yhat))\n",
    "    accuracy = accuracy_score(y,yhat)\n",
    "    balanced_acc = balanced_accuracy_score(y,yhat)\n",
    "    kappa = cohen_kappa_score(y,yhat)\n",
    "\n",
    "    return pd.DataFrame({'Model Name': model_name,\n",
    "                        'MAE': mae,\n",
    "                        'MASE': mase,\n",
    "                        'RMSE': rmse, \n",
    "                        'Accuracy': accuracy,\n",
    "                        'Balanced': balanced_acc,\n",
    "                        'Kappa': kappa},\n",
    "                        index=[0])\n",
    "\n",
    "#calculate % people who had CVD\n",
    "def perc (x):\n",
    "    j = len(x)\n",
    "    for i in range(len(x)):\n",
    "        if i < j:\n",
    "            p = ((x['total'][i])/(x['total'][i+pow(-1,(i+2))]+x['total'][i]))*100\n",
    "            x['%_cardio_1'][i] = p\n",
    "        else:\n",
    "            exit\n",
    "    return x\n",
    "\n",
    "#cross-validation\n",
    "def cross_validation(models_performance, num_fold, modelName, model, x_train, y_train):\n",
    "    kfold = ms.StratifiedKFold(n_splits=num_fold, shuffle=True, random_state=42)\n",
    "\n",
    "    balanced_acc_list = []\n",
    "    kappa_list = []\n",
    "    weighted_f1_score_list = []\n",
    "    i = 1\n",
    "\n",
    "    for train_ix, val_ix in kfold.split(x_train, y_train):\n",
    "        #print('Fold Number: {}/{}'.format(i, num_fold))\n",
    "\n",
    "        #get fold data -\n",
    "        x_train_fold = x_train.iloc[train_ix]\n",
    "        x_val_fold = x_train.iloc[val_ix]\n",
    "\n",
    "        y_train_fold = y_train.iloc[train_ix]\n",
    "        y_val_fold = y_train.iloc[val_ix]\n",
    "        \n",
    "        model_fit = model.fit(x_train_fold,y_train_fold)\n",
    "\n",
    "        yhat_model = model_fit.predict(x_val_fold)\n",
    "        \n",
    "        x_val_fold['cardio'] = y_val_fold\n",
    "        \n",
    "        #Balanced Accuracy\n",
    "        balanced_acc = balanced_accuracy_score(y_val_fold, yhat_model)\n",
    "        balanced_acc_list.append(balanced_acc)\n",
    "\n",
    "        #Kappa Metrics\n",
    "        kappa = cohen_kappa_score(y_val_fold, yhat_model)\n",
    "        kappa_list.append(kappa)\n",
    "\n",
    "        #Weighted F1-Score\n",
    "        weighted_f1_score = f1_score(y_val_fold, yhat_model, average='weighted')\n",
    "        weighted_f1_score_list.append(weighted_f1_score)\n",
    "\n",
    "        i += 1\n",
    "     \n",
    "    ballanced_str = np.round(np.mean(balanced_acc_list),4).astype(str) + ' +/- ' + np.round(np.std(balanced_acc_list),4).astype(str)\n",
    "    kappa_str = np.round(np.mean(kappa_list),4).astype(str) + ' +/- ' + np.round(np.std(kappa_list),4).astype(str)\n",
    "    weighted_f1_str = np.round(np.mean(weighted_f1_score_list),4).astype(str) + ' +/- ' + np.round(np.std(weighted_f1_score_list),4).astype(str)\n",
    "    print(ballanced_str)\n",
    "    print(kappa_str)\n",
    "    print(weighted_f1_str)\n",
    "    models_performance = models_performance.append(pd.Series([modelName, ballanced_str, kappa_str, weighted_f1_str], index=models_performance.columns), ignore_index=True)\n",
    "\n",
    "    return models_performance\n",
    "        "
   ]
  },
  {
   "cell_type": "markdown",
   "metadata": {
    "ExecuteTime": {
     "end_time": "2021-05-30T23:09:06.865182Z",
     "start_time": "2021-05-30T23:09:06.795118Z"
    },
    "heading_collapsed": true
   },
   "source": [
    "## 0.3. Loading Data"
   ]
  },
  {
   "cell_type": "code",
   "execution_count": 65,
   "metadata": {
    "ExecuteTime": {
     "end_time": "2021-10-24T20:49:55.509331Z",
     "start_time": "2021-10-24T20:49:55.307229Z"
    },
    "hidden": true
   },
   "outputs": [],
   "source": [
    "df_raw = pd.read_csv('cardio_train.csv', low_memory=False)"
   ]
  },
  {
   "cell_type": "code",
   "execution_count": 66,
   "metadata": {
    "ExecuteTime": {
     "end_time": "2021-10-24T20:49:55.557302Z",
     "start_time": "2021-10-24T20:49:55.512331Z"
    },
    "hidden": true
   },
   "outputs": [
    {
     "data": {
      "text/html": [
       "<div>\n",
       "<style scoped>\n",
       "    .dataframe tbody tr th:only-of-type {\n",
       "        vertical-align: middle;\n",
       "    }\n",
       "\n",
       "    .dataframe tbody tr th {\n",
       "        vertical-align: top;\n",
       "    }\n",
       "\n",
       "    .dataframe thead th {\n",
       "        text-align: right;\n",
       "    }\n",
       "</style>\n",
       "<table border=\"1\" class=\"dataframe\">\n",
       "  <thead>\n",
       "    <tr style=\"text-align: right;\">\n",
       "      <th></th>\n",
       "      <th>id</th>\n",
       "      <th>age</th>\n",
       "      <th>gender</th>\n",
       "      <th>height</th>\n",
       "      <th>weight</th>\n",
       "      <th>ap_hi</th>\n",
       "      <th>ap_lo</th>\n",
       "      <th>cholesterol</th>\n",
       "      <th>gluc</th>\n",
       "      <th>smoke</th>\n",
       "      <th>alco</th>\n",
       "      <th>active</th>\n",
       "      <th>cardio</th>\n",
       "    </tr>\n",
       "  </thead>\n",
       "  <tbody>\n",
       "    <tr>\n",
       "      <th>0</th>\n",
       "      <td>0</td>\n",
       "      <td>18393</td>\n",
       "      <td>2</td>\n",
       "      <td>168</td>\n",
       "      <td>62.0</td>\n",
       "      <td>110</td>\n",
       "      <td>80</td>\n",
       "      <td>1</td>\n",
       "      <td>1</td>\n",
       "      <td>0</td>\n",
       "      <td>0</td>\n",
       "      <td>1</td>\n",
       "      <td>0</td>\n",
       "    </tr>\n",
       "    <tr>\n",
       "      <th>1</th>\n",
       "      <td>1</td>\n",
       "      <td>20228</td>\n",
       "      <td>1</td>\n",
       "      <td>156</td>\n",
       "      <td>85.0</td>\n",
       "      <td>140</td>\n",
       "      <td>90</td>\n",
       "      <td>3</td>\n",
       "      <td>1</td>\n",
       "      <td>0</td>\n",
       "      <td>0</td>\n",
       "      <td>1</td>\n",
       "      <td>1</td>\n",
       "    </tr>\n",
       "    <tr>\n",
       "      <th>2</th>\n",
       "      <td>2</td>\n",
       "      <td>18857</td>\n",
       "      <td>1</td>\n",
       "      <td>165</td>\n",
       "      <td>64.0</td>\n",
       "      <td>130</td>\n",
       "      <td>70</td>\n",
       "      <td>3</td>\n",
       "      <td>1</td>\n",
       "      <td>0</td>\n",
       "      <td>0</td>\n",
       "      <td>0</td>\n",
       "      <td>1</td>\n",
       "    </tr>\n",
       "    <tr>\n",
       "      <th>3</th>\n",
       "      <td>3</td>\n",
       "      <td>17623</td>\n",
       "      <td>2</td>\n",
       "      <td>169</td>\n",
       "      <td>82.0</td>\n",
       "      <td>150</td>\n",
       "      <td>100</td>\n",
       "      <td>1</td>\n",
       "      <td>1</td>\n",
       "      <td>0</td>\n",
       "      <td>0</td>\n",
       "      <td>1</td>\n",
       "      <td>1</td>\n",
       "    </tr>\n",
       "    <tr>\n",
       "      <th>4</th>\n",
       "      <td>4</td>\n",
       "      <td>17474</td>\n",
       "      <td>1</td>\n",
       "      <td>156</td>\n",
       "      <td>56.0</td>\n",
       "      <td>100</td>\n",
       "      <td>60</td>\n",
       "      <td>1</td>\n",
       "      <td>1</td>\n",
       "      <td>0</td>\n",
       "      <td>0</td>\n",
       "      <td>0</td>\n",
       "      <td>0</td>\n",
       "    </tr>\n",
       "    <tr>\n",
       "      <th>...</th>\n",
       "      <td>...</td>\n",
       "      <td>...</td>\n",
       "      <td>...</td>\n",
       "      <td>...</td>\n",
       "      <td>...</td>\n",
       "      <td>...</td>\n",
       "      <td>...</td>\n",
       "      <td>...</td>\n",
       "      <td>...</td>\n",
       "      <td>...</td>\n",
       "      <td>...</td>\n",
       "      <td>...</td>\n",
       "      <td>...</td>\n",
       "    </tr>\n",
       "    <tr>\n",
       "      <th>69995</th>\n",
       "      <td>99993</td>\n",
       "      <td>19240</td>\n",
       "      <td>2</td>\n",
       "      <td>168</td>\n",
       "      <td>76.0</td>\n",
       "      <td>120</td>\n",
       "      <td>80</td>\n",
       "      <td>1</td>\n",
       "      <td>1</td>\n",
       "      <td>1</td>\n",
       "      <td>0</td>\n",
       "      <td>1</td>\n",
       "      <td>0</td>\n",
       "    </tr>\n",
       "    <tr>\n",
       "      <th>69996</th>\n",
       "      <td>99995</td>\n",
       "      <td>22601</td>\n",
       "      <td>1</td>\n",
       "      <td>158</td>\n",
       "      <td>126.0</td>\n",
       "      <td>140</td>\n",
       "      <td>90</td>\n",
       "      <td>2</td>\n",
       "      <td>2</td>\n",
       "      <td>0</td>\n",
       "      <td>0</td>\n",
       "      <td>1</td>\n",
       "      <td>1</td>\n",
       "    </tr>\n",
       "    <tr>\n",
       "      <th>69997</th>\n",
       "      <td>99996</td>\n",
       "      <td>19066</td>\n",
       "      <td>2</td>\n",
       "      <td>183</td>\n",
       "      <td>105.0</td>\n",
       "      <td>180</td>\n",
       "      <td>90</td>\n",
       "      <td>3</td>\n",
       "      <td>1</td>\n",
       "      <td>0</td>\n",
       "      <td>1</td>\n",
       "      <td>0</td>\n",
       "      <td>1</td>\n",
       "    </tr>\n",
       "    <tr>\n",
       "      <th>69998</th>\n",
       "      <td>99998</td>\n",
       "      <td>22431</td>\n",
       "      <td>1</td>\n",
       "      <td>163</td>\n",
       "      <td>72.0</td>\n",
       "      <td>135</td>\n",
       "      <td>80</td>\n",
       "      <td>1</td>\n",
       "      <td>2</td>\n",
       "      <td>0</td>\n",
       "      <td>0</td>\n",
       "      <td>0</td>\n",
       "      <td>1</td>\n",
       "    </tr>\n",
       "    <tr>\n",
       "      <th>69999</th>\n",
       "      <td>99999</td>\n",
       "      <td>20540</td>\n",
       "      <td>1</td>\n",
       "      <td>170</td>\n",
       "      <td>72.0</td>\n",
       "      <td>120</td>\n",
       "      <td>80</td>\n",
       "      <td>2</td>\n",
       "      <td>1</td>\n",
       "      <td>0</td>\n",
       "      <td>0</td>\n",
       "      <td>1</td>\n",
       "      <td>0</td>\n",
       "    </tr>\n",
       "  </tbody>\n",
       "</table>\n",
       "<p>70000 rows × 13 columns</p>\n",
       "</div>"
      ],
      "text/plain": [
       "          id    age  gender  height  weight  ap_hi  ap_lo  cholesterol  gluc  \\\n",
       "0          0  18393       2     168    62.0    110     80            1     1   \n",
       "1          1  20228       1     156    85.0    140     90            3     1   \n",
       "2          2  18857       1     165    64.0    130     70            3     1   \n",
       "3          3  17623       2     169    82.0    150    100            1     1   \n",
       "4          4  17474       1     156    56.0    100     60            1     1   \n",
       "...      ...    ...     ...     ...     ...    ...    ...          ...   ...   \n",
       "69995  99993  19240       2     168    76.0    120     80            1     1   \n",
       "69996  99995  22601       1     158   126.0    140     90            2     2   \n",
       "69997  99996  19066       2     183   105.0    180     90            3     1   \n",
       "69998  99998  22431       1     163    72.0    135     80            1     2   \n",
       "69999  99999  20540       1     170    72.0    120     80            2     1   \n",
       "\n",
       "       smoke  alco  active  cardio  \n",
       "0          0     0       1       0  \n",
       "1          0     0       1       1  \n",
       "2          0     0       0       1  \n",
       "3          0     0       1       1  \n",
       "4          0     0       0       0  \n",
       "...      ...   ...     ...     ...  \n",
       "69995      1     0       1       0  \n",
       "69996      0     0       1       1  \n",
       "69997      0     1       0       1  \n",
       "69998      0     0       0       1  \n",
       "69999      0     0       1       0  \n",
       "\n",
       "[70000 rows x 13 columns]"
      ]
     },
     "execution_count": 66,
     "metadata": {},
     "output_type": "execute_result"
    }
   ],
   "source": [
    "df_raw"
   ]
  },
  {
   "cell_type": "markdown",
   "metadata": {
    "heading_collapsed": true
   },
   "source": [
    "# 1.0. Data Description"
   ]
  },
  {
   "cell_type": "code",
   "execution_count": 67,
   "metadata": {
    "ExecuteTime": {
     "end_time": "2021-10-24T20:49:55.732192Z",
     "start_time": "2021-10-24T20:49:55.559301Z"
    },
    "hidden": true
   },
   "outputs": [],
   "source": [
    "df = df_raw.copy()\n",
    "\n",
    "X_init = df.drop(['cardio'], axis = 1)\n",
    "y_init = df['cardio'].copy()\n",
    "\n",
    "x_df, x_test, y_df, y_test = ms.train_test_split(X_init,y_init,test_size=0.1)\n",
    "x_test_id = x_test['id']\n",
    "df1 = pd.concat([x_df, y_df], axis = 1)"
   ]
  },
  {
   "cell_type": "markdown",
   "metadata": {
    "hidden": true
   },
   "source": [
    "## 1.1. Data Dimensions"
   ]
  },
  {
   "cell_type": "code",
   "execution_count": 68,
   "metadata": {
    "ExecuteTime": {
     "end_time": "2021-10-24T20:49:55.811144Z",
     "start_time": "2021-10-24T20:49:55.734192Z"
    },
    "hidden": true
   },
   "outputs": [
    {
     "name": "stdout",
     "output_type": "stream",
     "text": [
      "Number of columns: 13\n",
      "Number of rows: 63000\n"
     ]
    }
   ],
   "source": [
    "print('Number of columns:', format(df1.shape[1]))\n",
    "print('Number of rows:', format(df1.shape[0]))"
   ]
  },
  {
   "cell_type": "markdown",
   "metadata": {
    "ExecuteTime": {
     "end_time": "2021-05-31T00:21:53.295619Z",
     "start_time": "2021-05-31T00:21:53.279628Z"
    },
    "hidden": true
   },
   "source": [
    "## 1.2. Data Types"
   ]
  },
  {
   "cell_type": "code",
   "execution_count": 69,
   "metadata": {
    "ExecuteTime": {
     "end_time": "2021-10-24T20:49:55.938065Z",
     "start_time": "2021-10-24T20:49:55.813143Z"
    },
    "hidden": true
   },
   "outputs": [
    {
     "data": {
      "text/plain": [
       "id               int64\n",
       "age              int64\n",
       "gender           int64\n",
       "height           int64\n",
       "weight         float64\n",
       "ap_hi            int64\n",
       "ap_lo            int64\n",
       "cholesterol      int64\n",
       "gluc             int64\n",
       "smoke            int64\n",
       "alco             int64\n",
       "active           int64\n",
       "cardio           int64\n",
       "dtype: object"
      ]
     },
     "execution_count": 69,
     "metadata": {},
     "output_type": "execute_result"
    }
   ],
   "source": [
    "df1.dtypes"
   ]
  },
  {
   "cell_type": "markdown",
   "metadata": {
    "hidden": true
   },
   "source": [
    "## 1.3. Check NA"
   ]
  },
  {
   "cell_type": "code",
   "execution_count": 70,
   "metadata": {
    "ExecuteTime": {
     "end_time": "2021-10-24T20:49:56.096968Z",
     "start_time": "2021-10-24T20:49:55.941063Z"
    },
    "hidden": true
   },
   "outputs": [
    {
     "data": {
      "text/plain": [
       "id             0\n",
       "age            0\n",
       "gender         0\n",
       "height         0\n",
       "weight         0\n",
       "ap_hi          0\n",
       "ap_lo          0\n",
       "cholesterol    0\n",
       "gluc           0\n",
       "smoke          0\n",
       "alco           0\n",
       "active         0\n",
       "cardio         0\n",
       "dtype: int64"
      ]
     },
     "execution_count": 70,
     "metadata": {},
     "output_type": "execute_result"
    }
   ],
   "source": [
    "df1.isna().sum()"
   ]
  },
  {
   "cell_type": "markdown",
   "metadata": {
    "hidden": true
   },
   "source": [
    "## 1.4. Unit change"
   ]
  },
  {
   "cell_type": "code",
   "execution_count": 71,
   "metadata": {
    "ExecuteTime": {
     "end_time": "2021-10-24T20:49:56.208258Z",
     "start_time": "2021-10-24T20:49:56.100337Z"
    },
    "hidden": true
   },
   "outputs": [
    {
     "data": {
      "text/plain": [
       "id             int64\n",
       "age            int32\n",
       "gender         int64\n",
       "height         int64\n",
       "weight         int32\n",
       "ap_hi          int64\n",
       "ap_lo          int64\n",
       "cholesterol    int64\n",
       "gluc           int64\n",
       "smoke          int64\n",
       "alco           int64\n",
       "active         int64\n",
       "cardio         int64\n",
       "dtype: object"
      ]
     },
     "execution_count": 71,
     "metadata": {},
     "output_type": "execute_result"
    }
   ],
   "source": [
    "#age (int)\n",
    "df1['age'] = (df1['age']/365).astype(int)\n",
    "\n",
    "#weight (int)\n",
    "df1['weight'] = df1['weight'].astype(int)\n",
    "\n",
    "df1.dtypes"
   ]
  },
  {
   "cell_type": "markdown",
   "metadata": {
    "hidden": true
   },
   "source": [
    "## 1.5. Descriptive Statiscal"
   ]
  },
  {
   "cell_type": "code",
   "execution_count": 72,
   "metadata": {
    "ExecuteTime": {
     "end_time": "2021-10-24T20:49:56.586351Z",
     "start_time": "2021-10-24T20:49:56.210257Z"
    },
    "hidden": true
   },
   "outputs": [
    {
     "data": {
      "text/html": [
       "<div>\n",
       "<style scoped>\n",
       "    .dataframe tbody tr th:only-of-type {\n",
       "        vertical-align: middle;\n",
       "    }\n",
       "\n",
       "    .dataframe tbody tr th {\n",
       "        vertical-align: top;\n",
       "    }\n",
       "\n",
       "    .dataframe thead th {\n",
       "        text-align: right;\n",
       "    }\n",
       "</style>\n",
       "<table border=\"1\" class=\"dataframe\">\n",
       "  <thead>\n",
       "    <tr style=\"text-align: right;\">\n",
       "      <th></th>\n",
       "      <th>attributes</th>\n",
       "      <th>min</th>\n",
       "      <th>max</th>\n",
       "      <th>range</th>\n",
       "      <th>mean</th>\n",
       "      <th>median</th>\n",
       "      <th>std</th>\n",
       "      <th>skew</th>\n",
       "      <th>kurtosis</th>\n",
       "    </tr>\n",
       "  </thead>\n",
       "  <tbody>\n",
       "    <tr>\n",
       "      <th>0</th>\n",
       "      <td>id</td>\n",
       "      <td>0.0</td>\n",
       "      <td>99999.0</td>\n",
       "      <td>99999.0</td>\n",
       "      <td>50012.850381</td>\n",
       "      <td>50069.5</td>\n",
       "      <td>28852.389253</td>\n",
       "      <td>-0.003550</td>\n",
       "      <td>-1.197857</td>\n",
       "    </tr>\n",
       "    <tr>\n",
       "      <th>1</th>\n",
       "      <td>age</td>\n",
       "      <td>29.0</td>\n",
       "      <td>64.0</td>\n",
       "      <td>35.0</td>\n",
       "      <td>52.836365</td>\n",
       "      <td>53.0</td>\n",
       "      <td>6.767206</td>\n",
       "      <td>-0.305965</td>\n",
       "      <td>-0.820927</td>\n",
       "    </tr>\n",
       "    <tr>\n",
       "      <th>2</th>\n",
       "      <td>gender</td>\n",
       "      <td>1.0</td>\n",
       "      <td>2.0</td>\n",
       "      <td>1.0</td>\n",
       "      <td>1.348476</td>\n",
       "      <td>1.0</td>\n",
       "      <td>0.476488</td>\n",
       "      <td>0.636018</td>\n",
       "      <td>-1.595532</td>\n",
       "    </tr>\n",
       "    <tr>\n",
       "      <th>3</th>\n",
       "      <td>height</td>\n",
       "      <td>55.0</td>\n",
       "      <td>250.0</td>\n",
       "      <td>195.0</td>\n",
       "      <td>164.350651</td>\n",
       "      <td>165.0</td>\n",
       "      <td>8.220144</td>\n",
       "      <td>-0.669206</td>\n",
       "      <td>8.260436</td>\n",
       "    </tr>\n",
       "    <tr>\n",
       "      <th>4</th>\n",
       "      <td>weight</td>\n",
       "      <td>10.0</td>\n",
       "      <td>200.0</td>\n",
       "      <td>190.0</td>\n",
       "      <td>74.209286</td>\n",
       "      <td>72.0</td>\n",
       "      <td>14.430121</td>\n",
       "      <td>1.016089</td>\n",
       "      <td>2.634043</td>\n",
       "    </tr>\n",
       "    <tr>\n",
       "      <th>5</th>\n",
       "      <td>ap_hi</td>\n",
       "      <td>-150.0</td>\n",
       "      <td>16020.0</td>\n",
       "      <td>16170.0</td>\n",
       "      <td>128.842286</td>\n",
       "      <td>120.0</td>\n",
       "      <td>156.162487</td>\n",
       "      <td>85.508293</td>\n",
       "      <td>7591.994775</td>\n",
       "    </tr>\n",
       "    <tr>\n",
       "      <th>6</th>\n",
       "      <td>ap_lo</td>\n",
       "      <td>-70.0</td>\n",
       "      <td>10000.0</td>\n",
       "      <td>10070.0</td>\n",
       "      <td>95.974937</td>\n",
       "      <td>80.0</td>\n",
       "      <td>176.943615</td>\n",
       "      <td>31.670237</td>\n",
       "      <td>1437.344240</td>\n",
       "    </tr>\n",
       "    <tr>\n",
       "      <th>7</th>\n",
       "      <td>cholesterol</td>\n",
       "      <td>1.0</td>\n",
       "      <td>3.0</td>\n",
       "      <td>2.0</td>\n",
       "      <td>1.367540</td>\n",
       "      <td>1.0</td>\n",
       "      <td>0.681136</td>\n",
       "      <td>1.584828</td>\n",
       "      <td>0.983662</td>\n",
       "    </tr>\n",
       "    <tr>\n",
       "      <th>8</th>\n",
       "      <td>gluc</td>\n",
       "      <td>1.0</td>\n",
       "      <td>3.0</td>\n",
       "      <td>2.0</td>\n",
       "      <td>1.226476</td>\n",
       "      <td>1.0</td>\n",
       "      <td>0.572361</td>\n",
       "      <td>2.397439</td>\n",
       "      <td>4.293528</td>\n",
       "    </tr>\n",
       "    <tr>\n",
       "      <th>9</th>\n",
       "      <td>smoke</td>\n",
       "      <td>0.0</td>\n",
       "      <td>1.0</td>\n",
       "      <td>1.0</td>\n",
       "      <td>0.088206</td>\n",
       "      <td>0.0</td>\n",
       "      <td>0.283595</td>\n",
       "      <td>2.904168</td>\n",
       "      <td>6.434398</td>\n",
       "    </tr>\n",
       "    <tr>\n",
       "      <th>10</th>\n",
       "      <td>alco</td>\n",
       "      <td>0.0</td>\n",
       "      <td>1.0</td>\n",
       "      <td>1.0</td>\n",
       "      <td>0.053857</td>\n",
       "      <td>0.0</td>\n",
       "      <td>0.225736</td>\n",
       "      <td>3.952886</td>\n",
       "      <td>13.625739</td>\n",
       "    </tr>\n",
       "    <tr>\n",
       "      <th>11</th>\n",
       "      <td>active</td>\n",
       "      <td>0.0</td>\n",
       "      <td>1.0</td>\n",
       "      <td>1.0</td>\n",
       "      <td>0.803095</td>\n",
       "      <td>1.0</td>\n",
       "      <td>0.397660</td>\n",
       "      <td>-1.524431</td>\n",
       "      <td>0.323901</td>\n",
       "    </tr>\n",
       "    <tr>\n",
       "      <th>12</th>\n",
       "      <td>cardio</td>\n",
       "      <td>0.0</td>\n",
       "      <td>1.0</td>\n",
       "      <td>1.0</td>\n",
       "      <td>0.500111</td>\n",
       "      <td>1.0</td>\n",
       "      <td>0.500000</td>\n",
       "      <td>-0.000444</td>\n",
       "      <td>-2.000063</td>\n",
       "    </tr>\n",
       "  </tbody>\n",
       "</table>\n",
       "</div>"
      ],
      "text/plain": [
       "     attributes    min      max    range          mean   median           std  \\\n",
       "0            id    0.0  99999.0  99999.0  50012.850381  50069.5  28852.389253   \n",
       "1           age   29.0     64.0     35.0     52.836365     53.0      6.767206   \n",
       "2        gender    1.0      2.0      1.0      1.348476      1.0      0.476488   \n",
       "3        height   55.0    250.0    195.0    164.350651    165.0      8.220144   \n",
       "4        weight   10.0    200.0    190.0     74.209286     72.0     14.430121   \n",
       "5         ap_hi -150.0  16020.0  16170.0    128.842286    120.0    156.162487   \n",
       "6         ap_lo  -70.0  10000.0  10070.0     95.974937     80.0    176.943615   \n",
       "7   cholesterol    1.0      3.0      2.0      1.367540      1.0      0.681136   \n",
       "8          gluc    1.0      3.0      2.0      1.226476      1.0      0.572361   \n",
       "9         smoke    0.0      1.0      1.0      0.088206      0.0      0.283595   \n",
       "10         alco    0.0      1.0      1.0      0.053857      0.0      0.225736   \n",
       "11       active    0.0      1.0      1.0      0.803095      1.0      0.397660   \n",
       "12       cardio    0.0      1.0      1.0      0.500111      1.0      0.500000   \n",
       "\n",
       "         skew     kurtosis  \n",
       "0   -0.003550    -1.197857  \n",
       "1   -0.305965    -0.820927  \n",
       "2    0.636018    -1.595532  \n",
       "3   -0.669206     8.260436  \n",
       "4    1.016089     2.634043  \n",
       "5   85.508293  7591.994775  \n",
       "6   31.670237  1437.344240  \n",
       "7    1.584828     0.983662  \n",
       "8    2.397439     4.293528  \n",
       "9    2.904168     6.434398  \n",
       "10   3.952886    13.625739  \n",
       "11  -1.524431     0.323901  \n",
       "12  -0.000444    -2.000063  "
      ]
     },
     "execution_count": 72,
     "metadata": {},
     "output_type": "execute_result"
    }
   ],
   "source": [
    "#central tendency - mean, median\n",
    "ct1 = pd.DataFrame(df1.apply(np.mean)).T\n",
    "ct2 = pd.DataFrame(df1.apply(np.median)).T\n",
    "\n",
    "#Dispersion - std, min, max, range, skew, kurtosis\n",
    "d1 = pd.DataFrame(df1.apply(min)).T\n",
    "d2 = pd.DataFrame(df1.apply(max)).T\n",
    "d3 = pd.DataFrame(df1.apply(lambda x: x.max() - x.min())).T\n",
    "d4 = pd.DataFrame(df1.apply(np.std)).T\n",
    "d5 = pd.DataFrame(df1.apply(lambda x: x.skew())).T\n",
    "d6 = pd.DataFrame(df1.apply(lambda x: x.kurtosis())).T\n",
    "\n",
    "#concatenate\n",
    "m = pd.concat([d1,d2,d3,ct1,ct2,d4,d5,d6]).T.reset_index()\n",
    "m.columns = ['attributes','min','max','range','mean','median','std','skew','kurtosis']\n",
    "m"
   ]
  },
  {
   "cell_type": "markdown",
   "metadata": {
    "heading_collapsed": true
   },
   "source": [
    "# 2.0. Feature Engineering"
   ]
  },
  {
   "cell_type": "code",
   "execution_count": 73,
   "metadata": {
    "ExecuteTime": {
     "end_time": "2021-10-24T20:49:56.602342Z",
     "start_time": "2021-10-24T20:49:56.588351Z"
    },
    "hidden": true
   },
   "outputs": [],
   "source": [
    "df2 = df1.copy()"
   ]
  },
  {
   "cell_type": "code",
   "execution_count": 74,
   "metadata": {
    "ExecuteTime": {
     "end_time": "2021-10-24T20:49:56.773244Z",
     "start_time": "2021-10-24T20:49:56.604340Z"
    },
    "hidden": true
   },
   "outputs": [
    {
     "name": "stdout",
     "output_type": "stream",
     "text": [
      "+-------------------+--------------------------+---------------------+-------------+------------------------------------+\n",
      "|        Type       |           Name           |       Category      |     Code    |               Unity                |\n",
      "+-------------------+--------------------------+---------------------+-------------+------------------------------------+\n",
      "|   Identification  |           Age            |  Objective Feature  |     age     |             int (days)             |\n",
      "|   Identification  |          Height          |  Objective Feature  |    height   |              int (cm)              |\n",
      "|   Identification  |          Weight          |  Objective Feature  |    weight   |             float (kg)             |\n",
      "|   Identification  |          Gender          |  Objective Feature  |    gender   |         1 (women) 2 (men)          |\n",
      "| Review of Systems | Systolic blood pressure  | Examination Feature |    ap_hi    |                int                 |\n",
      "| Review of Systems | Diastolic blood pressure | Examination Feature |    ap_lo    |                int                 |\n",
      "| Review of Systems |       Cholesterol        | Examination Feature | cholesterol | 1: normal, 2: above, 3: well above |\n",
      "| Review of Systems |         Glucose          | Examination Feature |     gluc    | 1: normal, 2: above, 3: well above |\n",
      "|       Habits      |         Smoking          |  Subjective Feature |    smoke    |               binary               |\n",
      "|       Habits      |      Alcohol intake      |  Subjective Feature |     alco    |               binary               |\n",
      "|       Habits      |    Physical activity     |  Subjective Feature |    active   |               binary               |\n",
      "|  Target Variable  | Presence/absence of CVD  |   Target Variable   |    cardio   |               binary               |\n",
      "+-------------------+--------------------------+---------------------+-------------+------------------------------------+\n"
     ]
    }
   ],
   "source": [
    "# Specify the Column Names while initializing the Table \n",
    "myTable = PrettyTable(['Type','Name', 'Category', 'Code', 'Unity']) \n",
    "  \n",
    "# Add rows \n",
    "myTable.add_row(['Identification','Age','Objective Feature', 'age', 'int (days)']) \n",
    "myTable.add_row(['Identification','Height','Objective Feature', 'height', 'int (cm)']) \n",
    "myTable.add_row(['Identification','Weight','Objective Feature', 'weight', 'float (kg)'])\n",
    "myTable.add_row(['Identification','Gender','Objective Feature', 'gender', '1 (women) 2 (men)'])\n",
    "myTable.add_row(['Review of Systems','Systolic blood pressure','Examination Feature', 'ap_hi', 'int'])\n",
    "myTable.add_row(['Review of Systems','Diastolic blood pressure','Examination Feature', 'ap_lo', 'int'])\n",
    "myTable.add_row(['Review of Systems','Cholesterol','Examination Feature', 'cholesterol', '1: normal, 2: above, 3: well above'])\n",
    "myTable.add_row(['Review of Systems','Glucose','Examination Feature', 'gluc', '1: normal, 2: above, 3: well above'])\n",
    "myTable.add_row(['Habits','Smoking','Subjective Feature', 'smoke', 'binary'])\n",
    "myTable.add_row(['Habits','Alcohol intake','Subjective Feature', 'alco', 'binary'])\n",
    "myTable.add_row(['Habits','Physical activity','Subjective Feature', 'active', 'binary'])\n",
    "myTable.add_row(['Target Variable','Presence/absence of CVD','Target Variable', 'cardio', 'binary'])\n",
    "\n",
    "print(myTable)"
   ]
  },
  {
   "cell_type": "markdown",
   "metadata": {
    "heading_collapsed": true,
    "hidden": true
   },
   "source": [
    "## 2.1 Mind Map Hypothesis"
   ]
  },
  {
   "cell_type": "code",
   "execution_count": 75,
   "metadata": {
    "ExecuteTime": {
     "end_time": "2021-10-24T20:49:56.898380Z",
     "start_time": "2021-10-24T20:49:56.775243Z"
    },
    "hidden": true
   },
   "outputs": [
    {
     "data": {
      "image/png": "[encoded data removed]",
      "text/plain": [
       "<IPython.core.display.Image object>"
      ]
     },
     "execution_count": 75,
     "metadata": {},
     "output_type": "execute_result"
    }
   ],
   "source": [
    "Image('CCD.png')"
   ]
  },
  {
   "cell_type": "markdown",
   "metadata": {
    "hidden": true
   },
   "source": [
    "## 2.2 Hypothesis Creation"
   ]
  },
  {
   "cell_type": "markdown",
   "metadata": {
    "hidden": true
   },
   "source": [
    "### 2.1.1 Identification Hypothesis"
   ]
  },
  {
   "cell_type": "markdown",
   "metadata": {
    "hidden": true
   },
   "source": [
    "**1.** People over 50 are on average 20% more likely to have CVD than under 50\n",
    "\n",
    "**2.** People shorter than 170 cm (5'7'') have a 5% more chance of CVDs than over 170 cm\n",
    "\n",
    "**3.** Men are 30% more likely than women to develop a CVD\n",
    "\n",
    "**4.** People over 100 kg (220 lb) have 40% more chance of having a CVD than 100 kg\n",
    "\n",
    "**5.** People with a BMI above 30 (obese class I) have 25% more chance of having a CVD than below 30"
   ]
  },
  {
   "cell_type": "markdown",
   "metadata": {
    "hidden": true
   },
   "source": [
    "### 2.1.2 Habits Hypothesis"
   ]
  },
  {
   "cell_type": "markdown",
   "metadata": {
    "hidden": true
   },
   "source": [
    "**1.** People who do not engage in physical activity are 40% more likely to have CVDs than who engage\n",
    "\n",
    "**2.** People who regularly consume alcohol have a 10% chance of having CVD than those who do not consume\n",
    "\n",
    "**3.** People who smoke are 20% more likely to have CVD than who do not smoke"
   ]
  },
  {
   "cell_type": "markdown",
   "metadata": {
    "hidden": true
   },
   "source": [
    "### 2.1.3 Exams Hypothesis"
   ]
  },
  {
   "cell_type": "markdown",
   "metadata": {
    "hidden": true
   },
   "source": [
    "**1.** People with well above normal cholesterol have a 50% chance of having CVD than normal\n",
    "\n",
    "**2.** People with well above normal glucose have a 20% chance of having CVD than normal\n",
    "\n",
    "**3.** People who have hypertension have 40% chance of having CVD than who have normal blood pressure"
   ]
  },
  {
   "cell_type": "markdown",
   "metadata": {
    "hidden": true
   },
   "source": [
    "## 2.3. Final Hypothesis"
   ]
  },
  {
   "cell_type": "markdown",
   "metadata": {
    "ExecuteTime": {
     "end_time": "2021-06-04T22:44:31.407847Z",
     "start_time": "2021-06-04T22:44:31.276834Z"
    },
    "hidden": true
   },
   "source": [
    "**1.** People over 50 are on average 20% more likely to have CVD than under 50\n",
    "\n",
    "**2.** People shorter than 170 cm (5'7'') have a 5% more chance of CVDs than over 170 cm\n",
    "\n",
    "**3.** Men are 30% more likely than women to develop a CVD\n",
    "\n",
    "**4.** People over 100 kg (220 lb) have 40% more chance of having a CVD than 100 kg\n",
    "\n",
    "**5.** People with a BMI above 30 (obese class I) have 25% more chance of having a CVD than below 30\n",
    "\n",
    "**6.** People who do not engage in physical activity are 40% more likely to have CVDs than who engage\n",
    "\n",
    "**7.** People who regularly consume alcohol have a 10% chance of having CVD than those who do not consume\n",
    "\n",
    "**8.** People who smoke are 20% more likely to have CVD than who do not smoke\n",
    "\n",
    "**9.** People with well above normal cholesterol have a 50% chance of having CVD than normal\n",
    "\n",
    "**10.** People with well above normal glucose have a 20% chance of having CVD than normal\n",
    "\n",
    "**11.** People who have hypertension have 40% chance of having CVD than who have normal blood pressure"
   ]
  },
  {
   "cell_type": "markdown",
   "metadata": {
    "hidden": true
   },
   "source": [
    "## 2.4. Feature Engineering"
   ]
  },
  {
   "cell_type": "code",
   "execution_count": 76,
   "metadata": {
    "ExecuteTime": {
     "end_time": "2021-10-24T20:49:57.025327Z",
     "start_time": "2021-10-24T20:49:56.900380Z"
    },
    "hidden": true
   },
   "outputs": [],
   "source": [
    "#BMI\n",
    "df2['bmi'] = bmi(df2['height'], df2['weight'])\n",
    "df2['bmi'] = df2['bmi'].astype(int)"
   ]
  },
  {
   "cell_type": "code",
   "execution_count": 77,
   "metadata": {
    "ExecuteTime": {
     "end_time": "2021-10-24T20:50:00.458345Z",
     "start_time": "2021-10-24T20:49:57.027324Z"
    },
    "hidden": true
   },
   "outputs": [],
   "source": [
    "#blood pressure classification\n",
    "df2['blood_pressure'] = ''\n",
    "\n",
    "df2['blood_pressure'] = df2.apply(lambda x: '0' if (x['ap_hi'] > 0 and x['ap_hi'] < 120) and (x['ap_lo'] > 0 and x['ap_lo'] < 80) else '' \n",
    "                                  '1' if (x['ap_hi'] >= 120 and x['ap_hi'] <= 129) and (x['ap_lo'] < 80) else ''\n",
    "                                  '2' if (x['ap_hi'] >= 130 and x['ap_hi'] <= 139) or (x['ap_lo'] >= 80 and x['ap_lo'] <= 89) else ''\n",
    "                                  '3' if (x['ap_hi'] >= 140 and x['ap_hi'] <= 179) or (x['ap_lo'] >= 90 and x['ap_lo'] <= 119) else ''\n",
    "                                  '4' if x['ap_hi'] >= 180 or x['ap_lo'] >= 120 else '', axis=1)\n",
    "\n",
    "#remove na\n",
    "df2['blood_pressure'] = df2['blood_pressure'].replace('',  )\n",
    "df2['blood_pressure'] = df2['blood_pressure'].dropna()\n",
    "\n",
    "#transform to (int)\n",
    "df2['blood_pressure'] = pd.to_numeric(df2['blood_pressure'],errors = 'coerce')"
   ]
  },
  {
   "cell_type": "code",
   "execution_count": 78,
   "metadata": {
    "ExecuteTime": {
     "end_time": "2021-10-24T20:50:00.473335Z",
     "start_time": "2021-10-24T20:50:00.460343Z"
    },
    "hidden": true
   },
   "outputs": [
    {
     "data": {
      "text/plain": [
       "id                int64\n",
       "age               int32\n",
       "gender            int64\n",
       "height            int64\n",
       "weight            int32\n",
       "ap_hi             int64\n",
       "ap_lo             int64\n",
       "cholesterol       int64\n",
       "gluc              int64\n",
       "smoke             int64\n",
       "alco              int64\n",
       "active            int64\n",
       "cardio            int64\n",
       "bmi               int32\n",
       "blood_pressure    int64\n",
       "dtype: object"
      ]
     },
     "execution_count": 78,
     "metadata": {},
     "output_type": "execute_result"
    }
   ],
   "source": [
    "df2.dtypes"
   ]
  },
  {
   "cell_type": "markdown",
   "metadata": {
    "heading_collapsed": true
   },
   "source": [
    "# 3.0. Data Filtering"
   ]
  },
  {
   "cell_type": "code",
   "execution_count": 79,
   "metadata": {
    "ExecuteTime": {
     "end_time": "2021-10-24T20:50:00.805852Z",
     "start_time": "2021-10-24T20:50:00.475335Z"
    },
    "hidden": true
   },
   "outputs": [],
   "source": [
    "df3 = df2.copy()\n",
    "df3_full = df2.copy()"
   ]
  },
  {
   "cell_type": "code",
   "execution_count": 80,
   "metadata": {
    "ExecuteTime": {
     "end_time": "2021-10-24T20:50:00.948318Z",
     "start_time": "2021-10-24T20:50:00.807851Z"
    },
    "hidden": true
   },
   "outputs": [],
   "source": [
    "#blood pressure\n",
    "#df3 = df3[~df3['blood_pressure'].isna()]\n",
    "\n",
    "#height\n",
    "#df3 = df3[(df3['height'] >= 140) & (df3['height'] <= 200)]\n",
    "\n",
    "#weight\n",
    "#df3 = df3[(df3['weight'] >= 50) & (df3['weight'] <= 150)]\n",
    "\n",
    "#ap_hi\n",
    "#df3 = df3[(df3['ap_hi'] >= 0) & (df3['ap_hi'] <= 250)]\n",
    "\n",
    "#ap_lo\n",
    "#df3 = df3[(df3['ap_lo'] >= 0) & (df3['ap_lo'] <= 250)]"
   ]
  },
  {
   "cell_type": "code",
   "execution_count": 81,
   "metadata": {
    "ExecuteTime": {
     "end_time": "2021-10-24T20:50:01.346070Z",
     "start_time": "2021-10-24T20:50:00.950317Z"
    },
    "hidden": true
   },
   "outputs": [
    {
     "data": {
      "text/html": [
       "<div>\n",
       "<style scoped>\n",
       "    .dataframe tbody tr th:only-of-type {\n",
       "        vertical-align: middle;\n",
       "    }\n",
       "\n",
       "    .dataframe tbody tr th {\n",
       "        vertical-align: top;\n",
       "    }\n",
       "\n",
       "    .dataframe thead th {\n",
       "        text-align: right;\n",
       "    }\n",
       "</style>\n",
       "<table border=\"1\" class=\"dataframe\">\n",
       "  <thead>\n",
       "    <tr style=\"text-align: right;\">\n",
       "      <th></th>\n",
       "      <th>attributes</th>\n",
       "      <th>min</th>\n",
       "      <th>max</th>\n",
       "      <th>range</th>\n",
       "      <th>mean</th>\n",
       "      <th>median</th>\n",
       "      <th>std</th>\n",
       "      <th>skew</th>\n",
       "      <th>kurtosis</th>\n",
       "      <th>total</th>\n",
       "    </tr>\n",
       "  </thead>\n",
       "  <tbody>\n",
       "    <tr>\n",
       "      <th>0</th>\n",
       "      <td>id</td>\n",
       "      <td>0.0</td>\n",
       "      <td>99999.0</td>\n",
       "      <td>99999.0</td>\n",
       "      <td>50012.850381</td>\n",
       "      <td>50069.5</td>\n",
       "      <td>28852.389253</td>\n",
       "      <td>-0.003550</td>\n",
       "      <td>-1.197857</td>\n",
       "      <td>63000.0</td>\n",
       "    </tr>\n",
       "    <tr>\n",
       "      <th>1</th>\n",
       "      <td>age</td>\n",
       "      <td>29.0</td>\n",
       "      <td>64.0</td>\n",
       "      <td>35.0</td>\n",
       "      <td>52.836365</td>\n",
       "      <td>53.0</td>\n",
       "      <td>6.767206</td>\n",
       "      <td>-0.305965</td>\n",
       "      <td>-0.820927</td>\n",
       "      <td>63000.0</td>\n",
       "    </tr>\n",
       "    <tr>\n",
       "      <th>2</th>\n",
       "      <td>gender</td>\n",
       "      <td>1.0</td>\n",
       "      <td>2.0</td>\n",
       "      <td>1.0</td>\n",
       "      <td>1.348476</td>\n",
       "      <td>1.0</td>\n",
       "      <td>0.476488</td>\n",
       "      <td>0.636018</td>\n",
       "      <td>-1.595532</td>\n",
       "      <td>63000.0</td>\n",
       "    </tr>\n",
       "    <tr>\n",
       "      <th>3</th>\n",
       "      <td>height</td>\n",
       "      <td>55.0</td>\n",
       "      <td>250.0</td>\n",
       "      <td>195.0</td>\n",
       "      <td>164.350651</td>\n",
       "      <td>165.0</td>\n",
       "      <td>8.220144</td>\n",
       "      <td>-0.669206</td>\n",
       "      <td>8.260436</td>\n",
       "      <td>63000.0</td>\n",
       "    </tr>\n",
       "    <tr>\n",
       "      <th>4</th>\n",
       "      <td>weight</td>\n",
       "      <td>10.0</td>\n",
       "      <td>200.0</td>\n",
       "      <td>190.0</td>\n",
       "      <td>74.209286</td>\n",
       "      <td>72.0</td>\n",
       "      <td>14.430121</td>\n",
       "      <td>1.016089</td>\n",
       "      <td>2.634043</td>\n",
       "      <td>63000.0</td>\n",
       "    </tr>\n",
       "    <tr>\n",
       "      <th>5</th>\n",
       "      <td>ap_hi</td>\n",
       "      <td>-150.0</td>\n",
       "      <td>16020.0</td>\n",
       "      <td>16170.0</td>\n",
       "      <td>128.842286</td>\n",
       "      <td>120.0</td>\n",
       "      <td>156.162487</td>\n",
       "      <td>85.508293</td>\n",
       "      <td>7591.994775</td>\n",
       "      <td>63000.0</td>\n",
       "    </tr>\n",
       "    <tr>\n",
       "      <th>6</th>\n",
       "      <td>ap_lo</td>\n",
       "      <td>-70.0</td>\n",
       "      <td>10000.0</td>\n",
       "      <td>10070.0</td>\n",
       "      <td>95.974937</td>\n",
       "      <td>80.0</td>\n",
       "      <td>176.943615</td>\n",
       "      <td>31.670237</td>\n",
       "      <td>1437.344240</td>\n",
       "      <td>63000.0</td>\n",
       "    </tr>\n",
       "    <tr>\n",
       "      <th>7</th>\n",
       "      <td>cholesterol</td>\n",
       "      <td>1.0</td>\n",
       "      <td>3.0</td>\n",
       "      <td>2.0</td>\n",
       "      <td>1.367540</td>\n",
       "      <td>1.0</td>\n",
       "      <td>0.681136</td>\n",
       "      <td>1.584828</td>\n",
       "      <td>0.983662</td>\n",
       "      <td>63000.0</td>\n",
       "    </tr>\n",
       "    <tr>\n",
       "      <th>8</th>\n",
       "      <td>gluc</td>\n",
       "      <td>1.0</td>\n",
       "      <td>3.0</td>\n",
       "      <td>2.0</td>\n",
       "      <td>1.226476</td>\n",
       "      <td>1.0</td>\n",
       "      <td>0.572361</td>\n",
       "      <td>2.397439</td>\n",
       "      <td>4.293528</td>\n",
       "      <td>63000.0</td>\n",
       "    </tr>\n",
       "    <tr>\n",
       "      <th>9</th>\n",
       "      <td>smoke</td>\n",
       "      <td>0.0</td>\n",
       "      <td>1.0</td>\n",
       "      <td>1.0</td>\n",
       "      <td>0.088206</td>\n",
       "      <td>0.0</td>\n",
       "      <td>0.283595</td>\n",
       "      <td>2.904168</td>\n",
       "      <td>6.434398</td>\n",
       "      <td>63000.0</td>\n",
       "    </tr>\n",
       "    <tr>\n",
       "      <th>10</th>\n",
       "      <td>alco</td>\n",
       "      <td>0.0</td>\n",
       "      <td>1.0</td>\n",
       "      <td>1.0</td>\n",
       "      <td>0.053857</td>\n",
       "      <td>0.0</td>\n",
       "      <td>0.225736</td>\n",
       "      <td>3.952886</td>\n",
       "      <td>13.625739</td>\n",
       "      <td>63000.0</td>\n",
       "    </tr>\n",
       "    <tr>\n",
       "      <th>11</th>\n",
       "      <td>active</td>\n",
       "      <td>0.0</td>\n",
       "      <td>1.0</td>\n",
       "      <td>1.0</td>\n",
       "      <td>0.803095</td>\n",
       "      <td>1.0</td>\n",
       "      <td>0.397660</td>\n",
       "      <td>-1.524431</td>\n",
       "      <td>0.323901</td>\n",
       "      <td>63000.0</td>\n",
       "    </tr>\n",
       "    <tr>\n",
       "      <th>12</th>\n",
       "      <td>cardio</td>\n",
       "      <td>0.0</td>\n",
       "      <td>1.0</td>\n",
       "      <td>1.0</td>\n",
       "      <td>0.500111</td>\n",
       "      <td>1.0</td>\n",
       "      <td>0.500000</td>\n",
       "      <td>-0.000444</td>\n",
       "      <td>-2.000063</td>\n",
       "      <td>63000.0</td>\n",
       "    </tr>\n",
       "    <tr>\n",
       "      <th>13</th>\n",
       "      <td>bmi</td>\n",
       "      <td>3.0</td>\n",
       "      <td>298.0</td>\n",
       "      <td>295.0</td>\n",
       "      <td>27.067714</td>\n",
       "      <td>26.0</td>\n",
       "      <td>6.085149</td>\n",
       "      <td>7.280191</td>\n",
       "      <td>198.234050</td>\n",
       "      <td>63000.0</td>\n",
       "    </tr>\n",
       "    <tr>\n",
       "      <th>14</th>\n",
       "      <td>blood_pressure</td>\n",
       "      <td>0.0</td>\n",
       "      <td>4.0</td>\n",
       "      <td>4.0</td>\n",
       "      <td>1.934619</td>\n",
       "      <td>2.0</td>\n",
       "      <td>0.923844</td>\n",
       "      <td>-0.869654</td>\n",
       "      <td>0.258419</td>\n",
       "      <td>63000.0</td>\n",
       "    </tr>\n",
       "  </tbody>\n",
       "</table>\n",
       "</div>"
      ],
      "text/plain": [
       "        attributes    min      max    range          mean   median  \\\n",
       "0               id    0.0  99999.0  99999.0  50012.850381  50069.5   \n",
       "1              age   29.0     64.0     35.0     52.836365     53.0   \n",
       "2           gender    1.0      2.0      1.0      1.348476      1.0   \n",
       "3           height   55.0    250.0    195.0    164.350651    165.0   \n",
       "4           weight   10.0    200.0    190.0     74.209286     72.0   \n",
       "5            ap_hi -150.0  16020.0  16170.0    128.842286    120.0   \n",
       "6            ap_lo  -70.0  10000.0  10070.0     95.974937     80.0   \n",
       "7      cholesterol    1.0      3.0      2.0      1.367540      1.0   \n",
       "8             gluc    1.0      3.0      2.0      1.226476      1.0   \n",
       "9            smoke    0.0      1.0      1.0      0.088206      0.0   \n",
       "10            alco    0.0      1.0      1.0      0.053857      0.0   \n",
       "11          active    0.0      1.0      1.0      0.803095      1.0   \n",
       "12          cardio    0.0      1.0      1.0      0.500111      1.0   \n",
       "13             bmi    3.0    298.0    295.0     27.067714     26.0   \n",
       "14  blood_pressure    0.0      4.0      4.0      1.934619      2.0   \n",
       "\n",
       "             std       skew     kurtosis    total  \n",
       "0   28852.389253  -0.003550    -1.197857  63000.0  \n",
       "1       6.767206  -0.305965    -0.820927  63000.0  \n",
       "2       0.476488   0.636018    -1.595532  63000.0  \n",
       "3       8.220144  -0.669206     8.260436  63000.0  \n",
       "4      14.430121   1.016089     2.634043  63000.0  \n",
       "5     156.162487  85.508293  7591.994775  63000.0  \n",
       "6     176.943615  31.670237  1437.344240  63000.0  \n",
       "7       0.681136   1.584828     0.983662  63000.0  \n",
       "8       0.572361   2.397439     4.293528  63000.0  \n",
       "9       0.283595   2.904168     6.434398  63000.0  \n",
       "10      0.225736   3.952886    13.625739  63000.0  \n",
       "11      0.397660  -1.524431     0.323901  63000.0  \n",
       "12      0.500000  -0.000444    -2.000063  63000.0  \n",
       "13      6.085149   7.280191   198.234050  63000.0  \n",
       "14      0.923844  -0.869654     0.258419  63000.0  "
      ]
     },
     "execution_count": 81,
     "metadata": {},
     "output_type": "execute_result"
    }
   ],
   "source": [
    "#central tendency - mean, median\n",
    "ct1 = pd.DataFrame(df3.apply(np.mean)).T\n",
    "ct2 = pd.DataFrame(df3.apply(np.median)).T\n",
    "\n",
    "#Dispersion - std, min, max, range, skew, kurtosis\n",
    "d1 = pd.DataFrame(df3.apply(min)).T\n",
    "d2 = pd.DataFrame(df3.apply(max)).T\n",
    "d3 = pd.DataFrame(df3.apply(lambda x: x.max() - x.min())).T\n",
    "d4 = pd.DataFrame(df3.apply(np.std)).T\n",
    "d5 = pd.DataFrame(df3.apply(lambda x: x.skew())).T\n",
    "d6 = pd.DataFrame(df3.apply(lambda x: x.kurtosis())).T\n",
    "d7 = pd.DataFrame(df3.apply(lambda x: len(x))).T\n",
    "\n",
    "#concatenate\n",
    "m = pd.concat([d1,d2,d3,ct1,ct2,d4,d5,d6,d7]).T.reset_index()\n",
    "m.columns = ['attributes','min','max','range','mean','median','std','skew','kurtosis','total']\n",
    "m"
   ]
  },
  {
   "cell_type": "code",
   "execution_count": 82,
   "metadata": {
    "ExecuteTime": {
     "end_time": "2021-10-24T20:50:02.928124Z",
     "start_time": "2021-10-24T20:50:01.348070Z"
    },
    "hidden": true
   },
   "outputs": [],
   "source": [
    "#calculate summary statistics\n",
    "data_mean, data_std = m['mean'][3], m['std'][3]\n",
    "#identify outliers\n",
    "cut_off = data_std * 3\n",
    "lower, upper = data_mean - cut_off, data_mean + cut_off\n",
    "#identify outliers\n",
    "df3['outliers'] = ''\n",
    "df3['outliers'] = df3.apply(lambda x: 'outlier' if (x['height'] < lower or x['height'] > upper) else '', axis=1)\n",
    "\n",
    "#remove outliers\n",
    "df3 = df3[(df3['outliers'] != 'outlier')]"
   ]
  },
  {
   "cell_type": "code",
   "execution_count": 83,
   "metadata": {
    "ExecuteTime": {
     "end_time": "2021-10-24T20:50:04.478647Z",
     "start_time": "2021-10-24T20:50:02.930122Z"
    },
    "hidden": true
   },
   "outputs": [],
   "source": [
    "#calculate summary statistics\n",
    "data_mean, data_std = m['mean'][4], m['std'][4]\n",
    "#identify outliers\n",
    "cut_off = data_std * 3\n",
    "lower, upper = data_mean - cut_off, data_mean + cut_off\n",
    "#identify outliers\n",
    "df3['outliers'] = ''\n",
    "df3['outliers'] = df3.apply(lambda x: 'outlier' if (x['weight'] < lower or x['weight'] > upper) else '', axis=1)\n",
    "\n",
    "#remove outliers\n",
    "df3 = df3[(df3['outliers'] != 'outlier')]"
   ]
  },
  {
   "cell_type": "code",
   "execution_count": 84,
   "metadata": {
    "ExecuteTime": {
     "end_time": "2021-10-24T20:50:05.955325Z",
     "start_time": "2021-10-24T20:50:04.480639Z"
    },
    "hidden": true
   },
   "outputs": [],
   "source": [
    "#calculate summary statistics\n",
    "data_mean, data_std = m['mean'][5], m['std'][5]\n",
    "#identify outliers\n",
    "cut_off = data_std * 3\n",
    "lower, upper = data_mean - cut_off, data_mean + cut_off\n",
    "#identify outliers\n",
    "df3['outliers'] = ''\n",
    "df3['outliers'] = df3.apply(lambda x: 'outlier' if (x['ap_hi'] < lower or x['ap_hi'] > upper) else '', axis=1)\n",
    "\n",
    "#remove outliers\n",
    "df3 = df3[(df3['outliers'] != 'outlier')]"
   ]
  },
  {
   "cell_type": "code",
   "execution_count": 85,
   "metadata": {
    "ExecuteTime": {
     "end_time": "2021-10-24T20:50:07.426322Z",
     "start_time": "2021-10-24T20:50:05.962320Z"
    },
    "hidden": true
   },
   "outputs": [],
   "source": [
    "#calculate summary statistics\n",
    "data_mean, data_std = m['mean'][6], m['std'][6]\n",
    "#identify outliers\n",
    "cut_off = data_std * 3\n",
    "lower, upper = data_mean - cut_off, data_mean + cut_off\n",
    "#identify outliers\n",
    "df3['outliers'] = ''\n",
    "df3['outliers'] = df3.apply(lambda x: 'outlier' if (x['ap_lo'] < lower or x['ap_lo'] > upper) else '', axis=1)\n",
    "\n",
    "#remove outliers\n",
    "df3 = df3[(df3['outliers'] != 'outlier')]"
   ]
  },
  {
   "cell_type": "code",
   "execution_count": 86,
   "metadata": {
    "ExecuteTime": {
     "end_time": "2021-10-24T20:50:08.853660Z",
     "start_time": "2021-10-24T20:50:07.430320Z"
    },
    "hidden": true
   },
   "outputs": [
    {
     "name": "stderr",
     "output_type": "stream",
     "text": [
      "<ipython-input-86-ee8f72e6fa0e>:13: FutureWarning: In a future version of pandas all arguments of DataFrame.drop except for the argument 'labels' will be keyword-only\n",
      "  df3 = df3.drop('outliers', 1)\n"
     ]
    }
   ],
   "source": [
    "#calculate summary statistics\n",
    "data_mean, data_std = m['mean'][13], m['std'][13]\n",
    "#identify outliers\n",
    "cut_off = data_std * 3\n",
    "lower, upper = data_mean - cut_off, data_mean + cut_off\n",
    "#identify outliers\n",
    "df3['outliers'] = ''\n",
    "df3['outliers'] = df3.apply(lambda x: 'outlier' if (x['bmi'] < lower or x['bmi'] > upper) else '', axis=1)\n",
    "\n",
    "#remove outliers\n",
    "df3 = df3[(df3['outliers'] != 'outlier')]\n",
    "\n",
    "df3 = df3.drop('outliers', 1)"
   ]
  },
  {
   "cell_type": "code",
   "execution_count": 87,
   "metadata": {
    "ExecuteTime": {
     "end_time": "2021-10-24T20:50:09.169466Z",
     "start_time": "2021-10-24T20:50:08.855664Z"
    },
    "hidden": true
   },
   "outputs": [
    {
     "data": {
      "text/html": [
       "<div>\n",
       "<style scoped>\n",
       "    .dataframe tbody tr th:only-of-type {\n",
       "        vertical-align: middle;\n",
       "    }\n",
       "\n",
       "    .dataframe tbody tr th {\n",
       "        vertical-align: top;\n",
       "    }\n",
       "\n",
       "    .dataframe thead th {\n",
       "        text-align: right;\n",
       "    }\n",
       "</style>\n",
       "<table border=\"1\" class=\"dataframe\">\n",
       "  <thead>\n",
       "    <tr style=\"text-align: right;\">\n",
       "      <th></th>\n",
       "      <th>attributes</th>\n",
       "      <th>min</th>\n",
       "      <th>max</th>\n",
       "      <th>range</th>\n",
       "      <th>mean</th>\n",
       "      <th>median</th>\n",
       "      <th>std</th>\n",
       "      <th>skew</th>\n",
       "      <th>kurtosis</th>\n",
       "      <th>total</th>\n",
       "    </tr>\n",
       "  </thead>\n",
       "  <tbody>\n",
       "    <tr>\n",
       "      <th>0</th>\n",
       "      <td>id</td>\n",
       "      <td>0.0</td>\n",
       "      <td>99999.0</td>\n",
       "      <td>99999.0</td>\n",
       "      <td>50007.962757</td>\n",
       "      <td>50090.0</td>\n",
       "      <td>28841.955502</td>\n",
       "      <td>-0.002991</td>\n",
       "      <td>-1.197100</td>\n",
       "      <td>61219.0</td>\n",
       "    </tr>\n",
       "    <tr>\n",
       "      <th>1</th>\n",
       "      <td>age</td>\n",
       "      <td>29.0</td>\n",
       "      <td>64.0</td>\n",
       "      <td>35.0</td>\n",
       "      <td>52.826541</td>\n",
       "      <td>53.0</td>\n",
       "      <td>6.769658</td>\n",
       "      <td>-0.304341</td>\n",
       "      <td>-0.823213</td>\n",
       "      <td>61219.0</td>\n",
       "    </tr>\n",
       "    <tr>\n",
       "      <th>2</th>\n",
       "      <td>gender</td>\n",
       "      <td>1.0</td>\n",
       "      <td>2.0</td>\n",
       "      <td>1.0</td>\n",
       "      <td>1.346967</td>\n",
       "      <td>1.0</td>\n",
       "      <td>0.476005</td>\n",
       "      <td>0.643003</td>\n",
       "      <td>-1.586600</td>\n",
       "      <td>61219.0</td>\n",
       "    </tr>\n",
       "    <tr>\n",
       "      <th>3</th>\n",
       "      <td>height</td>\n",
       "      <td>140.0</td>\n",
       "      <td>189.0</td>\n",
       "      <td>49.0</td>\n",
       "      <td>164.395710</td>\n",
       "      <td>165.0</td>\n",
       "      <td>7.699551</td>\n",
       "      <td>0.092772</td>\n",
       "      <td>-0.088636</td>\n",
       "      <td>61219.0</td>\n",
       "    </tr>\n",
       "    <tr>\n",
       "      <th>4</th>\n",
       "      <td>weight</td>\n",
       "      <td>31.0</td>\n",
       "      <td>117.0</td>\n",
       "      <td>86.0</td>\n",
       "      <td>73.518564</td>\n",
       "      <td>72.0</td>\n",
       "      <td>13.155650</td>\n",
       "      <td>0.533408</td>\n",
       "      <td>0.174122</td>\n",
       "      <td>61219.0</td>\n",
       "    </tr>\n",
       "    <tr>\n",
       "      <th>5</th>\n",
       "      <td>ap_hi</td>\n",
       "      <td>-150.0</td>\n",
       "      <td>401.0</td>\n",
       "      <td>551.0</td>\n",
       "      <td>126.165455</td>\n",
       "      <td>120.0</td>\n",
       "      <td>17.845203</td>\n",
       "      <td>-0.107340</td>\n",
       "      <td>10.247008</td>\n",
       "      <td>61219.0</td>\n",
       "    </tr>\n",
       "    <tr>\n",
       "      <th>6</th>\n",
       "      <td>ap_lo</td>\n",
       "      <td>-70.0</td>\n",
       "      <td>602.0</td>\n",
       "      <td>672.0</td>\n",
       "      <td>81.287541</td>\n",
       "      <td>80.0</td>\n",
       "      <td>10.268260</td>\n",
       "      <td>4.330141</td>\n",
       "      <td>207.869385</td>\n",
       "      <td>61219.0</td>\n",
       "    </tr>\n",
       "    <tr>\n",
       "      <th>7</th>\n",
       "      <td>cholesterol</td>\n",
       "      <td>1.0</td>\n",
       "      <td>3.0</td>\n",
       "      <td>2.0</td>\n",
       "      <td>1.362633</td>\n",
       "      <td>1.0</td>\n",
       "      <td>0.677930</td>\n",
       "      <td>1.605898</td>\n",
       "      <td>1.053627</td>\n",
       "      <td>61219.0</td>\n",
       "    </tr>\n",
       "    <tr>\n",
       "      <th>8</th>\n",
       "      <td>gluc</td>\n",
       "      <td>1.0</td>\n",
       "      <td>3.0</td>\n",
       "      <td>2.0</td>\n",
       "      <td>1.223297</td>\n",
       "      <td>1.0</td>\n",
       "      <td>0.569247</td>\n",
       "      <td>2.422865</td>\n",
       "      <td>4.418707</td>\n",
       "      <td>61219.0</td>\n",
       "    </tr>\n",
       "    <tr>\n",
       "      <th>9</th>\n",
       "      <td>smoke</td>\n",
       "      <td>0.0</td>\n",
       "      <td>1.0</td>\n",
       "      <td>1.0</td>\n",
       "      <td>0.087473</td>\n",
       "      <td>0.0</td>\n",
       "      <td>0.282527</td>\n",
       "      <td>2.920342</td>\n",
       "      <td>6.528609</td>\n",
       "      <td>61219.0</td>\n",
       "    </tr>\n",
       "    <tr>\n",
       "      <th>10</th>\n",
       "      <td>alco</td>\n",
       "      <td>0.0</td>\n",
       "      <td>1.0</td>\n",
       "      <td>1.0</td>\n",
       "      <td>0.053251</td>\n",
       "      <td>0.0</td>\n",
       "      <td>0.224534</td>\n",
       "      <td>3.979429</td>\n",
       "      <td>13.836309</td>\n",
       "      <td>61219.0</td>\n",
       "    </tr>\n",
       "    <tr>\n",
       "      <th>11</th>\n",
       "      <td>active</td>\n",
       "      <td>0.0</td>\n",
       "      <td>1.0</td>\n",
       "      <td>1.0</td>\n",
       "      <td>0.803117</td>\n",
       "      <td>1.0</td>\n",
       "      <td>0.397643</td>\n",
       "      <td>-1.524603</td>\n",
       "      <td>0.324424</td>\n",
       "      <td>61219.0</td>\n",
       "    </tr>\n",
       "    <tr>\n",
       "      <th>12</th>\n",
       "      <td>cardio</td>\n",
       "      <td>0.0</td>\n",
       "      <td>1.0</td>\n",
       "      <td>1.0</td>\n",
       "      <td>0.493033</td>\n",
       "      <td>0.0</td>\n",
       "      <td>0.499951</td>\n",
       "      <td>0.027871</td>\n",
       "      <td>-1.999289</td>\n",
       "      <td>61219.0</td>\n",
       "    </tr>\n",
       "    <tr>\n",
       "      <th>13</th>\n",
       "      <td>bmi</td>\n",
       "      <td>10.0</td>\n",
       "      <td>45.0</td>\n",
       "      <td>35.0</td>\n",
       "      <td>26.743674</td>\n",
       "      <td>26.0</td>\n",
       "      <td>4.807753</td>\n",
       "      <td>0.806223</td>\n",
       "      <td>0.577748</td>\n",
       "      <td>61219.0</td>\n",
       "    </tr>\n",
       "    <tr>\n",
       "      <th>14</th>\n",
       "      <td>blood_pressure</td>\n",
       "      <td>0.0</td>\n",
       "      <td>4.0</td>\n",
       "      <td>4.0</td>\n",
       "      <td>1.912936</td>\n",
       "      <td>2.0</td>\n",
       "      <td>0.918207</td>\n",
       "      <td>-0.888360</td>\n",
       "      <td>0.229310</td>\n",
       "      <td>61219.0</td>\n",
       "    </tr>\n",
       "  </tbody>\n",
       "</table>\n",
       "</div>"
      ],
      "text/plain": [
       "        attributes    min      max    range          mean   median  \\\n",
       "0               id    0.0  99999.0  99999.0  50007.962757  50090.0   \n",
       "1              age   29.0     64.0     35.0     52.826541     53.0   \n",
       "2           gender    1.0      2.0      1.0      1.346967      1.0   \n",
       "3           height  140.0    189.0     49.0    164.395710    165.0   \n",
       "4           weight   31.0    117.0     86.0     73.518564     72.0   \n",
       "5            ap_hi -150.0    401.0    551.0    126.165455    120.0   \n",
       "6            ap_lo  -70.0    602.0    672.0     81.287541     80.0   \n",
       "7      cholesterol    1.0      3.0      2.0      1.362633      1.0   \n",
       "8             gluc    1.0      3.0      2.0      1.223297      1.0   \n",
       "9            smoke    0.0      1.0      1.0      0.087473      0.0   \n",
       "10            alco    0.0      1.0      1.0      0.053251      0.0   \n",
       "11          active    0.0      1.0      1.0      0.803117      1.0   \n",
       "12          cardio    0.0      1.0      1.0      0.493033      0.0   \n",
       "13             bmi   10.0     45.0     35.0     26.743674     26.0   \n",
       "14  blood_pressure    0.0      4.0      4.0      1.912936      2.0   \n",
       "\n",
       "             std      skew    kurtosis    total  \n",
       "0   28841.955502 -0.002991   -1.197100  61219.0  \n",
       "1       6.769658 -0.304341   -0.823213  61219.0  \n",
       "2       0.476005  0.643003   -1.586600  61219.0  \n",
       "3       7.699551  0.092772   -0.088636  61219.0  \n",
       "4      13.155650  0.533408    0.174122  61219.0  \n",
       "5      17.845203 -0.107340   10.247008  61219.0  \n",
       "6      10.268260  4.330141  207.869385  61219.0  \n",
       "7       0.677930  1.605898    1.053627  61219.0  \n",
       "8       0.569247  2.422865    4.418707  61219.0  \n",
       "9       0.282527  2.920342    6.528609  61219.0  \n",
       "10      0.224534  3.979429   13.836309  61219.0  \n",
       "11      0.397643 -1.524603    0.324424  61219.0  \n",
       "12      0.499951  0.027871   -1.999289  61219.0  \n",
       "13      4.807753  0.806223    0.577748  61219.0  \n",
       "14      0.918207 -0.888360    0.229310  61219.0  "
      ]
     },
     "execution_count": 87,
     "metadata": {},
     "output_type": "execute_result"
    }
   ],
   "source": [
    "#central tendency - mean, median\n",
    "ct1 = pd.DataFrame(df3.apply(np.mean)).T\n",
    "ct2 = pd.DataFrame(df3.apply(np.median)).T\n",
    "\n",
    "#Dispersion - std, min, max, range, skew, kurtosis\n",
    "d1 = pd.DataFrame(df3.apply(min)).T\n",
    "d2 = pd.DataFrame(df3.apply(max)).T\n",
    "d3 = pd.DataFrame(df3.apply(lambda x: x.max() - x.min())).T\n",
    "d4 = pd.DataFrame(df3.apply(np.std)).T\n",
    "d5 = pd.DataFrame(df3.apply(lambda x: x.skew())).T\n",
    "d6 = pd.DataFrame(df3.apply(lambda x: x.kurtosis())).T\n",
    "d7 = pd.DataFrame(df3.apply(lambda x: len(x))).T\n",
    "\n",
    "#concatenate\n",
    "m = pd.concat([d1,d2,d3,ct1,ct2,d4,d5,d6,d7]).T.reset_index()\n",
    "m.columns = ['attributes','min','max','range','mean','median','std','skew','kurtosis','total']\n",
    "m"
   ]
  },
  {
   "cell_type": "markdown",
   "metadata": {
    "heading_collapsed": true
   },
   "source": [
    "# 4.0. Exploratory Data Analysis"
   ]
  },
  {
   "cell_type": "code",
   "execution_count": 88,
   "metadata": {
    "ExecuteTime": {
     "end_time": "2021-10-24T20:50:09.185456Z",
     "start_time": "2021-10-24T20:50:09.171463Z"
    },
    "hidden": true
   },
   "outputs": [],
   "source": [
    "df4 = df3.copy()"
   ]
  },
  {
   "cell_type": "markdown",
   "metadata": {
    "hidden": true
   },
   "source": [
    "## 4.1 Univariate Analysis"
   ]
  },
  {
   "cell_type": "markdown",
   "metadata": {
    "hidden": true
   },
   "source": [
    "### 4.1.1 Response variable"
   ]
  },
  {
   "cell_type": "code",
   "execution_count": 89,
   "metadata": {
    "ExecuteTime": {
     "end_time": "2021-10-24T20:50:09.279395Z",
     "start_time": "2021-10-24T20:50:09.188454Z"
    },
    "hidden": true
   },
   "outputs": [],
   "source": [
    "#sns.displot(df4['cardio'], kde=True)"
   ]
  },
  {
   "cell_type": "markdown",
   "metadata": {
    "hidden": true
   },
   "source": [
    "### 4.1.2 Numeric variable"
   ]
  },
  {
   "cell_type": "code",
   "execution_count": 90,
   "metadata": {
    "ExecuteTime": {
     "end_time": "2021-10-24T20:50:14.192915Z",
     "start_time": "2021-10-24T20:50:09.281395Z"
    },
    "hidden": true
   },
   "outputs": [
    {
     "data": {
      "image/png": "[encoded data removed]",
      "text/plain": [
       "<Figure size 1728x864 with 16 Axes>"
      ]
     },
     "metadata": {
      "needs_background": "light"
     },
     "output_type": "display_data"
    }
   ],
   "source": [
    "df42 = df4.drop('id', axis=1)\n",
    "df42.hist(figsize=(24,12), bins=50);"
   ]
  },
  {
   "cell_type": "markdown",
   "metadata": {
    "hidden": true
   },
   "source": [
    "## 4.2. Bivariate Analysis"
   ]
  },
  {
   "cell_type": "markdown",
   "metadata": {
    "hidden": true
   },
   "source": [
    "**1. Analysis between 39 - 64. People over 50 are on average 20% more likely to have CVD than under 50**\n",
    "\n",
    "**TRUE** On average people over 50 are 56.6% likely to have CVD and 20.9% more likely than under 50. 63 years old has the highest incidence."
   ]
  },
  {
   "cell_type": "code",
   "execution_count": 92,
   "metadata": {
    "ExecuteTime": {
     "end_time": "2021-10-24T20:50:15.000874Z",
     "start_time": "2021-10-24T20:50:14.226894Z"
    },
    "hidden": true
   },
   "outputs": [
    {
     "data": {
      "image/png": "[encoded data removed]",
      "text/plain": [
       "<Figure size 1080x504 with 1 Axes>"
      ]
     },
     "metadata": {
      "needs_background": "light"
     },
     "output_type": "display_data"
    }
   ],
   "source": [
    "#cvd per age\n",
    "aux1 = df4[['age', 'cardio']].groupby('age').sum().reset_index().rename(columns={0:'total'})\n",
    "\n",
    "#histogram\n",
    "fig_dims = (15, 7)\n",
    "fig, ax = plt.subplots(figsize=fig_dims)\n",
    "sns.barplot(x='age', y='cardio', ax=ax, data=aux1)\n",
    "plt.title('People who had CVD per age')\n",
    "plt.show()"
   ]
  },
  {
   "cell_type": "code",
   "execution_count": 93,
   "metadata": {
    "ExecuteTime": {
     "end_time": "2021-10-24T20:50:15.518694Z",
     "start_time": "2021-10-24T20:50:15.002849Z"
    },
    "hidden": true
   },
   "outputs": [
    {
     "name": "stderr",
     "output_type": "stream",
     "text": [
      "<ipython-input-64-cb04d2a87beb>:45: SettingWithCopyWarning: \n",
      "A value is trying to be set on a copy of a slice from a DataFrame\n",
      "\n",
      "See the caveats in the documentation: https://pandas.pydata.org/pandas-docs/stable/user_guide/indexing.html#returning-a-view-versus-a-copy\n",
      "  x['%_cardio_1'][i] = p\n"
     ]
    }
   ],
   "source": [
    "#% people with CVD per age\n",
    "aux1 = df4[(df4['age'] >= 39)]\n",
    "aux1 = aux1[['age', 'cardio']].groupby(['age','cardio']).size().reset_index().rename(columns={0:'total'})\n",
    "aux1['%_cardio_1'] = \"\"\n",
    "aux1 = perc(aux1)"
   ]
  },
  {
   "cell_type": "code",
   "execution_count": 94,
   "metadata": {
    "ExecuteTime": {
     "end_time": "2021-10-24T20:50:15.565666Z",
     "start_time": "2021-10-24T20:50:15.521693Z"
    },
    "hidden": true
   },
   "outputs": [
    {
     "data": {
      "text/html": [
       "<div>\n",
       "<style scoped>\n",
       "    .dataframe tbody tr th:only-of-type {\n",
       "        vertical-align: middle;\n",
       "    }\n",
       "\n",
       "    .dataframe tbody tr th {\n",
       "        vertical-align: top;\n",
       "    }\n",
       "\n",
       "    .dataframe thead th {\n",
       "        text-align: right;\n",
       "    }\n",
       "</style>\n",
       "<table border=\"1\" class=\"dataframe\">\n",
       "  <thead>\n",
       "    <tr style=\"text-align: right;\">\n",
       "      <th></th>\n",
       "      <th>index</th>\n",
       "      <th>over 50</th>\n",
       "      <th>under 50</th>\n",
       "    </tr>\n",
       "  </thead>\n",
       "  <tbody>\n",
       "    <tr>\n",
       "      <th>0</th>\n",
       "      <td>age</td>\n",
       "      <td>57.000000</td>\n",
       "      <td>44.000000</td>\n",
       "    </tr>\n",
       "    <tr>\n",
       "      <th>1</th>\n",
       "      <td>cardio</td>\n",
       "      <td>1.000000</td>\n",
       "      <td>1.000000</td>\n",
       "    </tr>\n",
       "    <tr>\n",
       "      <th>2</th>\n",
       "      <td>total</td>\n",
       "      <td>1562.133333</td>\n",
       "      <td>613.727273</td>\n",
       "    </tr>\n",
       "    <tr>\n",
       "      <th>3</th>\n",
       "      <td>average</td>\n",
       "      <td>56.258664</td>\n",
       "      <td>34.934962</td>\n",
       "    </tr>\n",
       "  </tbody>\n",
       "</table>\n",
       "</div>"
      ],
      "text/plain": [
       "     index      over 50    under 50\n",
       "0      age    57.000000   44.000000\n",
       "1   cardio     1.000000    1.000000\n",
       "2    total  1562.133333  613.727273\n",
       "3  average    56.258664   34.934962"
      ]
     },
     "execution_count": 94,
     "metadata": {},
     "output_type": "execute_result"
    }
   ],
   "source": [
    "#divide bewtween two groups under and over 50\n",
    "aux1 = aux1[(aux1['cardio'] >= 1)]\n",
    "aux_50 = aux1[(aux1['age'] >= 50)]\n",
    "aux_50 = pd.DataFrame(aux_50.apply(np.mean)).T\n",
    "\n",
    "aux_49 = aux1[(aux1['age'] < 50)]\n",
    "aux_49 = pd.DataFrame(aux_49.apply(np.mean)).T\n",
    "\n",
    "#result of average\n",
    "m = pd.concat([aux_50, aux_49]).T.reset_index()\n",
    "m.columns = ['index','over 50','under 50']\n",
    "m['index'] = {'age': 0, 'cardio': 1, 'total': 2, 'average': 3}\n",
    "m"
   ]
  },
  {
   "cell_type": "code",
   "execution_count": 95,
   "metadata": {
    "ExecuteTime": {
     "end_time": "2021-10-24T20:50:16.829827Z",
     "start_time": "2021-10-24T20:50:15.567664Z"
    },
    "hidden": true
   },
   "outputs": [
    {
     "data": {
      "image/png": "[encoded data removed]",
      "text/plain": [
       "<Figure size 1296x720 with 1 Axes>"
      ]
     },
     "metadata": {
      "needs_background": "light"
     },
     "output_type": "display_data"
    }
   ],
   "source": [
    "#histogram people who had CVD per age\n",
    "fig_dims = (18, 10)\n",
    "fig, ax = plt.subplots(figsize=fig_dims)\n",
    "\n",
    "graph = sns.barplot(x='age', y='%_cardio_1', ax=ax, data=aux1)\n",
    "graph.axvline(10.5, ymin=0.0, ymax=1.0, linestyle =\"--\", color='blue')\n",
    "graph.axhline(51, xmin=0.0, xmax=1.0, linestyle =\"--\", color='red')\n",
    "plt.title('% People who had CVD per age')\n",
    "plt.show()"
   ]
  },
  {
   "cell_type": "markdown",
   "metadata": {
    "hidden": true
   },
   "source": [
    "**2. Analysis between 140 - 193 cm. People shorter than 170 cm (5'7'') have a 5% more chance of CVDs than over 170 cm**\n",
    "\n",
    "**FALSE** On average people shorter than 170 cm have 4.5% more likely to have CVD than over 170."
   ]
  },
  {
   "cell_type": "code",
   "execution_count": 96,
   "metadata": {
    "ExecuteTime": {
     "end_time": "2021-10-24T20:50:18.083872Z",
     "start_time": "2021-10-24T20:50:16.832826Z"
    },
    "hidden": true
   },
   "outputs": [
    {
     "data": {
      "image/png": "[encoded data removed]",
      "text/plain": [
       "<Figure size 1296x720 with 1 Axes>"
      ]
     },
     "metadata": {
      "needs_background": "light"
     },
     "output_type": "display_data"
    }
   ],
   "source": [
    "#cvd per height\n",
    "aux1 = df4[(df4['height'] >= 140) & (df4['height'] <= 193)]\n",
    "aux1 = aux1[['height', 'cardio']].groupby('height').sum().reset_index()\n",
    "\n",
    "#histogram\n",
    "fig_dims = (18, 10)\n",
    "fig, ax = plt.subplots(figsize=fig_dims)\n",
    "sns.barplot(x='height', y='cardio', ax=ax, data=aux1)\n",
    "plt.title('People who had CVD per height (cm)')\n",
    "plt.show()"
   ]
  },
  {
   "cell_type": "code",
   "execution_count": 97,
   "metadata": {
    "ExecuteTime": {
     "end_time": "2021-10-24T20:50:18.099862Z",
     "start_time": "2021-10-24T20:50:18.086871Z"
    },
    "hidden": true
   },
   "outputs": [],
   "source": [
    "#filter height 140 - 190 and divide between two groups\n",
    "#aux1 = df4[(df4['cardio'] >= 1) & (df4['height'] >= 140) & (df4['height'] <= 190)]\n",
    "#aux1 = aux1[['height', 'cardio']].groupby('height').size().reset_index().rename(columns={0:'total_1'})\n",
    "\n",
    "#aux2 = df4[(df4['cardio'] <= 0) & (df4['height'] >= 140) & (df4['height'] <= 190)]\n",
    "#aux2 = aux2[['height', 'cardio']].groupby('height').size().reset_index().rename(columns={0:'total_0'})\n",
    "\n",
    "#fig = plt.figure(figsize=(10,10))\n",
    "\n",
    "#ax = fig.add_subplot(111)\n",
    "\n",
    "#width = 0.2\n",
    "\n",
    "#aux1.plot(x='height', y='total_1', kind='bar', color='red', ax=ax, width=width, position=0)\n",
    "#aux2.plot(x='height', y='total_0', kind='bar', color='blue', ax=ax, width=width, position=1)\n",
    "#plt.show()"
   ]
  },
  {
   "cell_type": "code",
   "execution_count": 98,
   "metadata": {
    "ExecuteTime": {
     "end_time": "2021-10-24T20:50:18.289745Z",
     "start_time": "2021-10-24T20:50:18.101861Z"
    },
    "hidden": true
   },
   "outputs": [
    {
     "name": "stderr",
     "output_type": "stream",
     "text": [
      "<ipython-input-64-cb04d2a87beb>:45: SettingWithCopyWarning: \n",
      "A value is trying to be set on a copy of a slice from a DataFrame\n",
      "\n",
      "See the caveats in the documentation: https://pandas.pydata.org/pandas-docs/stable/user_guide/indexing.html#returning-a-view-versus-a-copy\n",
      "  x['%_cardio_1'][i] = p\n"
     ]
    }
   ],
   "source": [
    "#filtering and calculate % people with CVD per height\n",
    "aux1 = df4[(df4['height'] >= 135) & (df4['height'] <= 193)]\n",
    "aux1 = aux1[['height', 'cardio']].groupby(['height','cardio']).size().reset_index().rename(columns={0:'total'})\n",
    "aux1['%_cardio_1'] = \"\"\n",
    "aux1 = perc(aux1)"
   ]
  },
  {
   "cell_type": "code",
   "execution_count": 99,
   "metadata": {
    "ExecuteTime": {
     "end_time": "2021-10-24T20:50:18.336719Z",
     "start_time": "2021-10-24T20:50:18.291744Z"
    },
    "hidden": true
   },
   "outputs": [
    {
     "data": {
      "text/html": [
       "<div>\n",
       "<style scoped>\n",
       "    .dataframe tbody tr th:only-of-type {\n",
       "        vertical-align: middle;\n",
       "    }\n",
       "\n",
       "    .dataframe tbody tr th {\n",
       "        vertical-align: top;\n",
       "    }\n",
       "\n",
       "    .dataframe thead th {\n",
       "        text-align: right;\n",
       "    }\n",
       "</style>\n",
       "<table border=\"1\" class=\"dataframe\">\n",
       "  <thead>\n",
       "    <tr style=\"text-align: right;\">\n",
       "      <th></th>\n",
       "      <th>index</th>\n",
       "      <th>over 170</th>\n",
       "      <th>below 169</th>\n",
       "    </tr>\n",
       "  </thead>\n",
       "  <tbody>\n",
       "    <tr>\n",
       "      <th>0</th>\n",
       "      <td>age</td>\n",
       "      <td>179.500000</td>\n",
       "      <td>154.500000</td>\n",
       "    </tr>\n",
       "    <tr>\n",
       "      <th>1</th>\n",
       "      <td>cardio</td>\n",
       "      <td>1.000000</td>\n",
       "      <td>1.000000</td>\n",
       "    </tr>\n",
       "    <tr>\n",
       "      <th>2</th>\n",
       "      <td>total</td>\n",
       "      <td>384.000000</td>\n",
       "      <td>750.100000</td>\n",
       "    </tr>\n",
       "    <tr>\n",
       "      <th>3</th>\n",
       "      <td>average</td>\n",
       "      <td>48.518593</td>\n",
       "      <td>52.138282</td>\n",
       "    </tr>\n",
       "  </tbody>\n",
       "</table>\n",
       "</div>"
      ],
      "text/plain": [
       "     index    over 170   below 169\n",
       "0      age  179.500000  154.500000\n",
       "1   cardio    1.000000    1.000000\n",
       "2    total  384.000000  750.100000\n",
       "3  average   48.518593   52.138282"
      ]
     },
     "execution_count": 99,
     "metadata": {},
     "output_type": "execute_result"
    }
   ],
   "source": [
    "#divide bewtween two groups below and over 170\n",
    "aux1 = aux1[(aux1['cardio'] >= 1)]\n",
    "aux_170 = aux1[(aux1['height'] >= 170)]\n",
    "aux_170 = pd.DataFrame(aux_170.apply(np.mean)).T\n",
    "\n",
    "aux_169 = aux1[(aux1['height'] < 170)]\n",
    "aux_169 = pd.DataFrame(aux_169.apply(np.mean)).T\n",
    "\n",
    "#result of average\n",
    "m = pd.concat([aux_170, aux_169]).T.reset_index()\n",
    "m.columns = ['index','over 170','below 169']\n",
    "m['index'] = {'age': 0, 'cardio': 1, 'total': 2, 'average': 3}\n",
    "m"
   ]
  },
  {
   "cell_type": "code",
   "execution_count": 100,
   "metadata": {
    "ExecuteTime": {
     "end_time": "2021-10-24T20:50:19.744020Z",
     "start_time": "2021-10-24T20:50:18.338718Z"
    },
    "hidden": true
   },
   "outputs": [
    {
     "data": {
      "image/png": "[encoded data removed]",
      "text/plain": [
       "<Figure size 1296x720 with 1 Axes>"
      ]
     },
     "metadata": {
      "needs_background": "light"
     },
     "output_type": "display_data"
    }
   ],
   "source": [
    "#histogram people who had CVD per height\n",
    "fig_dims = (18, 10)\n",
    "fig, ax = plt.subplots(figsize=fig_dims)\n",
    "\n",
    "graph = sns.barplot(x='height', y='%_cardio_1', ax=ax, data=aux1)\n",
    "graph.axvline(29.5, ymin=0.0, ymax=1.0, linestyle =\"--\", color='blue')\n",
    "graph.axhline(51, xmin=0.0, xmax=1.0, linestyle =\"--\", color='red')\n",
    "plt.title('% People who had CVD per height')\n",
    "plt.show()"
   ]
  },
  {
   "cell_type": "markdown",
   "metadata": {
    "hidden": true
   },
   "source": [
    "**3. Men are 30% more likely than women to develop a CVD**\n",
    "\n",
    "**FALSE** Although men had more CVD than women, the gap are lesser than 30%. Men had 50,1% of cases of CVD, while women had 49,6%"
   ]
  },
  {
   "cell_type": "code",
   "execution_count": 101,
   "metadata": {
    "ExecuteTime": {
     "end_time": "2021-10-24T20:50:19.776001Z",
     "start_time": "2021-10-24T20:50:19.747019Z"
    },
    "hidden": true
   },
   "outputs": [],
   "source": [
    "#transform to categorical\n",
    "df42 = df4.copy()\n",
    "df42['gender'] = df42['gender'].apply({1:'women', 2:'men'}.get)"
   ]
  },
  {
   "cell_type": "code",
   "execution_count": 102,
   "metadata": {
    "ExecuteTime": {
     "end_time": "2021-10-24T20:50:20.422603Z",
     "start_time": "2021-10-24T20:50:19.778002Z"
    },
    "hidden": true
   },
   "outputs": [
    {
     "data": {
      "image/png": "[encoded data removed]",
      "text/plain": [
       "<Figure size 720x720 with 1 Axes>"
      ]
     },
     "metadata": {
      "needs_background": "light"
     },
     "output_type": "display_data"
    }
   ],
   "source": [
    "#cvd per height\n",
    "aux1 = df42[(df42['cardio'] >= 1)]\n",
    "aux1 = aux1[['gender', 'cardio']].groupby('gender').size().reset_index().rename(columns={0:'total_1'})\n",
    "\n",
    "aux2 = df42[(df42['cardio'] <= 0)]\n",
    "aux2 = aux2[['gender', 'cardio']].groupby('gender').size().reset_index().rename(columns={0:'total_0'})\n",
    "\n",
    "#histogram\n",
    "fig = plt.figure(figsize=(10,10))\n",
    "\n",
    "ax = fig.add_subplot(111)\n",
    "\n",
    "width = 0.2\n",
    "\n",
    "aux1.plot(x='gender', y='total_1', kind='bar', color='red', ax=ax, width=width, position=0)\n",
    "aux2.plot(x='gender', y='total_0', kind='bar', color='blue', ax=ax, width=width, position=1)\n",
    "plt.show()"
   ]
  },
  {
   "cell_type": "code",
   "execution_count": 103,
   "metadata": {
    "ExecuteTime": {
     "end_time": "2021-10-24T20:50:20.469571Z",
     "start_time": "2021-10-24T20:50:20.424601Z"
    },
    "hidden": true
   },
   "outputs": [
    {
     "name": "stderr",
     "output_type": "stream",
     "text": [
      "<ipython-input-64-cb04d2a87beb>:45: SettingWithCopyWarning: \n",
      "A value is trying to be set on a copy of a slice from a DataFrame\n",
      "\n",
      "See the caveats in the documentation: https://pandas.pydata.org/pandas-docs/stable/user_guide/indexing.html#returning-a-view-versus-a-copy\n",
      "  x['%_cardio_1'][i] = p\n"
     ]
    },
    {
     "data": {
      "text/html": [
       "<div>\n",
       "<style scoped>\n",
       "    .dataframe tbody tr th:only-of-type {\n",
       "        vertical-align: middle;\n",
       "    }\n",
       "\n",
       "    .dataframe tbody tr th {\n",
       "        vertical-align: top;\n",
       "    }\n",
       "\n",
       "    .dataframe thead th {\n",
       "        text-align: right;\n",
       "    }\n",
       "</style>\n",
       "<table border=\"1\" class=\"dataframe\">\n",
       "  <thead>\n",
       "    <tr style=\"text-align: right;\">\n",
       "      <th></th>\n",
       "      <th>gender</th>\n",
       "      <th>cardio</th>\n",
       "      <th>total</th>\n",
       "      <th>%_cardio_1</th>\n",
       "    </tr>\n",
       "  </thead>\n",
       "  <tbody>\n",
       "    <tr>\n",
       "      <th>1</th>\n",
       "      <td>men</td>\n",
       "      <td>1</td>\n",
       "      <td>10572</td>\n",
       "      <td>49.771668</td>\n",
       "    </tr>\n",
       "    <tr>\n",
       "      <th>3</th>\n",
       "      <td>women</td>\n",
       "      <td>1</td>\n",
       "      <td>19611</td>\n",
       "      <td>49.05448</td>\n",
       "    </tr>\n",
       "  </tbody>\n",
       "</table>\n",
       "</div>"
      ],
      "text/plain": [
       "  gender  cardio  total %_cardio_1\n",
       "1    men       1  10572  49.771668\n",
       "3  women       1  19611   49.05448"
      ]
     },
     "execution_count": 103,
     "metadata": {},
     "output_type": "execute_result"
    }
   ],
   "source": [
    "#calculate % people with CVD per gender\n",
    "aux1 = df42[['gender', 'cardio']].groupby(['gender','cardio']).size().reset_index().rename(columns={0:'total'})\n",
    "aux1['%_cardio_1'] = \"\"\n",
    "aux1 = perc(aux1)\n",
    "\n",
    "#result of %\n",
    "aux1 = aux1[(aux1['cardio'] >= 1)]\n",
    "aux1"
   ]
  },
  {
   "cell_type": "code",
   "execution_count": 104,
   "metadata": {
    "ExecuteTime": {
     "end_time": "2021-10-24T20:50:20.770385Z",
     "start_time": "2021-10-24T20:50:20.471570Z"
    },
    "hidden": true
   },
   "outputs": [
    {
     "data": {
      "image/png": "[encoded data removed]",
      "text/plain": [
       "<Figure size 432x576 with 1 Axes>"
      ]
     },
     "metadata": {
      "needs_background": "light"
     },
     "output_type": "display_data"
    }
   ],
   "source": [
    "#histogram people who had CVD per gender (average)\n",
    "fig_dims = (6, 8)\n",
    "fig, ax = plt.subplots(figsize=fig_dims)\n",
    "\n",
    "graph = sns.barplot(x='gender', y='%_cardio_1', ax=ax, data=aux1)\n",
    "graph.axhline(51, xmin=0.0, xmax=1.0, linestyle =\"--\", color='red')\n",
    "plt.title('% People who had CVD per active')\n",
    "plt.show()"
   ]
  },
  {
   "cell_type": "markdown",
   "metadata": {
    "hidden": true
   },
   "source": [
    "**4. Analysis between 50 - 130. People over 100 kg (220 lb) have 40% more chance of having a CVD than 100 kg**\n",
    "\n",
    "**FALSE** On average people with over 100 kg have 19.9% more chance of having a CVD than below 100 kg"
   ]
  },
  {
   "cell_type": "code",
   "execution_count": 105,
   "metadata": {
    "ExecuteTime": {
     "end_time": "2021-10-24T20:50:23.352128Z",
     "start_time": "2021-10-24T20:50:20.772385Z"
    },
    "hidden": true
   },
   "outputs": [
    {
     "data": {
      "text/plain": [
       "<AxesSubplot:xlabel='weight', ylabel='cardio'>"
      ]
     },
     "execution_count": 105,
     "metadata": {},
     "output_type": "execute_result"
    },
    {
     "data": {
      "image/png": "[encoded data removed]",
      "text/plain": [
       "<Figure size 1296x720 with 1 Axes>"
      ]
     },
     "metadata": {
      "needs_background": "light"
     },
     "output_type": "display_data"
    }
   ],
   "source": [
    "#cvd per weight\n",
    "aux1 = df4[(df4['weight'] >= 50) & (df4['weight'] <= 130)]\n",
    "aux1 = aux1[['weight', 'cardio']].groupby('weight').sum().reset_index()\n",
    "\n",
    "#histogram\n",
    "fig_dims = (18, 10)\n",
    "fig, ax = plt.subplots(figsize=fig_dims)\n",
    "sns.barplot(x='weight', y='cardio', ax=ax, data=aux1)"
   ]
  },
  {
   "cell_type": "code",
   "execution_count": 106,
   "metadata": {
    "ExecuteTime": {
     "end_time": "2021-10-24T20:50:23.368117Z",
     "start_time": "2021-10-24T20:50:23.354126Z"
    },
    "hidden": true
   },
   "outputs": [],
   "source": [
    "#filter weight 33 - 100 and divide between two groups\n",
    "#aux1 = df4[(df4['weight'] >= 33) & (df4['weight'] <= 100) & (df4['cardio'] >= 1)]\n",
    "#aux1 = aux1[['weight', 'cardio']].groupby('weight').size().reset_index().rename(columns={0:'total_1'})\n",
    "\n",
    "#aux2 = df4[(df4['weight'] >= 33) & (df4['weight'] <= 100) & (df4['cardio'] <= 0)]\n",
    "#aux2 = aux2[['weight', 'cardio']].groupby('weight').size().reset_index().rename(columns={0:'total_0'})"
   ]
  },
  {
   "cell_type": "code",
   "execution_count": 107,
   "metadata": {
    "ExecuteTime": {
     "end_time": "2021-10-24T20:50:23.543010Z",
     "start_time": "2021-10-24T20:50:23.370114Z"
    },
    "hidden": true
   },
   "outputs": [
    {
     "name": "stderr",
     "output_type": "stream",
     "text": [
      "<ipython-input-64-cb04d2a87beb>:45: SettingWithCopyWarning: \n",
      "A value is trying to be set on a copy of a slice from a DataFrame\n",
      "\n",
      "See the caveats in the documentation: https://pandas.pydata.org/pandas-docs/stable/user_guide/indexing.html#returning-a-view-versus-a-copy\n",
      "  x['%_cardio_1'][i] = p\n"
     ]
    }
   ],
   "source": [
    "#filtering and calculate % people with CVD per weight\n",
    "aux1 = df4[(df4['weight'] >= 50) & (df4['weight'] <= 130)]\n",
    "aux1 = aux1[['weight', 'cardio']].groupby(['weight','cardio']).size().reset_index().rename(columns={0:'total'})\n",
    "aux1['%_cardio_1'] = \"\"\n",
    "aux1 = perc(aux1)"
   ]
  },
  {
   "cell_type": "code",
   "execution_count": 108,
   "metadata": {
    "ExecuteTime": {
     "end_time": "2021-10-24T20:50:23.589980Z",
     "start_time": "2021-10-24T20:50:23.546008Z"
    },
    "hidden": true
   },
   "outputs": [
    {
     "data": {
      "text/html": [
       "<div>\n",
       "<style scoped>\n",
       "    .dataframe tbody tr th:only-of-type {\n",
       "        vertical-align: middle;\n",
       "    }\n",
       "\n",
       "    .dataframe tbody tr th {\n",
       "        vertical-align: top;\n",
       "    }\n",
       "\n",
       "    .dataframe thead th {\n",
       "        text-align: right;\n",
       "    }\n",
       "</style>\n",
       "<table border=\"1\" class=\"dataframe\">\n",
       "  <thead>\n",
       "    <tr style=\"text-align: right;\">\n",
       "      <th></th>\n",
       "      <th>index</th>\n",
       "      <th>over 100</th>\n",
       "      <th>below 100</th>\n",
       "    </tr>\n",
       "  </thead>\n",
       "  <tbody>\n",
       "    <tr>\n",
       "      <th>0</th>\n",
       "      <td>age</td>\n",
       "      <td>108.500000</td>\n",
       "      <td>74.500000</td>\n",
       "    </tr>\n",
       "    <tr>\n",
       "      <th>1</th>\n",
       "      <td>cardio</td>\n",
       "      <td>1.000000</td>\n",
       "      <td>1.000000</td>\n",
       "    </tr>\n",
       "    <tr>\n",
       "      <th>2</th>\n",
       "      <td>total</td>\n",
       "      <td>100.111111</td>\n",
       "      <td>562.800000</td>\n",
       "    </tr>\n",
       "    <tr>\n",
       "      <th>3</th>\n",
       "      <td>average</td>\n",
       "      <td>68.435202</td>\n",
       "      <td>49.952484</td>\n",
       "    </tr>\n",
       "  </tbody>\n",
       "</table>\n",
       "</div>"
      ],
      "text/plain": [
       "     index    over 100   below 100\n",
       "0      age  108.500000   74.500000\n",
       "1   cardio    1.000000    1.000000\n",
       "2    total  100.111111  562.800000\n",
       "3  average   68.435202   49.952484"
      ]
     },
     "execution_count": 108,
     "metadata": {},
     "output_type": "execute_result"
    }
   ],
   "source": [
    "#divide bewtween two groups below and over 100 kg\n",
    "aux1 = aux1[(aux1['cardio'] >=1)]\n",
    "aux_100 = aux1[(aux1['weight'] >= 100)]\n",
    "aux_100 = pd.DataFrame(aux_100.apply(np.mean)).T\n",
    "\n",
    "aux_99 = aux1[(aux1['weight'] < 100)]\n",
    "aux_99 = pd.DataFrame(aux_99.apply(np.mean)).T\n",
    "\n",
    "#result of average\n",
    "m = pd.concat([aux_100, aux_99]).T.reset_index()\n",
    "m.columns = ['index','over 100','below 100']\n",
    "m['index'] = {'age': 0, 'cardio': 1, 'total': 2, 'average': 3}\n",
    "m"
   ]
  },
  {
   "cell_type": "code",
   "execution_count": 109,
   "metadata": {
    "ExecuteTime": {
     "end_time": "2021-10-24T20:50:26.028871Z",
     "start_time": "2021-10-24T20:50:23.591977Z"
    },
    "hidden": true
   },
   "outputs": [
    {
     "data": {
      "image/png": "[encoded data removed]",
      "text/plain": [
       "<Figure size 1440x1080 with 1 Axes>"
      ]
     },
     "metadata": {
      "needs_background": "light"
     },
     "output_type": "display_data"
    }
   ],
   "source": [
    "#histogram people who had CVD per height\n",
    "fig_dims = (20,15)\n",
    "fig, ax = plt.subplots(figsize=fig_dims)\n",
    "\n",
    "graph = sns.barplot(x='weight', y='%_cardio_1', ax=ax, data=aux1)\n",
    "graph.axvline(49.5, ymin=0.0, ymax=1.0, linestyle =\"--\", color='blue')\n",
    "graph.axhline(51, xmin=0.0, xmax=1.0, linestyle =\"--\", color='red')\n",
    "plt.title('% People who had CVD per BMI')\n",
    "plt.show()"
   ]
  },
  {
   "cell_type": "markdown",
   "metadata": {
    "hidden": true
   },
   "source": [
    "**5. People with a BMI above 30 (obese class I) have 25% more chance of having a CVD than below 30**\n",
    "\n",
    "**TRUE** People with a BMI above than 30 have 26.3% chance of having CVD than BMI below 30"
   ]
  },
  {
   "cell_type": "code",
   "execution_count": 110,
   "metadata": {
    "ExecuteTime": {
     "end_time": "2021-10-24T20:50:26.044861Z",
     "start_time": "2021-10-24T20:50:26.030870Z"
    },
    "hidden": true
   },
   "outputs": [],
   "source": [
    "#convert type bmi (int)\n",
    "df4['bmi'] = df4['bmi'].astype(int)"
   ]
  },
  {
   "cell_type": "code",
   "execution_count": 111,
   "metadata": {
    "ExecuteTime": {
     "end_time": "2021-10-24T20:50:26.708808Z",
     "start_time": "2021-10-24T20:50:26.046862Z"
    },
    "hidden": true
   },
   "outputs": [
    {
     "data": {
      "text/plain": [
       "<AxesSubplot:xlabel='bmi', ylabel='cardio'>"
      ]
     },
     "execution_count": 111,
     "metadata": {},
     "output_type": "execute_result"
    },
    {
     "data": {
      "image/png": "[encoded data removed]",
      "text/plain": [
       "<Figure size 1296x720 with 1 Axes>"
      ]
     },
     "metadata": {
      "needs_background": "light"
     },
     "output_type": "display_data"
    }
   ],
   "source": [
    "#cvd per weight\n",
    "aux1 = df4[(df4['bmi'] >= 15) & (df4['bmi'] <= 50)]\n",
    "aux1 = aux1[['bmi', 'cardio']].groupby('bmi').sum().reset_index()\n",
    "\n",
    "#histogram\n",
    "fig_dims = (18, 10)\n",
    "fig, ax = plt.subplots(figsize=fig_dims)\n",
    "sns.barplot(x='bmi', y='cardio', ax=ax, data=aux1)"
   ]
  },
  {
   "cell_type": "code",
   "execution_count": 112,
   "metadata": {
    "ExecuteTime": {
     "end_time": "2021-10-24T20:50:26.756780Z",
     "start_time": "2021-10-24T20:50:26.710809Z"
    },
    "hidden": true
   },
   "outputs": [
    {
     "name": "stderr",
     "output_type": "stream",
     "text": [
      "<ipython-input-64-cb04d2a87beb>:45: SettingWithCopyWarning: \n",
      "A value is trying to be set on a copy of a slice from a DataFrame\n",
      "\n",
      "See the caveats in the documentation: https://pandas.pydata.org/pandas-docs/stable/user_guide/indexing.html#returning-a-view-versus-a-copy\n",
      "  x['%_cardio_1'][i] = p\n"
     ]
    }
   ],
   "source": [
    "#calculate % people with CVD per bmi\n",
    "aux1 = df4[(df4['bmi'] >= 15) & (df4['bmi'] <= 50)]\n",
    "aux1 = aux1[['bmi', 'cardio']].groupby(['bmi','cardio']).size().reset_index().rename(columns={0:'total'})\n",
    "aux1['%_cardio_1'] = \"\"\n",
    "aux1 = perc(aux1)"
   ]
  },
  {
   "cell_type": "code",
   "execution_count": 113,
   "metadata": {
    "ExecuteTime": {
     "end_time": "2021-10-24T20:50:26.882140Z",
     "start_time": "2021-10-24T20:50:26.759777Z"
    },
    "hidden": true
   },
   "outputs": [
    {
     "data": {
      "text/html": [
       "<div>\n",
       "<style scoped>\n",
       "    .dataframe tbody tr th:only-of-type {\n",
       "        vertical-align: middle;\n",
       "    }\n",
       "\n",
       "    .dataframe tbody tr th {\n",
       "        vertical-align: top;\n",
       "    }\n",
       "\n",
       "    .dataframe thead th {\n",
       "        text-align: right;\n",
       "    }\n",
       "</style>\n",
       "<table border=\"1\" class=\"dataframe\">\n",
       "  <thead>\n",
       "    <tr style=\"text-align: right;\">\n",
       "      <th></th>\n",
       "      <th>index</th>\n",
       "      <th>over 30</th>\n",
       "      <th>above 30</th>\n",
       "    </tr>\n",
       "  </thead>\n",
       "  <tbody>\n",
       "    <tr>\n",
       "      <th>0</th>\n",
       "      <td>age</td>\n",
       "      <td>37.500000</td>\n",
       "      <td>22.000000</td>\n",
       "    </tr>\n",
       "    <tr>\n",
       "      <th>1</th>\n",
       "      <td>cardio</td>\n",
       "      <td>1.000000</td>\n",
       "      <td>1.000000</td>\n",
       "    </tr>\n",
       "    <tr>\n",
       "      <th>2</th>\n",
       "      <td>total</td>\n",
       "      <td>601.312500</td>\n",
       "      <td>1370.333333</td>\n",
       "    </tr>\n",
       "    <tr>\n",
       "      <th>3</th>\n",
       "      <td>average</td>\n",
       "      <td>65.800256</td>\n",
       "      <td>38.732629</td>\n",
       "    </tr>\n",
       "  </tbody>\n",
       "</table>\n",
       "</div>"
      ],
      "text/plain": [
       "     index     over 30     above 30\n",
       "0      age   37.500000    22.000000\n",
       "1   cardio    1.000000     1.000000\n",
       "2    total  601.312500  1370.333333\n",
       "3  average   65.800256    38.732629"
      ]
     },
     "execution_count": 113,
     "metadata": {},
     "output_type": "execute_result"
    }
   ],
   "source": [
    "#divide between two groups below and over 30\n",
    "aux1 = aux1[(aux1['cardio'] >=1)]\n",
    "aux_30 = aux1[(aux1['bmi'] >= 30)]\n",
    "aux_30 = pd.DataFrame(aux_30.apply(np.mean)).T\n",
    "\n",
    "aux_29 = aux1[(aux1['bmi'] < 30)]\n",
    "aux_29 = pd.DataFrame(aux_29.apply(np.mean)).T\n",
    "\n",
    "#result of average\n",
    "m = pd.concat([aux_30, aux_29]).T.reset_index()\n",
    "m.columns = ['index','over 30','above 30']\n",
    "m['index'] = {'age': 0, 'cardio': 1, 'total': 2, 'average': 3}\n",
    "m"
   ]
  },
  {
   "cell_type": "code",
   "execution_count": 114,
   "metadata": {
    "ExecuteTime": {
     "end_time": "2021-10-24T20:50:27.612199Z",
     "start_time": "2021-10-24T20:50:26.884138Z"
    },
    "hidden": true,
    "scrolled": true
   },
   "outputs": [
    {
     "data": {
      "image/png": "[encoded data removed]",
      "text/plain": [
       "<Figure size 1296x720 with 1 Axes>"
      ]
     },
     "metadata": {
      "needs_background": "light"
     },
     "output_type": "display_data"
    }
   ],
   "source": [
    "#histogram people who had CVD per BMI\n",
    "fig_dims = (18, 10)\n",
    "fig, ax = plt.subplots(figsize=fig_dims)\n",
    "\n",
    "graph = sns.barplot(x='bmi', y='%_cardio_1', ax=ax, data=aux1)\n",
    "graph.axvline(14.5, ymin=0.0, ymax=1.0, linestyle =\"--\", color='blue')\n",
    "graph.axhline(51, xmin=0.0, xmax=1.0, linestyle =\"--\", color='red')\n",
    "plt.title('% People who had CVD per BMI')\n",
    "plt.show()"
   ]
  },
  {
   "cell_type": "markdown",
   "metadata": {
    "hidden": true
   },
   "source": [
    "**6. People who do not engage in physical activity are 40% more likely to have CVDs than who engage**\n",
    "\n",
    "**FALSE** People who engage in physical activity more have 4.6% chance of having CVD"
   ]
  },
  {
   "cell_type": "code",
   "execution_count": 115,
   "metadata": {
    "ExecuteTime": {
     "end_time": "2021-10-24T20:50:27.628188Z",
     "start_time": "2021-10-24T20:50:27.614196Z"
    },
    "hidden": true
   },
   "outputs": [],
   "source": [
    "#transform to categorical\n",
    "df42 = df4.copy()\n",
    "df42['active'] = df42['active'].apply({0:'no', 1:'yes'}.get)"
   ]
  },
  {
   "cell_type": "code",
   "execution_count": 116,
   "metadata": {
    "ExecuteTime": {
     "end_time": "2021-10-24T20:50:28.039933Z",
     "start_time": "2021-10-24T20:50:27.630188Z"
    },
    "hidden": true
   },
   "outputs": [
    {
     "data": {
      "image/png": "[encoded data removed]",
      "text/plain": [
       "<Figure size 1440x1080 with 1 Axes>"
      ]
     },
     "metadata": {
      "needs_background": "light"
     },
     "output_type": "display_data"
    }
   ],
   "source": [
    "#cvd per physical activity\n",
    "aux1 = df42[(df42['cardio'] >= 1)]\n",
    "aux1 = aux1[['active', 'cardio']].groupby('active').size().reset_index().rename(columns={0:'total_1'})\n",
    "\n",
    "aux2 = df42[(df42['cardio'] <= 0)]\n",
    "aux2 = aux2[['active', 'cardio']].groupby('active').size().reset_index().rename(columns={0:'total_0'})\n",
    "\n",
    "#histogram\n",
    "fig = plt.figure(figsize=(20,15))\n",
    "\n",
    "ax = fig.add_subplot(111)\n",
    "\n",
    "width = 0.2\n",
    "\n",
    "aux1.plot(x='active', y='total_1', kind='bar', color='red', ax=ax, width=width, position=0)\n",
    "aux2.plot(x='active', y='total_0', kind='bar', color='blue', ax=ax, width=width, position=1)\n",
    "plt.show()"
   ]
  },
  {
   "cell_type": "code",
   "execution_count": 117,
   "metadata": {
    "ExecuteTime": {
     "end_time": "2021-10-24T20:50:28.071915Z",
     "start_time": "2021-10-24T20:50:28.041933Z"
    },
    "hidden": true
   },
   "outputs": [
    {
     "name": "stderr",
     "output_type": "stream",
     "text": [
      "<ipython-input-64-cb04d2a87beb>:45: SettingWithCopyWarning: \n",
      "A value is trying to be set on a copy of a slice from a DataFrame\n",
      "\n",
      "See the caveats in the documentation: https://pandas.pydata.org/pandas-docs/stable/user_guide/indexing.html#returning-a-view-versus-a-copy\n",
      "  x['%_cardio_1'][i] = p\n"
     ]
    },
    {
     "data": {
      "text/html": [
       "<div>\n",
       "<style scoped>\n",
       "    .dataframe tbody tr th:only-of-type {\n",
       "        vertical-align: middle;\n",
       "    }\n",
       "\n",
       "    .dataframe tbody tr th {\n",
       "        vertical-align: top;\n",
       "    }\n",
       "\n",
       "    .dataframe thead th {\n",
       "        text-align: right;\n",
       "    }\n",
       "</style>\n",
       "<table border=\"1\" class=\"dataframe\">\n",
       "  <thead>\n",
       "    <tr style=\"text-align: right;\">\n",
       "      <th></th>\n",
       "      <th>active</th>\n",
       "      <th>cardio</th>\n",
       "      <th>total</th>\n",
       "      <th>%_cardio_1</th>\n",
       "    </tr>\n",
       "  </thead>\n",
       "  <tbody>\n",
       "    <tr>\n",
       "      <th>1</th>\n",
       "      <td>no</td>\n",
       "      <td>1</td>\n",
       "      <td>6399</td>\n",
       "      <td>53.090517</td>\n",
       "    </tr>\n",
       "    <tr>\n",
       "      <th>3</th>\n",
       "      <td>yes</td>\n",
       "      <td>1</td>\n",
       "      <td>23784</td>\n",
       "      <td>48.374893</td>\n",
       "    </tr>\n",
       "  </tbody>\n",
       "</table>\n",
       "</div>"
      ],
      "text/plain": [
       "  active  cardio  total %_cardio_1\n",
       "1     no       1   6399  53.090517\n",
       "3    yes       1  23784  48.374893"
      ]
     },
     "execution_count": 117,
     "metadata": {},
     "output_type": "execute_result"
    }
   ],
   "source": [
    "#calculate % people with CVD per activity\n",
    "aux1 = df4[['active', 'cardio']].groupby(['active','cardio']).size().reset_index().rename(columns={0:'total'})\n",
    "aux1['%_cardio_1'] = \"\"\n",
    "aux1 = perc(aux1)\n",
    "\n",
    "#result of %\n",
    "aux1 = aux1[(aux1['cardio'] >= 1)]\n",
    "aux1['active'] = aux1['active'].apply({0:'no', 1:'yes'}.get)\n",
    "aux1"
   ]
  },
  {
   "cell_type": "code",
   "execution_count": 118,
   "metadata": {
    "ExecuteTime": {
     "end_time": "2021-10-24T20:50:28.324757Z",
     "start_time": "2021-10-24T20:50:28.073914Z"
    },
    "hidden": true
   },
   "outputs": [
    {
     "data": {
      "image/png": "[encoded data removed]",
      "text/plain": [
       "<Figure size 432x576 with 1 Axes>"
      ]
     },
     "metadata": {
      "needs_background": "light"
     },
     "output_type": "display_data"
    }
   ],
   "source": [
    "#histogram people who had CVD per activity\n",
    "fig_dims = (6, 8)\n",
    "fig, ax = plt.subplots(figsize=fig_dims)\n",
    "\n",
    "graph = sns.barplot(x='active', y='%_cardio_1', ax=ax, data=aux1)\n",
    "#graph.axvline(29.5, ymin=0.0, ymax=1.0, linestyle =\"--\", color='blue')\n",
    "graph.axhline(51, xmin=0.0, xmax=1.0, linestyle =\"--\", color='red')\n",
    "plt.title('% People who had CVD per active')\n",
    "plt.show()"
   ]
  },
  {
   "cell_type": "markdown",
   "metadata": {
    "hidden": true
   },
   "source": [
    "**7. People who regularly consume alcohol have a 10% chance of having CVD than those who do not consume**\n",
    "\n",
    "**FALSE** People who regularly consume alcohol have 1.9% less chance of having CVD than who don't consume"
   ]
  },
  {
   "cell_type": "code",
   "execution_count": 119,
   "metadata": {
    "ExecuteTime": {
     "end_time": "2021-10-24T20:50:28.355737Z",
     "start_time": "2021-10-24T20:50:28.326756Z"
    },
    "hidden": true
   },
   "outputs": [],
   "source": [
    "#transform to categorical\n",
    "df42 = df4.copy()\n",
    "df42['alco'] = df42['alco'].apply({0:'no', 1:'yes'}.get)"
   ]
  },
  {
   "cell_type": "code",
   "execution_count": 120,
   "metadata": {
    "ExecuteTime": {
     "end_time": "2021-10-24T20:50:28.720977Z",
     "start_time": "2021-10-24T20:50:28.357736Z"
    },
    "hidden": true
   },
   "outputs": [
    {
     "data": {
      "image/png": "[encoded data removed]",
      "text/plain": [
       "<Figure size 720x720 with 1 Axes>"
      ]
     },
     "metadata": {
      "needs_background": "light"
     },
     "output_type": "display_data"
    }
   ],
   "source": [
    "#cvd per people who consume alcohol\n",
    "aux1 = df42[(df42['cardio'] >= 1)]\n",
    "aux1 = aux1[['alco', 'cardio']].groupby('alco').size().reset_index().rename(columns={0:'total_1'})\n",
    "\n",
    "aux2 = df42[(df42['cardio'] <= 0)]\n",
    "aux2 = aux2[['alco', 'cardio']].groupby('alco').size().reset_index().rename(columns={0:'total_0'})\n",
    "\n",
    "#histogram\n",
    "fig = plt.figure(figsize=(10,10))\n",
    "\n",
    "ax = fig.add_subplot(111)\n",
    "\n",
    "width = 0.2\n",
    "\n",
    "aux1.plot(x='alco', y='total_1', kind='bar', color='red', ax=ax, width=width, position=0)\n",
    "aux2.plot(x='alco', y='total_0', kind='bar', color='blue', ax=ax, width=width, position=1)\n",
    "plt.show()"
   ]
  },
  {
   "cell_type": "code",
   "execution_count": 121,
   "metadata": {
    "ExecuteTime": {
     "end_time": "2021-10-24T20:50:28.752957Z",
     "start_time": "2021-10-24T20:50:28.722975Z"
    },
    "hidden": true
   },
   "outputs": [
    {
     "name": "stderr",
     "output_type": "stream",
     "text": [
      "<ipython-input-64-cb04d2a87beb>:45: SettingWithCopyWarning: \n",
      "A value is trying to be set on a copy of a slice from a DataFrame\n",
      "\n",
      "See the caveats in the documentation: https://pandas.pydata.org/pandas-docs/stable/user_guide/indexing.html#returning-a-view-versus-a-copy\n",
      "  x['%_cardio_1'][i] = p\n"
     ]
    },
    {
     "data": {
      "text/html": [
       "<div>\n",
       "<style scoped>\n",
       "    .dataframe tbody tr th:only-of-type {\n",
       "        vertical-align: middle;\n",
       "    }\n",
       "\n",
       "    .dataframe tbody tr th {\n",
       "        vertical-align: top;\n",
       "    }\n",
       "\n",
       "    .dataframe thead th {\n",
       "        text-align: right;\n",
       "    }\n",
       "</style>\n",
       "<table border=\"1\" class=\"dataframe\">\n",
       "  <thead>\n",
       "    <tr style=\"text-align: right;\">\n",
       "      <th></th>\n",
       "      <th>index</th>\n",
       "      <th>alco</th>\n",
       "      <th>cardio</th>\n",
       "      <th>total</th>\n",
       "      <th>%_cardio_1</th>\n",
       "    </tr>\n",
       "  </thead>\n",
       "  <tbody>\n",
       "    <tr>\n",
       "      <th>1</th>\n",
       "      <td>1</td>\n",
       "      <td>no</td>\n",
       "      <td>1</td>\n",
       "      <td>28647</td>\n",
       "      <td>49.426319</td>\n",
       "    </tr>\n",
       "    <tr>\n",
       "      <th>3</th>\n",
       "      <td>3</td>\n",
       "      <td>yes</td>\n",
       "      <td>1</td>\n",
       "      <td>1536</td>\n",
       "      <td>47.116564</td>\n",
       "    </tr>\n",
       "  </tbody>\n",
       "</table>\n",
       "</div>"
      ],
      "text/plain": [
       "   index alco  cardio  total %_cardio_1\n",
       "1      1   no       1  28647  49.426319\n",
       "3      3  yes       1   1536  47.116564"
      ]
     },
     "execution_count": 121,
     "metadata": {},
     "output_type": "execute_result"
    }
   ],
   "source": [
    "#calculate % people with CVD per people who consume alcohol\n",
    "aux1 = df42[['alco', 'cardio']].groupby(['alco','cardio']).size().reset_index().reset_index().rename(columns={0:'total'})\n",
    "aux1['%_cardio_1'] = \"\"\n",
    "aux1 = perc(aux1)\n",
    "\n",
    "#result of %\n",
    "aux1 = aux1[(aux1['cardio'] >= 1)]\n",
    "aux1"
   ]
  },
  {
   "cell_type": "code",
   "execution_count": 122,
   "metadata": {
    "ExecuteTime": {
     "end_time": "2021-10-24T20:50:29.021791Z",
     "start_time": "2021-10-24T20:50:28.754956Z"
    },
    "hidden": true
   },
   "outputs": [
    {
     "data": {
      "image/png": "[encoded data removed]",
      "text/plain": [
       "<Figure size 432x576 with 1 Axes>"
      ]
     },
     "metadata": {
      "needs_background": "light"
     },
     "output_type": "display_data"
    }
   ],
   "source": [
    "#histogram people who had CVD per per people who consume alcohol\n",
    "fig_dims = (6, 8)\n",
    "fig, ax = plt.subplots(figsize=fig_dims)\n",
    "\n",
    "graph = sns.barplot(x='alco', y='%_cardio_1', ax=ax, data=aux1)\n",
    "#graph.axvline(29.5, ymin=0.0, ymax=1.0, linestyle =\"--\", color='blue')\n",
    "graph.axhline(51, xmin=0.0, xmax=1.0, linestyle =\"--\", color='red')\n",
    "plt.title('% People who had CVD per alco')\n",
    "plt.show()"
   ]
  },
  {
   "cell_type": "markdown",
   "metadata": {
    "hidden": true
   },
   "source": [
    "**8. People who smoke are 20% more likely to have CVD than who do not smoke**\n",
    "\n",
    "**FALSE** People who smoke have 3% less chance of having CVD than who doesn't"
   ]
  },
  {
   "cell_type": "code",
   "execution_count": 123,
   "metadata": {
    "ExecuteTime": {
     "end_time": "2021-10-24T20:50:29.037783Z",
     "start_time": "2021-10-24T20:50:29.023789Z"
    },
    "hidden": true
   },
   "outputs": [],
   "source": [
    "#transform to categorical\n",
    "df42 = df4.copy()\n",
    "df42['smoke'] = df42['smoke'].apply({0:'no', 1:'yes'}.get)"
   ]
  },
  {
   "cell_type": "code",
   "execution_count": 124,
   "metadata": {
    "ExecuteTime": {
     "end_time": "2021-10-24T20:50:29.387244Z",
     "start_time": "2021-10-24T20:50:29.039779Z"
    },
    "hidden": true
   },
   "outputs": [
    {
     "data": {
      "image/png": "[encoded data removed]",
      "text/plain": [
       "<Figure size 720x720 with 1 Axes>"
      ]
     },
     "metadata": {
      "needs_background": "light"
     },
     "output_type": "display_data"
    }
   ],
   "source": [
    "#cvd per people who smoke\n",
    "aux1 = df42[(df42['cardio'] >= 1)]\n",
    "aux1 = aux1[['smoke', 'cardio']].groupby('smoke').size().reset_index().rename(columns={0:'total_1'})\n",
    "\n",
    "aux2 = df42[(df42['cardio'] <= 0)]\n",
    "aux2 = aux2[['smoke', 'cardio']].groupby('smoke').size().reset_index().rename(columns={0:'total_0'})\n",
    "\n",
    "#histogram\n",
    "fig = plt.figure(figsize=(10,10))\n",
    "\n",
    "ax = fig.add_subplot(111)\n",
    "\n",
    "width = 0.2\n",
    "\n",
    "aux1.plot(x='smoke', y='total_1', kind='bar', color='red', ax=ax, width=width, position=0)\n",
    "aux2.plot(x='smoke', y='total_0', kind='bar', color='blue', ax=ax, width=width, position=1)\n",
    "plt.show()"
   ]
  },
  {
   "cell_type": "code",
   "execution_count": 125,
   "metadata": {
    "ExecuteTime": {
     "end_time": "2021-10-24T20:50:29.419224Z",
     "start_time": "2021-10-24T20:50:29.389243Z"
    },
    "hidden": true
   },
   "outputs": [
    {
     "name": "stderr",
     "output_type": "stream",
     "text": [
      "<ipython-input-64-cb04d2a87beb>:45: SettingWithCopyWarning: \n",
      "A value is trying to be set on a copy of a slice from a DataFrame\n",
      "\n",
      "See the caveats in the documentation: https://pandas.pydata.org/pandas-docs/stable/user_guide/indexing.html#returning-a-view-versus-a-copy\n",
      "  x['%_cardio_1'][i] = p\n"
     ]
    },
    {
     "data": {
      "text/html": [
       "<div>\n",
       "<style scoped>\n",
       "    .dataframe tbody tr th:only-of-type {\n",
       "        vertical-align: middle;\n",
       "    }\n",
       "\n",
       "    .dataframe tbody tr th {\n",
       "        vertical-align: top;\n",
       "    }\n",
       "\n",
       "    .dataframe thead th {\n",
       "        text-align: right;\n",
       "    }\n",
       "</style>\n",
       "<table border=\"1\" class=\"dataframe\">\n",
       "  <thead>\n",
       "    <tr style=\"text-align: right;\">\n",
       "      <th></th>\n",
       "      <th>smoke</th>\n",
       "      <th>cardio</th>\n",
       "      <th>total</th>\n",
       "      <th>%_cardio_1</th>\n",
       "    </tr>\n",
       "  </thead>\n",
       "  <tbody>\n",
       "    <tr>\n",
       "      <th>1</th>\n",
       "      <td>no</td>\n",
       "      <td>1</td>\n",
       "      <td>27686</td>\n",
       "      <td>49.559645</td>\n",
       "    </tr>\n",
       "    <tr>\n",
       "      <th>3</th>\n",
       "      <td>yes</td>\n",
       "      <td>1</td>\n",
       "      <td>2497</td>\n",
       "      <td>46.629318</td>\n",
       "    </tr>\n",
       "  </tbody>\n",
       "</table>\n",
       "</div>"
      ],
      "text/plain": [
       "  smoke  cardio  total %_cardio_1\n",
       "1    no       1  27686  49.559645\n",
       "3   yes       1   2497  46.629318"
      ]
     },
     "execution_count": 125,
     "metadata": {},
     "output_type": "execute_result"
    }
   ],
   "source": [
    "#calculate % people with CVD per people who smoke\n",
    "aux1 = df42[['smoke', 'cardio']].groupby(['smoke','cardio']).size().reset_index().rename(columns={0:'total'})\n",
    "aux1['%_cardio_1'] = \"\"\n",
    "aux1 = perc(aux1)\n",
    "\n",
    "#result of %\n",
    "aux1 = aux1[(aux1['cardio'] >= 1)]\n",
    "aux1"
   ]
  },
  {
   "cell_type": "code",
   "execution_count": 126,
   "metadata": {
    "ExecuteTime": {
     "end_time": "2021-10-24T20:50:29.719541Z",
     "start_time": "2021-10-24T20:50:29.421223Z"
    },
    "hidden": true
   },
   "outputs": [
    {
     "data": {
      "image/png": "[encoded data removed]",
      "text/plain": [
       "<Figure size 432x576 with 1 Axes>"
      ]
     },
     "metadata": {
      "needs_background": "light"
     },
     "output_type": "display_data"
    }
   ],
   "source": [
    "#histogram people who had CVD per people who smoke\n",
    "fig_dims = (6, 8)\n",
    "fig, ax = plt.subplots(figsize=fig_dims)\n",
    "\n",
    "graph = sns.barplot(x='smoke', y='%_cardio_1', ax=ax, data=aux1)\n",
    "#graph.axvline(29.5, ymin=0.0, ymax=1.0, linestyle =\"--\", color='blue')\n",
    "graph.axhline(51, xmin=0.0, xmax=1.0, linestyle =\"--\", color='red')\n",
    "plt.title('% People who had CVD per smoke')\n",
    "plt.show()"
   ]
  },
  {
   "cell_type": "markdown",
   "metadata": {
    "hidden": true
   },
   "source": [
    "**9. People with well above normal cholesterol have a 50% chance of having CVD than normal**\n",
    "\n",
    "**FALSE** People with well above normal cholesterol have 33% likely than people with normal"
   ]
  },
  {
   "cell_type": "code",
   "execution_count": 127,
   "metadata": {
    "ExecuteTime": {
     "end_time": "2021-10-24T20:50:29.750523Z",
     "start_time": "2021-10-24T20:50:29.721539Z"
    },
    "hidden": true
   },
   "outputs": [],
   "source": [
    "#transform to categorical\n",
    "df42 = df4.copy()\n",
    "df42['cholesterol'] = df42['cholesterol'].apply({1:'normal', 2:'above normal', 3:'well above normal'}.get)"
   ]
  },
  {
   "cell_type": "code",
   "execution_count": 128,
   "metadata": {
    "ExecuteTime": {
     "end_time": "2021-10-24T20:50:30.147776Z",
     "start_time": "2021-10-24T20:50:29.752521Z"
    },
    "hidden": true
   },
   "outputs": [
    {
     "data": {
      "image/png": "[encoded data removed]",
      "text/plain": [
       "<Figure size 720x720 with 1 Axes>"
      ]
     },
     "metadata": {
      "needs_background": "light"
     },
     "output_type": "display_data"
    }
   ],
   "source": [
    "#cvd per people who have above normal cholesterol\n",
    "aux1 = df42[(df42['cardio'] >= 1)]\n",
    "aux1 = aux1[['cholesterol', 'cardio']].groupby('cholesterol').size().reset_index().rename(columns={0:'total_1'})\n",
    "\n",
    "aux2 = df42[(df42['cardio'] <= 0)]\n",
    "aux2 = aux2[['cholesterol', 'cardio']].groupby('cholesterol').size().reset_index().rename(columns={0:'total_0'})\n",
    "\n",
    "#histogram\n",
    "fig = plt.figure(figsize=(10,10))\n",
    "\n",
    "ax = fig.add_subplot(111)\n",
    "\n",
    "width = 0.2\n",
    "\n",
    "aux1.plot(x='cholesterol', y='total_1', kind='bar', color='red', ax=ax, width=width, position=0)\n",
    "aux2.plot(x='cholesterol', y='total_0', kind='bar', color='blue', ax=ax, width=width, position=1)\n",
    "plt.show()"
   ]
  },
  {
   "cell_type": "code",
   "execution_count": 129,
   "metadata": {
    "ExecuteTime": {
     "end_time": "2021-10-24T20:50:30.195293Z",
     "start_time": "2021-10-24T20:50:30.149775Z"
    },
    "hidden": true
   },
   "outputs": [
    {
     "name": "stderr",
     "output_type": "stream",
     "text": [
      "<ipython-input-64-cb04d2a87beb>:45: SettingWithCopyWarning: \n",
      "A value is trying to be set on a copy of a slice from a DataFrame\n",
      "\n",
      "See the caveats in the documentation: https://pandas.pydata.org/pandas-docs/stable/user_guide/indexing.html#returning-a-view-versus-a-copy\n",
      "  x['%_cardio_1'][i] = p\n"
     ]
    },
    {
     "data": {
      "text/html": [
       "<div>\n",
       "<style scoped>\n",
       "    .dataframe tbody tr th:only-of-type {\n",
       "        vertical-align: middle;\n",
       "    }\n",
       "\n",
       "    .dataframe tbody tr th {\n",
       "        vertical-align: top;\n",
       "    }\n",
       "\n",
       "    .dataframe thead th {\n",
       "        text-align: right;\n",
       "    }\n",
       "</style>\n",
       "<table border=\"1\" class=\"dataframe\">\n",
       "  <thead>\n",
       "    <tr style=\"text-align: right;\">\n",
       "      <th></th>\n",
       "      <th>cholesterol</th>\n",
       "      <th>cardio</th>\n",
       "      <th>total</th>\n",
       "      <th>%_cardio_1</th>\n",
       "    </tr>\n",
       "  </thead>\n",
       "  <tbody>\n",
       "    <tr>\n",
       "      <th>1</th>\n",
       "      <td>above normal</td>\n",
       "      <td>1</td>\n",
       "      <td>4883</td>\n",
       "      <td>59.447285</td>\n",
       "    </tr>\n",
       "    <tr>\n",
       "      <th>3</th>\n",
       "      <td>normal</td>\n",
       "      <td>1</td>\n",
       "      <td>19984</td>\n",
       "      <td>43.432148</td>\n",
       "    </tr>\n",
       "    <tr>\n",
       "      <th>5</th>\n",
       "      <td>well above normal</td>\n",
       "      <td>1</td>\n",
       "      <td>5316</td>\n",
       "      <td>76.018876</td>\n",
       "    </tr>\n",
       "  </tbody>\n",
       "</table>\n",
       "</div>"
      ],
      "text/plain": [
       "         cholesterol  cardio  total %_cardio_1\n",
       "1       above normal       1   4883  59.447285\n",
       "3             normal       1  19984  43.432148\n",
       "5  well above normal       1   5316  76.018876"
      ]
     },
     "execution_count": 129,
     "metadata": {},
     "output_type": "execute_result"
    }
   ],
   "source": [
    "#calculate % people with CVD per people who have above normal cholesterol\n",
    "aux1 = df42[['cholesterol', 'cardio']].groupby(['cholesterol','cardio']).size().reset_index().rename(columns={0:'total'})\n",
    "aux1['%_cardio_1'] = \"\"\n",
    "aux1 = perc(aux1)\n",
    "\n",
    "#result of %\n",
    "aux1 = aux1[(aux1['cardio'] >= 1)]\n",
    "aux1"
   ]
  },
  {
   "cell_type": "code",
   "execution_count": 130,
   "metadata": {
    "ExecuteTime": {
     "end_time": "2021-10-24T20:50:30.529661Z",
     "start_time": "2021-10-24T20:50:30.208283Z"
    },
    "hidden": true
   },
   "outputs": [
    {
     "data": {
      "image/png": "[encoded data removed]",
      "text/plain": [
       "<Figure size 432x576 with 1 Axes>"
      ]
     },
     "metadata": {
      "needs_background": "light"
     },
     "output_type": "display_data"
    }
   ],
   "source": [
    "#histogram people who had CVD per people who have above normal cholesterol\n",
    "fig_dims = (6, 8)\n",
    "fig, ax = plt.subplots(figsize=fig_dims)\n",
    "\n",
    "graph = sns.barplot(x='cholesterol', y='%_cardio_1', ax=ax, data=aux1)\n",
    "#graph.axvline(29.5, ymin=0.0, ymax=1.0, linestyle =\"--\", color='blue')\n",
    "graph.axhline(51, xmin=0.0, xmax=1.0, linestyle =\"--\", color='red')\n",
    "plt.title('% People who had CVD per cholesterol')\n",
    "plt.show()"
   ]
  },
  {
   "cell_type": "markdown",
   "metadata": {
    "hidden": true
   },
   "source": [
    "**10. People with well above normal glucose have a 20% chance of having CVD than normal**\n",
    "\n",
    "**FALSE** People with well above normal glucose have 14.1% more likely than people with normal glucose"
   ]
  },
  {
   "cell_type": "code",
   "execution_count": 131,
   "metadata": {
    "ExecuteTime": {
     "end_time": "2021-10-24T20:50:30.561652Z",
     "start_time": "2021-10-24T20:50:30.534658Z"
    },
    "hidden": true
   },
   "outputs": [],
   "source": [
    "#transform to categorical\n",
    "df42 = df4.copy()\n",
    "df42['gluc'] = df42['gluc'].apply({1:'normal', 2:'above normal', 3:'well above normal'}.get)"
   ]
  },
  {
   "cell_type": "code",
   "execution_count": 132,
   "metadata": {
    "ExecuteTime": {
     "end_time": "2021-10-24T20:50:30.942307Z",
     "start_time": "2021-10-24T20:50:30.563651Z"
    },
    "hidden": true
   },
   "outputs": [
    {
     "data": {
      "image/png": "[encoded data removed]",
      "text/plain": [
       "<Figure size 720x720 with 1 Axes>"
      ]
     },
     "metadata": {
      "needs_background": "light"
     },
     "output_type": "display_data"
    }
   ],
   "source": [
    "#cvd per people who have above normal glucose\n",
    "aux1 = df42[(df42['cardio'] >= 1)]\n",
    "aux1 = aux1[['gluc', 'cardio']].groupby('gluc').size().reset_index().rename(columns={0:'total_1'})\n",
    "\n",
    "aux2 = df42[(df42['cardio'] <= 0)]\n",
    "aux2 = aux2[['gluc', 'cardio']].groupby('gluc').size().reset_index().rename(columns={0:'total_0'})\n",
    "\n",
    "#histogram\n",
    "fig = plt.figure(figsize=(10,10))\n",
    "\n",
    "ax = fig.add_subplot(111)\n",
    "\n",
    "width = 0.2\n",
    "\n",
    "aux1.plot(x='gluc', y='total_1', kind='bar', color='red', ax=ax, width=width, position=0)\n",
    "aux2.plot(x='gluc', y='total_0', kind='bar', color='blue', ax=ax, width=width, position=1)\n",
    "plt.show()"
   ]
  },
  {
   "cell_type": "code",
   "execution_count": 133,
   "metadata": {
    "ExecuteTime": {
     "end_time": "2021-10-24T20:50:30.974280Z",
     "start_time": "2021-10-24T20:50:30.944297Z"
    },
    "hidden": true
   },
   "outputs": [
    {
     "name": "stderr",
     "output_type": "stream",
     "text": [
      "<ipython-input-64-cb04d2a87beb>:45: SettingWithCopyWarning: \n",
      "A value is trying to be set on a copy of a slice from a DataFrame\n",
      "\n",
      "See the caveats in the documentation: https://pandas.pydata.org/pandas-docs/stable/user_guide/indexing.html#returning-a-view-versus-a-copy\n",
      "  x['%_cardio_1'][i] = p\n"
     ]
    },
    {
     "data": {
      "text/html": [
       "<div>\n",
       "<style scoped>\n",
       "    .dataframe tbody tr th:only-of-type {\n",
       "        vertical-align: middle;\n",
       "    }\n",
       "\n",
       "    .dataframe tbody tr th {\n",
       "        vertical-align: top;\n",
       "    }\n",
       "\n",
       "    .dataframe thead th {\n",
       "        text-align: right;\n",
       "    }\n",
       "</style>\n",
       "<table border=\"1\" class=\"dataframe\">\n",
       "  <thead>\n",
       "    <tr style=\"text-align: right;\">\n",
       "      <th></th>\n",
       "      <th>gluc</th>\n",
       "      <th>cardio</th>\n",
       "      <th>total</th>\n",
       "      <th>%_cardio_1</th>\n",
       "    </tr>\n",
       "  </thead>\n",
       "  <tbody>\n",
       "    <tr>\n",
       "      <th>1</th>\n",
       "      <td>above normal</td>\n",
       "      <td>1</td>\n",
       "      <td>2614</td>\n",
       "      <td>58.741573</td>\n",
       "    </tr>\n",
       "    <tr>\n",
       "      <th>3</th>\n",
       "      <td>normal</td>\n",
       "      <td>1</td>\n",
       "      <td>24720</td>\n",
       "      <td>47.393547</td>\n",
       "    </tr>\n",
       "    <tr>\n",
       "      <th>5</th>\n",
       "      <td>well above normal</td>\n",
       "      <td>1</td>\n",
       "      <td>2849</td>\n",
       "      <td>61.800434</td>\n",
       "    </tr>\n",
       "  </tbody>\n",
       "</table>\n",
       "</div>"
      ],
      "text/plain": [
       "                gluc  cardio  total %_cardio_1\n",
       "1       above normal       1   2614  58.741573\n",
       "3             normal       1  24720  47.393547\n",
       "5  well above normal       1   2849  61.800434"
      ]
     },
     "execution_count": 133,
     "metadata": {},
     "output_type": "execute_result"
    }
   ],
   "source": [
    "#calculate % people with CVD per people who have above normal glucose\n",
    "aux1 = df42[['gluc', 'cardio']].groupby(['gluc','cardio']).size().reset_index().rename(columns={0:'total'})\n",
    "aux1['%_cardio_1'] = \"\"\n",
    "aux1 = perc(aux1)\n",
    "\n",
    "#result of %\n",
    "aux1 = aux1[(aux1['cardio'] >= 1)]\n",
    "aux1"
   ]
  },
  {
   "cell_type": "code",
   "execution_count": 134,
   "metadata": {
    "ExecuteTime": {
     "end_time": "2021-10-24T20:50:31.323230Z",
     "start_time": "2021-10-24T20:50:30.976282Z"
    },
    "hidden": true
   },
   "outputs": [
    {
     "data": {
      "image/png": "[encoded data removed]",
      "text/plain": [
       "<Figure size 432x576 with 1 Axes>"
      ]
     },
     "metadata": {
      "needs_background": "light"
     },
     "output_type": "display_data"
    }
   ],
   "source": [
    "#histogram people who had CVD per people who have above normal glucose\n",
    "fig_dims = (6, 8)\n",
    "fig, ax = plt.subplots(figsize=fig_dims)\n",
    "\n",
    "graph = sns.barplot(x='gluc', y='%_cardio_1', ax=ax, data=aux1)\n",
    "#graph.axvline(29.5, ymin=0.0, ymax=1.0, linestyle =\"--\", color='blue')\n",
    "graph.axhline(51, xmin=0.0, xmax=1.0, linestyle =\"--\", color='red')\n",
    "plt.title('% People who had CVD per gluc')\n",
    "plt.show()"
   ]
  },
  {
   "cell_type": "markdown",
   "metadata": {
    "hidden": true
   },
   "source": [
    "**11. People who have hypertension have 40% chance of having CVD than who have normal blood pressure**\n",
    "\n",
    "**TRUE** People with hypertension 3 have 54.2% more chance of having a CVD than people with normal blood pressure"
   ]
  },
  {
   "cell_type": "code",
   "execution_count": 135,
   "metadata": {
    "ExecuteTime": {
     "end_time": "2021-10-24T20:50:31.655791Z",
     "start_time": "2021-10-24T20:50:31.326229Z"
    },
    "hidden": true
   },
   "outputs": [
    {
     "data": {
      "image/png": "[encoded data removed]",
      "text/plain": [
       "<Figure size 720x720 with 1 Axes>"
      ]
     },
     "metadata": {
      "needs_background": "light"
     },
     "output_type": "display_data"
    }
   ],
   "source": [
    "#cvd per people who have hypertension\n",
    "aux1 = df4[(df4['cardio'] >= 1)]\n",
    "aux1 = aux1[['blood_pressure', 'cardio']].groupby('blood_pressure').size().reset_index().rename(columns={0:'total_1'})\n",
    "\n",
    "\n",
    "aux2 = df4[(df4['cardio'] <= 0)]\n",
    "aux2 = aux2[['blood_pressure', 'cardio']].groupby('blood_pressure').size().reset_index().rename(columns={0:'total_0'})\n",
    "\n",
    "#histogram\n",
    "fig = plt.figure(figsize=(10,10))\n",
    "\n",
    "ax = fig.add_subplot(111)\n",
    "\n",
    "width = 0.2\n",
    "\n",
    "aux1.plot(x='blood_pressure', y='total_1', kind='bar', color='red', ax=ax, width=width, position=0)\n",
    "aux2.plot(x='blood_pressure', y='total_0', kind='bar', color='blue', ax=ax, width=width, position=1)\n",
    "plt.show()"
   ]
  },
  {
   "cell_type": "code",
   "execution_count": 136,
   "metadata": {
    "ExecuteTime": {
     "end_time": "2021-10-24T20:50:31.908808Z",
     "start_time": "2021-10-24T20:50:31.657788Z"
    },
    "hidden": true
   },
   "outputs": [
    {
     "name": "stderr",
     "output_type": "stream",
     "text": [
      "<ipython-input-64-cb04d2a87beb>:45: SettingWithCopyWarning: \n",
      "A value is trying to be set on a copy of a slice from a DataFrame\n",
      "\n",
      "See the caveats in the documentation: https://pandas.pydata.org/pandas-docs/stable/user_guide/indexing.html#returning-a-view-versus-a-copy\n",
      "  x['%_cardio_1'][i] = p\n"
     ]
    },
    {
     "data": {
      "text/html": [
       "<div>\n",
       "<style scoped>\n",
       "    .dataframe tbody tr th:only-of-type {\n",
       "        vertical-align: middle;\n",
       "    }\n",
       "\n",
       "    .dataframe tbody tr th {\n",
       "        vertical-align: top;\n",
       "    }\n",
       "\n",
       "    .dataframe thead th {\n",
       "        text-align: right;\n",
       "    }\n",
       "</style>\n",
       "<table border=\"1\" class=\"dataframe\">\n",
       "  <thead>\n",
       "    <tr style=\"text-align: right;\">\n",
       "      <th></th>\n",
       "      <th>blood_pressure</th>\n",
       "      <th>cardio</th>\n",
       "      <th>total</th>\n",
       "      <th>%_cardio_1</th>\n",
       "    </tr>\n",
       "  </thead>\n",
       "  <tbody>\n",
       "    <tr>\n",
       "      <th>1</th>\n",
       "      <td>0</td>\n",
       "      <td>1</td>\n",
       "      <td>1915</td>\n",
       "      <td>22.306348</td>\n",
       "    </tr>\n",
       "    <tr>\n",
       "      <th>3</th>\n",
       "      <td>1</td>\n",
       "      <td>1</td>\n",
       "      <td>884</td>\n",
       "      <td>32.19228</td>\n",
       "    </tr>\n",
       "    <tr>\n",
       "      <th>5</th>\n",
       "      <td>2</td>\n",
       "      <td>1</td>\n",
       "      <td>15867</td>\n",
       "      <td>44.68948</td>\n",
       "    </tr>\n",
       "    <tr>\n",
       "      <th>7</th>\n",
       "      <td>3</td>\n",
       "      <td>1</td>\n",
       "      <td>11363</td>\n",
       "      <td>80.133992</td>\n",
       "    </tr>\n",
       "    <tr>\n",
       "      <th>9</th>\n",
       "      <td>4</td>\n",
       "      <td>1</td>\n",
       "      <td>154</td>\n",
       "      <td>75.862069</td>\n",
       "    </tr>\n",
       "  </tbody>\n",
       "</table>\n",
       "</div>"
      ],
      "text/plain": [
       "   blood_pressure  cardio  total %_cardio_1\n",
       "1               0       1   1915  22.306348\n",
       "3               1       1    884   32.19228\n",
       "5               2       1  15867   44.68948\n",
       "7               3       1  11363  80.133992\n",
       "9               4       1    154  75.862069"
      ]
     },
     "execution_count": 136,
     "metadata": {},
     "output_type": "execute_result"
    }
   ],
   "source": [
    "#calculate % people with CVD per people who have hypertension\n",
    "aux1 = df4[['blood_pressure', 'cardio']].groupby(['blood_pressure','cardio']).size().reset_index().rename(columns={0:'total'})\n",
    "aux1['%_cardio_1'] = \"\"\n",
    "aux1 = perc(aux1)\n",
    "\n",
    "#result of %\n",
    "aux1 = aux1[(aux1['cardio'] >= 1)]\n",
    "aux1"
   ]
  },
  {
   "cell_type": "code",
   "execution_count": 137,
   "metadata": {
    "ExecuteTime": {
     "end_time": "2021-10-24T20:50:32.258668Z",
     "start_time": "2021-10-24T20:50:31.910809Z"
    },
    "hidden": true
   },
   "outputs": [
    {
     "data": {
      "image/png": "[encoded data removed]",
      "text/plain": [
       "<Figure size 720x576 with 1 Axes>"
      ]
     },
     "metadata": {
      "needs_background": "light"
     },
     "output_type": "display_data"
    }
   ],
   "source": [
    "#histogram people who had CVD per people who have hypertension\n",
    "fig_dims = (10, 8)\n",
    "fig, ax = plt.subplots(figsize=fig_dims)\n",
    "\n",
    "graph = sns.barplot(x='blood_pressure', y='%_cardio_1', ax=ax, data=aux1)\n",
    "#graph.axvline(29.5, ymin=0.0, ymax=1.0, linestyle =\"--\", color='blue')\n",
    "graph.axhline(51, xmin=0.0, xmax=1.0, linestyle =\"--\", color='red')\n",
    "plt.title('% People who had CVD per blood_pressure')\n",
    "plt.show()"
   ]
  },
  {
   "cell_type": "markdown",
   "metadata": {
    "hidden": true
   },
   "source": [
    "## 4.3. Multivariate Analysis"
   ]
  },
  {
   "cell_type": "code",
   "execution_count": 138,
   "metadata": {
    "ExecuteTime": {
     "end_time": "2021-10-24T20:50:34.383955Z",
     "start_time": "2021-10-24T20:50:32.260668Z"
    },
    "hidden": true
   },
   "outputs": [
    {
     "data": {
      "image/png": "[encoded data removed]",
      "text/plain": [
       "<Figure size 1080x504 with 2 Axes>"
      ]
     },
     "metadata": {},
     "output_type": "display_data"
    }
   ],
   "source": [
    "correlations = df4.corr(method='pearson')\n",
    "mask = np.zeros_like(correlations)\n",
    "mask[np.triu_indices_from(mask)] = True\n",
    "#fig_dims = (15, 7)\n",
    "#fig, ax = plt.subplots(figsize=fig_dims)\n",
    "#sns.heatmap(correlations,ax=ax, annot=True);\n",
    "\n",
    "with sns.axes_style(\"white\"):\n",
    "    f, ax = plt.subplots(figsize=(15, 7))\n",
    "    ax = sns.heatmap(correlations, mask=mask, vmax=.3, annot=True)"
   ]
  },
  {
   "cell_type": "markdown",
   "metadata": {
    "heading_collapsed": true
   },
   "source": [
    "# 5.0. Data Preparation"
   ]
  },
  {
   "cell_type": "code",
   "execution_count": 139,
   "metadata": {
    "ExecuteTime": {
     "end_time": "2021-10-24T20:50:34.399942Z",
     "start_time": "2021-10-24T20:50:34.385952Z"
    },
    "hidden": true
   },
   "outputs": [],
   "source": [
    "df5 = df4.copy()"
   ]
  },
  {
   "cell_type": "code",
   "execution_count": 140,
   "metadata": {
    "ExecuteTime": {
     "end_time": "2021-10-24T20:50:34.589978Z",
     "start_time": "2021-10-24T20:50:34.401944Z"
    },
    "hidden": true
   },
   "outputs": [],
   "source": [
    "x = df4.drop('cardio', axis=1)\n",
    "y = df4['cardio'].copy()\n",
    "\n",
    "x_train, x_val, y_train, y_val = ms.train_test_split(x,y, test_size = 0.20)\n",
    "df5 = pd.concat([x_train, y_train], axis=1)"
   ]
  },
  {
   "cell_type": "markdown",
   "metadata": {
    "hidden": true
   },
   "source": [
    "## 5.1. Normalization"
   ]
  },
  {
   "cell_type": "code",
   "execution_count": 141,
   "metadata": {
    "ExecuteTime": {
     "end_time": "2021-10-24T20:50:34.891878Z",
     "start_time": "2021-10-24T20:50:34.591978Z"
    },
    "hidden": true
   },
   "outputs": [],
   "source": [
    "# define min max scaler\n",
    "scaler_mm = MinMaxScaler()\n",
    "scaler_std = StandardScaler()\n",
    "\n",
    "# transform weight - STD\n",
    "df5['weight'] = scaler_mm.fit_transform(df5[['weight']].values)\n",
    "\n",
    "# transform height - STD\n",
    "df5['height'] = scaler_mm.fit_transform(df5[['height']].values)\n",
    "\n",
    "# transform age - MM\n",
    "df5['age'] = scaler_mm.fit_transform(df5[['age']].values)\n",
    "\n",
    "# transform bmi - MM\n",
    "df5['bmi'] = scaler_mm.fit_transform(df5[['bmi']].values)\n",
    "\n",
    "# transform ap_hi - MM\n",
    "df5['ap_hi'] = scaler_mm.fit_transform(df5[['ap_hi']].values)\n",
    "\n",
    "# transform ap_lo - MM\n",
    "df5['ap_lo'] = scaler_mm.fit_transform(df5[['ap_lo']].values)\n",
    "\n",
    "#df5"
   ]
  },
  {
   "cell_type": "markdown",
   "metadata": {
    "ExecuteTime": {
     "end_time": "2021-10-24T18:01:44.891379Z",
     "start_time": "2021-10-24T18:01:44.875390Z"
    },
    "hidden": true
   },
   "source": [
    "## 5.2. Validation Preparation"
   ]
  },
  {
   "cell_type": "code",
   "execution_count": 142,
   "metadata": {
    "ExecuteTime": {
     "end_time": "2021-10-24T20:50:35.050296Z",
     "start_time": "2021-10-24T20:50:34.893878Z"
    },
    "hidden": true
   },
   "outputs": [
    {
     "name": "stderr",
     "output_type": "stream",
     "text": [
      "C:\\Users\\Henrique\\anaconda3\\lib\\site-packages\\pandas\\core\\indexing.py:1835: SettingWithCopyWarning: \n",
      "A value is trying to be set on a copy of a slice from a DataFrame.\n",
      "Try using .loc[row_indexer,col_indexer] = value instead\n",
      "\n",
      "See the caveats in the documentation: https://pandas.pydata.org/pandas-docs/stable/user_guide/indexing.html#returning-a-view-versus-a-copy\n",
      "  self._setitem_single_column(loc, value[:, i].tolist(), pi)\n",
      "C:\\Users\\Henrique\\anaconda3\\lib\\site-packages\\pandas\\core\\indexing.py:1835: SettingWithCopyWarning: \n",
      "A value is trying to be set on a copy of a slice from a DataFrame.\n",
      "Try using .loc[row_indexer,col_indexer] = value instead\n",
      "\n",
      "See the caveats in the documentation: https://pandas.pydata.org/pandas-docs/stable/user_guide/indexing.html#returning-a-view-versus-a-copy\n",
      "  self._setitem_single_column(loc, value[:, i].tolist(), pi)\n",
      "C:\\Users\\Henrique\\anaconda3\\lib\\site-packages\\pandas\\core\\indexing.py:1835: SettingWithCopyWarning: \n",
      "A value is trying to be set on a copy of a slice from a DataFrame.\n",
      "Try using .loc[row_indexer,col_indexer] = value instead\n",
      "\n",
      "See the caveats in the documentation: https://pandas.pydata.org/pandas-docs/stable/user_guide/indexing.html#returning-a-view-versus-a-copy\n",
      "  self._setitem_single_column(loc, value[:, i].tolist(), pi)\n",
      "C:\\Users\\Henrique\\anaconda3\\lib\\site-packages\\pandas\\core\\indexing.py:1835: SettingWithCopyWarning: \n",
      "A value is trying to be set on a copy of a slice from a DataFrame.\n",
      "Try using .loc[row_indexer,col_indexer] = value instead\n",
      "\n",
      "See the caveats in the documentation: https://pandas.pydata.org/pandas-docs/stable/user_guide/indexing.html#returning-a-view-versus-a-copy\n",
      "  self._setitem_single_column(loc, value[:, i].tolist(), pi)\n",
      "C:\\Users\\Henrique\\anaconda3\\lib\\site-packages\\pandas\\core\\indexing.py:1835: SettingWithCopyWarning: \n",
      "A value is trying to be set on a copy of a slice from a DataFrame.\n",
      "Try using .loc[row_indexer,col_indexer] = value instead\n",
      "\n",
      "See the caveats in the documentation: https://pandas.pydata.org/pandas-docs/stable/user_guide/indexing.html#returning-a-view-versus-a-copy\n",
      "  self._setitem_single_column(loc, value[:, i].tolist(), pi)\n",
      "C:\\Users\\Henrique\\anaconda3\\lib\\site-packages\\pandas\\core\\indexing.py:1835: SettingWithCopyWarning: \n",
      "A value is trying to be set on a copy of a slice from a DataFrame.\n",
      "Try using .loc[row_indexer,col_indexer] = value instead\n",
      "\n",
      "See the caveats in the documentation: https://pandas.pydata.org/pandas-docs/stable/user_guide/indexing.html#returning-a-view-versus-a-copy\n",
      "  self._setitem_single_column(loc, value[:, i].tolist(), pi)\n"
     ]
    }
   ],
   "source": [
    "# define min max scaler\n",
    "scaler_mm = MinMaxScaler()\n",
    "scaler_std = StandardScaler()\n",
    "\n",
    "# transform weight - STD\n",
    "x_val.loc[:, 'weight'] = scaler_mm.fit_transform(x_val[['weight']].values)\n",
    "\n",
    "# transform height - STD\n",
    "x_val.loc[:, 'height'] = scaler_mm.fit_transform(x_val[['height']].values)\n",
    "\n",
    "# transform age - MM\n",
    "x_val.loc[:, 'age'] = scaler_mm.fit_transform(x_val[['age']].values)\n",
    "\n",
    "# transform bmi - MM\n",
    "x_val.loc[:, 'bmi'] = scaler_mm.fit_transform(x_val[['bmi']].values)\n",
    "\n",
    "# transform ap_hi - MM\n",
    "x_val.loc[:, 'ap_hi'] = scaler_mm.fit_transform(x_val[['ap_hi']].values)\n",
    "\n",
    "# transform ap_lo - MM\n",
    "x_val.loc[:, 'ap_lo'] = scaler_mm.fit_transform(x_val[['ap_lo']].values)"
   ]
  },
  {
   "cell_type": "markdown",
   "metadata": {
    "heading_collapsed": true
   },
   "source": [
    "# 6.0. Feature Selection"
   ]
  },
  {
   "cell_type": "code",
   "execution_count": 143,
   "metadata": {
    "ExecuteTime": {
     "end_time": "2021-10-24T20:50:35.082278Z",
     "start_time": "2021-10-24T20:50:35.053296Z"
    },
    "hidden": true
   },
   "outputs": [],
   "source": [
    "df6 = df5.copy()\n",
    "df6_full = df3_full.copy()"
   ]
  },
  {
   "cell_type": "markdown",
   "metadata": {
    "heading_collapsed": true,
    "hidden": true
   },
   "source": [
    "## 6.1. Boruta as feature selector"
   ]
  },
  {
   "cell_type": "code",
   "execution_count": 147,
   "metadata": {
    "ExecuteTime": {
     "end_time": "2021-10-24T20:53:31.273465Z",
     "start_time": "2021-10-24T20:53:02.072397Z"
    },
    "hidden": true
   },
   "outputs": [
    {
     "name": "stdout",
     "output_type": "stream",
     "text": [
      "Iteration: \t1 / 100\n",
      "Confirmed: \t0\n",
      "Tentative: \t13\n",
      "Rejected: \t0\n",
      "Iteration: \t2 / 100\n",
      "Confirmed: \t0\n",
      "Tentative: \t13\n",
      "Rejected: \t0\n",
      "Iteration: \t3 / 100\n",
      "Confirmed: \t0\n",
      "Tentative: \t13\n",
      "Rejected: \t0\n",
      "Iteration: \t4 / 100\n",
      "Confirmed: \t0\n",
      "Tentative: \t13\n",
      "Rejected: \t0\n",
      "Iteration: \t5 / 100\n",
      "Confirmed: \t0\n",
      "Tentative: \t13\n",
      "Rejected: \t0\n",
      "Iteration: \t6 / 100\n",
      "Confirmed: \t0\n",
      "Tentative: \t13\n",
      "Rejected: \t0\n",
      "Iteration: \t7 / 100\n",
      "Confirmed: \t0\n",
      "Tentative: \t13\n",
      "Rejected: \t0\n",
      "Iteration: \t8 / 100\n",
      "Confirmed: \t0\n",
      "Tentative: \t2\n",
      "Rejected: \t11\n",
      "Iteration: \t9 / 100\n",
      "Confirmed: \t1\n",
      "Tentative: \t1\n",
      "Rejected: \t11\n",
      "Iteration: \t10 / 100\n",
      "Confirmed: \t1\n",
      "Tentative: \t1\n",
      "Rejected: \t11\n",
      "Iteration: \t11 / 100\n",
      "Confirmed: \t1\n",
      "Tentative: \t1\n",
      "Rejected: \t11\n",
      "Iteration: \t12 / 100\n",
      "Confirmed: \t1\n",
      "Tentative: \t0\n",
      "Rejected: \t12\n",
      "\n",
      "\n",
      "BorutaPy finished running.\n",
      "\n",
      "Iteration: \t13 / 100\n",
      "Confirmed: \t1\n",
      "Tentative: \t0\n",
      "Rejected: \t12\n"
     ]
    }
   ],
   "source": [
    "#training and test dataset for Boruta\n",
    "x_train_n = x_train.values\n",
    "y_train_n = y_train.values.ravel()\n",
    "\n",
    "#define RandomForestRegressor\n",
    "rf = RandomForestRegressor(n_jobs=-1)\n",
    "\n",
    "#define Boruta\n",
    "boruta = BorutaPy(rf, n_estimators='auto',verbose=2,random_state=42).fit(x_train_n,y_train_n)"
   ]
  },
  {
   "cell_type": "code",
   "execution_count": 148,
   "metadata": {
    "ExecuteTime": {
     "end_time": "2021-10-24T20:53:31.289454Z",
     "start_time": "2021-10-24T20:53:31.276464Z"
    },
    "hidden": true
   },
   "outputs": [
    {
     "name": "stdout",
     "output_type": "stream",
     "text": [
      "Columns selected:  ['ap_hi']\n",
      "Columns not selected:  ['active', 'age', 'alco', 'ap_lo', 'blood_pressure', 'bmi', 'cholesterol', 'gender', 'gluc', 'height', 'smoke', 'weight']\n"
     ]
    }
   ],
   "source": [
    "cols_selected = boruta.support_.tolist()\n",
    "\n",
    "#best feature\n",
    "x_train_fs = x_train\n",
    "cols_selected_boruta = x_train_fs.iloc[:,cols_selected].columns.to_list()\n",
    "print('Columns selected: ',cols_selected_boruta)\n",
    "\n",
    "#not selected from Boruta\n",
    "cols_not_selected_boruta = list(np.setdiff1d(x_train_fs.columns,cols_selected_boruta))\n",
    "print('Columns not selected: ',cols_not_selected_boruta)"
   ]
  },
  {
   "cell_type": "markdown",
   "metadata": {
    "heading_collapsed": true,
    "hidden": true
   },
   "source": [
    "## 6.2. Relieff Selection"
   ]
  },
  {
   "cell_type": "code",
   "execution_count": 152,
   "metadata": {
    "ExecuteTime": {
     "end_time": "2021-10-24T20:55:16.742883Z",
     "start_time": "2021-10-24T20:54:40.885901Z"
    },
    "hidden": true
   },
   "outputs": [
    {
     "name": "stdout",
     "output_type": "stream",
     "text": [
      "(No. of tuples, No. of Columns before ReliefF) : 48975\n",
      "(No. of tuples, No. of Columns after ReliefF) : (48975, 10)\n"
     ]
    }
   ],
   "source": [
    "fs = ReliefF(n_neighbors=100, n_features_to_keep=10)\n",
    "x_train_relieff = fs.fit_transform(X.values, Y.values)\n",
    "print(\"(No. of tuples, No. of Columns before ReliefF) : \"+str(df6.shape[0])+\n",
    "      \"\\n(No. of tuples, No. of Columns after ReliefF) : \"+str(x_train_relieff.shape))"
   ]
  },
  {
   "cell_type": "code",
   "execution_count": 153,
   "metadata": {
    "ExecuteTime": {
     "end_time": "2021-10-24T20:55:16.790853Z",
     "start_time": "2021-10-24T20:55:16.745880Z"
    },
    "hidden": true
   },
   "outputs": [
    {
     "data": {
      "text/plain": [
       "array([1.        , 1.        , 1.        , 2.        , 1.        ,\n",
       "       0.        , 0.        , 0.22321429, 0.4805915 , 0.4       ])"
      ]
     },
     "execution_count": 153,
     "metadata": {},
     "output_type": "execute_result"
    }
   ],
   "source": [
    "x_train_relieff[3]"
   ]
  },
  {
   "cell_type": "code",
   "execution_count": 154,
   "metadata": {
    "ExecuteTime": {
     "end_time": "2021-10-24T20:55:16.916846Z",
     "start_time": "2021-10-24T20:55:16.793851Z"
    },
    "hidden": true
   },
   "outputs": [],
   "source": [
    "cols_selected_relief = ['gender', 'ap_hi', 'ap_lo', 'cholesterol', 'gluc',\n",
    "                        'smoke', 'alco', 'active', 'bmi', 'blood_pressure']"
   ]
  },
  {
   "cell_type": "markdown",
   "metadata": {
    "heading_collapsed": true,
    "hidden": true
   },
   "source": [
    "## 6.3. Lasso Selection"
   ]
  },
  {
   "cell_type": "code",
   "execution_count": 158,
   "metadata": {
    "ExecuteTime": {
     "end_time": "2021-10-24T20:57:39.809041Z",
     "start_time": "2021-10-24T20:57:39.794051Z"
    },
    "hidden": true
   },
   "outputs": [
    {
     "name": "stderr",
     "output_type": "stream",
     "text": [
      "<ipython-input-158-b50dbf625a46>:1: FutureWarning: In a future version of pandas all arguments of DataFrame.drop except for the argument 'labels' will be keyword-only\n",
      "  df6_ls = df6.drop('cardio', 1)\n"
     ]
    }
   ],
   "source": [
    "df6_ls = df6.drop('cardio', 1)\n",
    "features = df6_ls.columns"
   ]
  },
  {
   "cell_type": "code",
   "execution_count": 159,
   "metadata": {
    "ExecuteTime": {
     "end_time": "2021-10-24T20:57:40.298739Z",
     "start_time": "2021-10-24T20:57:40.282751Z"
    },
    "hidden": true
   },
   "outputs": [],
   "source": [
    "pipeline = Pipeline([('scaler',StandardScaler()),('model',Lasso())])"
   ]
  },
  {
   "cell_type": "code",
   "execution_count": 160,
   "metadata": {
    "ExecuteTime": {
     "end_time": "2021-10-24T20:58:06.206218Z",
     "start_time": "2021-10-24T20:57:40.930347Z"
    },
    "hidden": true
   },
   "outputs": [
    {
     "data": {
      "text/plain": [
       "GridSearchCV(cv=5,\n",
       "             estimator=Pipeline(steps=[('scaler', StandardScaler()),\n",
       "                                       ('model', Lasso())]),\n",
       "             param_grid={'model__alpha': array([0.1, 0.2, 0.3, 0.4, 0.5, 0.6, 0.7, 0.8, 0.9, 1. , 1.1, 1.2, 1.3,\n",
       "       1.4, 1.5, 1.6, 1.7, 1.8, 1.9, 2. , 2.1, 2.2, 2.3, 2.4, 2.5, 2.6,\n",
       "       2.7, 2.8, 2.9, 3. , 3.1, 3.2, 3.3, 3.4, 3.5, 3.6, 3.7, 3.8, 3.9,\n",
       "       4. , 4.1, 4.2, 4.3, 4.4, 4.5, 4.6, 4.7, 4.8, 4.9, 5. , 5.1, 5.2,\n",
       "       5.3, 5.4, 5.5, 5.6, 5.7, 5.8, 5.9, 6. , 6.1, 6.2, 6.3, 6.4, 6.5,\n",
       "       6.6, 6.7, 6.8, 6.9, 7. , 7.1, 7.2, 7.3, 7.4, 7.5, 7.6, 7.7, 7.8,\n",
       "       7.9, 8. , 8.1, 8.2, 8.3, 8.4, 8.5, 8.6, 8.7, 8.8, 8.9, 9. , 9.1,\n",
       "       9.2, 9.3, 9.4, 9.5, 9.6, 9.7, 9.8, 9.9])},\n",
       "             scoring='neg_mean_squared_error')"
      ]
     },
     "execution_count": 160,
     "metadata": {},
     "output_type": "execute_result"
    }
   ],
   "source": [
    "search = GridSearchCV(pipeline,{'model__alpha':np.arange(0.1,10,0.1)},\n",
    "                      cv = 5, scoring=\"neg_mean_squared_error\",verbose=0)\n",
    "\n",
    "search.fit(x_train,y_train)"
   ]
  },
  {
   "cell_type": "code",
   "execution_count": 161,
   "metadata": {
    "ExecuteTime": {
     "end_time": "2021-10-24T20:58:06.252189Z",
     "start_time": "2021-10-24T20:58:06.209216Z"
    },
    "hidden": true
   },
   "outputs": [
    {
     "data": {
      "text/plain": [
       "{'model__alpha': 0.1}"
      ]
     },
     "execution_count": 161,
     "metadata": {},
     "output_type": "execute_result"
    }
   ],
   "source": [
    "search.best_params_"
   ]
  },
  {
   "cell_type": "code",
   "execution_count": 162,
   "metadata": {
    "ExecuteTime": {
     "end_time": "2021-10-24T20:58:06.348129Z",
     "start_time": "2021-10-24T20:58:06.255188Z"
    },
    "hidden": true
   },
   "outputs": [],
   "source": [
    "coefficients = search.best_estimator_.named_steps['model'].coef_"
   ]
  },
  {
   "cell_type": "code",
   "execution_count": 163,
   "metadata": {
    "ExecuteTime": {
     "end_time": "2021-10-24T20:58:06.472360Z",
     "start_time": "2021-10-24T20:58:06.351128Z"
    },
    "hidden": true
   },
   "outputs": [],
   "source": [
    "importance = np.abs(coefficients)"
   ]
  },
  {
   "cell_type": "code",
   "execution_count": 164,
   "metadata": {
    "ExecuteTime": {
     "end_time": "2021-10-24T20:58:06.645756Z",
     "start_time": "2021-10-24T20:58:06.475359Z"
    },
    "hidden": true
   },
   "outputs": [
    {
     "name": "stdout",
     "output_type": "stream",
     "text": [
      "Columns selected:  ['age' 'ap_hi' 'blood_pressure']\n",
      "Columns not selected:  ['gender' 'height' 'weight' 'ap_lo' 'cholesterol' 'gluc' 'smoke' 'alco'\n",
      " 'active' 'bmi']\n"
     ]
    }
   ],
   "source": [
    "cols_selected_lasso = np.array(features)[importance > 0]\n",
    "print('Columns selected: ', cols_selected_lasso)\n",
    "\n",
    "cols_not_selected_lasso = np.array(features)[importance == 0]\n",
    "print('Columns not selected: ', cols_not_selected_lasso)"
   ]
  },
  {
   "cell_type": "markdown",
   "metadata": {
    "hidden": true
   },
   "source": [
    "## DF Split"
   ]
  },
  {
   "cell_type": "code",
   "execution_count": 169,
   "metadata": {
    "ExecuteTime": {
     "end_time": "2021-10-24T21:03:39.958455Z",
     "start_time": "2021-10-24T21:03:39.929475Z"
    },
    "hidden": true
   },
   "outputs": [],
   "source": [
    "#drop id, ap_hi, ap_lo\n",
    "#df6 = df6.drop(['id'], axis=1)\n",
    "#df6_full = df6_full.drop(['id'], axis=1)\n",
    "df6_boruta = df6['ap_hi']\n",
    "df6_relief = df6[['gender', 'ap_hi', 'ap_lo', 'cholesterol', 'gluc',\n",
    "                        'smoke', 'alco', 'active', 'bmi', 'blood_pressure']]\n",
    "df6_lasso = df6[['age', 'ap_hi', 'blood_pressure']]\n",
    "\n",
    "X = df6.drop(['cardio'], axis=1)\n",
    "Y = df6['cardio'].copy()\n",
    "\n",
    "X_full = df6_full.drop(['cardio'], axis=1)\n",
    "Y_full = df6_full['cardio'].copy()\n",
    "\n",
    "X_boruta = df6_boruta\n",
    "Y_boruta = df6['cardio'].copy()\n",
    "\n",
    "X_relief = df6_relief\n",
    "Y_relief = df6['cardio'].copy()\n",
    "\n",
    "X_lasso = df6_lasso\n",
    "Y_lasso = df6['cardio'].copy()"
   ]
  },
  {
   "cell_type": "code",
   "execution_count": 170,
   "metadata": {
    "ExecuteTime": {
     "end_time": "2021-10-24T21:03:41.541983Z",
     "start_time": "2021-10-24T21:03:41.470026Z"
    },
    "hidden": true
   },
   "outputs": [],
   "source": [
    "#split dataset into train and test\n",
    "x_train, x_val, y_train, y_val = ms.train_test_split(X, Y, test_size=0.2, random_state=42)\n",
    "\n",
    "#split dataset into train and test (with outlier)\n",
    "x_train_full, x_val_full, y_train_full, y_val_full = ms.train_test_split(X_full, Y_full, test_size=0.2, random_state=42)\n",
    "\n",
    "#split dataset into train and test (boruta)\n",
    "x_train_boruta, x_val_boruta, y_train_boruta, y_val_boruta = ms.train_test_split(X_boruta, Y_boruta, test_size=0.2, random_state=42)\n",
    "\n",
    "#split dataset into train and test (relief)\n",
    "x_train_relief, x_val_relief, y_train_relief, y_val_relief = ms.train_test_split(X_relief, Y_relief, test_size=0.2, random_state=42)\n",
    "\n",
    "#split dataset into train and test (lasso)\n",
    "x_train_lasso, x_val_lasso, y_train_lasso, y_val_lasso = ms.train_test_split(X_lasso, Y_lasso, test_size=0.2, random_state=42)"
   ]
  },
  {
   "cell_type": "markdown",
   "metadata": {},
   "source": [
    "# 7.0. Machine Learning Modeling"
   ]
  },
  {
   "cell_type": "markdown",
   "metadata": {},
   "source": [
    "## 7.1. Baseline Model"
   ]
  },
  {
   "cell_type": "code",
   "execution_count": null,
   "metadata": {
    "ExecuteTime": {
     "end_time": "2021-10-24T20:50:35.232633Z",
     "start_time": "2021-10-24T20:49:55.448Z"
    }
   },
   "outputs": [],
   "source": [
    "#df without outlier\n",
    "response_list = y_test.drop_duplicates().sort_values().tolist()\n",
    "size = x_test.shape[0]\n",
    "weights = df6['cardio'].value_counts(normalize=True).sort_index().tolist()\n",
    "\n",
    "# prediction\n",
    "yhat_random = random.choices(response_list,k=size,weights=weights)\n",
    "\n",
    "#performance\n",
    "random_result = ml_error('Baseline', y_test, yhat_random)\n",
    "random_result"
   ]
  },
  {
   "cell_type": "code",
   "execution_count": null,
   "metadata": {
    "ExecuteTime": {
     "end_time": "2021-10-24T20:50:35.233631Z",
     "start_time": "2021-10-24T20:49:55.453Z"
    }
   },
   "outputs": [],
   "source": [
    "#confusion matrix\n",
    "mt.plot_confusion_matrix(y_test, yhat_random,  cmap=plt.cm.viridis, normalize=False, figsize=(12,12))"
   ]
  },
  {
   "cell_type": "code",
   "execution_count": null,
   "metadata": {
    "ExecuteTime": {
     "end_time": "2021-10-24T20:50:35.235631Z",
     "start_time": "2021-10-24T20:49:55.457Z"
    }
   },
   "outputs": [],
   "source": [
    "#df full\n",
    "response_list = y_test_full.drop_duplicates().sort_values().tolist()\n",
    "size = x_test_full.shape[0]\n",
    "weights = df6_full['cardio'].value_counts(normalize=True).sort_index().tolist()\n",
    "\n",
    "# prediction\n",
    "yhat_random_full = random.choices(response_list,k=size,weights=weights)\n",
    "\n",
    "#performance\n",
    "random_result_full = ml_error('Baseline', y_test_full, yhat_random_full)\n",
    "random_result_full"
   ]
  },
  {
   "cell_type": "code",
   "execution_count": null,
   "metadata": {
    "ExecuteTime": {
     "end_time": "2021-10-24T20:50:35.236629Z",
     "start_time": "2021-10-24T20:49:55.461Z"
    }
   },
   "outputs": [],
   "source": [
    "#confusion matrix\n",
    "mt.plot_confusion_matrix(y_test_full, yhat_random_full,  cmap=plt.cm.viridis, normalize=False, figsize=(12,12))"
   ]
  },
  {
   "cell_type": "code",
   "execution_count": null,
   "metadata": {
    "ExecuteTime": {
     "end_time": "2021-10-24T20:50:35.237630Z",
     "start_time": "2021-10-24T20:49:55.467Z"
    }
   },
   "outputs": [],
   "source": [
    "#boruta\n",
    "response_list = y_test_boruta.drop_duplicates().sort_values().tolist()\n",
    "size = x_test_boruta.shape[0]\n",
    "weights = df6['cardio'].value_counts(normalize=True).sort_index().tolist()\n",
    "\n",
    "# prediction\n",
    "yhat_random_boruta = random.choices(response_list,k=size,weights=weights)\n",
    "\n",
    "#performance\n",
    "random_result_boruta = ml_error('Baseline', y_test_boruta, yhat_random_boruta)\n",
    "random_result_boruta"
   ]
  },
  {
   "cell_type": "code",
   "execution_count": null,
   "metadata": {
    "ExecuteTime": {
     "end_time": "2021-10-24T20:50:35.239628Z",
     "start_time": "2021-10-24T20:49:55.473Z"
    }
   },
   "outputs": [],
   "source": [
    "#confusion matrix\n",
    "mt.plot_confusion_matrix(y_test_full, yhat_random_full,  cmap=plt.cm.viridis, normalize=False, figsize=(12,12))"
   ]
  },
  {
   "cell_type": "code",
   "execution_count": null,
   "metadata": {
    "ExecuteTime": {
     "end_time": "2021-10-24T20:50:35.242626Z",
     "start_time": "2021-10-24T20:49:55.480Z"
    }
   },
   "outputs": [],
   "source": [
    "#lasso\n",
    "response_list = y_test_lasso.drop_duplicates().sort_values().tolist()\n",
    "size = x_test_lasso.shape[0]\n",
    "weights = df6['cardio'].value_counts(normalize=True).sort_index().tolist()\n",
    "\n",
    "# prediction\n",
    "yhat_random_lasso = random.choices(response_list,k=size,weights=weights)\n",
    "\n",
    "#performance\n",
    "random_result_lasso = ml_error('Baseline', y_test_lasso, yhat_random_lasso)\n",
    "random_result_lasso"
   ]
  },
  {
   "cell_type": "code",
   "execution_count": null,
   "metadata": {
    "ExecuteTime": {
     "end_time": "2021-10-24T20:50:35.243625Z",
     "start_time": "2021-10-24T20:49:55.487Z"
    }
   },
   "outputs": [],
   "source": [
    "#confusion matrix\n",
    "mt.plot_confusion_matrix(y_test_lasso, yhat_random_lasso,  cmap=plt.cm.viridis, normalize=False, figsize=(12,12))"
   ]
  },
  {
   "cell_type": "code",
   "execution_count": null,
   "metadata": {
    "ExecuteTime": {
     "end_time": "2021-10-24T20:50:35.244624Z",
     "start_time": "2021-10-24T20:49:55.493Z"
    }
   },
   "outputs": [],
   "source": [
    "#relief\n",
    "response_list = y_test_relief.drop_duplicates().sort_values().tolist()\n",
    "size = x_test_relief.shape[0]\n",
    "weights = df6['cardio'].value_counts(normalize=True).sort_index().tolist()\n",
    "\n",
    "# prediction\n",
    "yhat_random_relief = random.choices(response_list,k=size,weights=weights)\n",
    "\n",
    "#performance\n",
    "random_result_relief = ml_error('Baseline', y_test_relief, yhat_random_relief)\n",
    "random_result_relief"
   ]
  },
  {
   "cell_type": "code",
   "execution_count": null,
   "metadata": {
    "ExecuteTime": {
     "end_time": "2021-10-24T20:50:35.245624Z",
     "start_time": "2021-10-24T20:49:55.498Z"
    }
   },
   "outputs": [],
   "source": [
    "#confusion matrix\n",
    "mt.plot_confusion_matrix(y_test_relief, yhat_random_relief,  cmap=plt.cm.viridis, normalize=False, figsize=(12,12))"
   ]
  },
  {
   "cell_type": "markdown",
   "metadata": {},
   "source": [
    "## 7.2. Logistic Regression Model"
   ]
  },
  {
   "cell_type": "code",
   "execution_count": 176,
   "metadata": {
    "ExecuteTime": {
     "end_time": "2021-10-24T21:31:21.334974Z",
     "start_time": "2021-10-24T21:30:52.860904Z"
    }
   },
   "outputs": [
    {
     "data": {
      "text/html": [
       "<div>\n",
       "<style scoped>\n",
       "    .dataframe tbody tr th:only-of-type {\n",
       "        vertical-align: middle;\n",
       "    }\n",
       "\n",
       "    .dataframe tbody tr th {\n",
       "        vertical-align: top;\n",
       "    }\n",
       "\n",
       "    .dataframe thead th {\n",
       "        text-align: right;\n",
       "    }\n",
       "</style>\n",
       "<table border=\"1\" class=\"dataframe\">\n",
       "  <thead>\n",
       "    <tr style=\"text-align: right;\">\n",
       "      <th></th>\n",
       "      <th>Model Name</th>\n",
       "      <th>MAE</th>\n",
       "      <th>MASE</th>\n",
       "      <th>RMSE</th>\n",
       "      <th>Accuracy</th>\n",
       "      <th>Balanced</th>\n",
       "      <th>Kappa</th>\n",
       "    </tr>\n",
       "  </thead>\n",
       "  <tbody>\n",
       "    <tr>\n",
       "      <th>0</th>\n",
       "      <td>Logistic Regression</td>\n",
       "      <td>0.275753</td>\n",
       "      <td>0.55904</td>\n",
       "      <td>0.525122</td>\n",
       "      <td>0.724247</td>\n",
       "      <td>0.723477</td>\n",
       "      <td>0.447545</td>\n",
       "    </tr>\n",
       "  </tbody>\n",
       "</table>\n",
       "</div>"
      ],
      "text/plain": [
       "            Model Name       MAE     MASE      RMSE  Accuracy  Balanced  \\\n",
       "0  Logistic Regression  0.275753  0.55904  0.525122  0.724247  0.723477   \n",
       "\n",
       "      Kappa  \n",
       "0  0.447545  "
      ]
     },
     "execution_count": 176,
     "metadata": {},
     "output_type": "execute_result"
    }
   ],
   "source": [
    "#model\n",
    "lg_model = lm.LogisticRegression(n_jobs=-1, random_state=42)\n",
    "\n",
    "lg_model.fit(x_train, y_train)\n",
    "\n",
    "#prediction\n",
    "yhat_lg = lg_model.predict(x_val)\n",
    "\n",
    "#performance\n",
    "lg_result = ml_error('Logistic Regression', y_val, yhat_lg)\n",
    "lg_result"
   ]
  },
  {
   "cell_type": "code",
   "execution_count": null,
   "metadata": {
    "ExecuteTime": {
     "end_time": "2021-10-24T20:50:35.247622Z",
     "start_time": "2021-10-24T20:49:55.508Z"
    }
   },
   "outputs": [],
   "source": [
    "#confusion matrix\n",
    "mt.plot_confusion_matrix(y_test, yhat_lg,  cmap=plt.cm.viridis, normalize=False, figsize=(12,12))"
   ]
  },
  {
   "cell_type": "code",
   "execution_count": null,
   "metadata": {
    "ExecuteTime": {
     "end_time": "2021-10-24T20:50:35.248622Z",
     "start_time": "2021-10-24T20:49:55.513Z"
    }
   },
   "outputs": [],
   "source": [
    "#model df full\n",
    "lg = lm.LogisticRegression(n_jobs=-1, random_state=42).fit(x_train_full, y_train_full)\n",
    "\n",
    "#prediction\n",
    "yhat_lg_full = lg.predict(x_test_full)\n",
    "\n",
    "#performance\n",
    "lg_result_full = ml_error('Logistic Regression', y_test_full, yhat_lg_full)\n",
    "lg_result_full"
   ]
  },
  {
   "cell_type": "code",
   "execution_count": null,
   "metadata": {
    "ExecuteTime": {
     "end_time": "2021-10-24T20:50:35.250621Z",
     "start_time": "2021-10-24T20:49:55.517Z"
    }
   },
   "outputs": [],
   "source": [
    "#confusion matrix\n",
    "mt.plot_confusion_matrix(y_test_full, yhat_lg_full,  cmap=plt.cm.viridis, normalize=False, figsize=(12,12))"
   ]
  },
  {
   "cell_type": "code",
   "execution_count": null,
   "metadata": {
    "ExecuteTime": {
     "end_time": "2021-10-24T20:50:35.255618Z",
     "start_time": "2021-10-24T20:49:55.533Z"
    }
   },
   "outputs": [],
   "source": [
    "#relief\n",
    "#model\n",
    "lg = lm.LogisticRegression(n_jobs=-1, random_state=42).fit(x_train_relief, y_train_relief)\n",
    "\n",
    "#prediction\n",
    "yhat_lg_relief = lg.predict(x_test_relief)\n",
    "\n",
    "#performance\n",
    "lg_result_relief = ml_error('Logistic Regression', y_test_relief, yhat_lg_relief)\n",
    "lg_result_relief"
   ]
  },
  {
   "cell_type": "code",
   "execution_count": null,
   "metadata": {
    "ExecuteTime": {
     "end_time": "2021-10-24T20:50:35.256617Z",
     "start_time": "2021-10-24T20:49:55.537Z"
    }
   },
   "outputs": [],
   "source": [
    "#confusion matrix\n",
    "mt.plot_confusion_matrix(y_test_relief, yhat_lg_relief,  cmap=plt.cm.viridis, normalize=False, figsize=(12,12))"
   ]
  },
  {
   "cell_type": "code",
   "execution_count": null,
   "metadata": {
    "ExecuteTime": {
     "end_time": "2021-10-24T20:50:35.257616Z",
     "start_time": "2021-10-24T20:49:55.541Z"
    }
   },
   "outputs": [],
   "source": [
    "#lasso\n",
    "#model\n",
    "lg = lm.LogisticRegression(n_jobs=-1, random_state=42).fit(x_train_lasso, y_train_lasso)\n",
    "\n",
    "#prediction\n",
    "yhat_lg_lasso = lg.predict(x_test_lasso)\n",
    "\n",
    "#performance\n",
    "lg_result_lasso = ml_error('Logistic Regression', y_test_lasso, yhat_lg_lasso)\n",
    "lg_result_lasso"
   ]
  },
  {
   "cell_type": "code",
   "execution_count": null,
   "metadata": {
    "ExecuteTime": {
     "end_time": "2021-10-24T20:50:35.259615Z",
     "start_time": "2021-10-24T20:49:55.545Z"
    }
   },
   "outputs": [],
   "source": [
    "#confusion matrix\n",
    "mt.plot_confusion_matrix(y_test_lasso, yhat_lg_lasso,  cmap=plt.cm.viridis, normalize=False, figsize=(12,12))"
   ]
  },
  {
   "cell_type": "markdown",
   "metadata": {},
   "source": [
    "## 7.3. Random Forest"
   ]
  },
  {
   "cell_type": "code",
   "execution_count": null,
   "metadata": {
    "ExecuteTime": {
     "end_time": "2021-10-24T20:50:35.260615Z",
     "start_time": "2021-10-24T20:49:55.550Z"
    }
   },
   "outputs": [],
   "source": [
    "#model\n",
    "rf = RandomForestClassifier(n_estimators=100, n_jobs=-1, random_state=42).fit(x_train, y_train)\n",
    "\n",
    "#prediction\n",
    "yhat_rf = rf.predict(x_test)\n",
    "\n",
    "#performance\n",
    "rf_result = ml_error('Random Forest', y_test, yhat_rf)\n",
    "rf_result"
   ]
  },
  {
   "cell_type": "code",
   "execution_count": null,
   "metadata": {
    "ExecuteTime": {
     "end_time": "2021-10-24T20:50:35.261613Z",
     "start_time": "2021-10-24T20:49:55.554Z"
    }
   },
   "outputs": [],
   "source": [
    "#model df full\n",
    "rf = RandomForestClassifier(n_estimators=100, n_jobs=-1, random_state=42).fit(x_train_full,y_train_full)\n",
    "\n",
    "#prediction\n",
    "yhat_rf_full = rf.predict(x_test_full)\n",
    "\n",
    "#performance\n",
    "rf_result = ml_error('Random Forest', y_test_full, yhat_rf_full)\n",
    "rf_result"
   ]
  },
  {
   "cell_type": "code",
   "execution_count": null,
   "metadata": {
    "ExecuteTime": {
     "end_time": "2021-10-24T20:50:35.264612Z",
     "start_time": "2021-10-24T20:49:55.563Z"
    }
   },
   "outputs": [],
   "source": [
    "#model lasso\n",
    "rf = RandomForestClassifier(n_estimators=100, n_jobs=-1, random_state=42).fit(x_train_lasso,y_train_lasso)\n",
    "\n",
    "#prediction\n",
    "yhat_rf_lasso = rf.predict(x_test_lasso)\n",
    "\n",
    "#performance\n",
    "rf_result = ml_error('Random Forest', y_test_lasso, yhat_rf_lasso)\n",
    "rf_result"
   ]
  },
  {
   "cell_type": "code",
   "execution_count": null,
   "metadata": {
    "ExecuteTime": {
     "end_time": "2021-10-24T20:50:35.265611Z",
     "start_time": "2021-10-24T20:49:55.567Z"
    }
   },
   "outputs": [],
   "source": [
    "#model relief\n",
    "rf = RandomForestClassifier(n_estimators=100, n_jobs=-1, random_state=42).fit(x_train_relief,y_train_relief)\n",
    "\n",
    "#prediction\n",
    "yhat_rf_relief = rf.predict(x_test_relief)\n",
    "\n",
    "#performance\n",
    "rf_result = ml_error('Random Forest', y_test_relief, yhat_rf_relief)\n",
    "rf_result"
   ]
  },
  {
   "cell_type": "code",
   "execution_count": null,
   "metadata": {
    "ExecuteTime": {
     "end_time": "2021-10-24T20:50:35.266611Z",
     "start_time": "2021-10-24T20:49:55.571Z"
    }
   },
   "outputs": [],
   "source": [
    "#rf_bg = BaggingClassifier(RandomForestClassifier(), max_samples=0.5, max_features=1.0, n_estimators=100).fit(x_train,y_train)\n",
    "\n",
    "#prediction\n",
    "#yhat_bg = rf_bg.predict(x_test)\n",
    "\n",
    "#performance\n",
    "#bg_result = ml_error('Random Forest Bagging', y_test, yhat_bg)\n",
    "#bg_result\n",
    "#pickle.dump(bg_result, open('bg_result.pkl','+wb'))\n",
    "bg_result_pickle = pickle.load(open('C:/Users/Henrique/repos/Cardio Catch Diseases/bg_result.pkl','rb'))"
   ]
  },
  {
   "cell_type": "code",
   "execution_count": null,
   "metadata": {
    "ExecuteTime": {
     "end_time": "2021-10-24T20:50:35.267610Z",
     "start_time": "2021-10-24T20:49:55.575Z"
    }
   },
   "outputs": [],
   "source": [
    "bg_result_pickle"
   ]
  },
  {
   "cell_type": "code",
   "execution_count": null,
   "metadata": {
    "ExecuteTime": {
     "end_time": "2021-10-24T20:50:35.269609Z",
     "start_time": "2021-10-24T20:49:55.578Z"
    }
   },
   "outputs": [],
   "source": [
    "rf_bg_relief = BaggingClassifier(RandomForestClassifier(), max_samples=0.5, max_features=1.0, n_estimators=100).fit(x_train_relief,y_train_relief)\n",
    "\n",
    "#prediction\n",
    "yhat_rf_bg_relief = rf_bg_relief.predict(x_test_relief)\n",
    "\n",
    "#performance\n",
    "rf_bg_relief_result = ml_error('Random Forest Bagging', y_test_relief, yhat_rf_bg_relief)\n",
    "rf_bg_relief_result\n",
    "pickle.dump(rf_bg_relief_result, open('rf_bg_relief_result.pkl','+wb'))\n",
    "rf_bg_relief_result = pickle.load(open('C:/Users/Henrique/repos/Cardio Catch Diseases/rf_bg_relief_result.pkl','rb'))"
   ]
  },
  {
   "cell_type": "code",
   "execution_count": null,
   "metadata": {
    "ExecuteTime": {
     "end_time": "2021-10-24T20:50:35.270609Z",
     "start_time": "2021-10-24T20:49:55.582Z"
    }
   },
   "outputs": [],
   "source": [
    "rf_bg_relief_result"
   ]
  },
  {
   "cell_type": "markdown",
   "metadata": {},
   "source": [
    "## 7.4. KNN"
   ]
  },
  {
   "cell_type": "code",
   "execution_count": 189,
   "metadata": {
    "ExecuteTime": {
     "end_time": "2021-10-24T22:34:56.000113Z",
     "start_time": "2021-10-24T22:34:53.062661Z"
    }
   },
   "outputs": [
    {
     "data": {
      "text/html": [
       "<div>\n",
       "<style scoped>\n",
       "    .dataframe tbody tr th:only-of-type {\n",
       "        vertical-align: middle;\n",
       "    }\n",
       "\n",
       "    .dataframe tbody tr th {\n",
       "        vertical-align: top;\n",
       "    }\n",
       "\n",
       "    .dataframe thead th {\n",
       "        text-align: right;\n",
       "    }\n",
       "</style>\n",
       "<table border=\"1\" class=\"dataframe\">\n",
       "  <thead>\n",
       "    <tr style=\"text-align: right;\">\n",
       "      <th></th>\n",
       "      <th>Model Name</th>\n",
       "      <th>MAE</th>\n",
       "      <th>MASE</th>\n",
       "      <th>RMSE</th>\n",
       "      <th>Accuracy</th>\n",
       "      <th>Balanced</th>\n",
       "      <th>Kappa</th>\n",
       "    </tr>\n",
       "  </thead>\n",
       "  <tbody>\n",
       "    <tr>\n",
       "      <th>0</th>\n",
       "      <td>K-NN</td>\n",
       "      <td>0.373047</td>\n",
       "      <td>0.90013</td>\n",
       "      <td>0.610776</td>\n",
       "      <td>0.626953</td>\n",
       "      <td>0.622921</td>\n",
       "      <td>0.247767</td>\n",
       "    </tr>\n",
       "  </tbody>\n",
       "</table>\n",
       "</div>"
      ],
      "text/plain": [
       "  Model Name       MAE     MASE      RMSE  Accuracy  Balanced     Kappa\n",
       "0       K-NN  0.373047  0.90013  0.610776  0.626953  0.622921  0.247767"
      ]
     },
     "execution_count": 189,
     "metadata": {},
     "output_type": "execute_result"
    }
   ],
   "source": [
    "#model definition\n",
    "model_knn = KNeighborsClassifier(n_neighbors=2, n_jobs=-1).fit(x_train, y_train)\n",
    "\n",
    "#prediction\n",
    "yhat_knn = model_knn.predict(x_val)\n",
    "\n",
    "#performance\n",
    "knn_result = ml_error('K-NN', y_val, yhat_knn)\n",
    "knn_result"
   ]
  },
  {
   "cell_type": "code",
   "execution_count": null,
   "metadata": {
    "ExecuteTime": {
     "end_time": "2021-10-24T20:50:35.277606Z",
     "start_time": "2021-10-24T20:49:55.590Z"
    }
   },
   "outputs": [],
   "source": [
    "#model df full\n",
    "model_knn = KNeighborsClassifier(n_neighbors=2, n_jobs=-1).fit(x_train_full, y_train_full)\n",
    "\n",
    "#prediction\n",
    "yhat_knn_full = model_knn.predict(x_test_full)\n",
    "\n",
    "#performance\n",
    "knn_result = ml_error('K-NN', y_test_full, yhat_knn_full)\n",
    "knn_result"
   ]
  },
  {
   "cell_type": "code",
   "execution_count": null,
   "metadata": {
    "ExecuteTime": {
     "end_time": "2021-10-24T20:50:35.280614Z",
     "start_time": "2021-10-24T20:49:55.598Z"
    }
   },
   "outputs": [],
   "source": [
    "#model lasso\n",
    "model_knn = KNeighborsClassifier(n_neighbors=2, n_jobs=-1).fit(x_train_lasso, y_train_lasso)\n",
    "\n",
    "#prediction\n",
    "yhat_knn_lasso = model_knn.predict(x_test_lasso)\n",
    "\n",
    "#performance\n",
    "knn_result = ml_error('K-NN', y_test_lasso, yhat_knn_lasso)\n",
    "knn_result"
   ]
  },
  {
   "cell_type": "code",
   "execution_count": null,
   "metadata": {
    "ExecuteTime": {
     "end_time": "2021-10-24T20:50:35.282603Z",
     "start_time": "2021-10-24T20:49:55.601Z"
    }
   },
   "outputs": [],
   "source": [
    "#model relief\n",
    "model_knn = KNeighborsClassifier(n_neighbors=2, n_jobs=-1).fit(x_train_relief, y_train_relief)\n",
    "\n",
    "#prediction\n",
    "yhat_knn_relief = model_knn.predict(x_test_relief)\n",
    "\n",
    "#performance\n",
    "knn_result = ml_error('K-NN', y_test_relief, yhat_knn_relief)\n",
    "knn_result"
   ]
  },
  {
   "cell_type": "code",
   "execution_count": null,
   "metadata": {
    "ExecuteTime": {
     "end_time": "2021-10-24T20:50:35.287599Z",
     "start_time": "2021-10-24T20:49:55.613Z"
    }
   },
   "outputs": [],
   "source": [
    "knn_bg = BaggingClassifier(KNeighborsClassifier(), max_samples=0.5, max_features=1.0, n_estimators=100).fit(x_train,y_train)\n",
    "\n",
    "#prediction\n",
    "yhat_knn_bg = knn_bg.predict(x_test)\n",
    "\n",
    "#performance\n",
    "knn_bg_result = ml_error('KNN Bagging', y_test, yhat_knn_bg)\n",
    "#bg_result\n",
    "pickle.dump(knn_bg_result, open('knn_bg_result.pkl','+wb'))\n",
    "knn_bg_result_pickle = pickle.load(open('C:/Users/Henrique/repos/Cardio Catch Diseases/knn_bg_result.pkl','rb'))"
   ]
  },
  {
   "cell_type": "code",
   "execution_count": null,
   "metadata": {
    "ExecuteTime": {
     "end_time": "2021-10-24T20:50:35.289600Z",
     "start_time": "2021-10-24T20:49:55.616Z"
    }
   },
   "outputs": [],
   "source": [
    "knn_bg_result_pickle"
   ]
  },
  {
   "cell_type": "markdown",
   "metadata": {},
   "source": [
    "## 7.5. Support Vector Machine"
   ]
  },
  {
   "cell_type": "code",
   "execution_count": null,
   "metadata": {
    "ExecuteTime": {
     "end_time": "2021-10-24T20:50:35.291596Z",
     "start_time": "2021-10-24T20:49:55.621Z"
    }
   },
   "outputs": [],
   "source": [
    "#model definition\n",
    "model_svm = SVC(random_state=42).fit(x_train, y_train)\n",
    "\n",
    "#prediction\n",
    "yhat_svm = model_svm.predict(x_test)\n",
    "\n",
    "#performance\n",
    "svm_result = ml_error('SVM', y_test, yhat_svm)\n",
    "svm_result\n",
    "\n",
    "pickle.dump(svm_result, open('svm_result.pkl','+wb'))\n",
    "svm_result_pickle = pickle.load(open('C:/Users/Henrique/repos/Cardio Catch Diseases/svm_result.pkl','rb'))\n",
    "svm_result_pickle"
   ]
  },
  {
   "cell_type": "code",
   "execution_count": null,
   "metadata": {
    "ExecuteTime": {
     "end_time": "2021-10-24T20:50:35.292595Z",
     "start_time": "2021-10-24T20:49:55.625Z"
    }
   },
   "outputs": [],
   "source": [
    "#model df full\n",
    "model_svm = SVC(random_state=42).fit(x_train_full, y_train_full)\n",
    "\n",
    "#prediction\n",
    "yhat_svm_full = model_svm.predict(x_test_full)\n",
    "\n",
    "#performance\n",
    "svm_result_full = ml_error('SVM', y_test_full, yhat_svm_full)\n",
    "svm_result_full\n",
    "\n",
    "pickle.dump(svm_result_full, open('svm_result_full.pkl','+wb'))\n",
    "svm_result_full_pickle = pickle.load(open('C:/Users/Henrique/repos/Cardio Catch Diseases/svm_result_full.pkl','rb'))\n",
    "svm_result_full_pickle"
   ]
  },
  {
   "cell_type": "code",
   "execution_count": null,
   "metadata": {
    "ExecuteTime": {
     "end_time": "2021-10-24T20:50:35.295593Z",
     "start_time": "2021-10-24T20:49:55.632Z"
    }
   },
   "outputs": [],
   "source": [
    "#model lasso\n",
    "model_svm = SVC(random_state=42).fit(x_train_lasso, y_train_lasso)\n",
    "\n",
    "#prediction\n",
    "yhat_svm_lasso = model_svm.predict(x_test_lasso)\n",
    "\n",
    "#performance\n",
    "svm_result_lasso = ml_error('SVM', y_test_lasso, yhat_svm_lasso)\n",
    "svm_result_lasso\n",
    "\n",
    "pickle.dump(svm_result_lasso, open('svm_result_lasso.pkl','+wb'))\n",
    "svm_result_lasso_pickle = pickle.load(open('C:/Users/Henrique/repos/Cardio Catch Diseases/svm_result_lasso.pkl','rb'))\n",
    "svm_result_lasso_pickle"
   ]
  },
  {
   "cell_type": "code",
   "execution_count": null,
   "metadata": {
    "ExecuteTime": {
     "end_time": "2021-10-24T20:50:35.296593Z",
     "start_time": "2021-10-24T20:49:55.636Z"
    }
   },
   "outputs": [],
   "source": [
    "#model relief\n",
    "model_svm = SVC(random_state=42).fit(x_train_relief, y_train_relief)\n",
    "\n",
    "#prediction\n",
    "yhat_svm_relief = model_svm.predict(x_test_relief)\n",
    "\n",
    "#performance\n",
    "svm_result_relief = ml_error('SVM', y_test_relief, yhat_svm_relief)\n",
    "svm_result_relief\n",
    "\n",
    "pickle.dump(svm_result_relief, open('svm_result_relief.pkl','+wb'))\n",
    "svm_result_relief_pickle = pickle.load(open('C:/Users/Henrique/repos/Cardio Catch Diseases/svm_result_relief.pkl','rb'))\n",
    "svm_result_relief_pickle"
   ]
  },
  {
   "cell_type": "markdown",
   "metadata": {},
   "source": [
    "## 7.6. AdaBoost"
   ]
  },
  {
   "cell_type": "code",
   "execution_count": null,
   "metadata": {
    "ExecuteTime": {
     "end_time": "2021-10-24T20:50:35.299590Z",
     "start_time": "2021-10-24T20:49:55.645Z"
    }
   },
   "outputs": [],
   "source": [
    "ab = AdaBoostClassifier(AdaBoostClassifier(), n_estimators=100, learning_rate = 1).fit(x_train,y_train)\n",
    "\n",
    "#prediction\n",
    "yhat_ab = ab.predict(x_test)\n",
    "\n",
    "#performance\n",
    "ab_result = ml_error('Ada Boost', y_test, yhat_ab)\n",
    "ab_result\n",
    "pickle.dump(ab_result, open('ab_result.pkl','+wb'))\n",
    "ab_result_pickle = pickle.load(open('C:/Users/Henrique/repos/Cardio Catch Diseases/ab_result.pkl','rb'))"
   ]
  },
  {
   "cell_type": "code",
   "execution_count": null,
   "metadata": {
    "ExecuteTime": {
     "end_time": "2021-10-24T20:50:35.301589Z",
     "start_time": "2021-10-24T20:49:55.649Z"
    }
   },
   "outputs": [],
   "source": [
    "ab_result_pickle"
   ]
  },
  {
   "cell_type": "markdown",
   "metadata": {},
   "source": [
    "## 7.7. Decision Tree"
   ]
  },
  {
   "cell_type": "code",
   "execution_count": null,
   "metadata": {
    "ExecuteTime": {
     "end_time": "2021-10-24T20:50:35.302590Z",
     "start_time": "2021-10-24T20:49:55.653Z"
    }
   },
   "outputs": [],
   "source": [
    "dt_bg = BaggingClassifier(DecisionTreeClassifier(), max_samples=0.5, max_features=1.0, n_estimators=100).fit(x_train,y_train)\n",
    "\n",
    "#prediction\n",
    "yhat_dt_bg = dt_bg.predict(x_test)\n",
    "\n",
    "#performance\n",
    "dt_bg_result = ml_error('DT Bagging', y_test, yhat_dt_bg)\n",
    "#bg_result\n",
    "pickle.dump(dt_bg_result, open('dt_bg_result.pkl','+wb'))\n",
    "dt_bg_result_pickle = pickle.load(open('C:/Users/Henrique/repos/Cardio Catch Diseases/dt_bg_result.pkl','rb'))"
   ]
  },
  {
   "cell_type": "code",
   "execution_count": null,
   "metadata": {
    "ExecuteTime": {
     "end_time": "2021-10-24T20:50:35.303589Z",
     "start_time": "2021-10-24T20:49:55.657Z"
    }
   },
   "outputs": [],
   "source": [
    "dt_bg_result_pickle"
   ]
  },
  {
   "cell_type": "code",
   "execution_count": null,
   "metadata": {
    "ExecuteTime": {
     "end_time": "2021-10-24T20:50:35.305587Z",
     "start_time": "2021-10-24T20:49:55.660Z"
    }
   },
   "outputs": [],
   "source": [
    "dt_bg_relief = BaggingClassifier(DecisionTreeClassifier(), max_samples=0.5, max_features=1.0, n_estimators=100).fit(x_train_relief,y_train_relief)\n",
    "\n",
    "#prediction\n",
    "yhat_dt_bg_relief = dt_bg_relief.predict(x_test_relief)\n",
    "\n",
    "#performance\n",
    "dt_bg_relief_result = ml_error('DT Bagging', y_test_relief, yhat_dt_bg_relief)\n",
    "#bg_result\n",
    "pickle.dump(dt_bg_relief_result, open('dt_bg_relief_result.pkl','+wb'))\n",
    "dt_bg_relief_result = pickle.load(open('C:/Users/Henrique/repos/Cardio Catch Diseases/dt_bg_relief_result.pkl','rb'))"
   ]
  },
  {
   "cell_type": "code",
   "execution_count": null,
   "metadata": {
    "ExecuteTime": {
     "end_time": "2021-10-24T20:50:35.306586Z",
     "start_time": "2021-10-24T20:49:55.664Z"
    }
   },
   "outputs": [],
   "source": [
    "dt_bg_relief_result"
   ]
  },
  {
   "cell_type": "markdown",
   "metadata": {},
   "source": [
    "## 6.4. XGBoost"
   ]
  },
  {
   "cell_type": "code",
   "execution_count": null,
   "metadata": {
    "ExecuteTime": {
     "end_time": "2021-10-24T20:50:35.307585Z",
     "start_time": "2021-10-24T20:49:55.668Z"
    }
   },
   "outputs": [],
   "source": [
    "#model\n",
    "model_xgb = xgb.XGBRegressor(objective = 'reg:squarederror',\n",
    "                            n_estimators=100,\n",
    "                            eta=0.01,\n",
    "                            max_depth=10,\n",
    "                            subsample=0.7,\n",
    "                            colsample_bytee=0.9).fit(x_train,y_train)\n",
    "\n",
    "#prediction\n",
    "yhat_xgb = model_xgb.predict(x_test)\n",
    "\n",
    "#performance\n",
    "xgb_result = ml_error('XGBoost Regressor', np.expm1(y_test), np.expm1(yhat_xgb))\n",
    "xgb_result"
   ]
  },
  {
   "cell_type": "code",
   "execution_count": null,
   "metadata": {
    "ExecuteTime": {
     "end_time": "2021-10-24T20:50:35.310584Z",
     "start_time": "2021-10-24T20:49:55.672Z"
    }
   },
   "outputs": [],
   "source": [
    "x_val.shape"
   ]
  },
  {
   "cell_type": "code",
   "execution_count": null,
   "metadata": {
    "ExecuteTime": {
     "end_time": "2021-10-24T20:50:35.312582Z",
     "start_time": "2021-10-24T20:49:55.676Z"
    }
   },
   "outputs": [],
   "source": [
    "#model definition\n",
    "model = ml.Sequential()\n",
    "model.add(l.Dense(11, input_dim=x_train.shape[1], activation='relu'))\n",
    "model.add(l.Dense(1, activation='softmax'))\n",
    "\n",
    "#model compile\n",
    "model.compile(loss='categorical_crossentropy', optimizer='adam', metrics=['accuracy'])\n",
    "\n",
    "#train model\n",
    "es = EarlyStopping(monitor='val_loss', patience=10)\n",
    "history = model.fit(x_train, y_train, validation_data=(x_val, y_val), epochs=10000, callbacks=[es], verbose=1)"
   ]
  },
  {
   "cell_type": "markdown",
   "metadata": {},
   "source": [
    "# 8.0. Cross Validation"
   ]
  },
  {
   "cell_type": "code",
   "execution_count": 208,
   "metadata": {
    "ExecuteTime": {
     "end_time": "2021-10-25T00:16:34.029713Z",
     "start_time": "2021-10-25T00:16:34.018719Z"
    }
   },
   "outputs": [],
   "source": [
    "models_performance_cv = pd.DataFrame({'Model':[], \"Balanced\": [], \"Kappa\": [], \"Weighted_f1_score\": []})"
   ]
  },
  {
   "cell_type": "code",
   "execution_count": 209,
   "metadata": {
    "ExecuteTime": {
     "end_time": "2021-10-25T00:16:45.878152Z",
     "start_time": "2021-10-25T00:16:34.668815Z"
    }
   },
   "outputs": [
    {
     "name": "stdout",
     "output_type": "stream",
     "text": [
      "Fold Number: 1/5\n"
     ]
    },
    {
     "name": "stderr",
     "output_type": "stream",
     "text": [
      "C:\\Users\\Henrique\\anaconda3\\lib\\site-packages\\pandas\\core\\indexing.py:723: SettingWithCopyWarning: \n",
      "A value is trying to be set on a copy of a slice from a DataFrame\n",
      "\n",
      "See the caveats in the documentation: https://pandas.pydata.org/pandas-docs/stable/user_guide/indexing.html#returning-a-view-versus-a-copy\n",
      "  iloc._setitem_with_indexer(indexer, value, self.name)\n"
     ]
    },
    {
     "name": "stdout",
     "output_type": "stream",
     "text": [
      "Fold Number: 2/5\n"
     ]
    },
    {
     "name": "stderr",
     "output_type": "stream",
     "text": [
      "C:\\Users\\Henrique\\anaconda3\\lib\\site-packages\\pandas\\core\\indexing.py:723: SettingWithCopyWarning: \n",
      "A value is trying to be set on a copy of a slice from a DataFrame\n",
      "\n",
      "See the caveats in the documentation: https://pandas.pydata.org/pandas-docs/stable/user_guide/indexing.html#returning-a-view-versus-a-copy\n",
      "  iloc._setitem_with_indexer(indexer, value, self.name)\n"
     ]
    },
    {
     "name": "stdout",
     "output_type": "stream",
     "text": [
      "Fold Number: 3/5\n"
     ]
    },
    {
     "name": "stderr",
     "output_type": "stream",
     "text": [
      "C:\\Users\\Henrique\\anaconda3\\lib\\site-packages\\pandas\\core\\indexing.py:723: SettingWithCopyWarning: \n",
      "A value is trying to be set on a copy of a slice from a DataFrame\n",
      "\n",
      "See the caveats in the documentation: https://pandas.pydata.org/pandas-docs/stable/user_guide/indexing.html#returning-a-view-versus-a-copy\n",
      "  iloc._setitem_with_indexer(indexer, value, self.name)\n"
     ]
    },
    {
     "name": "stdout",
     "output_type": "stream",
     "text": [
      "Fold Number: 4/5\n"
     ]
    },
    {
     "name": "stderr",
     "output_type": "stream",
     "text": [
      "C:\\Users\\Henrique\\anaconda3\\lib\\site-packages\\pandas\\core\\indexing.py:723: SettingWithCopyWarning: \n",
      "A value is trying to be set on a copy of a slice from a DataFrame\n",
      "\n",
      "See the caveats in the documentation: https://pandas.pydata.org/pandas-docs/stable/user_guide/indexing.html#returning-a-view-versus-a-copy\n",
      "  iloc._setitem_with_indexer(indexer, value, self.name)\n"
     ]
    },
    {
     "name": "stdout",
     "output_type": "stream",
     "text": [
      "Fold Number: 5/5\n",
      "0.6226 +/- 0.0029\n",
      "0.2463 +/- 0.0059\n",
      "0.6097 +/- 0.0036\n"
     ]
    },
    {
     "name": "stderr",
     "output_type": "stream",
     "text": [
      "C:\\Users\\Henrique\\anaconda3\\lib\\site-packages\\pandas\\core\\indexing.py:723: SettingWithCopyWarning: \n",
      "A value is trying to be set on a copy of a slice from a DataFrame\n",
      "\n",
      "See the caveats in the documentation: https://pandas.pydata.org/pandas-docs/stable/user_guide/indexing.html#returning-a-view-versus-a-copy\n",
      "  iloc._setitem_with_indexer(indexer, value, self.name)\n"
     ]
    }
   ],
   "source": [
    "models_performance_cv = cross_validation(models_performance_cv, 5, 'Logist Regression', model_knn, x_train, y_train)"
   ]
  },
  {
   "cell_type": "code",
   "execution_count": null,
   "metadata": {
    "ExecuteTime": {
     "end_time": "2021-10-24T20:50:35.298591Z",
     "start_time": "2021-10-24T20:49:55.640Z"
    }
   },
   "outputs": [],
   "source": [
    "pickle.dump(balanced_acc_list, open('balanced_acc_list_svm.pkl','+wb'))\n",
    "balanced_acc_list_svm = pickle.load(open('C:/Users/Henrique/repos/Cardio Catch Diseases/balanced_acc_list_svm.pkl','rb'))\n",
    "\n",
    "pickle.dump(weighted_f1_score_list, open('weighted_f1_score_list_svm.pkl','+wb'))\n",
    "weighted_f1_score_list_svm = pickle.load(open('C:/Users/Henrique/repos/Cardio Catch Diseases/weighted_f1_score_list_svm.pkl','rb'))\n",
    "\n",
    "pickle.dump(kappa_list, open('kappa_list_svm.pkl','+wb'))\n",
    "kappa_list_svm = pickle.load(open('C:/Users/Henrique/repos/Cardio Catch Diseases/kappa_list_svm.pkl','rb'))"
   ]
  }
 ],
 "metadata": {
  "kernelspec": {
   "display_name": "Python 3",
   "language": "python",
   "name": "python3"
  },
  "language_info": {
   "codemirror_mode": {
    "name": "ipython",
    "version": 3
   },
   "file_extension": ".py",
   "mimetype": "text/x-python",
   "name": "python",
   "nbconvert_exporter": "python",
   "pygments_lexer": "ipython3",
   "version": "3.8.5"
  }
 },
 "nbformat": 4,
 "nbformat_minor": 4
}
