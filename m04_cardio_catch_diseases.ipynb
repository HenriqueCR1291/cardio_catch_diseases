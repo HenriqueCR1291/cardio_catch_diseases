{
 "cells": [
  {
   "cell_type": "markdown",
   "metadata": {},
   "source": [
    "# 0.0 Initial"
   ]
  },
  {
   "cell_type": "markdown",
   "metadata": {},
   "source": [
    "## 0.1. Import"
   ]
  },
  {
   "cell_type": "code",
   "execution_count": null,
   "metadata": {
    "ExecuteTime": {
     "start_time": "2021-07-09T00:39:09.132Z"
    }
   },
   "outputs": [],
   "source": [
    "!pip uninstall pandas"
   ]
  },
  {
   "cell_type": "code",
   "execution_count": null,
   "metadata": {
    "ExecuteTime": {
     "start_time": "2021-07-09T00:39:11.385Z"
    }
   },
   "outputs": [],
   "source": [
    "!pip install --upgrade pandas"
   ]
  },
  {
   "cell_type": "code",
   "execution_count": null,
   "metadata": {
    "ExecuteTime": {
     "start_time": "2021-07-09T00:39:12.092Z"
    }
   },
   "outputs": [],
   "source": [
    "import pandas            as pd\n",
    "import numpy             as np\n",
    "import seaborn           as sns\n",
    "import matplotlib.pyplot as plt\n",
    "import xgboost           as xgb\n",
    "\n",
    "from sklearn    import decomposition   as d\n",
    "from matplotlib import pyplot          as plt\n",
    "from sklearn    import model_selection as ms\n",
    "from keras      import models          as ml\n",
    "from keras      import layers          as l\n",
    "\n",
    "from boruta                import BorutaPy\n",
    "from keras.callbacks       import EarlyStopping\n",
    "from sklearn.ensemble      import RandomForestRegressor\n",
    "from sklearn.linear_model  import LinearRegression,Lasso\n",
    "from numpy                 import asarray\n",
    "from sklearn.preprocessing import StandardScaler\n",
    "from sklearn.preprocessing import MinMaxScaler\n",
    "from IPython.display       import Image"
   ]
  },
  {
   "cell_type": "markdown",
   "metadata": {},
   "source": [
    "## 0.2. Helper Functions"
   ]
  },
  {
   "cell_type": "code",
   "execution_count": null,
   "metadata": {
    "ExecuteTime": {
     "end_time": "2021-07-09T00:24:57.798438Z",
     "start_time": "2021-07-09T00:24:57.768Z"
    }
   },
   "outputs": [],
   "source": [
    "def bmi (height, weight):\n",
    "    bmi = weight/((height/100)**2)\n",
    "    return bmi\n",
    "\n",
    "def mean_absolute_error (y,yhat):\n",
    "    return np.mean(np.abs(y-yhat))\n",
    "\n",
    "def mean_absolute_percentage_error (y,yhat):\n",
    "    return np.mean(np.abs(y-yhat)/y)\n",
    "\n",
    "def mean_squared_error (y,yhat):\n",
    "    return np.mean(pow((yhat-y),2))\n",
    "\n",
    "def ml_error (model_name, y, yhat):\n",
    "    mae = mean_absolute_error(y,yhat)\n",
    "    mape = mean_absolute_percentage_error(y,yhat)\n",
    "    rmse = np.sqrt(mean_squared_error(y,yhat))\n",
    "    \n",
    "    return pd.DataFrame({'Model Name': model_name,\n",
    "                        'MAE': mae,\n",
    "                        'MAPE': mape,\n",
    "                        'RMSE': rmse}, index=[0])\n",
    "\n",
    "def perc (x):\n",
    "    #calculate % people who had CVD\n",
    "    x['%_cardio_1'] = \"\"\n",
    "    j = len(x)\n",
    "    for i in range(len(x)):\n",
    "        i=i+1\n",
    "        if i < j:\n",
    "            p = ((x['total'][i])/(x['total'][i-1]+x['total'][i]))*100\n",
    "            x['%_cardio_1'][i] = p\n",
    "        else:\n",
    "            exit"
   ]
  },
  {
   "cell_type": "markdown",
   "metadata": {
    "ExecuteTime": {
     "end_time": "2021-05-30T23:09:06.865182Z",
     "start_time": "2021-05-30T23:09:06.795118Z"
    }
   },
   "source": [
    "## 0.3. Loading Data"
   ]
  },
  {
   "cell_type": "code",
   "execution_count": null,
   "metadata": {
    "ExecuteTime": {
     "end_time": "2021-07-09T00:24:57.799437Z",
     "start_time": "2021-07-09T00:24:57.774Z"
    }
   },
   "outputs": [],
   "source": [
    "df_raw = pd.read_csv('cardio_train.csv', low_memory=False)"
   ]
  },
  {
   "cell_type": "code",
   "execution_count": null,
   "metadata": {
    "ExecuteTime": {
     "end_time": "2021-07-09T00:24:57.801434Z",
     "start_time": "2021-07-09T00:24:57.778Z"
    }
   },
   "outputs": [],
   "source": [
    "df_raw"
   ]
  },
  {
   "cell_type": "markdown",
   "metadata": {},
   "source": [
    "# 1.0. Data Description"
   ]
  },
  {
   "cell_type": "code",
   "execution_count": null,
   "metadata": {
    "ExecuteTime": {
     "end_time": "2021-07-09T00:24:57.802433Z",
     "start_time": "2021-07-09T00:24:57.782Z"
    }
   },
   "outputs": [],
   "source": [
    "df1 = df_raw.copy()"
   ]
  },
  {
   "cell_type": "markdown",
   "metadata": {},
   "source": [
    "## 1.1. Data Dimensions"
   ]
  },
  {
   "cell_type": "code",
   "execution_count": null,
   "metadata": {
    "ExecuteTime": {
     "end_time": "2021-07-09T00:24:57.803432Z",
     "start_time": "2021-07-09T00:24:57.786Z"
    }
   },
   "outputs": [],
   "source": [
    "print('Number of columns:', format(df1.shape[1]))\n",
    "print('Number of rows:', format(df1.shape[0]))"
   ]
  },
  {
   "cell_type": "markdown",
   "metadata": {
    "ExecuteTime": {
     "end_time": "2021-05-31T00:21:53.295619Z",
     "start_time": "2021-05-31T00:21:53.279628Z"
    }
   },
   "source": [
    "## 1.2. Data Types"
   ]
  },
  {
   "cell_type": "code",
   "execution_count": null,
   "metadata": {
    "ExecuteTime": {
     "end_time": "2021-07-09T00:24:57.804431Z",
     "start_time": "2021-07-09T00:24:57.790Z"
    }
   },
   "outputs": [],
   "source": [
    "df1.dtypes"
   ]
  },
  {
   "cell_type": "markdown",
   "metadata": {},
   "source": [
    "## 1.3. Check NA"
   ]
  },
  {
   "cell_type": "code",
   "execution_count": null,
   "metadata": {
    "ExecuteTime": {
     "end_time": "2021-07-09T00:24:57.806431Z",
     "start_time": "2021-07-09T00:24:57.794Z"
    }
   },
   "outputs": [],
   "source": [
    "df1.isna().sum()"
   ]
  },
  {
   "cell_type": "markdown",
   "metadata": {},
   "source": [
    "## 1.4. Unit change"
   ]
  },
  {
   "cell_type": "code",
   "execution_count": 4,
   "metadata": {
    "ExecuteTime": {
     "end_time": "2021-07-09T00:24:57.923360Z",
     "start_time": "2021-07-09T00:24:57.901373Z"
    }
   },
   "outputs": [
    {
     "ename": "NameError",
     "evalue": "name 'df1' is not defined",
     "output_type": "error",
     "traceback": [
      "\u001b[1;31m---------------------------------------------------------------------------\u001b[0m",
      "\u001b[1;31mNameError\u001b[0m                                 Traceback (most recent call last)",
      "\u001b[1;32m<ipython-input-4-7e09966fc051>\u001b[0m in \u001b[0;36m<module>\u001b[1;34m\u001b[0m\n\u001b[0;32m      1\u001b[0m \u001b[1;31m#age (int)\u001b[0m\u001b[1;33m\u001b[0m\u001b[1;33m\u001b[0m\u001b[1;33m\u001b[0m\u001b[0m\n\u001b[1;32m----> 2\u001b[1;33m \u001b[0mdf1\u001b[0m\u001b[1;33m[\u001b[0m\u001b[1;34m'age'\u001b[0m\u001b[1;33m]\u001b[0m \u001b[1;33m=\u001b[0m \u001b[1;33m(\u001b[0m\u001b[0mdf1\u001b[0m\u001b[1;33m[\u001b[0m\u001b[1;34m'age'\u001b[0m\u001b[1;33m]\u001b[0m\u001b[1;33m/\u001b[0m\u001b[1;36m365\u001b[0m\u001b[1;33m)\u001b[0m\u001b[1;33m.\u001b[0m\u001b[0mastype\u001b[0m\u001b[1;33m(\u001b[0m\u001b[0mint\u001b[0m\u001b[1;33m)\u001b[0m\u001b[1;33m\u001b[0m\u001b[1;33m\u001b[0m\u001b[0m\n\u001b[0m\u001b[0;32m      3\u001b[0m \u001b[1;33m\u001b[0m\u001b[0m\n\u001b[0;32m      4\u001b[0m \u001b[1;31m#weight (int)\u001b[0m\u001b[1;33m\u001b[0m\u001b[1;33m\u001b[0m\u001b[1;33m\u001b[0m\u001b[0m\n\u001b[0;32m      5\u001b[0m \u001b[0mdf1\u001b[0m\u001b[1;33m[\u001b[0m\u001b[1;34m'weight'\u001b[0m\u001b[1;33m]\u001b[0m \u001b[1;33m=\u001b[0m \u001b[0mdf1\u001b[0m\u001b[1;33m[\u001b[0m\u001b[1;34m'weight'\u001b[0m\u001b[1;33m]\u001b[0m\u001b[1;33m.\u001b[0m\u001b[0mastype\u001b[0m\u001b[1;33m(\u001b[0m\u001b[0mint\u001b[0m\u001b[1;33m)\u001b[0m\u001b[1;33m\u001b[0m\u001b[1;33m\u001b[0m\u001b[0m\n",
      "\u001b[1;31mNameError\u001b[0m: name 'df1' is not defined"
     ]
    }
   ],
   "source": [
    "#age (int)\n",
    "df1['age'] = (df1['age']/365).astype(int)\n",
    "\n",
    "#weight (int)\n",
    "df1['weight'] = df1['weight'].astype(int)\n",
    "\n",
    "df1.dtypes"
   ]
  },
  {
   "cell_type": "markdown",
   "metadata": {},
   "source": [
    "## 1.5. Descriptive Statiscal"
   ]
  },
  {
   "cell_type": "code",
   "execution_count": null,
   "metadata": {
    "ExecuteTime": {
     "end_time": "2021-07-09T00:24:57.925358Z",
     "start_time": "2021-07-09T00:24:57.803Z"
    }
   },
   "outputs": [],
   "source": [
    "#central tendency - mean, median\n",
    "ct1 = pd.DataFrame(df1.apply(np.mean)).T\n",
    "ct2 = pd.DataFrame(df1.apply(np.median)).T\n",
    "\n",
    "#Dispersion - std, min, max, range, skew, kurtosis\n",
    "d1 = pd.DataFrame(df1.apply(min)).T\n",
    "d2 = pd.DataFrame(df1.apply(max)).T\n",
    "d3 = pd.DataFrame(df1.apply(lambda x: x.max() - x.min())).T\n",
    "d4 = pd.DataFrame(df1.apply(np.std)).T\n",
    "d5 = pd.DataFrame(df1.apply(lambda x: x.skew())).T\n",
    "d6 = pd.DataFrame(df1.apply(lambda x: x.kurtosis())).T\n",
    "\n",
    "#concatenate\n",
    "m = pd.concat([d1,d2,d3,ct1,ct2,d4,d5,d6]).T.reset_index()\n",
    "m.columns = ['attributes','min','max','range','mean','median','std','skew','kurtosis']\n",
    "m"
   ]
  },
  {
   "cell_type": "markdown",
   "metadata": {},
   "source": [
    "# 2.0. Feature Engineering"
   ]
  },
  {
   "cell_type": "code",
   "execution_count": null,
   "metadata": {
    "ExecuteTime": {
     "end_time": "2021-07-09T00:24:57.926358Z",
     "start_time": "2021-07-09T00:24:57.808Z"
    }
   },
   "outputs": [],
   "source": [
    "df2 = df1.copy()"
   ]
  },
  {
   "cell_type": "markdown",
   "metadata": {},
   "source": [
    "**Identification**\n",
    "\n",
    "Age | Objective Feature | age | int (days)\n",
    "\n",
    "Height | Objective Feature | height | int (cm) |\n",
    "\n",
    "Weight | Objective Feature | weight | float (kg) |\n",
    "\n",
    "Gender | Objective Feature | gender | categorical code | 1 - women | 2 - men\n",
    "\n"
   ]
  },
  {
   "cell_type": "markdown",
   "metadata": {
    "ExecuteTime": {
     "end_time": "2021-06-01T23:29:30.496374Z",
     "start_time": "2021-06-01T23:29:30.481384Z"
    }
   },
   "source": [
    "**Review of Systems**\n",
    "\n",
    "Systolic blood pressure | Examination Feature | ap_hi | int |\n",
    "\n",
    "Diastolic blood pressure | Examination Feature | ap_lo | int |\n",
    "\n",
    "Cholesterol | Examination Feature | cholesterol | 1: normal, 2: above normal, 3: well above normal |\n",
    "\n",
    "Glucose | Examination Feature | gluc | 1: normal, 2: above normal, 3: well above normal |"
   ]
  },
  {
   "cell_type": "markdown",
   "metadata": {},
   "source": [
    "**Habits**\n",
    "\n",
    "Smoking | Subjective Feature | smoke | binary |\n",
    "\n",
    "Alcohol intake | Subjective Feature | alco | binary |\n",
    "\n",
    "Physical activity | Subjective Feature | active | binary |"
   ]
  },
  {
   "cell_type": "markdown",
   "metadata": {
    "ExecuteTime": {
     "end_time": "2021-06-04T01:32:11.575612Z",
     "start_time": "2021-06-04T01:32:10.854051Z"
    }
   },
   "source": [
    "**Target Variable**\n",
    "\n",
    "Presence or absence of cardiovascular disease | Target Variable | cardio | binary |"
   ]
  },
  {
   "cell_type": "markdown",
   "metadata": {
    "heading_collapsed": true
   },
   "source": [
    "## 2.1 Mind Map Hypothesis"
   ]
  },
  {
   "cell_type": "code",
   "execution_count": null,
   "metadata": {
    "ExecuteTime": {
     "end_time": "2021-07-09T00:24:57.928355Z",
     "start_time": "2021-07-09T00:24:57.815Z"
    },
    "hidden": true
   },
   "outputs": [],
   "source": [
    "Image('CCD.png')"
   ]
  },
  {
   "cell_type": "markdown",
   "metadata": {},
   "source": [
    "## 2.2 Hypothesis Creation"
   ]
  },
  {
   "cell_type": "markdown",
   "metadata": {
    "heading_collapsed": true
   },
   "source": [
    "### 2.1.1 Identification Hypothesis"
   ]
  },
  {
   "cell_type": "markdown",
   "metadata": {
    "hidden": true
   },
   "source": [
    "**1.** People over 50 are 20% more likely to have CVDs\n",
    "\n",
    "**2.** People shorter than 170 cm (5'7'') have a 5% chance of CVDs\n",
    "\n",
    "**3.** Men are 30% more likely than women to develop a CVD\n",
    "\n",
    "**4.** People over 100 kg (220 lb) have a 40% chance of having a CVD\n",
    "\n",
    "**5.** People with a BMI above 30 (obese class I) have a 25% chance of having a CVD"
   ]
  },
  {
   "cell_type": "markdown",
   "metadata": {
    "heading_collapsed": true
   },
   "source": [
    "### 2.1.2 Habits Hypothesis"
   ]
  },
  {
   "cell_type": "markdown",
   "metadata": {
    "hidden": true
   },
   "source": [
    "**1.** People who do not engage in physical activity are 40% more likely to have CDCs\n",
    "\n",
    "**2.** People who regularly consume alcohol have a 10% chance of having CVD\n",
    "\n",
    "**3.** People who smoke are 20% more likely to have CVD"
   ]
  },
  {
   "cell_type": "markdown",
   "metadata": {
    "heading_collapsed": true
   },
   "source": [
    "### 2.1.3 Exams Hypothesis"
   ]
  },
  {
   "cell_type": "markdown",
   "metadata": {
    "hidden": true
   },
   "source": [
    "**1.** People who have well above normal cholesterol have a 50% chance of having CVD\n",
    "\n",
    "**2.** People who have well above normal glucose have a 20% chance of having CVD\n",
    "\n",
    "**3.** People who have high diastolic blood pressure have a 40% chance of having CVD\n",
    "\n",
    "**4.** People who have high systolic blood pressure have a 40% chance of having CVD"
   ]
  },
  {
   "cell_type": "markdown",
   "metadata": {
    "heading_collapsed": true
   },
   "source": [
    "## 2.3. Final Hypothesis"
   ]
  },
  {
   "cell_type": "markdown",
   "metadata": {
    "ExecuteTime": {
     "end_time": "2021-06-04T22:44:31.407847Z",
     "start_time": "2021-06-04T22:44:31.276834Z"
    },
    "hidden": true
   },
   "source": [
    "**1.** People over 50 are 20% more likely to have CVDs\n",
    "\n",
    "**2.** People shorter than 170 cm (5'7'') have a 5% chance of CVDs\n",
    "\n",
    "**3.** Men are 30% more likely than women to develop a CVD\n",
    "\n",
    "**4.** People over 100 kg (220 lb) have a 40% chance of having a CVD\n",
    "\n",
    "**5.** People with a BMI above 30 (obese class I) have a 25% chance of having a CVD\n",
    "\n",
    "**6.** People who do not engage in physical activity are 40% more likely to have CVDs\n",
    "\n",
    "**7.** People who regularly consume alcohol have a 10% chance of having CVD\n",
    "\n",
    "**8.** People who smoke are 20% more likely to have CVD\n",
    "\n",
    "**9.** People who have well above normal cholesterol have a 50% chance of having CVD\n",
    "\n",
    "**10.** People who have well above normal glucose have a 20% chance of having CVD\n",
    "\n",
    "**11.** People who have high blood pressure have a 40% chance of having CVD"
   ]
  },
  {
   "cell_type": "markdown",
   "metadata": {},
   "source": [
    "## 2.4. Feature Engineering"
   ]
  },
  {
   "cell_type": "code",
   "execution_count": null,
   "metadata": {
    "ExecuteTime": {
     "end_time": "2021-07-09T00:24:57.929354Z",
     "start_time": "2021-07-09T00:24:57.828Z"
    }
   },
   "outputs": [],
   "source": [
    "#BMI\n",
    "df2['bmi'] = bmi(df2['height'], df2['weight'])"
   ]
  },
  {
   "cell_type": "code",
   "execution_count": null,
   "metadata": {
    "ExecuteTime": {
     "end_time": "2021-07-09T00:24:57.930355Z",
     "start_time": "2021-07-09T00:24:57.831Z"
    }
   },
   "outputs": [],
   "source": [
    "#blood pressure classification\n",
    "df2['blood_pressure'] = ''\n",
    "\n",
    "df2['blood_pressure'] = df2.apply(lambda x: '0' if (x['ap_hi'] > 0 and x['ap_hi'] < 120) and (x['ap_lo'] > 0 and x['ap_lo'] < 80) else '' \n",
    "                                  '1' if (x['ap_hi'] >= 120 and x['ap_hi'] <= 129) and (x['ap_lo'] < 80) else ''\n",
    "                                  '2' if (x['ap_hi'] >= 130 and x['ap_hi'] <= 139) or (x['ap_lo'] >= 80 and x['ap_lo'] <= 89) else ''\n",
    "                                  '3' if (x['ap_hi'] >= 140 and x['ap_hi'] <= 179) or (x['ap_lo'] >= 90 and x['ap_lo'] <= 119) else ''\n",
    "                                  '4' if x['ap_hi'] >= 180 or x['ap_lo'] >= 120 else '', axis=1)\n",
    "\n",
    "df2['blood_pressure'] = pd.to_numeric(df2['blood_pressure'],errors = 'coerce')"
   ]
  },
  {
   "cell_type": "code",
   "execution_count": null,
   "metadata": {
    "ExecuteTime": {
     "end_time": "2021-07-03T14:25:53.318774Z",
     "start_time": "2021-07-03T14:25:52.979732Z"
    }
   },
   "outputs": [],
   "source": []
  },
  {
   "cell_type": "markdown",
   "metadata": {},
   "source": [
    "# 3.0. Data Filtering"
   ]
  },
  {
   "cell_type": "code",
   "execution_count": null,
   "metadata": {
    "ExecuteTime": {
     "end_time": "2021-07-09T00:24:57.932353Z",
     "start_time": "2021-07-09T00:24:57.838Z"
    }
   },
   "outputs": [],
   "source": [
    "df3 = df2.copy()"
   ]
  },
  {
   "cell_type": "code",
   "execution_count": null,
   "metadata": {
    "ExecuteTime": {
     "end_time": "2021-07-09T00:24:57.933351Z",
     "start_time": "2021-07-09T00:24:57.841Z"
    }
   },
   "outputs": [],
   "source": [
    "#blood pressure\n",
    "df3 = df3[~df3['blood_pressure'].isna()]\n",
    "\n",
    "#height\n",
    "df3 = df3[(df3['height'] >= 140) & (df3['height'] <= 200)]\n",
    "\n",
    "#weight\n",
    "df3 = df3[(df3['weight'] >= 50) & (df3['weight'] <= 150)]\n",
    "\n",
    "#ap_hi\n",
    "df3 = df3[(df3['ap_hi'] >= 0) & (df3['ap_hi'] <= 250)]\n",
    "\n",
    "#ap_lo\n",
    "df3 = df3[(df3['ap_lo'] >= 0) & (df3['ap_lo'] <= 250)]"
   ]
  },
  {
   "cell_type": "code",
   "execution_count": null,
   "metadata": {
    "ExecuteTime": {
     "end_time": "2021-07-09T00:24:57.934352Z",
     "start_time": "2021-07-09T00:24:57.844Z"
    }
   },
   "outputs": [],
   "source": [
    "#central tendency - mean, median\n",
    "ct1 = pd.DataFrame(df3.apply(np.mean)).T\n",
    "ct2 = pd.DataFrame(df3.apply(np.median)).T\n",
    "\n",
    "#Dispersion - std, min, max, range, skew, kurtosis\n",
    "d1 = pd.DataFrame(df3.apply(min)).T\n",
    "d2 = pd.DataFrame(df3.apply(max)).T\n",
    "d3 = pd.DataFrame(df3.apply(lambda x: x.max() - x.min())).T\n",
    "d4 = pd.DataFrame(df3.apply(np.std)).T\n",
    "d5 = pd.DataFrame(df3.apply(lambda x: x.skew())).T\n",
    "d6 = pd.DataFrame(df3.apply(lambda x: x.kurtosis())).T\n",
    "d7 = pd.DataFrame(df3.apply(lambda x: len(x))).T\n",
    "\n",
    "#concatenate\n",
    "m = pd.concat([d1,d2,d3,ct1,ct2,d4,d5,d6,d7]).T.reset_index()\n",
    "m.columns = ['attributes','min','max','range','mean','median','std','skew','kurtosis','total']\n",
    "m"
   ]
  },
  {
   "cell_type": "markdown",
   "metadata": {},
   "source": [
    "# 4.0. Exploratory Data Analysis"
   ]
  },
  {
   "cell_type": "code",
   "execution_count": null,
   "metadata": {
    "ExecuteTime": {
     "end_time": "2021-07-09T00:24:57.937349Z",
     "start_time": "2021-07-09T00:24:57.848Z"
    }
   },
   "outputs": [],
   "source": [
    "df4 = df3.copy()"
   ]
  },
  {
   "cell_type": "markdown",
   "metadata": {},
   "source": [
    "## 4.1 Univariate Analysis"
   ]
  },
  {
   "cell_type": "markdown",
   "metadata": {},
   "source": [
    "### 4.1.1 Response variable"
   ]
  },
  {
   "cell_type": "code",
   "execution_count": null,
   "metadata": {
    "ExecuteTime": {
     "end_time": "2021-07-09T00:24:57.938349Z",
     "start_time": "2021-07-09T00:24:57.852Z"
    }
   },
   "outputs": [],
   "source": [
    "#sns.displot(df4['cardio'], kde=True)"
   ]
  },
  {
   "cell_type": "markdown",
   "metadata": {
    "heading_collapsed": true
   },
   "source": [
    "### 4.1.2 Numeric variable"
   ]
  },
  {
   "cell_type": "code",
   "execution_count": null,
   "metadata": {
    "ExecuteTime": {
     "end_time": "2021-07-09T00:24:57.939348Z",
     "start_time": "2021-07-09T00:24:57.856Z"
    },
    "hidden": true
   },
   "outputs": [],
   "source": [
    "df42 = df4.drop('id', axis=1)\n",
    "df42.hist(figsize=(24,12), bins=50);"
   ]
  },
  {
   "cell_type": "markdown",
   "metadata": {},
   "source": [
    "## 4.2. Bivariate Analysis"
   ]
  },
  {
   "cell_type": "markdown",
   "metadata": {},
   "source": [
    "**1. Between 39 - 64. People over 50 are on average 20% more likely to have CVD**\n",
    "\n",
    "**TRUE** On average people over 50 are 21% more likely to have CVD. And 63 years old has the highest incidence."
   ]
  },
  {
   "cell_type": "code",
   "execution_count": null,
   "metadata": {
    "ExecuteTime": {
     "end_time": "2021-07-09T00:24:57.940348Z",
     "start_time": "2021-07-09T00:24:57.861Z"
    }
   },
   "outputs": [],
   "source": [
    "aux1 = df4[['age', 'cardio']].groupby('age').sum().reset_index().rename(columns={0:'total'})\n",
    "\n",
    "fig_dims = (15, 7)\n",
    "fig, ax = plt.subplots(figsize=fig_dims)\n",
    "sns.barplot(x='age', y='cardio', ax=ax, data=aux1)"
   ]
  },
  {
   "cell_type": "code",
   "execution_count": null,
   "metadata": {
    "ExecuteTime": {
     "end_time": "2021-07-09T00:24:57.941348Z",
     "start_time": "2021-07-09T00:24:57.864Z"
    }
   },
   "outputs": [],
   "source": [
    "aux1 = df4[(df4['age'] >= 39) & (df4['cardio'] >= 1)]\n",
    "aux1 = aux1[['age', 'cardio']].groupby('age').size().reset_index().rename(columns={0:'total_1'})\n",
    "aux1\n",
    "\n",
    "aux2 = df4[(df4['age'] >= 39) & (df4['cardio'] <= 0)]\n",
    "aux2 = aux2[['age', 'cardio']].groupby('age').size().reset_index().rename(columns={0:'total_0'})\n",
    "aux2\n",
    "\n",
    "fig = plt.figure(figsize=(20,15))\n",
    "\n",
    "ax = fig.add_subplot(111) #create matplotlib axes\n",
    "\n",
    "width = 0.2\n",
    "\n",
    "aux1.plot(x='age', y='total_1', kind='bar', color='red', ax=ax, width=width, position=0)\n",
    "aux2.plot(x='age', y='total_0', kind='bar', color='blue', ax=ax, width=width, position=1)\n",
    "plt.show()"
   ]
  },
  {
   "cell_type": "code",
   "execution_count": null,
   "metadata": {
    "ExecuteTime": {
     "end_time": "2021-07-09T00:24:57.943346Z",
     "start_time": "2021-07-09T00:24:57.867Z"
    }
   },
   "outputs": [],
   "source": [
    "aux1 = df4[['age', 'cardio']].groupby(['age','cardio']).size().reset_index().rename(columns={0:'total'})"
   ]
  },
  {
   "cell_type": "code",
   "execution_count": null,
   "metadata": {
    "ExecuteTime": {
     "end_time": "2021-07-09T00:24:57.944345Z",
     "start_time": "2021-07-09T00:24:57.870Z"
    }
   },
   "outputs": [],
   "source": [
    "#calculate % people who had CVD\n",
    "aux1['%_cardio_1'] = \"\"\n",
    "\n",
    "j = len(aux1)\n",
    "for i in range(len(aux1)):\n",
    "    i=i+1\n",
    "    if i < j:\n",
    "        perc = ((aux1['total'][i])/(aux1['total'][i-1]+aux1['total'][i]))*100\n",
    "        aux1['%_cardio_1'][i] = perc\n",
    "    else:\n",
    "        exit"
   ]
  },
  {
   "cell_type": "code",
   "execution_count": null,
   "metadata": {
    "ExecuteTime": {
     "end_time": "2021-07-09T00:24:57.946344Z",
     "start_time": "2021-07-09T00:24:57.873Z"
    }
   },
   "outputs": [],
   "source": [
    "#aux1 = perc(aux1)\n",
    "aux1 = aux1[(aux1['cardio'] >=1)]\n",
    "aux_50 = aux1[(aux1['age'] >= 50)]\n",
    "aux_50 = pd.DataFrame(aux_50.apply(np.mean)).T\n",
    "aux_50\n",
    "\n",
    "aux_49 = aux1[(aux1['age'] < 50)]\n",
    "aux_49 = pd.DataFrame(aux_49.apply(np.mean)).T\n",
    "aux_49\n",
    "\n",
    "m = pd.concat([aux_50, aux_49]).T.reset_index()\n",
    "m.columns = ['index','over 50','below 50']\n",
    "m"
   ]
  },
  {
   "cell_type": "code",
   "execution_count": null,
   "metadata": {
    "ExecuteTime": {
     "end_time": "2021-07-09T00:24:57.947344Z",
     "start_time": "2021-07-09T00:24:57.876Z"
    }
   },
   "outputs": [],
   "source": [
    "fig_dims = (18, 10)\n",
    "fig, ax = plt.subplots(figsize=fig_dims)\n",
    "\n",
    "graph = sns.barplot(x='age', y='%_cardio_1', ax=ax, data=aux1)\n",
    "graph.axvline(10.5, ymin=0.0, ymax=1.0, linestyle =\"--\", color='blue')\n",
    "graph.axhline(51, xmin=0.0, xmax=1.0, linestyle =\"--\", color='red')\n",
    "plt.title('% People who had CVD per age')\n",
    "plt.show()"
   ]
  },
  {
   "cell_type": "code",
   "execution_count": null,
   "metadata": {
    "ExecuteTime": {
     "end_time": "2021-07-09T00:24:57.948344Z",
     "start_time": "2021-07-09T00:24:57.879Z"
    }
   },
   "outputs": [],
   "source": [
    "#boxplot age+cardio\n",
    "sns.boxplot(x='age', data=aux1)\n",
    "ax.set(xlabel='common xlabel', ylabel='common ylabel')\n",
    "plt.show()"
   ]
  },
  {
   "cell_type": "markdown",
   "metadata": {},
   "source": [
    "**2. Between 135 - 193. People shorter than 170 cm (5'7'') have a 5% chance of CVDs**\n",
    "\n",
    "**FALSE** On average people shorter than 170 cm have 1% more likely to have CVD."
   ]
  },
  {
   "cell_type": "code",
   "execution_count": null,
   "metadata": {
    "ExecuteTime": {
     "end_time": "2021-07-09T00:24:57.949342Z",
     "start_time": "2021-07-09T00:24:57.883Z"
    }
   },
   "outputs": [],
   "source": [
    "#histogram\n",
    "aux1 = df4[(df4['height'] >= 140) & (df4['height'] <= 180)]\n",
    "aux1 = aux1[['height', 'cardio']].groupby('height').sum().reset_index()\n",
    "\n",
    "fig_dims = (18, 10)\n",
    "fig, ax = plt.subplots(figsize=fig_dims)\n",
    "sns.barplot(x='height', y='cardio', ax=ax, data=aux1)"
   ]
  },
  {
   "cell_type": "code",
   "execution_count": null,
   "metadata": {
    "ExecuteTime": {
     "end_time": "2021-07-09T00:24:57.951340Z",
     "start_time": "2021-07-09T00:24:57.887Z"
    }
   },
   "outputs": [],
   "source": [
    "#histogram with and without CVD\n",
    "aux1 = df4[(df4['cardio'] >= 1) & (df4['height'] >= 140) & (df4['height'] <= 190)]\n",
    "aux1 = aux1[['height', 'cardio']].groupby('height').size().reset_index().rename(columns={0:'total_1'})\n",
    "aux1\n",
    "\n",
    "aux2 = df4[(df4['cardio'] <= 0) & (df4['height'] >= 140) & (df4['height'] <= 190)]\n",
    "aux2 = aux2[['height', 'cardio']].groupby('height').size().reset_index().rename(columns={0:'total_0'})\n",
    "aux2\n",
    "\n",
    "fig = plt.figure(figsize=(20,15))\n",
    "\n",
    "ax = fig.add_subplot(111)\n",
    "\n",
    "width = 0.2\n",
    "\n",
    "aux1.plot(x='height', y='total_1', kind='bar', color='red', ax=ax, width=width, position=0)\n",
    "aux2.plot(x='height', y='total_0', kind='bar', color='blue', ax=ax, width=width, position=1)\n",
    "plt.show()"
   ]
  },
  {
   "cell_type": "code",
   "execution_count": null,
   "metadata": {
    "ExecuteTime": {
     "end_time": "2021-07-09T00:24:57.952340Z",
     "start_time": "2021-07-09T00:24:57.890Z"
    }
   },
   "outputs": [],
   "source": [
    "aux1 = df4[(df4['height'] >= 135) & (df4['height'] <= 193)]\n",
    "aux1 = aux1[['height', 'cardio']].groupby(['height','cardio']).size().reset_index().rename(columns={0:'total'})\n",
    "#aux1"
   ]
  },
  {
   "cell_type": "code",
   "execution_count": null,
   "metadata": {
    "ExecuteTime": {
     "end_time": "2021-07-09T00:24:57.953339Z",
     "start_time": "2021-07-09T00:24:57.893Z"
    }
   },
   "outputs": [],
   "source": [
    "#calculate % people who had CVD\n",
    "aux1['%_cardio_1'] = \"\"\n",
    "\n",
    "j = len(aux1)\n",
    "for i in range(len(aux1)):\n",
    "    i=i+1\n",
    "    if i < j:\n",
    "        perc = ((aux1['total'][i])/(aux1['total'][i-1]+aux1['total'][i]))*100\n",
    "        aux1['%_cardio_1'][i] = perc\n",
    "    else:\n",
    "        exit"
   ]
  },
  {
   "cell_type": "code",
   "execution_count": null,
   "metadata": {
    "ExecuteTime": {
     "end_time": "2021-07-09T00:24:57.954338Z",
     "start_time": "2021-07-09T00:24:57.896Z"
    }
   },
   "outputs": [],
   "source": [
    "#aux1 = aux1[(aux1['cardio'] >= 1)]\n",
    "#aux1"
   ]
  },
  {
   "cell_type": "code",
   "execution_count": null,
   "metadata": {
    "ExecuteTime": {
     "end_time": "2021-07-09T00:24:57.955338Z",
     "start_time": "2021-07-09T00:24:57.899Z"
    }
   },
   "outputs": [],
   "source": [
    "#average on CVD\n",
    "aux1 = aux1[(aux1['cardio'] >= 1)]\n",
    "aux_170 = aux1[(aux1['height'] >= 170)]\n",
    "aux_170 = pd.DataFrame(aux_170.apply(np.mean)).T\n",
    "aux_170\n",
    "\n",
    "aux_169 = aux1[(aux1['height'] < 170)]\n",
    "aux_169 = pd.DataFrame(aux_169.apply(np.mean)).T\n",
    "aux_169\n",
    "\n",
    "m = pd.concat([aux_170, aux_169]).T.reset_index()\n",
    "m.columns = ['index','over 170','below 169']\n",
    "m"
   ]
  },
  {
   "cell_type": "code",
   "execution_count": null,
   "metadata": {
    "ExecuteTime": {
     "end_time": "2021-07-09T00:24:57.956339Z",
     "start_time": "2021-07-09T00:24:57.902Z"
    }
   },
   "outputs": [],
   "source": [
    "fig_dims = (18, 10)\n",
    "fig, ax = plt.subplots(figsize=fig_dims)\n",
    "#plt.axvline(29.5, 0.0,1.0)\n",
    "graph = sns.barplot(x='height', y='%_cardio_1', ax=ax, data=aux1)\n",
    "graph.axvline(29.5, ymin=0.0, ymax=1.0, linestyle =\"--\", color='blue')\n",
    "graph.axhline(51, xmin=0.0, xmax=1.0, linestyle =\"--\", color='red')\n",
    "plt.title('% People who had CVD per height')\n",
    "plt.show()"
   ]
  },
  {
   "cell_type": "code",
   "execution_count": null,
   "metadata": {
    "ExecuteTime": {
     "end_time": "2021-07-09T00:24:57.958336Z",
     "start_time": "2021-07-09T00:24:57.905Z"
    }
   },
   "outputs": [],
   "source": [
    "#boxplot height+cardio\n",
    "#aux1 = df3[['height', 'cardio']].groupby('height').sum().reset_index()\n",
    "#sns.boxplot(x='height', data=aux1)"
   ]
  },
  {
   "cell_type": "markdown",
   "metadata": {},
   "source": [
    "**3. Men are 30% more likely than women to develop a CVD**\n",
    "\n",
    "**FALSE** Men had 50,5% of cases of CVD, while women had 49,7%"
   ]
  },
  {
   "cell_type": "code",
   "execution_count": null,
   "metadata": {
    "ExecuteTime": {
     "end_time": "2021-07-09T00:24:57.959335Z",
     "start_time": "2021-07-09T00:24:57.910Z"
    }
   },
   "outputs": [],
   "source": [
    "#transform to categorical\n",
    "df42 = df4.copy()\n",
    "df42['gender'] = df42['gender'].apply({1:'women', 2:'men'}.get)"
   ]
  },
  {
   "cell_type": "code",
   "execution_count": null,
   "metadata": {
    "ExecuteTime": {
     "end_time": "2021-07-09T00:24:57.960335Z",
     "start_time": "2021-07-09T00:24:57.913Z"
    }
   },
   "outputs": [],
   "source": [
    "aux1 = df42[(df42['cardio'] >= 1)]\n",
    "aux1 = aux1[['gender', 'cardio']].groupby('gender').size().reset_index().rename(columns={0:'total_1'})\n",
    "aux1\n",
    "\n",
    "aux2 = df42[(df42['cardio'] <= 0)]\n",
    "aux2 = aux2[['gender', 'cardio']].groupby('gender').size().reset_index().rename(columns={0:'total_0'})\n",
    "aux2\n",
    "\n",
    "fig = plt.figure(figsize=(10,10))\n",
    "\n",
    "ax = fig.add_subplot(111)\n",
    "\n",
    "width = 0.2\n",
    "\n",
    "aux1.plot(x='gender', y='total_1', kind='bar', color='red', ax=ax, width=width, position=0)\n",
    "aux2.plot(x='gender', y='total_0', kind='bar', color='blue', ax=ax, width=width, position=1)\n",
    "plt.show()"
   ]
  },
  {
   "cell_type": "code",
   "execution_count": null,
   "metadata": {
    "ExecuteTime": {
     "end_time": "2021-07-09T00:24:57.961334Z",
     "start_time": "2021-07-09T00:24:57.916Z"
    }
   },
   "outputs": [],
   "source": [
    "aux1 = df42[['gender', 'cardio']].groupby(['gender','cardio']).size().reset_index().rename(columns={0:'total'})\n",
    "aux1"
   ]
  },
  {
   "cell_type": "code",
   "execution_count": null,
   "metadata": {
    "ExecuteTime": {
     "end_time": "2021-07-09T00:24:57.962334Z",
     "start_time": "2021-07-09T00:24:57.920Z"
    }
   },
   "outputs": [],
   "source": [
    "#calculate % people who had CVD\n",
    "aux1['%_cardio_1'] = \"\"\n",
    "\n",
    "j = len(aux1)\n",
    "for i in range(len(aux1)):\n",
    "    i=i+1\n",
    "    if i < j:\n",
    "        perc = ((aux1['total'][i])/(aux1['total'][i-1]+aux1['total'][i]))*100\n",
    "        aux1['%_cardio_1'][i] = perc\n",
    "    else:\n",
    "        exit"
   ]
  },
  {
   "cell_type": "code",
   "execution_count": 5,
   "metadata": {
    "ExecuteTime": {
     "end_time": "2021-07-09T00:24:58.081262Z",
     "start_time": "2021-07-09T00:24:58.057277Z"
    }
   },
   "outputs": [
    {
     "ename": "NameError",
     "evalue": "name 'aux1' is not defined",
     "output_type": "error",
     "traceback": [
      "\u001b[1;31m---------------------------------------------------------------------------\u001b[0m",
      "\u001b[1;31mNameError\u001b[0m                                 Traceback (most recent call last)",
      "\u001b[1;32m<ipython-input-5-6154562d58f8>\u001b[0m in \u001b[0;36m<module>\u001b[1;34m\u001b[0m\n\u001b[1;32m----> 1\u001b[1;33m \u001b[0maux1\u001b[0m \u001b[1;33m=\u001b[0m \u001b[0maux1\u001b[0m\u001b[1;33m[\u001b[0m\u001b[1;33m(\u001b[0m\u001b[0maux1\u001b[0m\u001b[1;33m[\u001b[0m\u001b[1;34m'cardio'\u001b[0m\u001b[1;33m]\u001b[0m \u001b[1;33m>=\u001b[0m \u001b[1;36m1\u001b[0m\u001b[1;33m)\u001b[0m\u001b[1;33m]\u001b[0m\u001b[1;33m\u001b[0m\u001b[1;33m\u001b[0m\u001b[0m\n\u001b[0m",
      "\u001b[1;31mNameError\u001b[0m: name 'aux1' is not defined"
     ]
    }
   ],
   "source": [
    "aux1 = aux1[(aux1['cardio'] >= 1)]"
   ]
  },
  {
   "cell_type": "code",
   "execution_count": null,
   "metadata": {
    "ExecuteTime": {
     "end_time": "2021-07-09T00:24:58.084260Z",
     "start_time": "2021-07-09T00:24:57.926Z"
    }
   },
   "outputs": [],
   "source": [
    "fig_dims = (6, 8)\n",
    "fig, ax = plt.subplots(figsize=fig_dims)\n",
    "#plt.axvline(29.5, 0.0,1.0)\n",
    "graph = sns.barplot(x='gender', y='%_cardio_1', ax=ax, data=aux1)\n",
    "#graph.axvline(29.5, ymin=0.0, ymax=1.0, linestyle =\"--\", color='blue')\n",
    "graph.axhline(51, xmin=0.0, xmax=1.0, linestyle =\"--\", color='red')\n",
    "plt.title('% People who had CVD per active')\n",
    "plt.show()"
   ]
  },
  {
   "cell_type": "code",
   "execution_count": null,
   "metadata": {
    "ExecuteTime": {
     "end_time": "2021-07-09T00:24:58.085259Z",
     "start_time": "2021-07-09T00:24:57.930Z"
    }
   },
   "outputs": [],
   "source": [
    "aux1"
   ]
  },
  {
   "cell_type": "markdown",
   "metadata": {},
   "source": [
    "**4. Between 33 - 130. People over 100 kg (220 lb) have a 40% chance of having a CVD**\n",
    "\n",
    "**FALSE** On average people with over 100 kg have 25% more chance of having a CVD"
   ]
  },
  {
   "cell_type": "code",
   "execution_count": null,
   "metadata": {
    "ExecuteTime": {
     "end_time": "2021-07-09T00:24:58.087259Z",
     "start_time": "2021-07-09T00:24:57.934Z"
    }
   },
   "outputs": [],
   "source": [
    "aux1 = df4[(df4['weight'] >= 5) & (df4['weight'] <= 55)]\n",
    "aux1 = aux1[['weight', 'cardio']].groupby('weight').sum().reset_index()\n",
    "\n",
    "fig_dims = (18, 10)\n",
    "fig, ax = plt.subplots(figsize=fig_dims)\n",
    "sns.barplot(x='weight', y='cardio', ax=ax, data=aux1)"
   ]
  },
  {
   "cell_type": "code",
   "execution_count": null,
   "metadata": {
    "ExecuteTime": {
     "end_time": "2021-07-09T00:24:58.088258Z",
     "start_time": "2021-07-09T00:24:57.937Z"
    }
   },
   "outputs": [],
   "source": [
    "aux1 = df4[(df4['weight'] >= 33) & (df4['weight'] <= 100) & (df4['cardio'] >= 1)]\n",
    "aux1 = aux1[['weight', 'cardio']].groupby('weight').size().reset_index().rename(columns={0:'total_1'})\n",
    "aux1\n",
    "\n",
    "aux2 = df4[(df4['weight'] >= 33) & (df4['weight'] <= 100) & (df4['cardio'] <= 0)]\n",
    "aux2 = aux2[['weight', 'cardio']].groupby('weight').size().reset_index().rename(columns={0:'total_0'})\n",
    "aux2\n",
    "\n",
    "fig = plt.figure(figsize=(20,15))\n",
    "\n",
    "ax = fig.add_subplot(111)\n",
    "\n",
    "width = 0.2\n",
    "\n",
    "aux1.plot(x='weight', y='total_1', kind='bar', color='red', ax=ax, width=width, position=0)\n",
    "aux2.plot(x='weight', y='total_0', kind='bar', color='blue', ax=ax, width=width, position=1)\n",
    "plt.show()"
   ]
  },
  {
   "cell_type": "code",
   "execution_count": null,
   "metadata": {
    "ExecuteTime": {
     "end_time": "2021-07-09T00:24:58.089258Z",
     "start_time": "2021-07-09T00:24:57.941Z"
    }
   },
   "outputs": [],
   "source": [
    "aux1 = df4[(df4['weight'] >= 33) & (df4['weight'] <= 130)]\n",
    "aux1 = aux1[['weight', 'cardio']].groupby(['weight','cardio']).size().reset_index().rename(columns={0:'total'})\n",
    "#aux1"
   ]
  },
  {
   "cell_type": "code",
   "execution_count": null,
   "metadata": {
    "ExecuteTime": {
     "end_time": "2021-07-09T00:24:58.091257Z",
     "start_time": "2021-07-09T00:24:57.944Z"
    }
   },
   "outputs": [],
   "source": [
    "#calculate % people who had CVD\n",
    "aux1['%_cardio_1'] = \"\"\n",
    "\n",
    "j = len(aux1)\n",
    "for i in range(len(aux1)):\n",
    "    i=i+1\n",
    "    if i < j:\n",
    "        perc = ((aux1['total'][i])/(aux1['total'][i-1]+aux1['total'][i]))*100\n",
    "        aux1['%_cardio_1'][i] = perc\n",
    "    else:\n",
    "        exit"
   ]
  },
  {
   "cell_type": "code",
   "execution_count": null,
   "metadata": {
    "ExecuteTime": {
     "end_time": "2021-07-09T00:24:58.092256Z",
     "start_time": "2021-07-09T00:24:57.947Z"
    }
   },
   "outputs": [],
   "source": [
    "aux1 = aux1[(aux1['cardio'] >=1)]\n",
    "aux_100 = aux1[(aux1['weight'] >= 100)]\n",
    "aux_100 = pd.DataFrame(aux_100.apply(np.mean)).T\n",
    "\n",
    "aux_99 = aux1[(aux1['weight'] < 100)]\n",
    "aux_99 = pd.DataFrame(aux_99.apply(np.mean)).T\n",
    "\n",
    "m = pd.concat([aux_100, aux_99]).T.reset_index()\n",
    "m.columns = ['index','over 100','below 100']\n",
    "m"
   ]
  },
  {
   "cell_type": "code",
   "execution_count": null,
   "metadata": {
    "ExecuteTime": {
     "end_time": "2021-07-09T00:24:58.093255Z",
     "start_time": "2021-07-09T00:24:57.951Z"
    }
   },
   "outputs": [],
   "source": [
    "fig_dims = (20,15)\n",
    "fig, ax = plt.subplots(figsize=fig_dims)\n",
    "#plt.axvline(29.5, 0.0,1.0)\n",
    "graph = sns.barplot(x='weight', y='%_cardio_1', ax=ax, data=aux1)\n",
    "graph.axvline(14.5, ymin=0.0, ymax=1.0, linestyle =\"--\", color='blue')\n",
    "graph.axhline(51, xmin=0.0, xmax=1.0, linestyle =\"--\", color='red')\n",
    "plt.title('% People who had CVD per BMI')\n",
    "plt.show()"
   ]
  },
  {
   "cell_type": "code",
   "execution_count": null,
   "metadata": {
    "ExecuteTime": {
     "end_time": "2021-07-09T00:24:58.095251Z",
     "start_time": "2021-07-09T00:24:57.954Z"
    }
   },
   "outputs": [],
   "source": [
    "#boxplot weight+cardio\n",
    "#aux1 = df3[['weight', 'cardio']].groupby('weight').sum().reset_index()\n",
    "#sns.boxplot(x='weight', data=aux1)"
   ]
  },
  {
   "cell_type": "markdown",
   "metadata": {},
   "source": [
    "**5. People with a BMI above 30 (obese class I) have a 25% chance of having a CVD**\n",
    "\n",
    "**FALSE** People with a BMI less than 30 have 72% chance of having CVD"
   ]
  },
  {
   "cell_type": "code",
   "execution_count": null,
   "metadata": {
    "ExecuteTime": {
     "end_time": "2021-07-09T00:24:58.097250Z",
     "start_time": "2021-07-09T00:24:57.959Z"
    }
   },
   "outputs": [],
   "source": [
    "#convert type bmi (int)\n",
    "df4['bmi'] = df4['bmi'].astype(int)"
   ]
  },
  {
   "cell_type": "code",
   "execution_count": null,
   "metadata": {
    "ExecuteTime": {
     "end_time": "2021-07-09T00:24:58.099249Z",
     "start_time": "2021-07-09T00:24:57.962Z"
    }
   },
   "outputs": [],
   "source": [
    "aux1 = df4[(df4['bmi'] >= 15) & (df4['bmi'] <= 50) & (df4['cardio'] >= 1)]\n",
    "aux1 = aux1[['bmi', 'cardio']].groupby('bmi').size().reset_index().rename(columns={0:'total_1'})\n",
    "aux1\n",
    "\n",
    "aux2 = df4[(df4['bmi'] >= 15) & (df4['bmi'] <= 50) & (df4['cardio'] <= 0)]\n",
    "aux2 = aux2[['bmi', 'cardio']].groupby('bmi').size().reset_index().rename(columns={0:'total_0'})\n",
    "aux2\n",
    "\n",
    "fig = plt.figure(figsize=(20,15))\n",
    "\n",
    "ax = fig.add_subplot(111) # Create matplotlib axes\n",
    "#ax2 = ax.twinx()\n",
    "\n",
    "width = 0.2\n",
    "\n",
    "#aux1.set_index(['cardio','bmi']).plot.bar(figsize=(20,10))\n",
    "aux1.plot(x='bmi', y='total_1', kind='bar', color='red', ax=ax, width=width, position=0)\n",
    "aux2.plot(x='bmi', y='total_0', kind='bar', color='blue', ax=ax, width=width, position=1)\n",
    "plt.show()\n",
    "#fig_dims = (18, 10)\n",
    "#fig, ax = plt.subplots(figsize=fig_dims)\n",
    "#sns.barplot(x='bmi', y='total', ax=ax, data=aux1)"
   ]
  },
  {
   "cell_type": "code",
   "execution_count": null,
   "metadata": {
    "ExecuteTime": {
     "end_time": "2021-07-09T00:24:58.100249Z",
     "start_time": "2021-07-09T00:24:57.965Z"
    }
   },
   "outputs": [],
   "source": [
    "aux1 = df4[(df4['bmi'] >= 15) & (df4['bmi'] <= 50)]\n",
    "aux1 = aux1[['bmi', 'cardio']].groupby(['bmi','cardio']).size().reset_index().rename(columns={0:'total'})\n",
    "#aux1"
   ]
  },
  {
   "cell_type": "code",
   "execution_count": null,
   "metadata": {
    "ExecuteTime": {
     "end_time": "2021-07-09T00:24:58.101249Z",
     "start_time": "2021-07-09T00:24:57.970Z"
    }
   },
   "outputs": [],
   "source": [
    "#calculate % people who had CVD\n",
    "aux1['%_cardio_1'] = \"\"\n",
    "\n",
    "j = len(aux1)\n",
    "for i in range(len(aux1)):\n",
    "    i=i+1\n",
    "    if i < j:\n",
    "        perc = ((aux1['total'][i])/(aux1['total'][i-1]+aux1['total'][i]))*100\n",
    "        aux1['%_cardio_1'][i] = perc\n",
    "    else:\n",
    "        exit"
   ]
  },
  {
   "cell_type": "code",
   "execution_count": null,
   "metadata": {
    "ExecuteTime": {
     "end_time": "2021-07-09T00:24:58.102247Z",
     "start_time": "2021-07-09T00:24:57.973Z"
    }
   },
   "outputs": [],
   "source": [
    "aux1 = aux1[(aux1['cardio'] >=1)]\n",
    "aux_30 = aux1[(aux1['bmi'] >= 30)]\n",
    "aux_30 = pd.DataFrame(aux_30.apply(np.mean)).T\n",
    "aux_30\n",
    "\n",
    "aux_29 = aux1[(aux1['bmi'] < 30)]\n",
    "aux_29 = pd.DataFrame(aux_29.apply(np.mean)).T\n",
    "aux_29\n",
    "\n",
    "m = pd.concat([aux_30, aux_29]).T.reset_index()\n",
    "m.columns = ['index','over 30','above 30']\n",
    "m"
   ]
  },
  {
   "cell_type": "code",
   "execution_count": null,
   "metadata": {
    "ExecuteTime": {
     "end_time": "2021-07-09T00:24:58.104248Z",
     "start_time": "2021-07-09T00:24:57.976Z"
    }
   },
   "outputs": [],
   "source": [
    "fig_dims = (18, 10)\n",
    "fig, ax = plt.subplots(figsize=fig_dims)\n",
    "#plt.axvline(29.5, 0.0,1.0)\n",
    "graph = sns.barplot(x='bmi', y='%_cardio_1', ax=ax, data=aux1)\n",
    "graph.axvline(14.5, ymin=0.0, ymax=1.0, linestyle =\"--\", color='blue')\n",
    "graph.axhline(51, xmin=0.0, xmax=1.0, linestyle =\"--\", color='red')\n",
    "plt.title('% People who had CVD per BMI')\n",
    "plt.show()"
   ]
  },
  {
   "cell_type": "code",
   "execution_count": null,
   "metadata": {
    "ExecuteTime": {
     "end_time": "2021-07-09T00:24:58.105247Z",
     "start_time": "2021-07-09T00:24:57.980Z"
    }
   },
   "outputs": [],
   "source": [
    "#boxplot bmi+cardio\n",
    "#aux1 = df3[['bmi', 'cardio']].groupby('bmi').sum().reset_index()\n",
    "#sns.boxplot(x='bmi', data=aux1)"
   ]
  },
  {
   "cell_type": "markdown",
   "metadata": {},
   "source": [
    "**6. People who do not engage in physical activity are 40% more likely to have CVDs**"
   ]
  },
  {
   "cell_type": "code",
   "execution_count": null,
   "metadata": {
    "ExecuteTime": {
     "end_time": "2021-07-09T00:24:58.107246Z",
     "start_time": "2021-07-09T00:24:57.984Z"
    }
   },
   "outputs": [],
   "source": [
    "#transform to categorical\n",
    "df42 = df4.copy()\n",
    "df42['active'] = df42['active'].apply({0:'no', 1:'yes'}.get)"
   ]
  },
  {
   "cell_type": "code",
   "execution_count": null,
   "metadata": {
    "ExecuteTime": {
     "end_time": "2021-07-09T00:24:58.108246Z",
     "start_time": "2021-07-09T00:24:57.987Z"
    }
   },
   "outputs": [],
   "source": [
    "aux1 = df42[(df42['cardio'] >= 1)]\n",
    "aux1 = aux1[['active', 'cardio']].groupby('active').size().reset_index().rename(columns={0:'total_1'})\n",
    "aux1\n",
    "\n",
    "aux2 = df42[(df42['cardio'] <= 0)]\n",
    "aux2 = aux2[['active', 'cardio']].groupby('active').size().reset_index().rename(columns={0:'total_0'})\n",
    "aux2\n",
    "\n",
    "fig = plt.figure(figsize=(20,15))\n",
    "\n",
    "ax = fig.add_subplot(111)\n",
    "\n",
    "width = 0.2\n",
    "\n",
    "aux1.plot(x='active', y='total_1', kind='bar', color='red', ax=ax, width=width, position=0)\n",
    "aux2.plot(x='active', y='total_0', kind='bar', color='blue', ax=ax, width=width, position=1)\n",
    "plt.show()"
   ]
  },
  {
   "cell_type": "code",
   "execution_count": null,
   "metadata": {
    "ExecuteTime": {
     "end_time": "2021-07-09T00:24:58.109245Z",
     "start_time": "2021-07-09T00:24:57.990Z"
    }
   },
   "outputs": [],
   "source": [
    "aux1 = df4[['active', 'cardio']].groupby(['active','cardio']).size().reset_index().rename(columns={0:'total'})\n",
    "aux1"
   ]
  },
  {
   "cell_type": "code",
   "execution_count": null,
   "metadata": {
    "ExecuteTime": {
     "end_time": "2021-07-09T00:24:58.111244Z",
     "start_time": "2021-07-09T00:24:57.994Z"
    }
   },
   "outputs": [],
   "source": [
    "#calculate % people who had CVD\n",
    "aux1['%_cardio_1'] = \"\"\n",
    "\n",
    "j = len(aux1)\n",
    "for i in range(len(aux1)):\n",
    "    i=i+1\n",
    "    if i < j:\n",
    "        perc = ((aux1['total'][i])/(aux1['total'][i-1]+aux1['total'][i]))*100\n",
    "        aux1['%_cardio_1'][i] = perc\n",
    "    else:\n",
    "        exit"
   ]
  },
  {
   "cell_type": "code",
   "execution_count": null,
   "metadata": {
    "ExecuteTime": {
     "end_time": "2021-07-09T00:24:58.112241Z",
     "start_time": "2021-07-09T00:24:57.997Z"
    }
   },
   "outputs": [],
   "source": [
    "aux1 = aux1[(aux1['cardio'] >= 1)]"
   ]
  },
  {
   "cell_type": "code",
   "execution_count": null,
   "metadata": {
    "ExecuteTime": {
     "end_time": "2021-07-09T00:24:58.113242Z",
     "start_time": "2021-07-09T00:24:58.000Z"
    }
   },
   "outputs": [],
   "source": [
    "fig_dims = (6, 8)\n",
    "fig, ax = plt.subplots(figsize=fig_dims)\n",
    "#plt.axvline(29.5, 0.0,1.0)\n",
    "graph = sns.barplot(x='active', y='%_cardio_1', ax=ax, data=aux1)\n",
    "#graph.axvline(29.5, ymin=0.0, ymax=1.0, linestyle =\"--\", color='blue')\n",
    "graph.axhline(51, xmin=0.0, xmax=1.0, linestyle =\"--\", color='red')\n",
    "plt.title('% People who had CVD per active')\n",
    "plt.show()"
   ]
  },
  {
   "cell_type": "code",
   "execution_count": null,
   "metadata": {
    "ExecuteTime": {
     "end_time": "2021-07-09T00:24:58.115241Z",
     "start_time": "2021-07-09T00:24:58.003Z"
    }
   },
   "outputs": [],
   "source": [
    "aux1"
   ]
  },
  {
   "cell_type": "markdown",
   "metadata": {},
   "source": [
    "**7. People who regularly consume alcohol have a 10% chance of having CVD**"
   ]
  },
  {
   "cell_type": "code",
   "execution_count": null,
   "metadata": {
    "ExecuteTime": {
     "end_time": "2021-07-09T00:24:58.116240Z",
     "start_time": "2021-07-09T00:24:58.007Z"
    }
   },
   "outputs": [],
   "source": [
    "#transform to categorical\n",
    "df42 = df4.copy()\n",
    "df42['alco'] = df42['alco'].apply({0:'no', 1:'yes'}.get)"
   ]
  },
  {
   "cell_type": "code",
   "execution_count": null,
   "metadata": {
    "ExecuteTime": {
     "end_time": "2021-07-09T00:24:58.117240Z",
     "start_time": "2021-07-09T00:24:58.010Z"
    }
   },
   "outputs": [],
   "source": [
    "aux1 = df42[(df42['cardio'] >= 1)]\n",
    "aux1 = aux1[['alco', 'cardio']].groupby('alco').size().reset_index().rename(columns={0:'total_1'})\n",
    "aux1\n",
    "\n",
    "aux2 = df42[(df42['cardio'] <= 0)]\n",
    "aux2 = aux2[['alco', 'cardio']].groupby('alco').size().reset_index().rename(columns={0:'total_0'})\n",
    "aux2\n",
    "\n",
    "fig = plt.figure(figsize=(10,10))\n",
    "\n",
    "ax = fig.add_subplot(111)\n",
    "\n",
    "width = 0.2\n",
    "\n",
    "aux1.plot(x='alco', y='total_1', kind='bar', color='red', ax=ax, width=width, position=0)\n",
    "aux2.plot(x='alco', y='total_0', kind='bar', color='blue', ax=ax, width=width, position=1)\n",
    "plt.show()"
   ]
  },
  {
   "cell_type": "code",
   "execution_count": null,
   "metadata": {
    "ExecuteTime": {
     "end_time": "2021-07-09T00:24:58.118240Z",
     "start_time": "2021-07-09T00:24:58.013Z"
    }
   },
   "outputs": [],
   "source": [
    "aux1 = df42[['alco', 'cardio']].groupby(['alco','cardio']).size().reset_index().reset_index().rename(columns={0:'total'})\n",
    "aux1"
   ]
  },
  {
   "cell_type": "code",
   "execution_count": null,
   "metadata": {
    "ExecuteTime": {
     "end_time": "2021-07-09T00:24:58.120238Z",
     "start_time": "2021-07-09T00:24:58.017Z"
    }
   },
   "outputs": [],
   "source": [
    "#calculate % people who had CVD\n",
    "aux1['%_cardio_1'] = \"\"\n",
    "\n",
    "j = len(aux1)\n",
    "for i in range(len(aux1)):\n",
    "    i=i+1\n",
    "    if i < j:\n",
    "        perc = ((aux1['total'][i])/(aux1['total'][i-1]+aux1['total'][i]))*100\n",
    "        aux1['%_cardio_1'][i] = perc\n",
    "    else:\n",
    "        exit"
   ]
  },
  {
   "cell_type": "code",
   "execution_count": null,
   "metadata": {
    "ExecuteTime": {
     "end_time": "2021-07-09T00:24:58.121237Z",
     "start_time": "2021-07-09T00:24:58.021Z"
    }
   },
   "outputs": [],
   "source": [
    "aux1 = aux1[(aux1['cardio'] >= 1)]"
   ]
  },
  {
   "cell_type": "code",
   "execution_count": null,
   "metadata": {
    "ExecuteTime": {
     "end_time": "2021-07-09T00:24:58.122237Z",
     "start_time": "2021-07-09T00:24:58.024Z"
    }
   },
   "outputs": [],
   "source": [
    "fig_dims = (6, 8)\n",
    "fig, ax = plt.subplots(figsize=fig_dims)\n",
    "#plt.axvline(29.5, 0.0,1.0)\n",
    "graph = sns.barplot(x='alco', y='%_cardio_1', ax=ax, data=aux1)\n",
    "#graph.axvline(29.5, ymin=0.0, ymax=1.0, linestyle =\"--\", color='blue')\n",
    "graph.axhline(51, xmin=0.0, xmax=1.0, linestyle =\"--\", color='red')\n",
    "plt.title('% People who had CVD per alco')\n",
    "plt.show()"
   ]
  },
  {
   "cell_type": "code",
   "execution_count": null,
   "metadata": {
    "ExecuteTime": {
     "end_time": "2021-07-09T00:24:58.123236Z",
     "start_time": "2021-07-09T00:24:58.027Z"
    }
   },
   "outputs": [],
   "source": [
    "aux1"
   ]
  },
  {
   "cell_type": "markdown",
   "metadata": {},
   "source": [
    "**8. People who smoke are 20% more likely to have CVD**"
   ]
  },
  {
   "cell_type": "code",
   "execution_count": null,
   "metadata": {
    "ExecuteTime": {
     "end_time": "2021-07-09T00:24:58.125235Z",
     "start_time": "2021-07-09T00:24:58.032Z"
    }
   },
   "outputs": [],
   "source": [
    "#transform to categorical\n",
    "df42 = df4.copy()\n",
    "df42['smoke'] = df42['smoke'].apply({0:'no', 1:'yes'}.get)"
   ]
  },
  {
   "cell_type": "code",
   "execution_count": null,
   "metadata": {
    "ExecuteTime": {
     "end_time": "2021-07-09T00:24:58.126235Z",
     "start_time": "2021-07-09T00:24:58.035Z"
    }
   },
   "outputs": [],
   "source": [
    "aux1 = df42[(df42['cardio'] >= 1)]\n",
    "aux1 = aux1[['smoke', 'cardio']].groupby('smoke').size().reset_index().rename(columns={0:'total_1'})\n",
    "aux1\n",
    "\n",
    "aux2 = df42[(df42['cardio'] <= 0)]\n",
    "aux2 = aux2[['smoke', 'cardio']].groupby('smoke').size().reset_index().rename(columns={0:'total_0'})\n",
    "aux2\n",
    "\n",
    "fig = plt.figure(figsize=(10,10))\n",
    "\n",
    "ax = fig.add_subplot(111)\n",
    "\n",
    "width = 0.2\n",
    "\n",
    "aux1.plot(x='smoke', y='total_1', kind='bar', color='red', ax=ax, width=width, position=0)\n",
    "aux2.plot(x='smoke', y='total_0', kind='bar', color='blue', ax=ax, width=width, position=1)\n",
    "plt.show()"
   ]
  },
  {
   "cell_type": "code",
   "execution_count": null,
   "metadata": {
    "ExecuteTime": {
     "end_time": "2021-07-09T00:24:58.127234Z",
     "start_time": "2021-07-09T00:24:58.039Z"
    }
   },
   "outputs": [],
   "source": [
    "aux1 = df42[['smoke', 'cardio']].groupby(['smoke','cardio']).size().reset_index().rename(columns={0:'total'})\n",
    "aux1"
   ]
  },
  {
   "cell_type": "code",
   "execution_count": null,
   "metadata": {
    "ExecuteTime": {
     "end_time": "2021-07-09T00:24:58.128234Z",
     "start_time": "2021-07-09T00:24:58.042Z"
    }
   },
   "outputs": [],
   "source": [
    "#calculate % people who had CVD\n",
    "aux1['%_cardio_1'] = \"\"\n",
    "\n",
    "j = len(aux1)\n",
    "for i in range(len(aux1)):\n",
    "    i=i+1\n",
    "    if i < j:\n",
    "        perc = ((aux1['total'][i])/(aux1['total'][i-1]+aux1['total'][i]))*100\n",
    "        aux1['%_cardio_1'][i] = perc\n",
    "    else:\n",
    "        exit"
   ]
  },
  {
   "cell_type": "code",
   "execution_count": null,
   "metadata": {
    "ExecuteTime": {
     "end_time": "2021-07-09T00:24:58.130231Z",
     "start_time": "2021-07-09T00:24:58.045Z"
    }
   },
   "outputs": [],
   "source": [
    "aux1 = aux1[(aux1['cardio'] >= 1)]"
   ]
  },
  {
   "cell_type": "code",
   "execution_count": null,
   "metadata": {
    "ExecuteTime": {
     "end_time": "2021-07-09T00:24:58.131231Z",
     "start_time": "2021-07-09T00:24:58.048Z"
    }
   },
   "outputs": [],
   "source": [
    "fig_dims = (6, 8)\n",
    "fig, ax = plt.subplots(figsize=fig_dims)\n",
    "#plt.axvline(29.5, 0.0,1.0)\n",
    "graph = sns.barplot(x='smoke', y='%_cardio_1', ax=ax, data=aux1)\n",
    "#graph.axvline(29.5, ymin=0.0, ymax=1.0, linestyle =\"--\", color='blue')\n",
    "graph.axhline(51, xmin=0.0, xmax=1.0, linestyle =\"--\", color='red')\n",
    "plt.title('% People who had CVD per smoke')\n",
    "plt.show()"
   ]
  },
  {
   "cell_type": "code",
   "execution_count": null,
   "metadata": {
    "ExecuteTime": {
     "end_time": "2021-07-09T00:24:58.133229Z",
     "start_time": "2021-07-09T00:24:58.051Z"
    }
   },
   "outputs": [],
   "source": [
    "aux1"
   ]
  },
  {
   "cell_type": "markdown",
   "metadata": {},
   "source": [
    "**9. People who have well above normal cholesterol have a 50% chance of having CVD**"
   ]
  },
  {
   "cell_type": "code",
   "execution_count": null,
   "metadata": {
    "ExecuteTime": {
     "end_time": "2021-07-09T00:24:58.134229Z",
     "start_time": "2021-07-09T00:24:58.055Z"
    }
   },
   "outputs": [],
   "source": [
    "#transform to categorical\n",
    "df42 = df4.copy()\n",
    "df42['cholesterol'] = df42['cholesterol'].apply({1:'normal', 2:'above normal', 3:'well above normal'}.get)"
   ]
  },
  {
   "cell_type": "code",
   "execution_count": null,
   "metadata": {
    "ExecuteTime": {
     "end_time": "2021-07-09T00:24:58.135227Z",
     "start_time": "2021-07-09T00:24:58.058Z"
    }
   },
   "outputs": [],
   "source": [
    "aux1 = df42[(df42['cardio'] >= 1)]\n",
    "aux1 = aux1[['cholesterol', 'cardio']].groupby('cholesterol').size().reset_index().rename(columns={0:'total_1'})\n",
    "aux1\n",
    "\n",
    "aux2 = df42[(df42['cardio'] <= 0)]\n",
    "aux2 = aux2[['cholesterol', 'cardio']].groupby('cholesterol').size().reset_index().rename(columns={0:'total_0'})\n",
    "aux2\n",
    "\n",
    "fig = plt.figure(figsize=(10,10))\n",
    "\n",
    "ax = fig.add_subplot(111)\n",
    "\n",
    "width = 0.2\n",
    "\n",
    "aux1.plot(x='cholesterol', y='total_1', kind='bar', color='red', ax=ax, width=width, position=0)\n",
    "aux2.plot(x='cholesterol', y='total_0', kind='bar', color='blue', ax=ax, width=width, position=1)\n",
    "plt.show()"
   ]
  },
  {
   "cell_type": "code",
   "execution_count": null,
   "metadata": {
    "ExecuteTime": {
     "end_time": "2021-07-09T00:24:58.136229Z",
     "start_time": "2021-07-09T00:24:58.061Z"
    }
   },
   "outputs": [],
   "source": [
    "aux1 = df42[['cholesterol', 'cardio']].groupby(['cholesterol','cardio']).size().reset_index().rename(columns={0:'total'})\n",
    "aux1"
   ]
  },
  {
   "cell_type": "code",
   "execution_count": null,
   "metadata": {
    "ExecuteTime": {
     "end_time": "2021-07-09T00:24:58.138227Z",
     "start_time": "2021-07-09T00:24:58.066Z"
    }
   },
   "outputs": [],
   "source": [
    "#calculate % people who had CVD\n",
    "aux1['%_cardio_1'] = \"\"\n",
    "\n",
    "j = len(aux1)\n",
    "for i in range(len(aux1)):\n",
    "    i=i+1\n",
    "    if i < j:\n",
    "        perc = ((aux1['total'][i])/(aux1['total'][i-1]+aux1['total'][i]))*100\n",
    "        aux1['%_cardio_1'][i] = perc\n",
    "    else:\n",
    "        exit"
   ]
  },
  {
   "cell_type": "code",
   "execution_count": null,
   "metadata": {
    "ExecuteTime": {
     "end_time": "2021-07-09T00:24:58.140226Z",
     "start_time": "2021-07-09T00:24:58.069Z"
    }
   },
   "outputs": [],
   "source": [
    "aux1 = aux1[(aux1['cardio'] >= 1)]"
   ]
  },
  {
   "cell_type": "code",
   "execution_count": null,
   "metadata": {
    "ExecuteTime": {
     "end_time": "2021-07-09T00:24:58.141226Z",
     "start_time": "2021-07-09T00:24:58.072Z"
    }
   },
   "outputs": [],
   "source": [
    "fig_dims = (6, 8)\n",
    "fig, ax = plt.subplots(figsize=fig_dims)\n",
    "#plt.axvline(29.5, 0.0,1.0)\n",
    "graph = sns.barplot(x='cholesterol', y='%_cardio_1', ax=ax, data=aux1)\n",
    "#graph.axvline(29.5, ymin=0.0, ymax=1.0, linestyle =\"--\", color='blue')\n",
    "graph.axhline(51, xmin=0.0, xmax=1.0, linestyle =\"--\", color='red')\n",
    "plt.title('% People who had CVD per cholesterol')\n",
    "plt.show()"
   ]
  },
  {
   "cell_type": "code",
   "execution_count": null,
   "metadata": {
    "ExecuteTime": {
     "end_time": "2021-07-09T00:24:58.142225Z",
     "start_time": "2021-07-09T00:24:58.075Z"
    }
   },
   "outputs": [],
   "source": [
    "aux1"
   ]
  },
  {
   "cell_type": "markdown",
   "metadata": {},
   "source": [
    "**10. People who have well above normal glucose have a 20% chance of having CVD**"
   ]
  },
  {
   "cell_type": "code",
   "execution_count": null,
   "metadata": {
    "ExecuteTime": {
     "end_time": "2021-07-09T00:24:58.143224Z",
     "start_time": "2021-07-09T00:24:58.079Z"
    }
   },
   "outputs": [],
   "source": [
    "#transform to categorical\n",
    "df42 = df4.copy()\n",
    "df42['gluc'] = df42['gluc'].apply({1:'normal', 2:'above normal', 3:'well above normal'}.get)"
   ]
  },
  {
   "cell_type": "code",
   "execution_count": 6,
   "metadata": {
    "ExecuteTime": {
     "end_time": "2021-07-09T00:24:58.287133Z",
     "start_time": "2021-07-09T00:24:58.257151Z"
    }
   },
   "outputs": [
    {
     "ename": "NameError",
     "evalue": "name 'df42' is not defined",
     "output_type": "error",
     "traceback": [
      "\u001b[1;31m---------------------------------------------------------------------------\u001b[0m",
      "\u001b[1;31mNameError\u001b[0m                                 Traceback (most recent call last)",
      "\u001b[1;32m<ipython-input-6-853b439b695c>\u001b[0m in \u001b[0;36m<module>\u001b[1;34m\u001b[0m\n\u001b[1;32m----> 1\u001b[1;33m \u001b[0maux1\u001b[0m \u001b[1;33m=\u001b[0m \u001b[0mdf42\u001b[0m\u001b[1;33m[\u001b[0m\u001b[1;33m(\u001b[0m\u001b[0mdf42\u001b[0m\u001b[1;33m[\u001b[0m\u001b[1;34m'cardio'\u001b[0m\u001b[1;33m]\u001b[0m \u001b[1;33m>=\u001b[0m \u001b[1;36m1\u001b[0m\u001b[1;33m)\u001b[0m\u001b[1;33m]\u001b[0m\u001b[1;33m\u001b[0m\u001b[1;33m\u001b[0m\u001b[0m\n\u001b[0m\u001b[0;32m      2\u001b[0m \u001b[0maux1\u001b[0m \u001b[1;33m=\u001b[0m \u001b[0maux1\u001b[0m\u001b[1;33m[\u001b[0m\u001b[1;33m[\u001b[0m\u001b[1;34m'gluc'\u001b[0m\u001b[1;33m,\u001b[0m \u001b[1;34m'cardio'\u001b[0m\u001b[1;33m]\u001b[0m\u001b[1;33m]\u001b[0m\u001b[1;33m.\u001b[0m\u001b[0mgroupby\u001b[0m\u001b[1;33m(\u001b[0m\u001b[1;34m'gluc'\u001b[0m\u001b[1;33m)\u001b[0m\u001b[1;33m.\u001b[0m\u001b[0msize\u001b[0m\u001b[1;33m(\u001b[0m\u001b[1;33m)\u001b[0m\u001b[1;33m.\u001b[0m\u001b[0mreset_index\u001b[0m\u001b[1;33m(\u001b[0m\u001b[1;33m)\u001b[0m\u001b[1;33m.\u001b[0m\u001b[0mrename\u001b[0m\u001b[1;33m(\u001b[0m\u001b[0mcolumns\u001b[0m\u001b[1;33m=\u001b[0m\u001b[1;33m{\u001b[0m\u001b[1;36m0\u001b[0m\u001b[1;33m:\u001b[0m\u001b[1;34m'total_1'\u001b[0m\u001b[1;33m}\u001b[0m\u001b[1;33m)\u001b[0m\u001b[1;33m\u001b[0m\u001b[1;33m\u001b[0m\u001b[0m\n\u001b[0;32m      3\u001b[0m \u001b[0maux1\u001b[0m\u001b[1;33m\u001b[0m\u001b[1;33m\u001b[0m\u001b[0m\n\u001b[0;32m      4\u001b[0m \u001b[1;33m\u001b[0m\u001b[0m\n\u001b[0;32m      5\u001b[0m \u001b[0maux2\u001b[0m \u001b[1;33m=\u001b[0m \u001b[0mdf42\u001b[0m\u001b[1;33m[\u001b[0m\u001b[1;33m(\u001b[0m\u001b[0mdf42\u001b[0m\u001b[1;33m[\u001b[0m\u001b[1;34m'cardio'\u001b[0m\u001b[1;33m]\u001b[0m \u001b[1;33m<=\u001b[0m \u001b[1;36m0\u001b[0m\u001b[1;33m)\u001b[0m\u001b[1;33m]\u001b[0m\u001b[1;33m\u001b[0m\u001b[1;33m\u001b[0m\u001b[0m\n",
      "\u001b[1;31mNameError\u001b[0m: name 'df42' is not defined"
     ]
    }
   ],
   "source": [
    "aux1 = df42[(df42['cardio'] >= 1)]\n",
    "aux1 = aux1[['gluc', 'cardio']].groupby('gluc').size().reset_index().rename(columns={0:'total_1'})\n",
    "aux1\n",
    "\n",
    "aux2 = df42[(df42['cardio'] <= 0)]\n",
    "aux2 = aux2[['gluc', 'cardio']].groupby('gluc').size().reset_index().rename(columns={0:'total_0'})\n",
    "aux2\n",
    "\n",
    "fig = plt.figure(figsize=(10,10))\n",
    "\n",
    "ax = fig.add_subplot(111)\n",
    "\n",
    "width = 0.2\n",
    "\n",
    "aux1.plot(x='gluc', y='total_1', kind='bar', color='red', ax=ax, width=width, position=0)\n",
    "aux2.plot(x='gluc', y='total_0', kind='bar', color='blue', ax=ax, width=width, position=1)\n",
    "plt.show()"
   ]
  },
  {
   "cell_type": "code",
   "execution_count": null,
   "metadata": {
    "ExecuteTime": {
     "end_time": "2021-07-09T00:24:58.289131Z",
     "start_time": "2021-07-09T00:24:58.086Z"
    }
   },
   "outputs": [],
   "source": [
    "aux1 = df42[['gluc', 'cardio']].groupby(['gluc','cardio']).size().reset_index().rename(columns={0:'total'})\n",
    "aux1"
   ]
  },
  {
   "cell_type": "code",
   "execution_count": null,
   "metadata": {
    "ExecuteTime": {
     "end_time": "2021-07-09T00:24:58.290131Z",
     "start_time": "2021-07-09T00:24:58.091Z"
    }
   },
   "outputs": [],
   "source": [
    "#calculate % people who had CVD\n",
    "aux1['%_cardio_1'] = \"\"\n",
    "\n",
    "j = len(aux1)\n",
    "for i in range(len(aux1)):\n",
    "    i=i+1\n",
    "    if i < j:\n",
    "        perc = ((aux1['total'][i])/(aux1['total'][i-1]+aux1['total'][i]))*100\n",
    "        aux1['%_cardio_1'][i] = perc\n",
    "    else:\n",
    "        exit"
   ]
  },
  {
   "cell_type": "code",
   "execution_count": null,
   "metadata": {
    "ExecuteTime": {
     "end_time": "2021-07-09T00:24:58.292130Z",
     "start_time": "2021-07-09T00:24:58.095Z"
    }
   },
   "outputs": [],
   "source": [
    "aux1 = aux1[(aux1['cardio'] >= 1)]"
   ]
  },
  {
   "cell_type": "code",
   "execution_count": null,
   "metadata": {
    "ExecuteTime": {
     "end_time": "2021-07-09T00:24:58.293129Z",
     "start_time": "2021-07-09T00:24:58.098Z"
    }
   },
   "outputs": [],
   "source": [
    "fig_dims = (6, 8)\n",
    "fig, ax = plt.subplots(figsize=fig_dims)\n",
    "#plt.axvline(29.5, 0.0,1.0)\n",
    "graph = sns.barplot(x='gluc', y='%_cardio_1', ax=ax, data=aux1)\n",
    "#graph.axvline(29.5, ymin=0.0, ymax=1.0, linestyle =\"--\", color='blue')\n",
    "graph.axhline(51, xmin=0.0, xmax=1.0, linestyle =\"--\", color='red')\n",
    "plt.title('% People who had CVD per gluc')\n",
    "plt.show()"
   ]
  },
  {
   "cell_type": "code",
   "execution_count": null,
   "metadata": {
    "ExecuteTime": {
     "end_time": "2021-07-09T00:24:58.295128Z",
     "start_time": "2021-07-09T00:24:58.101Z"
    }
   },
   "outputs": [],
   "source": [
    "aux1"
   ]
  },
  {
   "cell_type": "markdown",
   "metadata": {},
   "source": [
    "**11. People who hypertension have a 40% chance of having CVD**\n",
    "\n",
    "**TRUE** On average have 50% chance of having a CVD"
   ]
  },
  {
   "cell_type": "code",
   "execution_count": null,
   "metadata": {
    "ExecuteTime": {
     "end_time": "2021-07-09T00:24:58.296127Z",
     "start_time": "2021-07-09T00:24:58.106Z"
    }
   },
   "outputs": [],
   "source": [
    "#aux1 = df3[(df3['blood_pressure'] == '')]\n",
    "#aux1"
   ]
  },
  {
   "cell_type": "code",
   "execution_count": null,
   "metadata": {
    "ExecuteTime": {
     "end_time": "2021-07-09T00:24:58.297126Z",
     "start_time": "2021-07-09T00:24:58.109Z"
    }
   },
   "outputs": [],
   "source": [
    "aux1 = df4[(df4['cardio'] >= 1)]\n",
    "aux1 = aux1[['blood_pressure', 'cardio']].groupby('blood_pressure').size().reset_index().rename(columns={0:'total_1'})\n",
    "aux1\n",
    "\n",
    "aux2 = df4[(df4['cardio'] <= 0)]\n",
    "aux2 = aux2[['blood_pressure', 'cardio']].groupby('blood_pressure').size().reset_index().rename(columns={0:'total_0'})\n",
    "aux2\n",
    "\n",
    "fig = plt.figure(figsize=(10,10))\n",
    "\n",
    "ax = fig.add_subplot(111)\n",
    "\n",
    "width = 0.2\n",
    "\n",
    "aux1.plot(x='blood_pressure', y='total_1', kind='bar', color='red', ax=ax, width=width, position=0)\n",
    "aux2.plot(x='blood_pressure', y='total_0', kind='bar', color='blue', ax=ax, width=width, position=1)\n",
    "plt.show()"
   ]
  },
  {
   "cell_type": "code",
   "execution_count": null,
   "metadata": {
    "ExecuteTime": {
     "end_time": "2021-07-09T00:24:58.298126Z",
     "start_time": "2021-07-09T00:24:58.113Z"
    }
   },
   "outputs": [],
   "source": [
    "aux1 = df4[['blood_pressure', 'cardio']].groupby(['blood_pressure','cardio']).size().reset_index().rename(columns={0:'total'})\n",
    "aux1"
   ]
  },
  {
   "cell_type": "code",
   "execution_count": null,
   "metadata": {
    "ExecuteTime": {
     "end_time": "2021-07-09T00:24:58.300125Z",
     "start_time": "2021-07-09T00:24:58.116Z"
    }
   },
   "outputs": [],
   "source": [
    "#calculate % people who had CVD\n",
    "aux1['%_cardio_1'] = \"\"\n",
    "\n",
    "j = len(aux1)\n",
    "for i in range(len(aux1)):\n",
    "    i=i+1\n",
    "    if i < j:\n",
    "        perc = ((aux1['total'][i])/(aux1['total'][i-1]+aux1['total'][i]))*100\n",
    "        aux1['%_cardio_1'][i] = perc\n",
    "    else:\n",
    "        exit"
   ]
  },
  {
   "cell_type": "code",
   "execution_count": null,
   "metadata": {
    "ExecuteTime": {
     "end_time": "2021-07-09T00:24:58.301124Z",
     "start_time": "2021-07-09T00:24:58.119Z"
    }
   },
   "outputs": [],
   "source": [
    "aux1 = aux1[(aux1['cardio'] >= 1)]"
   ]
  },
  {
   "cell_type": "code",
   "execution_count": null,
   "metadata": {
    "ExecuteTime": {
     "end_time": "2021-07-09T00:24:58.303123Z",
     "start_time": "2021-07-09T00:24:58.122Z"
    }
   },
   "outputs": [],
   "source": [
    "fig_dims = (10, 8)\n",
    "fig, ax = plt.subplots(figsize=fig_dims)\n",
    "#plt.axvline(29.5, 0.0,1.0)\n",
    "graph = sns.barplot(x='blood_pressure', y='%_cardio_1', ax=ax, data=aux1)\n",
    "#graph.axvline(29.5, ymin=0.0, ymax=1.0, linestyle =\"--\", color='blue')\n",
    "graph.axhline(51, xmin=0.0, xmax=1.0, linestyle =\"--\", color='red')\n",
    "plt.title('% People who had CVD per blood_pressure')\n",
    "plt.show()"
   ]
  },
  {
   "cell_type": "code",
   "execution_count": null,
   "metadata": {
    "ExecuteTime": {
     "end_time": "2021-07-09T00:24:58.304122Z",
     "start_time": "2021-07-09T00:24:58.126Z"
    }
   },
   "outputs": [],
   "source": [
    "aux1"
   ]
  },
  {
   "cell_type": "markdown",
   "metadata": {},
   "source": [
    "## 4.3. Multivariate Analysis"
   ]
  },
  {
   "cell_type": "code",
   "execution_count": null,
   "metadata": {
    "ExecuteTime": {
     "end_time": "2021-07-09T00:24:58.305122Z",
     "start_time": "2021-07-09T00:24:58.131Z"
    }
   },
   "outputs": [],
   "source": [
    "correlations = df4.corr(method='pearson')\n",
    "fig_dims = (15, 7)\n",
    "fig, ax = plt.subplots(figsize=fig_dims)\n",
    "sns.heatmap(correlations,ax=ax, annot=True);"
   ]
  },
  {
   "cell_type": "markdown",
   "metadata": {},
   "source": [
    "# 5.0. Data Preparation"
   ]
  },
  {
   "cell_type": "code",
   "execution_count": null,
   "metadata": {
    "ExecuteTime": {
     "end_time": "2021-07-09T00:24:58.306122Z",
     "start_time": "2021-07-09T00:24:58.135Z"
    }
   },
   "outputs": [],
   "source": [
    "df5 = df4.copy()"
   ]
  },
  {
   "cell_type": "markdown",
   "metadata": {},
   "source": [
    "## 5.1. Normalization"
   ]
  },
  {
   "cell_type": "code",
   "execution_count": null,
   "metadata": {
    "ExecuteTime": {
     "end_time": "2021-07-09T00:24:58.307122Z",
     "start_time": "2021-07-09T00:24:58.139Z"
    }
   },
   "outputs": [],
   "source": [
    "# define min max scaler\n",
    "scaler_mm = MinMaxScaler()\n",
    "scaler_std = StandardScaler()\n",
    "\n",
    "# transform weight - STD\n",
    "df5['weight'] = scaler_mm.fit_transform(df5[['weight']].values)\n",
    "\n",
    "# transform height - STD\n",
    "df5['height'] = scaler_mm.fit_transform(df5[['height']].values)\n",
    "\n",
    "# transform age - MM\n",
    "df5['age'] = scaler_mm.fit_transform(df5[['age']].values)\n",
    "\n",
    "# transform bmi - MM\n",
    "df5['bmi'] = scaler_mm.fit_transform(df5[['bmi']].values)\n",
    "\n",
    "# transform ap_hi - MM\n",
    "df5['ap_hi'] = scaler_mm.fit_transform(df5[['ap_hi']].values)\n",
    "\n",
    "# transform ap_lo - MM\n",
    "df5['ap_lo'] = scaler_mm.fit_transform(df5[['ap_lo']].values)\n",
    "\n",
    "df5"
   ]
  },
  {
   "cell_type": "markdown",
   "metadata": {},
   "source": [
    "# 6.0. Feature Selection"
   ]
  },
  {
   "cell_type": "code",
   "execution_count": null,
   "metadata": {
    "ExecuteTime": {
     "end_time": "2021-07-09T00:24:58.308120Z",
     "start_time": "2021-07-09T00:24:58.144Z"
    }
   },
   "outputs": [],
   "source": [
    "df6 = df5.copy()"
   ]
  },
  {
   "cell_type": "code",
   "execution_count": null,
   "metadata": {
    "ExecuteTime": {
     "end_time": "2021-07-09T00:24:58.309119Z",
     "start_time": "2021-07-09T00:24:58.147Z"
    }
   },
   "outputs": [],
   "source": [
    "#drop id, ap_hi, ap_lo\n",
    "df6 = df6.drop(['id'], axis=1)\n",
    "\n",
    "\n",
    "X = df6.drop(['cardio'], axis=1)\n",
    "y = df6['cardio'].copy()"
   ]
  },
  {
   "cell_type": "code",
   "execution_count": null,
   "metadata": {
    "ExecuteTime": {
     "end_time": "2021-07-09T00:24:58.310119Z",
     "start_time": "2021-07-09T00:24:58.150Z"
    }
   },
   "outputs": [],
   "source": [
    "#split dataset into train and test\n",
    "x, x_test, y, y_test = ms.train_test_split(X, y, test_size=0.2, random_state=32)\n",
    "x_train, x_val, y_train, y_val = ms.train_test_split( x, y, test_size=0.2 )"
   ]
  },
  {
   "cell_type": "markdown",
   "metadata": {
    "heading_collapsed": true
   },
   "source": [
    "## 6.1. Boruta as feature selector"
   ]
  },
  {
   "cell_type": "code",
   "execution_count": null,
   "metadata": {
    "ExecuteTime": {
     "end_time": "2021-07-09T00:24:58.311119Z",
     "start_time": "2021-07-09T00:24:58.154Z"
    },
    "hidden": true
   },
   "outputs": [],
   "source": [
    "#training and test dataset for Boruta\n",
    "#x_train_n = x_train.values\n",
    "#y_train_n = y_train.values.ravel()\n",
    "\n",
    "#define RandomForestRegressor\n",
    "#rf = RandomForestRegressor(n_jobs=-1)\n",
    "\n",
    "#define Boruta\n",
    "#boruta = BorutaPy(rf, n_estimators='auto',verbose=2,random_state=42).fit(x_train_n,y_train_n)"
   ]
  },
  {
   "cell_type": "markdown",
   "metadata": {
    "heading_collapsed": true
   },
   "source": [
    "## 6.1.1 Best feature from Boruta"
   ]
  },
  {
   "cell_type": "code",
   "execution_count": null,
   "metadata": {
    "ExecuteTime": {
     "end_time": "2021-07-09T00:24:58.313117Z",
     "start_time": "2021-07-09T00:24:58.158Z"
    },
    "hidden": true
   },
   "outputs": [],
   "source": [
    "#cols_selected = boruta.support_.tolist()\n",
    "\n",
    "#best feature\n",
    "#x_train_fs = x_train\n",
    "#cols_selected_boruta = x_train_fs.iloc[:,cols_selected].columns.to_list()\n",
    "#cols_selected_boruta\n",
    "\n",
    "#not selected from Boruta\n",
    "#cols_not_selected_boruta = list(np.setdiff1d(x_train_fs.columns,cols_selected_boruta))\n",
    "#cols_not_selected_boruta"
   ]
  },
  {
   "cell_type": "markdown",
   "metadata": {},
   "source": [
    "# 7.0. Machine Learning Modeling"
   ]
  },
  {
   "cell_type": "markdown",
   "metadata": {},
   "source": [
    "## 7.1. Linear Regression Model"
   ]
  },
  {
   "cell_type": "code",
   "execution_count": null,
   "metadata": {
    "ExecuteTime": {
     "end_time": "2021-07-09T00:24:58.314117Z",
     "start_time": "2021-07-09T00:24:58.163Z"
    }
   },
   "outputs": [],
   "source": [
    "#model\n",
    "lr = LinearRegression().fit(x_train,y_train)\n",
    "\n",
    "#prediction\n",
    "yhat_lr = lr.predict(x_test)\n",
    "\n",
    "#performance\n",
    "lr_result = ml_error('Linear Regression', np.expm1(y_test), np.expm1(yhat_lr))\n",
    "lr_result"
   ]
  },
  {
   "cell_type": "markdown",
   "metadata": {},
   "source": [
    "## 6.2. Linear Regression Regularized Model - Lasso"
   ]
  },
  {
   "cell_type": "code",
   "execution_count": null,
   "metadata": {
    "ExecuteTime": {
     "end_time": "2021-07-09T00:24:58.315116Z",
     "start_time": "2021-07-09T00:24:58.168Z"
    }
   },
   "outputs": [],
   "source": [
    "#model\n",
    "lrr = Lasso(alpha = 0.2).fit(x_train,y_train)\n",
    "\n",
    "#prediction\n",
    "yhat_lrr = lrr.predict(x_test)\n",
    "\n",
    "#performance\n",
    "lrr_result = ml_error('Linear Regression Regularized', np.expm1(y_test), np.expm1(yhat_lrr))\n",
    "lrr_result"
   ]
  },
  {
   "cell_type": "markdown",
   "metadata": {},
   "source": [
    "## 6.3. Random Forest Regressor"
   ]
  },
  {
   "cell_type": "code",
   "execution_count": null,
   "metadata": {
    "ExecuteTime": {
     "end_time": "2021-07-09T00:24:58.316115Z",
     "start_time": "2021-07-09T00:24:58.173Z"
    }
   },
   "outputs": [],
   "source": [
    "#model\n",
    "rf = RandomForestRegressor(n_estimators=100, n_jobs=-1, random_state=42).fit(x_train,y_train)\n",
    "\n",
    "#prediction\n",
    "yhat_rf = rf.predict(x_test)\n",
    "\n",
    "#performance\n",
    "rf_result = ml_error('Random Forest Regressor', np.expm1(y_test), np.expm1(yhat_rf))\n",
    "rf_result"
   ]
  },
  {
   "cell_type": "markdown",
   "metadata": {},
   "source": [
    "## 6.4. XGBoost"
   ]
  },
  {
   "cell_type": "code",
   "execution_count": null,
   "metadata": {
    "ExecuteTime": {
     "end_time": "2021-07-09T00:24:58.317115Z",
     "start_time": "2021-07-09T00:24:58.178Z"
    }
   },
   "outputs": [],
   "source": [
    "#model\n",
    "model_xgb = xgb.XGBRegressor(objective = 'reg:squarederror',\n",
    "                            n_estimators=100,\n",
    "                            eta=0.01,\n",
    "                            max_depth=10,\n",
    "                            subsample=0.7,\n",
    "                            colsample_bytee=0.9).fit(x_train,y_train)\n",
    "\n",
    "#prediction\n",
    "yhat_xgb = model_xgb.predict(x_test)\n",
    "\n",
    "#performance\n",
    "xgb_result = ml_error('XGBoost Regressor', np.expm1(y_test), np.expm1(yhat_xgb))\n",
    "xgb_result"
   ]
  },
  {
   "cell_type": "markdown",
   "metadata": {
    "ExecuteTime": {
     "end_time": "2021-06-26T22:02:50.298406Z",
     "start_time": "2021-06-26T22:02:50.227453Z"
    }
   },
   "source": [
    "## 6.5. Neural Network - MLP"
   ]
  },
  {
   "cell_type": "code",
   "execution_count": null,
   "metadata": {
    "ExecuteTime": {
     "end_time": "2021-07-09T00:24:58.318114Z",
     "start_time": "2021-07-09T00:24:58.182Z"
    }
   },
   "outputs": [],
   "source": [
    "x_val.shape"
   ]
  },
  {
   "cell_type": "code",
   "execution_count": null,
   "metadata": {
    "ExecuteTime": {
     "end_time": "2021-07-09T00:24:58.320113Z",
     "start_time": "2021-07-09T00:24:58.185Z"
    }
   },
   "outputs": [],
   "source": [
    "#model definition\n",
    "model = ml.Sequential()\n",
    "model.add(l.Dense(11, input_dim=x_train.shape[1], activation='relu'))\n",
    "model.add(l.Dense(1, activation='softmax'))\n",
    "\n",
    "#model compile\n",
    "model.compile(loss='categorical_crossentropy', optimizer='adam', metrics=['accuracy'])\n",
    "\n",
    "#train model\n",
    "es = EarlyStopping(monitor='val_loss', patience=10)\n",
    "history = model.fit(x_train, y_train, validation_data=(x_val, y_val), epochs=10000, callbacks=[es], verbose=1)"
   ]
  },
  {
   "cell_type": "code",
   "execution_count": null,
   "metadata": {
    "ExecuteTime": {
     "end_time": "2021-07-09T00:24:58.322112Z",
     "start_time": "2021-07-09T00:24:58.188Z"
    }
   },
   "outputs": [],
   "source": [
    "##model evaluate\n",
    "_, train_acc = model.evaluate(x_train, y_train, verbose=0)\n",
    "_, val_acc = model.evaluate(x_val, y_val, verbose=0)\n",
    "\n",
    "print('Train ACC:{} - Val ACC:{}'.format(train_acc, val_acc ))"
   ]
  },
  {
   "cell_type": "code",
   "execution_count": null,
   "metadata": {
    "ExecuteTime": {
     "end_time": "2021-07-09T00:24:58.324110Z",
     "start_time": "2021-07-09T00:24:58.191Z"
    }
   },
   "outputs": [],
   "source": [
    "#define the number of eigenvectors (autovetor) + eigenvalues (autovalores)\n",
    "pca = d.PCA().fit(x_train)\n",
    "k = np.argmax(np.cumsum(pca.explained_variance_ratio_) > 0.99)\n",
    "\n",
    "#change data to new space\n",
    "pca = d.PCA(k).fit(x_train)\n",
    "\n",
    "x_train = pca.transform(x_train)\n",
    "x_val = pca.transform(x_val)"
   ]
  },
  {
   "cell_type": "code",
   "execution_count": null,
   "metadata": {
    "ExecuteTime": {
     "end_time": "2021-07-09T00:24:58.326109Z",
     "start_time": "2021-07-09T00:24:58.195Z"
    }
   },
   "outputs": [],
   "source": [
    "#ohe = pp.OneHotEncoder()\n",
    "#y_train = ohe.fit_transform(y_train.values.reshape(-1, 1)).toarray()\n",
    "#y_val = ohe.transform(y_val.values.reshape(-1, 1)).toarray()"
   ]
  },
  {
   "cell_type": "code",
   "execution_count": null,
   "metadata": {
    "ExecuteTime": {
     "end_time": "2021-07-09T00:24:58.327109Z",
     "start_time": "2021-07-09T00:24:58.199Z"
    }
   },
   "outputs": [],
   "source": [
    "#model definition\n",
    "model = ml.Sequential()\n",
    "model.add(l.Dense(11, input_dim=x_train.shape[1], activation='relu'))\n",
    "model.add(l.Dense(1, activation='softmax'))\n",
    "\n",
    "#model compile\n",
    "model.compile(loss='categorical_crossentropy', optimizer='adam', metrics=['accuracy'])\n",
    "\n",
    "#train model\n",
    "es = EarlyStopping(monitor='val_loss', patience=10)\n",
    "history = model.fit(x_train, y_train, validation_data=(x_val, y_val), epochs=100, callbacks=[es], verbose=0)"
   ]
  },
  {
   "cell_type": "code",
   "execution_count": null,
   "metadata": {
    "ExecuteTime": {
     "end_time": "2021-07-09T00:24:58.329106Z",
     "start_time": "2021-07-09T00:24:58.202Z"
    }
   },
   "outputs": [],
   "source": [
    "##model evaluate\n",
    "_, train_acc = model.evaluate(x_train, y_train, verbose=0)\n",
    "_, val_acc = model.evaluate(x_val, y_val, verbose=0)\n",
    "\n",
    "print('Train ACC:{} - Val ACC:{}'.format(train_acc, val_acc ))"
   ]
  },
  {
   "cell_type": "code",
   "execution_count": null,
   "metadata": {},
   "outputs": [],
   "source": []
  }
 ],
 "metadata": {
  "kernelspec": {
   "display_name": "Python 3",
   "language": "python",
   "name": "python3"
  },
  "language_info": {
   "codemirror_mode": {
    "name": "ipython",
    "version": 3
   },
   "file_extension": ".py",
   "mimetype": "text/x-python",
   "name": "python",
   "nbconvert_exporter": "python",
   "pygments_lexer": "ipython3",
   "version": "3.8.5"
  }
 },
 "nbformat": 4,
 "nbformat_minor": 4
}
