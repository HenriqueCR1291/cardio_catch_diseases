{
 "cells": [
  {
   "cell_type": "markdown",
   "metadata": {},
   "source": [
    "# 0.0 Initial"
   ]
  },
  {
   "cell_type": "markdown",
   "metadata": {},
   "source": [
    "## 0.1. Import"
   ]
  },
  {
   "cell_type": "code",
   "execution_count": 1,
   "metadata": {
    "ExecuteTime": {
     "end_time": "2021-07-15T01:15:34.716122Z",
     "start_time": "2021-07-15T01:15:34.709127Z"
    }
   },
   "outputs": [],
   "source": [
    "#!pip uninstall pandas"
   ]
  },
  {
   "cell_type": "code",
   "execution_count": 2,
   "metadata": {
    "ExecuteTime": {
     "end_time": "2021-07-15T01:15:55.533940Z",
     "start_time": "2021-07-15T01:15:35.063101Z"
    }
   },
   "outputs": [
    {
     "name": "stdout",
     "output_type": "stream",
     "text": [
      "Requirement already satisfied: termcolor in c:\\users\\henrique\\anaconda3\\lib\\site-packages (1.1.0)\n"
     ]
    }
   ],
   "source": [
    "#!pip install --upgrade pandas\n",
    "#!pip install prettytable\n",
    "!pip install termcolor"
   ]
  },
  {
   "cell_type": "code",
   "execution_count": 3,
   "metadata": {
    "ExecuteTime": {
     "end_time": "2021-07-15T01:17:22.989535Z",
     "start_time": "2021-07-15T01:15:55.535940Z"
    }
   },
   "outputs": [],
   "source": [
    "import pandas            as pd\n",
    "import numpy             as np\n",
    "import seaborn           as sns\n",
    "import matplotlib.pyplot as plt\n",
    "import xgboost           as xgb\n",
    "\n",
    "from sklearn    import decomposition   as d\n",
    "from matplotlib import pyplot          as plt\n",
    "from sklearn    import model_selection as ms\n",
    "from keras      import models          as ml\n",
    "from keras      import layers          as l\n",
    "\n",
    "from termcolor             import colored\n",
    "from prettytable           import PrettyTable \n",
    "from boruta                import BorutaPy\n",
    "from keras.callbacks       import EarlyStopping\n",
    "from sklearn.ensemble      import RandomForestRegressor\n",
    "from sklearn.linear_model  import LinearRegression,Lasso\n",
    "from numpy                 import asarray\n",
    "from sklearn.preprocessing import StandardScaler\n",
    "from sklearn.preprocessing import MinMaxScaler\n",
    "from IPython.display       import Image"
   ]
  },
  {
   "cell_type": "markdown",
   "metadata": {},
   "source": [
    "## 0.2. Helper Functions"
   ]
  },
  {
   "cell_type": "code",
   "execution_count": 4,
   "metadata": {
    "ExecuteTime": {
     "end_time": "2021-07-15T01:17:23.005057Z",
     "start_time": "2021-07-15T01:17:22.989535Z"
    }
   },
   "outputs": [],
   "source": [
    "def bmi (height, weight):\n",
    "    bmi = weight/((height/100)**2)\n",
    "    return bmi\n",
    "\n",
    "def mean_absolute_error (y,yhat):\n",
    "    return np.mean(np.abs(y-yhat))\n",
    "\n",
    "def mean_absolute_percentage_error (y,yhat):\n",
    "    return np.mean(np.abs(y-yhat)/y)\n",
    "\n",
    "def mean_squared_error (y,yhat):\n",
    "    return np.mean(pow((yhat-y),2))\n",
    "\n",
    "def ml_error (model_name, y, yhat):\n",
    "    mae = mean_absolute_error(y,yhat)\n",
    "    mape = mean_absolute_percentage_error(y,yhat)\n",
    "    rmse = np.sqrt(mean_squared_error(y,yhat))\n",
    "    \n",
    "    return pd.DataFrame({'Model Name': model_name,\n",
    "                        'MAE': mae,\n",
    "                        'MAPE': mape,\n",
    "                        'RMSE': rmse}, index=[0])\n",
    "\n",
    "def perc (x):\n",
    "    #calculate % people who had CVD\n",
    "    j = len(x)\n",
    "    for i in range(len(x)):\n",
    "        if i < j:\n",
    "            p = ((x['total'][i])/(x['total'][i+pow(-1,(i+2))]+x['total'][i]))*100\n",
    "            x['%_cardio_1'][i] = p\n",
    "        else:\n",
    "            exit\n",
    "    return x"
   ]
  },
  {
   "cell_type": "markdown",
   "metadata": {
    "ExecuteTime": {
     "end_time": "2021-05-30T23:09:06.865182Z",
     "start_time": "2021-05-30T23:09:06.795118Z"
    }
   },
   "source": [
    "## 0.3. Loading Data"
   ]
  },
  {
   "cell_type": "code",
   "execution_count": 5,
   "metadata": {
    "ExecuteTime": {
     "end_time": "2021-07-15T01:17:25.055810Z",
     "start_time": "2021-07-15T01:17:23.008059Z"
    }
   },
   "outputs": [],
   "source": [
    "df_raw = pd.read_csv('cardio_train.csv', low_memory=False)"
   ]
  },
  {
   "cell_type": "code",
   "execution_count": 6,
   "metadata": {
    "ExecuteTime": {
     "end_time": "2021-07-15T01:17:25.414029Z",
     "start_time": "2021-07-15T01:17:25.055810Z"
    }
   },
   "outputs": [
    {
     "data": {
      "text/html": [
       "<div>\n",
       "<style scoped>\n",
       "    .dataframe tbody tr th:only-of-type {\n",
       "        vertical-align: middle;\n",
       "    }\n",
       "\n",
       "    .dataframe tbody tr th {\n",
       "        vertical-align: top;\n",
       "    }\n",
       "\n",
       "    .dataframe thead th {\n",
       "        text-align: right;\n",
       "    }\n",
       "</style>\n",
       "<table border=\"1\" class=\"dataframe\">\n",
       "  <thead>\n",
       "    <tr style=\"text-align: right;\">\n",
       "      <th></th>\n",
       "      <th>id</th>\n",
       "      <th>age</th>\n",
       "      <th>gender</th>\n",
       "      <th>height</th>\n",
       "      <th>weight</th>\n",
       "      <th>ap_hi</th>\n",
       "      <th>ap_lo</th>\n",
       "      <th>cholesterol</th>\n",
       "      <th>gluc</th>\n",
       "      <th>smoke</th>\n",
       "      <th>alco</th>\n",
       "      <th>active</th>\n",
       "      <th>cardio</th>\n",
       "    </tr>\n",
       "  </thead>\n",
       "  <tbody>\n",
       "    <tr>\n",
       "      <th>0</th>\n",
       "      <td>0</td>\n",
       "      <td>18393</td>\n",
       "      <td>2</td>\n",
       "      <td>168</td>\n",
       "      <td>62.0</td>\n",
       "      <td>110</td>\n",
       "      <td>80</td>\n",
       "      <td>1</td>\n",
       "      <td>1</td>\n",
       "      <td>0</td>\n",
       "      <td>0</td>\n",
       "      <td>1</td>\n",
       "      <td>0</td>\n",
       "    </tr>\n",
       "    <tr>\n",
       "      <th>1</th>\n",
       "      <td>1</td>\n",
       "      <td>20228</td>\n",
       "      <td>1</td>\n",
       "      <td>156</td>\n",
       "      <td>85.0</td>\n",
       "      <td>140</td>\n",
       "      <td>90</td>\n",
       "      <td>3</td>\n",
       "      <td>1</td>\n",
       "      <td>0</td>\n",
       "      <td>0</td>\n",
       "      <td>1</td>\n",
       "      <td>1</td>\n",
       "    </tr>\n",
       "    <tr>\n",
       "      <th>2</th>\n",
       "      <td>2</td>\n",
       "      <td>18857</td>\n",
       "      <td>1</td>\n",
       "      <td>165</td>\n",
       "      <td>64.0</td>\n",
       "      <td>130</td>\n",
       "      <td>70</td>\n",
       "      <td>3</td>\n",
       "      <td>1</td>\n",
       "      <td>0</td>\n",
       "      <td>0</td>\n",
       "      <td>0</td>\n",
       "      <td>1</td>\n",
       "    </tr>\n",
       "    <tr>\n",
       "      <th>3</th>\n",
       "      <td>3</td>\n",
       "      <td>17623</td>\n",
       "      <td>2</td>\n",
       "      <td>169</td>\n",
       "      <td>82.0</td>\n",
       "      <td>150</td>\n",
       "      <td>100</td>\n",
       "      <td>1</td>\n",
       "      <td>1</td>\n",
       "      <td>0</td>\n",
       "      <td>0</td>\n",
       "      <td>1</td>\n",
       "      <td>1</td>\n",
       "    </tr>\n",
       "    <tr>\n",
       "      <th>4</th>\n",
       "      <td>4</td>\n",
       "      <td>17474</td>\n",
       "      <td>1</td>\n",
       "      <td>156</td>\n",
       "      <td>56.0</td>\n",
       "      <td>100</td>\n",
       "      <td>60</td>\n",
       "      <td>1</td>\n",
       "      <td>1</td>\n",
       "      <td>0</td>\n",
       "      <td>0</td>\n",
       "      <td>0</td>\n",
       "      <td>0</td>\n",
       "    </tr>\n",
       "    <tr>\n",
       "      <th>...</th>\n",
       "      <td>...</td>\n",
       "      <td>...</td>\n",
       "      <td>...</td>\n",
       "      <td>...</td>\n",
       "      <td>...</td>\n",
       "      <td>...</td>\n",
       "      <td>...</td>\n",
       "      <td>...</td>\n",
       "      <td>...</td>\n",
       "      <td>...</td>\n",
       "      <td>...</td>\n",
       "      <td>...</td>\n",
       "      <td>...</td>\n",
       "    </tr>\n",
       "    <tr>\n",
       "      <th>69995</th>\n",
       "      <td>99993</td>\n",
       "      <td>19240</td>\n",
       "      <td>2</td>\n",
       "      <td>168</td>\n",
       "      <td>76.0</td>\n",
       "      <td>120</td>\n",
       "      <td>80</td>\n",
       "      <td>1</td>\n",
       "      <td>1</td>\n",
       "      <td>1</td>\n",
       "      <td>0</td>\n",
       "      <td>1</td>\n",
       "      <td>0</td>\n",
       "    </tr>\n",
       "    <tr>\n",
       "      <th>69996</th>\n",
       "      <td>99995</td>\n",
       "      <td>22601</td>\n",
       "      <td>1</td>\n",
       "      <td>158</td>\n",
       "      <td>126.0</td>\n",
       "      <td>140</td>\n",
       "      <td>90</td>\n",
       "      <td>2</td>\n",
       "      <td>2</td>\n",
       "      <td>0</td>\n",
       "      <td>0</td>\n",
       "      <td>1</td>\n",
       "      <td>1</td>\n",
       "    </tr>\n",
       "    <tr>\n",
       "      <th>69997</th>\n",
       "      <td>99996</td>\n",
       "      <td>19066</td>\n",
       "      <td>2</td>\n",
       "      <td>183</td>\n",
       "      <td>105.0</td>\n",
       "      <td>180</td>\n",
       "      <td>90</td>\n",
       "      <td>3</td>\n",
       "      <td>1</td>\n",
       "      <td>0</td>\n",
       "      <td>1</td>\n",
       "      <td>0</td>\n",
       "      <td>1</td>\n",
       "    </tr>\n",
       "    <tr>\n",
       "      <th>69998</th>\n",
       "      <td>99998</td>\n",
       "      <td>22431</td>\n",
       "      <td>1</td>\n",
       "      <td>163</td>\n",
       "      <td>72.0</td>\n",
       "      <td>135</td>\n",
       "      <td>80</td>\n",
       "      <td>1</td>\n",
       "      <td>2</td>\n",
       "      <td>0</td>\n",
       "      <td>0</td>\n",
       "      <td>0</td>\n",
       "      <td>1</td>\n",
       "    </tr>\n",
       "    <tr>\n",
       "      <th>69999</th>\n",
       "      <td>99999</td>\n",
       "      <td>20540</td>\n",
       "      <td>1</td>\n",
       "      <td>170</td>\n",
       "      <td>72.0</td>\n",
       "      <td>120</td>\n",
       "      <td>80</td>\n",
       "      <td>2</td>\n",
       "      <td>1</td>\n",
       "      <td>0</td>\n",
       "      <td>0</td>\n",
       "      <td>1</td>\n",
       "      <td>0</td>\n",
       "    </tr>\n",
       "  </tbody>\n",
       "</table>\n",
       "<p>70000 rows × 13 columns</p>\n",
       "</div>"
      ],
      "text/plain": [
       "          id    age  gender  height  weight  ap_hi  ap_lo  cholesterol  gluc  \\\n",
       "0          0  18393       2     168    62.0    110     80            1     1   \n",
       "1          1  20228       1     156    85.0    140     90            3     1   \n",
       "2          2  18857       1     165    64.0    130     70            3     1   \n",
       "3          3  17623       2     169    82.0    150    100            1     1   \n",
       "4          4  17474       1     156    56.0    100     60            1     1   \n",
       "...      ...    ...     ...     ...     ...    ...    ...          ...   ...   \n",
       "69995  99993  19240       2     168    76.0    120     80            1     1   \n",
       "69996  99995  22601       1     158   126.0    140     90            2     2   \n",
       "69997  99996  19066       2     183   105.0    180     90            3     1   \n",
       "69998  99998  22431       1     163    72.0    135     80            1     2   \n",
       "69999  99999  20540       1     170    72.0    120     80            2     1   \n",
       "\n",
       "       smoke  alco  active  cardio  \n",
       "0          0     0       1       0  \n",
       "1          0     0       1       1  \n",
       "2          0     0       0       1  \n",
       "3          0     0       1       1  \n",
       "4          0     0       0       0  \n",
       "...      ...   ...     ...     ...  \n",
       "69995      1     0       1       0  \n",
       "69996      0     0       1       1  \n",
       "69997      0     1       0       1  \n",
       "69998      0     0       0       1  \n",
       "69999      0     0       1       0  \n",
       "\n",
       "[70000 rows x 13 columns]"
      ]
     },
     "execution_count": 6,
     "metadata": {},
     "output_type": "execute_result"
    }
   ],
   "source": [
    "df_raw"
   ]
  },
  {
   "cell_type": "markdown",
   "metadata": {},
   "source": [
    "# 1.0. Data Description"
   ]
  },
  {
   "cell_type": "code",
   "execution_count": 7,
   "metadata": {
    "ExecuteTime": {
     "end_time": "2021-07-15T01:17:25.588919Z",
     "start_time": "2021-07-15T01:17:25.417028Z"
    }
   },
   "outputs": [],
   "source": [
    "df1 = df_raw.copy()"
   ]
  },
  {
   "cell_type": "markdown",
   "metadata": {},
   "source": [
    "## 1.1. Data Dimensions"
   ]
  },
  {
   "cell_type": "code",
   "execution_count": 8,
   "metadata": {
    "ExecuteTime": {
     "end_time": "2021-07-10T11:14:58.288122Z",
     "start_time": "2021-07-10T11:14:57.994385Z"
    }
   },
   "outputs": [
    {
     "name": "stdout",
     "output_type": "stream",
     "text": [
      "Number of columns: 13\n",
      "Number of rows: 70000\n"
     ]
    }
   ],
   "source": [
    "print('Number of columns:', format(df1.shape[1]))\n",
    "print('Number of rows:', format(df1.shape[0]))"
   ]
  },
  {
   "cell_type": "markdown",
   "metadata": {
    "ExecuteTime": {
     "end_time": "2021-05-31T00:21:53.295619Z",
     "start_time": "2021-05-31T00:21:53.279628Z"
    }
   },
   "source": [
    "## 1.2. Data Types"
   ]
  },
  {
   "cell_type": "code",
   "execution_count": 9,
   "metadata": {
    "ExecuteTime": {
     "end_time": "2021-07-10T11:14:58.602892Z",
     "start_time": "2021-07-10T11:14:58.293117Z"
    }
   },
   "outputs": [
    {
     "data": {
      "text/plain": [
       "id               int64\n",
       "age              int64\n",
       "gender           int64\n",
       "height           int64\n",
       "weight         float64\n",
       "ap_hi            int64\n",
       "ap_lo            int64\n",
       "cholesterol      int64\n",
       "gluc             int64\n",
       "smoke            int64\n",
       "alco             int64\n",
       "active           int64\n",
       "cardio           int64\n",
       "dtype: object"
      ]
     },
     "execution_count": 9,
     "metadata": {},
     "output_type": "execute_result"
    }
   ],
   "source": [
    "df1.dtypes"
   ]
  },
  {
   "cell_type": "markdown",
   "metadata": {},
   "source": [
    "## 1.3. Check NA"
   ]
  },
  {
   "cell_type": "code",
   "execution_count": 10,
   "metadata": {
    "ExecuteTime": {
     "end_time": "2021-07-10T11:14:58.899709Z",
     "start_time": "2021-07-10T11:14:58.605889Z"
    }
   },
   "outputs": [
    {
     "data": {
      "text/plain": [
       "id             0\n",
       "age            0\n",
       "gender         0\n",
       "height         0\n",
       "weight         0\n",
       "ap_hi          0\n",
       "ap_lo          0\n",
       "cholesterol    0\n",
       "gluc           0\n",
       "smoke          0\n",
       "alco           0\n",
       "active         0\n",
       "cardio         0\n",
       "dtype: int64"
      ]
     },
     "execution_count": 10,
     "metadata": {},
     "output_type": "execute_result"
    }
   ],
   "source": [
    "df1.isna().sum()"
   ]
  },
  {
   "cell_type": "markdown",
   "metadata": {},
   "source": [
    "## 1.4. Unit change"
   ]
  },
  {
   "cell_type": "code",
   "execution_count": 8,
   "metadata": {
    "ExecuteTime": {
     "end_time": "2021-07-15T01:17:25.839570Z",
     "start_time": "2021-07-15T01:17:25.590920Z"
    }
   },
   "outputs": [
    {
     "data": {
      "text/plain": [
       "id             int64\n",
       "age            int32\n",
       "gender         int64\n",
       "height         int64\n",
       "weight         int32\n",
       "ap_hi          int64\n",
       "ap_lo          int64\n",
       "cholesterol    int64\n",
       "gluc           int64\n",
       "smoke          int64\n",
       "alco           int64\n",
       "active         int64\n",
       "cardio         int64\n",
       "dtype: object"
      ]
     },
     "execution_count": 8,
     "metadata": {},
     "output_type": "execute_result"
    }
   ],
   "source": [
    "#age (int)\n",
    "df1['age'] = (df1['age']/365).astype(int)\n",
    "\n",
    "#weight (int)\n",
    "df1['weight'] = df1['weight'].astype(int)\n",
    "\n",
    "df1.dtypes"
   ]
  },
  {
   "cell_type": "markdown",
   "metadata": {},
   "source": [
    "## 1.5. Descriptive Statiscal"
   ]
  },
  {
   "cell_type": "code",
   "execution_count": 12,
   "metadata": {
    "ExecuteTime": {
     "end_time": "2021-07-10T11:14:59.828610Z",
     "start_time": "2021-07-10T11:14:59.107775Z"
    }
   },
   "outputs": [
    {
     "data": {
      "text/html": [
       "<div>\n",
       "<style scoped>\n",
       "    .dataframe tbody tr th:only-of-type {\n",
       "        vertical-align: middle;\n",
       "    }\n",
       "\n",
       "    .dataframe tbody tr th {\n",
       "        vertical-align: top;\n",
       "    }\n",
       "\n",
       "    .dataframe thead th {\n",
       "        text-align: right;\n",
       "    }\n",
       "</style>\n",
       "<table border=\"1\" class=\"dataframe\">\n",
       "  <thead>\n",
       "    <tr style=\"text-align: right;\">\n",
       "      <th></th>\n",
       "      <th>attributes</th>\n",
       "      <th>min</th>\n",
       "      <th>max</th>\n",
       "      <th>range</th>\n",
       "      <th>mean</th>\n",
       "      <th>median</th>\n",
       "      <th>std</th>\n",
       "      <th>skew</th>\n",
       "      <th>kurtosis</th>\n",
       "    </tr>\n",
       "  </thead>\n",
       "  <tbody>\n",
       "    <tr>\n",
       "      <th>0</th>\n",
       "      <td>id</td>\n",
       "      <td>0.0</td>\n",
       "      <td>99999.0</td>\n",
       "      <td>99999.0</td>\n",
       "      <td>49972.419900</td>\n",
       "      <td>50001.5</td>\n",
       "      <td>28851.096242</td>\n",
       "      <td>-0.001278</td>\n",
       "      <td>-1.198374</td>\n",
       "    </tr>\n",
       "    <tr>\n",
       "      <th>1</th>\n",
       "      <td>age</td>\n",
       "      <td>29.0</td>\n",
       "      <td>64.0</td>\n",
       "      <td>35.0</td>\n",
       "      <td>52.840671</td>\n",
       "      <td>53.0</td>\n",
       "      <td>6.766725</td>\n",
       "      <td>-0.305744</td>\n",
       "      <td>-0.818981</td>\n",
       "    </tr>\n",
       "    <tr>\n",
       "      <th>2</th>\n",
       "      <td>gender</td>\n",
       "      <td>1.0</td>\n",
       "      <td>2.0</td>\n",
       "      <td>1.0</td>\n",
       "      <td>1.349571</td>\n",
       "      <td>1.0</td>\n",
       "      <td>0.476835</td>\n",
       "      <td>0.630960</td>\n",
       "      <td>-1.601935</td>\n",
       "    </tr>\n",
       "    <tr>\n",
       "      <th>3</th>\n",
       "      <td>height</td>\n",
       "      <td>55.0</td>\n",
       "      <td>250.0</td>\n",
       "      <td>195.0</td>\n",
       "      <td>164.359229</td>\n",
       "      <td>165.0</td>\n",
       "      <td>8.210068</td>\n",
       "      <td>-0.642187</td>\n",
       "      <td>7.943653</td>\n",
       "    </tr>\n",
       "    <tr>\n",
       "      <th>4</th>\n",
       "      <td>weight</td>\n",
       "      <td>10.0</td>\n",
       "      <td>200.0</td>\n",
       "      <td>190.0</td>\n",
       "      <td>74.204329</td>\n",
       "      <td>72.0</td>\n",
       "      <td>14.395850</td>\n",
       "      <td>1.012030</td>\n",
       "      <td>2.586746</td>\n",
       "    </tr>\n",
       "    <tr>\n",
       "      <th>5</th>\n",
       "      <td>ap_hi</td>\n",
       "      <td>-150.0</td>\n",
       "      <td>16020.0</td>\n",
       "      <td>16170.0</td>\n",
       "      <td>128.817286</td>\n",
       "      <td>120.0</td>\n",
       "      <td>154.010319</td>\n",
       "      <td>85.296214</td>\n",
       "      <td>7580.074738</td>\n",
       "    </tr>\n",
       "    <tr>\n",
       "      <th>6</th>\n",
       "      <td>ap_lo</td>\n",
       "      <td>-70.0</td>\n",
       "      <td>11000.0</td>\n",
       "      <td>11070.0</td>\n",
       "      <td>96.630414</td>\n",
       "      <td>80.0</td>\n",
       "      <td>188.471184</td>\n",
       "      <td>32.114083</td>\n",
       "      <td>1425.914585</td>\n",
       "    </tr>\n",
       "    <tr>\n",
       "      <th>7</th>\n",
       "      <td>cholesterol</td>\n",
       "      <td>1.0</td>\n",
       "      <td>3.0</td>\n",
       "      <td>2.0</td>\n",
       "      <td>1.366871</td>\n",
       "      <td>1.0</td>\n",
       "      <td>0.680245</td>\n",
       "      <td>1.587123</td>\n",
       "      <td>0.993901</td>\n",
       "    </tr>\n",
       "    <tr>\n",
       "      <th>8</th>\n",
       "      <td>gluc</td>\n",
       "      <td>1.0</td>\n",
       "      <td>3.0</td>\n",
       "      <td>2.0</td>\n",
       "      <td>1.226457</td>\n",
       "      <td>1.0</td>\n",
       "      <td>0.572266</td>\n",
       "      <td>2.397462</td>\n",
       "      <td>4.294377</td>\n",
       "    </tr>\n",
       "    <tr>\n",
       "      <th>9</th>\n",
       "      <td>smoke</td>\n",
       "      <td>0.0</td>\n",
       "      <td>1.0</td>\n",
       "      <td>1.0</td>\n",
       "      <td>0.088129</td>\n",
       "      <td>0.0</td>\n",
       "      <td>0.283482</td>\n",
       "      <td>2.905867</td>\n",
       "      <td>6.444250</td>\n",
       "    </tr>\n",
       "    <tr>\n",
       "      <th>10</th>\n",
       "      <td>alco</td>\n",
       "      <td>0.0</td>\n",
       "      <td>1.0</td>\n",
       "      <td>1.0</td>\n",
       "      <td>0.053771</td>\n",
       "      <td>0.0</td>\n",
       "      <td>0.225566</td>\n",
       "      <td>3.956607</td>\n",
       "      <td>13.655125</td>\n",
       "    </tr>\n",
       "    <tr>\n",
       "      <th>11</th>\n",
       "      <td>active</td>\n",
       "      <td>0.0</td>\n",
       "      <td>1.0</td>\n",
       "      <td>1.0</td>\n",
       "      <td>0.803729</td>\n",
       "      <td>1.0</td>\n",
       "      <td>0.397176</td>\n",
       "      <td>-1.529473</td>\n",
       "      <td>0.339296</td>\n",
       "    </tr>\n",
       "    <tr>\n",
       "      <th>12</th>\n",
       "      <td>cardio</td>\n",
       "      <td>0.0</td>\n",
       "      <td>1.0</td>\n",
       "      <td>1.0</td>\n",
       "      <td>0.499700</td>\n",
       "      <td>0.0</td>\n",
       "      <td>0.500000</td>\n",
       "      <td>0.001200</td>\n",
       "      <td>-2.000056</td>\n",
       "    </tr>\n",
       "  </tbody>\n",
       "</table>\n",
       "</div>"
      ],
      "text/plain": [
       "     attributes    min      max    range          mean   median           std  \\\n",
       "0            id    0.0  99999.0  99999.0  49972.419900  50001.5  28851.096242   \n",
       "1           age   29.0     64.0     35.0     52.840671     53.0      6.766725   \n",
       "2        gender    1.0      2.0      1.0      1.349571      1.0      0.476835   \n",
       "3        height   55.0    250.0    195.0    164.359229    165.0      8.210068   \n",
       "4        weight   10.0    200.0    190.0     74.204329     72.0     14.395850   \n",
       "5         ap_hi -150.0  16020.0  16170.0    128.817286    120.0    154.010319   \n",
       "6         ap_lo  -70.0  11000.0  11070.0     96.630414     80.0    188.471184   \n",
       "7   cholesterol    1.0      3.0      2.0      1.366871      1.0      0.680245   \n",
       "8          gluc    1.0      3.0      2.0      1.226457      1.0      0.572266   \n",
       "9         smoke    0.0      1.0      1.0      0.088129      0.0      0.283482   \n",
       "10         alco    0.0      1.0      1.0      0.053771      0.0      0.225566   \n",
       "11       active    0.0      1.0      1.0      0.803729      1.0      0.397176   \n",
       "12       cardio    0.0      1.0      1.0      0.499700      0.0      0.500000   \n",
       "\n",
       "         skew     kurtosis  \n",
       "0   -0.001278    -1.198374  \n",
       "1   -0.305744    -0.818981  \n",
       "2    0.630960    -1.601935  \n",
       "3   -0.642187     7.943653  \n",
       "4    1.012030     2.586746  \n",
       "5   85.296214  7580.074738  \n",
       "6   32.114083  1425.914585  \n",
       "7    1.587123     0.993901  \n",
       "8    2.397462     4.294377  \n",
       "9    2.905867     6.444250  \n",
       "10   3.956607    13.655125  \n",
       "11  -1.529473     0.339296  \n",
       "12   0.001200    -2.000056  "
      ]
     },
     "execution_count": 12,
     "metadata": {},
     "output_type": "execute_result"
    }
   ],
   "source": [
    "#central tendency - mean, median\n",
    "ct1 = pd.DataFrame(df1.apply(np.mean)).T\n",
    "ct2 = pd.DataFrame(df1.apply(np.median)).T\n",
    "\n",
    "#Dispersion - std, min, max, range, skew, kurtosis\n",
    "d1 = pd.DataFrame(df1.apply(min)).T\n",
    "d2 = pd.DataFrame(df1.apply(max)).T\n",
    "d3 = pd.DataFrame(df1.apply(lambda x: x.max() - x.min())).T\n",
    "d4 = pd.DataFrame(df1.apply(np.std)).T\n",
    "d5 = pd.DataFrame(df1.apply(lambda x: x.skew())).T\n",
    "d6 = pd.DataFrame(df1.apply(lambda x: x.kurtosis())).T\n",
    "\n",
    "#concatenate\n",
    "m = pd.concat([d1,d2,d3,ct1,ct2,d4,d5,d6]).T.reset_index()\n",
    "m.columns = ['attributes','min','max','range','mean','median','std','skew','kurtosis']\n",
    "m"
   ]
  },
  {
   "cell_type": "markdown",
   "metadata": {},
   "source": [
    "# 2.0. Feature Engineering"
   ]
  },
  {
   "cell_type": "code",
   "execution_count": 9,
   "metadata": {
    "ExecuteTime": {
     "end_time": "2021-07-15T01:17:26.153467Z",
     "start_time": "2021-07-15T01:17:25.842569Z"
    }
   },
   "outputs": [],
   "source": [
    "df2 = df1.copy()"
   ]
  },
  {
   "cell_type": "code",
   "execution_count": 23,
   "metadata": {
    "ExecuteTime": {
     "end_time": "2021-07-11T20:08:34.359600Z",
     "start_time": "2021-07-11T20:08:34.346607Z"
    }
   },
   "outputs": [
    {
     "name": "stdout",
     "output_type": "stream",
     "text": [
      "+-------------------+--------------------------+---------------------+-------------+------------------------------------+\n",
      "|        Type       |           Name           |       Category      |     Code    |               Unity                |\n",
      "+-------------------+--------------------------+---------------------+-------------+------------------------------------+\n",
      "|   Identification  |           Age            |  Objective Feature  |     age     |             int (days)             |\n",
      "|   Identification  |          Height          |  Objective Feature  |    height   |              int (cm)              |\n",
      "|   Identification  |          Weight          |  Objective Feature  |    weight   |             float (kg)             |\n",
      "|   Identification  |          Gender          |  Objective Feature  |    gender   |         1 (women) 2 (men)          |\n",
      "| Review of Systems | Systolic blood pressure  | Examination Feature |    ap_hi    |                int                 |\n",
      "| Review of Systems | Diastolic blood pressure | Examination Feature |    ap_lo    |                int                 |\n",
      "| Review of Systems |       Cholesterol        | Examination Feature | cholesterol | 1: normal, 2: above, 3: well above |\n",
      "| Review of Systems |         Glucose          | Examination Feature |     gluc    | 1: normal, 2: above, 3: well above |\n",
      "|       Habits      |         Smoking          |  Subjective Feature |    smoke    |               binary               |\n",
      "|       Habits      |      Alcohol intake      |  Subjective Feature |     alco    |               binary               |\n",
      "|       Habits      |    Physical activity     |  Subjective Feature |    active   |               binary               |\n",
      "|  Target Variable  | Presence/absence of CVD  |   Target Variable   |    cardio   |               binary               |\n",
      "+-------------------+--------------------------+---------------------+-------------+------------------------------------+\n"
     ]
    }
   ],
   "source": [
    "# Specify the Column Names while initializing the Table \n",
    "myTable = PrettyTable(['Type','Name', 'Category', 'Code', 'Unity']) \n",
    "  \n",
    "# Add rows \n",
    "myTable.add_row(['Identification','Age','Objective Feature', 'age', 'int (days)']) \n",
    "myTable.add_row(['Identification','Height','Objective Feature', 'height', 'int (cm)']) \n",
    "myTable.add_row(['Identification','Weight','Objective Feature', 'weight', 'float (kg)'])\n",
    "myTable.add_row(['Identification','Gender','Objective Feature', 'gender', '1 (women) 2 (men)'])\n",
    "myTable.add_row(['Review of Systems','Systolic blood pressure','Examination Feature', 'ap_hi', 'int'])\n",
    "myTable.add_row(['Review of Systems','Diastolic blood pressure','Examination Feature', 'ap_lo', 'int'])\n",
    "myTable.add_row(['Review of Systems','Cholesterol','Examination Feature', 'cholesterol', '1: normal, 2: above, 3: well above'])\n",
    "myTable.add_row(['Review of Systems','Glucose','Examination Feature', 'gluc', '1: normal, 2: above, 3: well above'])\n",
    "myTable.add_row(['Habits','Smoking','Subjective Feature', 'smoke', 'binary'])\n",
    "myTable.add_row(['Habits','Alcohol intake','Subjective Feature', 'alco', 'binary'])\n",
    "myTable.add_row(['Habits','Physical activity','Subjective Feature', 'active', 'binary'])\n",
    "myTable.add_row(['Target Variable','Presence/absence of CVD','Target Variable', 'cardio', 'binary'])\n",
    "\n",
    "print(myTable)"
   ]
  },
  {
   "cell_type": "markdown",
   "metadata": {},
   "source": [
    "## 2.1 Mind Map Hypothesis"
   ]
  },
  {
   "cell_type": "code",
   "execution_count": 14,
   "metadata": {
    "ExecuteTime": {
     "end_time": "2021-07-10T11:15:00.549225Z",
     "start_time": "2021-07-10T11:15:00.036900Z"
    }
   },
   "outputs": [
    {
     "data": {
      "image/png": "[encoded data removed]",
      "text/plain": [
       "<IPython.core.display.Image object>"
      ]
     },
     "execution_count": 14,
     "metadata": {},
     "output_type": "execute_result"
    }
   ],
   "source": [
    "Image('CCD.png')"
   ]
  },
  {
   "cell_type": "markdown",
   "metadata": {},
   "source": [
    "## 2.2 Hypothesis Creation"
   ]
  },
  {
   "cell_type": "markdown",
   "metadata": {},
   "source": [
    "### 2.1.1 Identification Hypothesis"
   ]
  },
  {
   "cell_type": "markdown",
   "metadata": {},
   "source": [
    "**1.** People over 50 are on average 20% more likely to have CVD than under 50\n",
    "\n",
    "**2.** People shorter than 170 cm (5'7'') have a 5% more chance of CVDs than over 170 cm\n",
    "\n",
    "**3.** Men are 30% more likely than women to develop a CVD\n",
    "\n",
    "**4.** People over 100 kg (220 lb) have 40% more chance of having a CVD than 100 kg\n",
    "\n",
    "**5.** People with a BMI above 30 (obese class I) have 25% more chance of having a CVD than below 30"
   ]
  },
  {
   "cell_type": "markdown",
   "metadata": {},
   "source": [
    "### 2.1.2 Habits Hypothesis"
   ]
  },
  {
   "cell_type": "markdown",
   "metadata": {},
   "source": [
    "**1.** People who do not engage in physical activity are 40% more likely to have CVDs than who engage\n",
    "\n",
    "**2.** People who regularly consume alcohol have a 10% chance of having CVD than those who do not consume\n",
    "\n",
    "**3.** People who smoke are 20% more likely to have CVD than who do not smoke"
   ]
  },
  {
   "cell_type": "markdown",
   "metadata": {},
   "source": [
    "### 2.1.3 Exams Hypothesis"
   ]
  },
  {
   "cell_type": "markdown",
   "metadata": {},
   "source": [
    "**1.** People with well above normal cholesterol have a 50% chance of having CVD than normal\n",
    "\n",
    "**2.** People with well above normal glucose have a 20% chance of having CVD than normal\n",
    "\n",
    "**3.** People who have hypertension have 40% chance of having CVD than who have normal blood pressure"
   ]
  },
  {
   "cell_type": "markdown",
   "metadata": {},
   "source": [
    "## 2.3. Final Hypothesis"
   ]
  },
  {
   "cell_type": "markdown",
   "metadata": {
    "ExecuteTime": {
     "end_time": "2021-06-04T22:44:31.407847Z",
     "start_time": "2021-06-04T22:44:31.276834Z"
    }
   },
   "source": [
    "**1.** People over 50 are on average 20% more likely to have CVD than under 50\n",
    "\n",
    "**2.** People shorter than 170 cm (5'7'') have a 5% more chance of CVDs than over 170 cm\n",
    "\n",
    "**3.** Men are 30% more likely than women to develop a CVD\n",
    "\n",
    "**4.** People over 100 kg (220 lb) have 40% more chance of having a CVD than 100 kg\n",
    "\n",
    "**5.** People with a BMI above 30 (obese class I) have 25% more chance of having a CVD than below 30\n",
    "\n",
    "**6.** People who do not engage in physical activity are 40% more likely to have CVDs than who engage\n",
    "\n",
    "**7.** People who regularly consume alcohol have a 10% chance of having CVD than those who do not consume\n",
    "\n",
    "**8.** People who smoke are 20% more likely to have CVD than who do not smoke\n",
    "\n",
    "**9.** People with well above normal cholesterol have a 50% chance of having CVD than normal\n",
    "\n",
    "**10.** People with well above normal glucose have a 20% chance of having CVD than normal\n",
    "\n",
    "**11.** People who have hypertension have 40% chance of having CVD than who have normal blood pressure"
   ]
  },
  {
   "cell_type": "markdown",
   "metadata": {},
   "source": [
    "## 2.4. Feature Engineering"
   ]
  },
  {
   "cell_type": "code",
   "execution_count": 10,
   "metadata": {
    "ExecuteTime": {
     "end_time": "2021-07-15T01:17:26.512686Z",
     "start_time": "2021-07-15T01:17:26.155472Z"
    }
   },
   "outputs": [],
   "source": [
    "#BMI\n",
    "df2['bmi'] = bmi(df2['height'], df2['weight'])"
   ]
  },
  {
   "cell_type": "code",
   "execution_count": 11,
   "metadata": {
    "ExecuteTime": {
     "end_time": "2021-07-15T01:17:30.064823Z",
     "start_time": "2021-07-15T01:17:26.514684Z"
    }
   },
   "outputs": [],
   "source": [
    "#blood pressure classification\n",
    "df2['blood_pressure'] = ''\n",
    "\n",
    "df2['blood_pressure'] = df2.apply(lambda x: '0' if (x['ap_hi'] > 0 and x['ap_hi'] < 120) and (x['ap_lo'] > 0 and x['ap_lo'] < 80) else '' \n",
    "                                  '1' if (x['ap_hi'] >= 120 and x['ap_hi'] <= 129) and (x['ap_lo'] < 80) else ''\n",
    "                                  '2' if (x['ap_hi'] >= 130 and x['ap_hi'] <= 139) or (x['ap_lo'] >= 80 and x['ap_lo'] <= 89) else ''\n",
    "                                  '3' if (x['ap_hi'] >= 140 and x['ap_hi'] <= 179) or (x['ap_lo'] >= 90 and x['ap_lo'] <= 119) else ''\n",
    "                                  '4' if x['ap_hi'] >= 180 or x['ap_lo'] >= 120 else '', axis=1)\n",
    "\n",
    "df2['blood_pressure'] = pd.to_numeric(df2['blood_pressure'],errors = 'coerce')"
   ]
  },
  {
   "cell_type": "markdown",
   "metadata": {},
   "source": [
    "# 3.0. Data Filtering"
   ]
  },
  {
   "cell_type": "code",
   "execution_count": 12,
   "metadata": {
    "ExecuteTime": {
     "end_time": "2021-07-15T01:17:30.080820Z",
     "start_time": "2021-07-15T01:17:30.066829Z"
    }
   },
   "outputs": [],
   "source": [
    "df3 = df2.copy()"
   ]
  },
  {
   "cell_type": "code",
   "execution_count": 18,
   "metadata": {
    "ExecuteTime": {
     "end_time": "2021-07-10T11:15:05.220547Z",
     "start_time": "2021-07-10T11:15:04.376402Z"
    }
   },
   "outputs": [],
   "source": [
    "#blood pressure\n",
    "df3 = df3[~df3['blood_pressure'].isna()]\n",
    "\n",
    "#height\n",
    "df3 = df3[(df3['height'] >= 140) & (df3['height'] <= 200)]\n",
    "\n",
    "#weight\n",
    "df3 = df3[(df3['weight'] >= 50) & (df3['weight'] <= 150)]\n",
    "\n",
    "#ap_hi\n",
    "df3 = df3[(df3['ap_hi'] >= 0) & (df3['ap_hi'] <= 250)]\n",
    "\n",
    "#ap_lo\n",
    "df3 = df3[(df3['ap_lo'] >= 0) & (df3['ap_lo'] <= 250)]"
   ]
  },
  {
   "cell_type": "code",
   "execution_count": 13,
   "metadata": {
    "ExecuteTime": {
     "end_time": "2021-07-15T01:17:30.971023Z",
     "start_time": "2021-07-15T01:17:30.083818Z"
    }
   },
   "outputs": [
    {
     "data": {
      "text/html": [
       "<div>\n",
       "<style scoped>\n",
       "    .dataframe tbody tr th:only-of-type {\n",
       "        vertical-align: middle;\n",
       "    }\n",
       "\n",
       "    .dataframe tbody tr th {\n",
       "        vertical-align: top;\n",
       "    }\n",
       "\n",
       "    .dataframe thead th {\n",
       "        text-align: right;\n",
       "    }\n",
       "</style>\n",
       "<table border=\"1\" class=\"dataframe\">\n",
       "  <thead>\n",
       "    <tr style=\"text-align: right;\">\n",
       "      <th></th>\n",
       "      <th>attributes</th>\n",
       "      <th>min</th>\n",
       "      <th>max</th>\n",
       "      <th>range</th>\n",
       "      <th>mean</th>\n",
       "      <th>median</th>\n",
       "      <th>std</th>\n",
       "      <th>skew</th>\n",
       "      <th>kurtosis</th>\n",
       "      <th>total</th>\n",
       "    </tr>\n",
       "  </thead>\n",
       "  <tbody>\n",
       "    <tr>\n",
       "      <th>0</th>\n",
       "      <td>id</td>\n",
       "      <td>0.000000</td>\n",
       "      <td>99999.000000</td>\n",
       "      <td>99999.000000</td>\n",
       "      <td>49972.419900</td>\n",
       "      <td>50001.500000</td>\n",
       "      <td>28851.096242</td>\n",
       "      <td>-0.001278</td>\n",
       "      <td>-1.198374</td>\n",
       "      <td>70000.0</td>\n",
       "    </tr>\n",
       "    <tr>\n",
       "      <th>1</th>\n",
       "      <td>age</td>\n",
       "      <td>29.000000</td>\n",
       "      <td>64.000000</td>\n",
       "      <td>35.000000</td>\n",
       "      <td>52.840671</td>\n",
       "      <td>53.000000</td>\n",
       "      <td>6.766725</td>\n",
       "      <td>-0.305744</td>\n",
       "      <td>-0.818981</td>\n",
       "      <td>70000.0</td>\n",
       "    </tr>\n",
       "    <tr>\n",
       "      <th>2</th>\n",
       "      <td>gender</td>\n",
       "      <td>1.000000</td>\n",
       "      <td>2.000000</td>\n",
       "      <td>1.000000</td>\n",
       "      <td>1.349571</td>\n",
       "      <td>1.000000</td>\n",
       "      <td>0.476835</td>\n",
       "      <td>0.630960</td>\n",
       "      <td>-1.601935</td>\n",
       "      <td>70000.0</td>\n",
       "    </tr>\n",
       "    <tr>\n",
       "      <th>3</th>\n",
       "      <td>height</td>\n",
       "      <td>55.000000</td>\n",
       "      <td>250.000000</td>\n",
       "      <td>195.000000</td>\n",
       "      <td>164.359229</td>\n",
       "      <td>165.000000</td>\n",
       "      <td>8.210068</td>\n",
       "      <td>-0.642187</td>\n",
       "      <td>7.943653</td>\n",
       "      <td>70000.0</td>\n",
       "    </tr>\n",
       "    <tr>\n",
       "      <th>4</th>\n",
       "      <td>weight</td>\n",
       "      <td>10.000000</td>\n",
       "      <td>200.000000</td>\n",
       "      <td>190.000000</td>\n",
       "      <td>74.204329</td>\n",
       "      <td>72.000000</td>\n",
       "      <td>14.395850</td>\n",
       "      <td>1.012030</td>\n",
       "      <td>2.586746</td>\n",
       "      <td>70000.0</td>\n",
       "    </tr>\n",
       "    <tr>\n",
       "      <th>5</th>\n",
       "      <td>ap_hi</td>\n",
       "      <td>-150.000000</td>\n",
       "      <td>16020.000000</td>\n",
       "      <td>16170.000000</td>\n",
       "      <td>128.817286</td>\n",
       "      <td>120.000000</td>\n",
       "      <td>154.010319</td>\n",
       "      <td>85.296214</td>\n",
       "      <td>7580.074738</td>\n",
       "      <td>70000.0</td>\n",
       "    </tr>\n",
       "    <tr>\n",
       "      <th>6</th>\n",
       "      <td>ap_lo</td>\n",
       "      <td>-70.000000</td>\n",
       "      <td>11000.000000</td>\n",
       "      <td>11070.000000</td>\n",
       "      <td>96.630414</td>\n",
       "      <td>80.000000</td>\n",
       "      <td>188.471184</td>\n",
       "      <td>32.114083</td>\n",
       "      <td>1425.914585</td>\n",
       "      <td>70000.0</td>\n",
       "    </tr>\n",
       "    <tr>\n",
       "      <th>7</th>\n",
       "      <td>cholesterol</td>\n",
       "      <td>1.000000</td>\n",
       "      <td>3.000000</td>\n",
       "      <td>2.000000</td>\n",
       "      <td>1.366871</td>\n",
       "      <td>1.000000</td>\n",
       "      <td>0.680245</td>\n",
       "      <td>1.587123</td>\n",
       "      <td>0.993901</td>\n",
       "      <td>70000.0</td>\n",
       "    </tr>\n",
       "    <tr>\n",
       "      <th>8</th>\n",
       "      <td>gluc</td>\n",
       "      <td>1.000000</td>\n",
       "      <td>3.000000</td>\n",
       "      <td>2.000000</td>\n",
       "      <td>1.226457</td>\n",
       "      <td>1.000000</td>\n",
       "      <td>0.572266</td>\n",
       "      <td>2.397462</td>\n",
       "      <td>4.294377</td>\n",
       "      <td>70000.0</td>\n",
       "    </tr>\n",
       "    <tr>\n",
       "      <th>9</th>\n",
       "      <td>smoke</td>\n",
       "      <td>0.000000</td>\n",
       "      <td>1.000000</td>\n",
       "      <td>1.000000</td>\n",
       "      <td>0.088129</td>\n",
       "      <td>0.000000</td>\n",
       "      <td>0.283482</td>\n",
       "      <td>2.905867</td>\n",
       "      <td>6.444250</td>\n",
       "      <td>70000.0</td>\n",
       "    </tr>\n",
       "    <tr>\n",
       "      <th>10</th>\n",
       "      <td>alco</td>\n",
       "      <td>0.000000</td>\n",
       "      <td>1.000000</td>\n",
       "      <td>1.000000</td>\n",
       "      <td>0.053771</td>\n",
       "      <td>0.000000</td>\n",
       "      <td>0.225566</td>\n",
       "      <td>3.956607</td>\n",
       "      <td>13.655125</td>\n",
       "      <td>70000.0</td>\n",
       "    </tr>\n",
       "    <tr>\n",
       "      <th>11</th>\n",
       "      <td>active</td>\n",
       "      <td>0.000000</td>\n",
       "      <td>1.000000</td>\n",
       "      <td>1.000000</td>\n",
       "      <td>0.803729</td>\n",
       "      <td>1.000000</td>\n",
       "      <td>0.397176</td>\n",
       "      <td>-1.529473</td>\n",
       "      <td>0.339296</td>\n",
       "      <td>70000.0</td>\n",
       "    </tr>\n",
       "    <tr>\n",
       "      <th>12</th>\n",
       "      <td>cardio</td>\n",
       "      <td>0.000000</td>\n",
       "      <td>1.000000</td>\n",
       "      <td>1.000000</td>\n",
       "      <td>0.499700</td>\n",
       "      <td>0.000000</td>\n",
       "      <td>0.500000</td>\n",
       "      <td>0.001200</td>\n",
       "      <td>-2.000056</td>\n",
       "      <td>70000.0</td>\n",
       "    </tr>\n",
       "    <tr>\n",
       "      <th>13</th>\n",
       "      <td>bmi</td>\n",
       "      <td>3.471784</td>\n",
       "      <td>298.666667</td>\n",
       "      <td>295.194883</td>\n",
       "      <td>27.555968</td>\n",
       "      <td>26.370238</td>\n",
       "      <td>6.090896</td>\n",
       "      <td>7.724523</td>\n",
       "      <td>221.118596</td>\n",
       "      <td>70000.0</td>\n",
       "    </tr>\n",
       "    <tr>\n",
       "      <th>14</th>\n",
       "      <td>blood_pressure</td>\n",
       "      <td>0.000000</td>\n",
       "      <td>4.000000</td>\n",
       "      <td>4.000000</td>\n",
       "      <td>1.934622</td>\n",
       "      <td>NaN</td>\n",
       "      <td>0.924452</td>\n",
       "      <td>-0.866641</td>\n",
       "      <td>0.252762</td>\n",
       "      <td>70000.0</td>\n",
       "    </tr>\n",
       "  </tbody>\n",
       "</table>\n",
       "</div>"
      ],
      "text/plain": [
       "        attributes         min           max         range          mean  \\\n",
       "0               id    0.000000  99999.000000  99999.000000  49972.419900   \n",
       "1              age   29.000000     64.000000     35.000000     52.840671   \n",
       "2           gender    1.000000      2.000000      1.000000      1.349571   \n",
       "3           height   55.000000    250.000000    195.000000    164.359229   \n",
       "4           weight   10.000000    200.000000    190.000000     74.204329   \n",
       "5            ap_hi -150.000000  16020.000000  16170.000000    128.817286   \n",
       "6            ap_lo  -70.000000  11000.000000  11070.000000     96.630414   \n",
       "7      cholesterol    1.000000      3.000000      2.000000      1.366871   \n",
       "8             gluc    1.000000      3.000000      2.000000      1.226457   \n",
       "9            smoke    0.000000      1.000000      1.000000      0.088129   \n",
       "10            alco    0.000000      1.000000      1.000000      0.053771   \n",
       "11          active    0.000000      1.000000      1.000000      0.803729   \n",
       "12          cardio    0.000000      1.000000      1.000000      0.499700   \n",
       "13             bmi    3.471784    298.666667    295.194883     27.555968   \n",
       "14  blood_pressure    0.000000      4.000000      4.000000      1.934622   \n",
       "\n",
       "          median           std       skew     kurtosis    total  \n",
       "0   50001.500000  28851.096242  -0.001278    -1.198374  70000.0  \n",
       "1      53.000000      6.766725  -0.305744    -0.818981  70000.0  \n",
       "2       1.000000      0.476835   0.630960    -1.601935  70000.0  \n",
       "3     165.000000      8.210068  -0.642187     7.943653  70000.0  \n",
       "4      72.000000     14.395850   1.012030     2.586746  70000.0  \n",
       "5     120.000000    154.010319  85.296214  7580.074738  70000.0  \n",
       "6      80.000000    188.471184  32.114083  1425.914585  70000.0  \n",
       "7       1.000000      0.680245   1.587123     0.993901  70000.0  \n",
       "8       1.000000      0.572266   2.397462     4.294377  70000.0  \n",
       "9       0.000000      0.283482   2.905867     6.444250  70000.0  \n",
       "10      0.000000      0.225566   3.956607    13.655125  70000.0  \n",
       "11      1.000000      0.397176  -1.529473     0.339296  70000.0  \n",
       "12      0.000000      0.500000   0.001200    -2.000056  70000.0  \n",
       "13     26.370238      6.090896   7.724523   221.118596  70000.0  \n",
       "14           NaN      0.924452  -0.866641     0.252762  70000.0  "
      ]
     },
     "execution_count": 13,
     "metadata": {},
     "output_type": "execute_result"
    }
   ],
   "source": [
    "#central tendency - mean, median\n",
    "ct1 = pd.DataFrame(df3.apply(np.mean)).T\n",
    "ct2 = pd.DataFrame(df3.apply(np.median)).T\n",
    "\n",
    "#Dispersion - std, min, max, range, skew, kurtosis\n",
    "d1 = pd.DataFrame(df3.apply(min)).T\n",
    "d2 = pd.DataFrame(df3.apply(max)).T\n",
    "d3 = pd.DataFrame(df3.apply(lambda x: x.max() - x.min())).T\n",
    "d4 = pd.DataFrame(df3.apply(np.std)).T\n",
    "d5 = pd.DataFrame(df3.apply(lambda x: x.skew())).T\n",
    "d6 = pd.DataFrame(df3.apply(lambda x: x.kurtosis())).T\n",
    "d7 = pd.DataFrame(df3.apply(lambda x: len(x))).T\n",
    "\n",
    "#concatenate\n",
    "m = pd.concat([d1,d2,d3,ct1,ct2,d4,d5,d6,d7]).T.reset_index()\n",
    "m.columns = ['attributes','min','max','range','mean','median','std','skew','kurtosis','total']\n",
    "m"
   ]
  },
  {
   "cell_type": "code",
   "execution_count": 22,
   "metadata": {
    "ExecuteTime": {
     "end_time": "2021-07-15T01:25:39.837265Z",
     "start_time": "2021-07-15T01:25:39.799291Z"
    }
   },
   "outputs": [
    {
     "ename": "TypeError",
     "evalue": "'>' not supported between instances of 'numpy.ndarray' and 'str'",
     "output_type": "error",
     "traceback": [
      "\u001b[1;31m---------------------------------------------------------------------------\u001b[0m",
      "\u001b[1;31mTypeError\u001b[0m                                 Traceback (most recent call last)",
      "\u001b[1;32m<ipython-input-22-f2ecc9ab2159>\u001b[0m in \u001b[0;36m<module>\u001b[1;34m\u001b[0m\n\u001b[0;32m      5\u001b[0m \u001b[0mlower\u001b[0m\u001b[1;33m,\u001b[0m \u001b[0mupper\u001b[0m \u001b[1;33m=\u001b[0m \u001b[0mdata_mean\u001b[0m \u001b[1;33m-\u001b[0m \u001b[0mcut_off\u001b[0m\u001b[1;33m,\u001b[0m \u001b[0mdata_mean\u001b[0m \u001b[1;33m+\u001b[0m \u001b[0mcut_off\u001b[0m\u001b[1;33m\u001b[0m\u001b[1;33m\u001b[0m\u001b[0m\n\u001b[0;32m      6\u001b[0m \u001b[1;31m# identify outliers\u001b[0m\u001b[1;33m\u001b[0m\u001b[1;33m\u001b[0m\u001b[1;33m\u001b[0m\u001b[0m\n\u001b[1;32m----> 7\u001b[1;33m \u001b[0moutliers\u001b[0m \u001b[1;33m=\u001b[0m \u001b[1;33m[\u001b[0m\u001b[0mx\u001b[0m \u001b[1;32mfor\u001b[0m \u001b[0mx\u001b[0m \u001b[1;32min\u001b[0m \u001b[0mdf3\u001b[0m \u001b[1;32mif\u001b[0m \u001b[0mx\u001b[0m \u001b[1;33m<\u001b[0m \u001b[0mlower\u001b[0m \u001b[1;32mor\u001b[0m \u001b[0mx\u001b[0m \u001b[1;33m>\u001b[0m \u001b[0mupper\u001b[0m\u001b[1;33m]\u001b[0m\u001b[1;33m\u001b[0m\u001b[1;33m\u001b[0m\u001b[0m\n\u001b[0m\u001b[0;32m      8\u001b[0m \u001b[0mprint\u001b[0m\u001b[1;33m(\u001b[0m\u001b[1;34m'Identified outliers: %d'\u001b[0m \u001b[1;33m%\u001b[0m \u001b[0mlen\u001b[0m\u001b[1;33m(\u001b[0m\u001b[0moutliers\u001b[0m\u001b[1;33m)\u001b[0m\u001b[1;33m)\u001b[0m\u001b[1;33m\u001b[0m\u001b[1;33m\u001b[0m\u001b[0m\n\u001b[0;32m      9\u001b[0m \u001b[1;31m# remove outliers\u001b[0m\u001b[1;33m\u001b[0m\u001b[1;33m\u001b[0m\u001b[1;33m\u001b[0m\u001b[0m\n",
      "\u001b[1;32m<ipython-input-22-f2ecc9ab2159>\u001b[0m in \u001b[0;36m<listcomp>\u001b[1;34m(.0)\u001b[0m\n\u001b[0;32m      5\u001b[0m \u001b[0mlower\u001b[0m\u001b[1;33m,\u001b[0m \u001b[0mupper\u001b[0m \u001b[1;33m=\u001b[0m \u001b[0mdata_mean\u001b[0m \u001b[1;33m-\u001b[0m \u001b[0mcut_off\u001b[0m\u001b[1;33m,\u001b[0m \u001b[0mdata_mean\u001b[0m \u001b[1;33m+\u001b[0m \u001b[0mcut_off\u001b[0m\u001b[1;33m\u001b[0m\u001b[1;33m\u001b[0m\u001b[0m\n\u001b[0;32m      6\u001b[0m \u001b[1;31m# identify outliers\u001b[0m\u001b[1;33m\u001b[0m\u001b[1;33m\u001b[0m\u001b[1;33m\u001b[0m\u001b[0m\n\u001b[1;32m----> 7\u001b[1;33m \u001b[0moutliers\u001b[0m \u001b[1;33m=\u001b[0m \u001b[1;33m[\u001b[0m\u001b[0mx\u001b[0m \u001b[1;32mfor\u001b[0m \u001b[0mx\u001b[0m \u001b[1;32min\u001b[0m \u001b[0mdf3\u001b[0m \u001b[1;32mif\u001b[0m \u001b[0mx\u001b[0m \u001b[1;33m<\u001b[0m \u001b[0mlower\u001b[0m \u001b[1;32mor\u001b[0m \u001b[0mx\u001b[0m \u001b[1;33m>\u001b[0m \u001b[0mupper\u001b[0m\u001b[1;33m]\u001b[0m\u001b[1;33m\u001b[0m\u001b[1;33m\u001b[0m\u001b[0m\n\u001b[0m\u001b[0;32m      8\u001b[0m \u001b[0mprint\u001b[0m\u001b[1;33m(\u001b[0m\u001b[1;34m'Identified outliers: %d'\u001b[0m \u001b[1;33m%\u001b[0m \u001b[0mlen\u001b[0m\u001b[1;33m(\u001b[0m\u001b[0moutliers\u001b[0m\u001b[1;33m)\u001b[0m\u001b[1;33m)\u001b[0m\u001b[1;33m\u001b[0m\u001b[1;33m\u001b[0m\u001b[0m\n\u001b[0;32m      9\u001b[0m \u001b[1;31m# remove outliers\u001b[0m\u001b[1;33m\u001b[0m\u001b[1;33m\u001b[0m\u001b[1;33m\u001b[0m\u001b[0m\n",
      "\u001b[1;31mTypeError\u001b[0m: '>' not supported between instances of 'numpy.ndarray' and 'str'"
     ]
    }
   ],
   "source": [
    "# calculate summary statistics\n",
    "data_mean, data_std = m['mean'][3], m['std'][3]\n",
    "# identify outliers\n",
    "cut_off = data_std * 3\n",
    "lower, upper = data_mean - cut_off, data_mean + cut_off\n",
    "# identify outliers\n",
    "outliers = [x for x in df3 if x < lower or x > upper]\n",
    "print('Identified outliers: %d' % len(outliers))\n",
    "# remove outliers\n",
    "outliers_removed = [x for x in df3 if x >= lower and x <= upper]\n",
    "print('Non-outlier observations: %d' % len(outliers_removed))"
   ]
  },
  {
   "cell_type": "markdown",
   "metadata": {},
   "source": [
    "# 4.0. Exploratory Data Analysis"
   ]
  },
  {
   "cell_type": "code",
   "execution_count": 236,
   "metadata": {
    "ExecuteTime": {
     "end_time": "2021-07-10T19:50:30.580751Z",
     "start_time": "2021-07-10T19:50:30.567759Z"
    }
   },
   "outputs": [],
   "source": [
    "df4 = df3.copy()"
   ]
  },
  {
   "cell_type": "markdown",
   "metadata": {
    "heading_collapsed": true
   },
   "source": [
    "## 4.1 Univariate Analysis"
   ]
  },
  {
   "cell_type": "markdown",
   "metadata": {
    "heading_collapsed": true,
    "hidden": true
   },
   "source": [
    "### 4.1.1 Response variable"
   ]
  },
  {
   "cell_type": "code",
   "execution_count": 21,
   "metadata": {
    "ExecuteTime": {
     "end_time": "2021-07-10T11:15:06.242566Z",
     "start_time": "2021-07-10T11:15:05.805534Z"
    },
    "hidden": true
   },
   "outputs": [],
   "source": [
    "#sns.displot(df4['cardio'], kde=True)"
   ]
  },
  {
   "cell_type": "markdown",
   "metadata": {
    "heading_collapsed": true,
    "hidden": true
   },
   "source": [
    "### 4.1.2 Numeric variable"
   ]
  },
  {
   "cell_type": "code",
   "execution_count": 22,
   "metadata": {
    "ExecuteTime": {
     "end_time": "2021-07-10T11:15:12.046280Z",
     "start_time": "2021-07-10T11:15:06.244562Z"
    },
    "hidden": true
   },
   "outputs": [
    {
     "data": {
      "image/png": "[encoded data removed]",
      "text/plain": [
       "<Figure size 1728x864 with 16 Axes>"
      ]
     },
     "metadata": {
      "needs_background": "light"
     },
     "output_type": "display_data"
    }
   ],
   "source": [
    "df42 = df4.drop('id', axis=1)\n",
    "df42.hist(figsize=(24,12), bins=50);"
   ]
  },
  {
   "cell_type": "markdown",
   "metadata": {
    "heading_collapsed": true
   },
   "source": [
    "## 4.2. Bivariate Analysis"
   ]
  },
  {
   "cell_type": "markdown",
   "metadata": {
    "hidden": true
   },
   "source": [
    "**1. Analysis between 39 - 64. People over 50 are on average 20% more likely to have CVD than under 50**\n",
    "\n",
    "**TRUE** On average people over 50 are 56.6% likely to have CVD and 20.9% more likely than under 50. 63 years old has the highest incidence."
   ]
  },
  {
   "cell_type": "code",
   "execution_count": 241,
   "metadata": {
    "ExecuteTime": {
     "end_time": "2021-07-10T19:51:38.559179Z",
     "start_time": "2021-07-10T19:51:37.858608Z"
    },
    "hidden": true
   },
   "outputs": [
    {
     "data": {
      "image/png": "[encoded data removed]",
      "text/plain": [
       "<Figure size 1080x504 with 1 Axes>"
      ]
     },
     "metadata": {
      "needs_background": "light"
     },
     "output_type": "display_data"
    }
   ],
   "source": [
    "#cvd per age\n",
    "aux1 = df4[['age', 'cardio']].groupby('age').sum().reset_index().rename(columns={0:'total'})\n",
    "\n",
    "#histogram\n",
    "fig_dims = (15, 7)\n",
    "fig, ax = plt.subplots(figsize=fig_dims)\n",
    "sns.barplot(x='age', y='cardio', ax=ax, data=aux1)\n",
    "plt.title('People who had CVD per age')\n",
    "plt.show()"
   ]
  },
  {
   "cell_type": "code",
   "execution_count": 294,
   "metadata": {
    "ExecuteTime": {
     "end_time": "2021-07-10T22:37:32.220398Z",
     "start_time": "2021-07-10T22:37:32.164430Z"
    },
    "hidden": true
   },
   "outputs": [
    {
     "name": "stderr",
     "output_type": "stream",
     "text": [
      "<ipython-input-231-6e4d339763c6>:30: SettingWithCopyWarning: \n",
      "A value is trying to be set on a copy of a slice from a DataFrame\n",
      "\n",
      "See the caveats in the documentation: https://pandas.pydata.org/pandas-docs/stable/user_guide/indexing.html#returning-a-view-versus-a-copy\n",
      "  x['%_cardio_1'][i] = p\n"
     ]
    }
   ],
   "source": [
    "#% people with CVD per age\n",
    "aux1 = df4[(df4['age'] >= 39)]\n",
    "aux1 = aux1[['age', 'cardio']].groupby(['age','cardio']).size().reset_index().rename(columns={0:'total'})\n",
    "aux1['%_cardio_1'] = \"\"\n",
    "aux1 = perc(aux1)"
   ]
  },
  {
   "cell_type": "code",
   "execution_count": 295,
   "metadata": {
    "ExecuteTime": {
     "end_time": "2021-07-10T22:37:32.820408Z",
     "start_time": "2021-07-10T22:37:32.793426Z"
    },
    "hidden": true
   },
   "outputs": [
    {
     "data": {
      "text/html": [
       "<div>\n",
       "<style scoped>\n",
       "    .dataframe tbody tr th:only-of-type {\n",
       "        vertical-align: middle;\n",
       "    }\n",
       "\n",
       "    .dataframe tbody tr th {\n",
       "        vertical-align: top;\n",
       "    }\n",
       "\n",
       "    .dataframe thead th {\n",
       "        text-align: right;\n",
       "    }\n",
       "</style>\n",
       "<table border=\"1\" class=\"dataframe\">\n",
       "  <thead>\n",
       "    <tr style=\"text-align: right;\">\n",
       "      <th></th>\n",
       "      <th>index</th>\n",
       "      <th>over 50</th>\n",
       "      <th>under 50</th>\n",
       "    </tr>\n",
       "  </thead>\n",
       "  <tbody>\n",
       "    <tr>\n",
       "      <th>0</th>\n",
       "      <td>age</td>\n",
       "      <td>57.000000</td>\n",
       "      <td>44.000000</td>\n",
       "    </tr>\n",
       "    <tr>\n",
       "      <th>1</th>\n",
       "      <td>cardio</td>\n",
       "      <td>1.000000</td>\n",
       "      <td>1.000000</td>\n",
       "    </tr>\n",
       "    <tr>\n",
       "      <th>2</th>\n",
       "      <td>total</td>\n",
       "      <td>1746.133333</td>\n",
       "      <td>690.181818</td>\n",
       "    </tr>\n",
       "    <tr>\n",
       "      <th>3</th>\n",
       "      <td>average</td>\n",
       "      <td>56.621826</td>\n",
       "      <td>35.682764</td>\n",
       "    </tr>\n",
       "  </tbody>\n",
       "</table>\n",
       "</div>"
      ],
      "text/plain": [
       "     index      over 50    under 50\n",
       "0      age    57.000000   44.000000\n",
       "1   cardio     1.000000    1.000000\n",
       "2    total  1746.133333  690.181818\n",
       "3  average    56.621826   35.682764"
      ]
     },
     "execution_count": 295,
     "metadata": {},
     "output_type": "execute_result"
    }
   ],
   "source": [
    "#divide bewtween two groups under and over 50\n",
    "aux1 = aux1[(aux1['cardio'] >= 1)]\n",
    "aux_50 = aux1[(aux1['age'] >= 50)]\n",
    "aux_50 = pd.DataFrame(aux_50.apply(np.mean)).T\n",
    "\n",
    "aux_49 = aux1[(aux1['age'] < 50)]\n",
    "aux_49 = pd.DataFrame(aux_49.apply(np.mean)).T\n",
    "\n",
    "#result of average\n",
    "m = pd.concat([aux_50, aux_49]).T.reset_index()\n",
    "m.columns = ['index','over 50','under 50']\n",
    "m['index'] = {'age': 0, 'cardio': 1, 'total': 2, 'average': 3}\n",
    "m"
   ]
  },
  {
   "cell_type": "code",
   "execution_count": 296,
   "metadata": {
    "ExecuteTime": {
     "end_time": "2021-07-10T22:37:34.224089Z",
     "start_time": "2021-07-10T22:37:33.686421Z"
    },
    "hidden": true
   },
   "outputs": [
    {
     "data": {
      "image/png": "[encoded data removed]",
      "text/plain": [
       "<Figure size 1296x720 with 1 Axes>"
      ]
     },
     "metadata": {
      "needs_background": "light"
     },
     "output_type": "display_data"
    }
   ],
   "source": [
    "#histogram people who had CVD per age\n",
    "fig_dims = (18, 10)\n",
    "fig, ax = plt.subplots(figsize=fig_dims)\n",
    "\n",
    "graph = sns.barplot(x='age', y='%_cardio_1', ax=ax, data=aux1)\n",
    "graph.axvline(10.5, ymin=0.0, ymax=1.0, linestyle =\"--\", color='blue')\n",
    "graph.axhline(51, xmin=0.0, xmax=1.0, linestyle =\"--\", color='red')\n",
    "plt.title('% People who had CVD per age')\n",
    "plt.show()"
   ]
  },
  {
   "cell_type": "markdown",
   "metadata": {
    "hidden": true
   },
   "source": [
    "**2. Analysis between 140 - 193 cm. People shorter than 170 cm (5'7'') have a 5% more chance of CVDs than over 170 cm**\n",
    "\n",
    "**FALSE** On average people shorter than 170 cm have 4.5% more likely to have CVD than over 170."
   ]
  },
  {
   "cell_type": "code",
   "execution_count": 293,
   "metadata": {
    "ExecuteTime": {
     "end_time": "2021-07-10T22:37:23.557284Z",
     "start_time": "2021-07-10T22:37:21.697503Z"
    },
    "hidden": true
   },
   "outputs": [
    {
     "data": {
      "image/png": "[encoded data removed]",
      "text/plain": [
       "<Figure size 1296x720 with 1 Axes>"
      ]
     },
     "metadata": {
      "needs_background": "light"
     },
     "output_type": "display_data"
    }
   ],
   "source": [
    "#cvd per height\n",
    "aux1 = df4[(df4['height'] >= 140) & (df4['height'] <= 193)]\n",
    "aux1 = aux1[['height', 'cardio']].groupby('height').sum().reset_index()\n",
    "\n",
    "#histogram\n",
    "fig_dims = (18, 10)\n",
    "fig, ax = plt.subplots(figsize=fig_dims)\n",
    "sns.barplot(x='height', y='cardio', ax=ax, data=aux1)\n",
    "plt.title('People who had CVD per height (cm)')\n",
    "plt.show()"
   ]
  },
  {
   "cell_type": "code",
   "execution_count": 289,
   "metadata": {
    "ExecuteTime": {
     "end_time": "2021-07-10T20:08:19.467993Z",
     "start_time": "2021-07-10T20:08:19.454999Z"
    },
    "hidden": true
   },
   "outputs": [],
   "source": [
    "#filter height 140 - 190 and divide between two groups\n",
    "#aux1 = df4[(df4['cardio'] >= 1) & (df4['height'] >= 140) & (df4['height'] <= 190)]\n",
    "#aux1 = aux1[['height', 'cardio']].groupby('height').size().reset_index().rename(columns={0:'total_1'})\n",
    "\n",
    "#aux2 = df4[(df4['cardio'] <= 0) & (df4['height'] >= 140) & (df4['height'] <= 190)]\n",
    "#aux2 = aux2[['height', 'cardio']].groupby('height').size().reset_index().rename(columns={0:'total_0'})\n",
    "\n",
    "#fig = plt.figure(figsize=(10,10))\n",
    "\n",
    "#ax = fig.add_subplot(111)\n",
    "\n",
    "#width = 0.2\n",
    "\n",
    "#aux1.plot(x='height', y='total_1', kind='bar', color='red', ax=ax, width=width, position=0)\n",
    "#aux2.plot(x='height', y='total_0', kind='bar', color='blue', ax=ax, width=width, position=1)\n",
    "#plt.show()"
   ]
  },
  {
   "cell_type": "code",
   "execution_count": 297,
   "metadata": {
    "ExecuteTime": {
     "end_time": "2021-07-10T22:37:41.793325Z",
     "start_time": "2021-07-10T22:37:41.728367Z"
    },
    "hidden": true
   },
   "outputs": [
    {
     "name": "stderr",
     "output_type": "stream",
     "text": [
      "<ipython-input-231-6e4d339763c6>:30: SettingWithCopyWarning: \n",
      "A value is trying to be set on a copy of a slice from a DataFrame\n",
      "\n",
      "See the caveats in the documentation: https://pandas.pydata.org/pandas-docs/stable/user_guide/indexing.html#returning-a-view-versus-a-copy\n",
      "  x['%_cardio_1'][i] = p\n"
     ]
    }
   ],
   "source": [
    "#filtering and calculate % people with CVD per height\n",
    "aux1 = df4[(df4['height'] >= 135) & (df4['height'] <= 193)]\n",
    "aux1 = aux1[['height', 'cardio']].groupby(['height','cardio']).size().reset_index().rename(columns={0:'total'})\n",
    "aux1['%_cardio_1'] = \"\"\n",
    "aux1 = perc(aux1)"
   ]
  },
  {
   "cell_type": "code",
   "execution_count": 298,
   "metadata": {
    "ExecuteTime": {
     "end_time": "2021-07-10T22:37:42.776448Z",
     "start_time": "2021-07-10T22:37:42.748465Z"
    },
    "hidden": true
   },
   "outputs": [
    {
     "data": {
      "text/html": [
       "<div>\n",
       "<style scoped>\n",
       "    .dataframe tbody tr th:only-of-type {\n",
       "        vertical-align: middle;\n",
       "    }\n",
       "\n",
       "    .dataframe tbody tr th {\n",
       "        vertical-align: top;\n",
       "    }\n",
       "\n",
       "    .dataframe thead th {\n",
       "        text-align: right;\n",
       "    }\n",
       "</style>\n",
       "<table border=\"1\" class=\"dataframe\">\n",
       "  <thead>\n",
       "    <tr style=\"text-align: right;\">\n",
       "      <th></th>\n",
       "      <th>index</th>\n",
       "      <th>over 170</th>\n",
       "      <th>below 169</th>\n",
       "    </tr>\n",
       "  </thead>\n",
       "  <tbody>\n",
       "    <tr>\n",
       "      <th>0</th>\n",
       "      <td>age</td>\n",
       "      <td>181.500000</td>\n",
       "      <td>154.500000</td>\n",
       "    </tr>\n",
       "    <tr>\n",
       "      <th>1</th>\n",
       "      <td>cardio</td>\n",
       "      <td>1.000000</td>\n",
       "      <td>1.000000</td>\n",
       "    </tr>\n",
       "    <tr>\n",
       "      <th>2</th>\n",
       "      <td>total</td>\n",
       "      <td>363.958333</td>\n",
       "      <td>834.400000</td>\n",
       "    </tr>\n",
       "    <tr>\n",
       "      <th>3</th>\n",
       "      <td>average</td>\n",
       "      <td>49.644526</td>\n",
       "      <td>54.135984</td>\n",
       "    </tr>\n",
       "  </tbody>\n",
       "</table>\n",
       "</div>"
      ],
      "text/plain": [
       "     index    over 170   below 169\n",
       "0      age  181.500000  154.500000\n",
       "1   cardio    1.000000    1.000000\n",
       "2    total  363.958333  834.400000\n",
       "3  average   49.644526   54.135984"
      ]
     },
     "execution_count": 298,
     "metadata": {},
     "output_type": "execute_result"
    }
   ],
   "source": [
    "#divide bewtween two groups below and over 170\n",
    "aux1 = aux1[(aux1['cardio'] >= 1)]\n",
    "aux_170 = aux1[(aux1['height'] >= 170)]\n",
    "aux_170 = pd.DataFrame(aux_170.apply(np.mean)).T\n",
    "\n",
    "aux_169 = aux1[(aux1['height'] < 170)]\n",
    "aux_169 = pd.DataFrame(aux_169.apply(np.mean)).T\n",
    "\n",
    "#result of average\n",
    "m = pd.concat([aux_170, aux_169]).T.reset_index()\n",
    "m.columns = ['index','over 170','below 169']\n",
    "m['index'] = {'age': 0, 'cardio': 1, 'total': 2, 'average': 3}\n",
    "m"
   ]
  },
  {
   "cell_type": "code",
   "execution_count": 299,
   "metadata": {
    "ExecuteTime": {
     "end_time": "2021-07-10T22:37:45.511163Z",
     "start_time": "2021-07-10T22:37:43.572355Z"
    },
    "hidden": true
   },
   "outputs": [
    {
     "data": {
      "image/png": "[encoded data removed]",
      "text/plain": [
       "<Figure size 1296x720 with 1 Axes>"
      ]
     },
     "metadata": {
      "needs_background": "light"
     },
     "output_type": "display_data"
    }
   ],
   "source": [
    "#histogram people who had CVD per height\n",
    "fig_dims = (18, 10)\n",
    "fig, ax = plt.subplots(figsize=fig_dims)\n",
    "\n",
    "graph = sns.barplot(x='height', y='%_cardio_1', ax=ax, data=aux1)\n",
    "graph.axvline(29.5, ymin=0.0, ymax=1.0, linestyle =\"--\", color='blue')\n",
    "graph.axhline(51, xmin=0.0, xmax=1.0, linestyle =\"--\", color='red')\n",
    "plt.title('% People who had CVD per height')\n",
    "plt.show()"
   ]
  },
  {
   "cell_type": "markdown",
   "metadata": {
    "hidden": true
   },
   "source": [
    "**3. Men are 30% more likely than women to develop a CVD**\n",
    "\n",
    "**FALSE** Although men had more CVD than women, the gap are lesser than 30%. Men had 50,1% of cases of CVD, while women had 49,6%"
   ]
  },
  {
   "cell_type": "code",
   "execution_count": 300,
   "metadata": {
    "ExecuteTime": {
     "end_time": "2021-07-10T22:37:57.149140Z",
     "start_time": "2021-07-10T22:37:56.773266Z"
    },
    "hidden": true
   },
   "outputs": [],
   "source": [
    "#transform to categorical\n",
    "df42 = df4.copy()\n",
    "df42['gender'] = df42['gender'].apply({1:'women', 2:'men'}.get)"
   ]
  },
  {
   "cell_type": "code",
   "execution_count": 301,
   "metadata": {
    "ExecuteTime": {
     "end_time": "2021-07-10T22:37:58.387000Z",
     "start_time": "2021-07-10T22:37:58.036258Z"
    },
    "hidden": true
   },
   "outputs": [
    {
     "data": {
      "image/png": "[encoded data removed]",
      "text/plain": [
       "<Figure size 720x720 with 1 Axes>"
      ]
     },
     "metadata": {
      "needs_background": "light"
     },
     "output_type": "display_data"
    }
   ],
   "source": [
    "#cvd per height\n",
    "aux1 = df42[(df42['cardio'] >= 1)]\n",
    "aux1 = aux1[['gender', 'cardio']].groupby('gender').size().reset_index().rename(columns={0:'total_1'})\n",
    "\n",
    "aux2 = df42[(df42['cardio'] <= 0)]\n",
    "aux2 = aux2[['gender', 'cardio']].groupby('gender').size().reset_index().rename(columns={0:'total_0'})\n",
    "\n",
    "#histogram\n",
    "fig = plt.figure(figsize=(10,10))\n",
    "\n",
    "ax = fig.add_subplot(111)\n",
    "\n",
    "width = 0.2\n",
    "\n",
    "aux1.plot(x='gender', y='total_1', kind='bar', color='red', ax=ax, width=width, position=0)\n",
    "aux2.plot(x='gender', y='total_0', kind='bar', color='blue', ax=ax, width=width, position=1)\n",
    "plt.show()"
   ]
  },
  {
   "cell_type": "code",
   "execution_count": 303,
   "metadata": {
    "ExecuteTime": {
     "end_time": "2021-07-10T22:38:23.181032Z",
     "start_time": "2021-07-10T22:38:23.094085Z"
    },
    "hidden": true
   },
   "outputs": [
    {
     "name": "stderr",
     "output_type": "stream",
     "text": [
      "<ipython-input-231-6e4d339763c6>:30: SettingWithCopyWarning: \n",
      "A value is trying to be set on a copy of a slice from a DataFrame\n",
      "\n",
      "See the caveats in the documentation: https://pandas.pydata.org/pandas-docs/stable/user_guide/indexing.html#returning-a-view-versus-a-copy\n",
      "  x['%_cardio_1'][i] = p\n"
     ]
    },
    {
     "data": {
      "text/html": [
       "<div>\n",
       "<style scoped>\n",
       "    .dataframe tbody tr th:only-of-type {\n",
       "        vertical-align: middle;\n",
       "    }\n",
       "\n",
       "    .dataframe tbody tr th {\n",
       "        vertical-align: top;\n",
       "    }\n",
       "\n",
       "    .dataframe thead th {\n",
       "        text-align: right;\n",
       "    }\n",
       "</style>\n",
       "<table border=\"1\" class=\"dataframe\">\n",
       "  <thead>\n",
       "    <tr style=\"text-align: right;\">\n",
       "      <th></th>\n",
       "      <th>gender</th>\n",
       "      <th>cardio</th>\n",
       "      <th>total</th>\n",
       "      <th>%_cardio_1</th>\n",
       "    </tr>\n",
       "  </thead>\n",
       "  <tbody>\n",
       "    <tr>\n",
       "      <th>1</th>\n",
       "      <td>men</td>\n",
       "      <td>1</td>\n",
       "      <td>11970</td>\n",
       "      <td>50.104646</td>\n",
       "    </tr>\n",
       "    <tr>\n",
       "      <th>3</th>\n",
       "      <td>women</td>\n",
       "      <td>1</td>\n",
       "      <td>21814</td>\n",
       "      <td>49.642711</td>\n",
       "    </tr>\n",
       "  </tbody>\n",
       "</table>\n",
       "</div>"
      ],
      "text/plain": [
       "  gender  cardio  total %_cardio_1\n",
       "1    men       1  11970  50.104646\n",
       "3  women       1  21814  49.642711"
      ]
     },
     "execution_count": 303,
     "metadata": {},
     "output_type": "execute_result"
    }
   ],
   "source": [
    "#calculate % people with CVD per gender\n",
    "aux1 = df42[['gender', 'cardio']].groupby(['gender','cardio']).size().reset_index().rename(columns={0:'total'})\n",
    "aux1['%_cardio_1'] = \"\"\n",
    "aux1 = perc(aux1)\n",
    "\n",
    "#result of %\n",
    "aux1 = aux1[(aux1['cardio'] >= 1)]\n",
    "aux1"
   ]
  },
  {
   "cell_type": "code",
   "execution_count": 305,
   "metadata": {
    "ExecuteTime": {
     "end_time": "2021-07-10T22:38:37.561848Z",
     "start_time": "2021-07-10T22:38:37.330991Z"
    },
    "hidden": true
   },
   "outputs": [
    {
     "data": {
      "image/png": "[encoded data removed]",
      "text/plain": [
       "<Figure size 432x576 with 1 Axes>"
      ]
     },
     "metadata": {
      "needs_background": "light"
     },
     "output_type": "display_data"
    }
   ],
   "source": [
    "#histogram people who had CVD per gender (average)\n",
    "fig_dims = (6, 8)\n",
    "fig, ax = plt.subplots(figsize=fig_dims)\n",
    "\n",
    "graph = sns.barplot(x='gender', y='%_cardio_1', ax=ax, data=aux1)\n",
    "graph.axhline(51, xmin=0.0, xmax=1.0, linestyle =\"--\", color='red')\n",
    "plt.title('% People who had CVD per active')\n",
    "plt.show()"
   ]
  },
  {
   "cell_type": "markdown",
   "metadata": {
    "hidden": true
   },
   "source": [
    "**4. Analysis between 50 - 130. People over 100 kg (220 lb) have 40% more chance of having a CVD than 100 kg**\n",
    "\n",
    "**FALSE** On average people with over 100 kg have 19.9% more chance of having a CVD than below 100 kg"
   ]
  },
  {
   "cell_type": "code",
   "execution_count": 319,
   "metadata": {
    "ExecuteTime": {
     "end_time": "2021-07-10T22:47:03.490022Z",
     "start_time": "2021-07-10T22:47:00.181598Z"
    },
    "hidden": true
   },
   "outputs": [
    {
     "data": {
      "text/plain": [
       "<AxesSubplot:xlabel='weight', ylabel='cardio'>"
      ]
     },
     "execution_count": 319,
     "metadata": {},
     "output_type": "execute_result"
    },
    {
     "data": {
      "image/png": "[encoded data removed]",
      "text/plain": [
       "<Figure size 1296x720 with 1 Axes>"
      ]
     },
     "metadata": {
      "needs_background": "light"
     },
     "output_type": "display_data"
    }
   ],
   "source": [
    "#cvd per weight\n",
    "aux1 = df4[(df4['weight'] >= 50) & (df4['weight'] <= 130)]\n",
    "aux1 = aux1[['weight', 'cardio']].groupby('weight').sum().reset_index()\n",
    "\n",
    "#histogram\n",
    "fig_dims = (18, 10)\n",
    "fig, ax = plt.subplots(figsize=fig_dims)\n",
    "sns.barplot(x='weight', y='cardio', ax=ax, data=aux1)"
   ]
  },
  {
   "cell_type": "code",
   "execution_count": 308,
   "metadata": {
    "ExecuteTime": {
     "end_time": "2021-07-10T22:42:11.190810Z",
     "start_time": "2021-07-10T22:42:11.159472Z"
    },
    "hidden": true
   },
   "outputs": [],
   "source": [
    "#filter weight 33 - 100 and divide between two groups\n",
    "#aux1 = df4[(df4['weight'] >= 33) & (df4['weight'] <= 100) & (df4['cardio'] >= 1)]\n",
    "#aux1 = aux1[['weight', 'cardio']].groupby('weight').size().reset_index().rename(columns={0:'total_1'})\n",
    "\n",
    "#aux2 = df4[(df4['weight'] >= 33) & (df4['weight'] <= 100) & (df4['cardio'] <= 0)]\n",
    "#aux2 = aux2[['weight', 'cardio']].groupby('weight').size().reset_index().rename(columns={0:'total_0'})"
   ]
  },
  {
   "cell_type": "code",
   "execution_count": 320,
   "metadata": {
    "ExecuteTime": {
     "end_time": "2021-07-10T22:47:13.459451Z",
     "start_time": "2021-07-10T22:47:13.366508Z"
    },
    "hidden": true
   },
   "outputs": [
    {
     "name": "stderr",
     "output_type": "stream",
     "text": [
      "<ipython-input-231-6e4d339763c6>:30: SettingWithCopyWarning: \n",
      "A value is trying to be set on a copy of a slice from a DataFrame\n",
      "\n",
      "See the caveats in the documentation: https://pandas.pydata.org/pandas-docs/stable/user_guide/indexing.html#returning-a-view-versus-a-copy\n",
      "  x['%_cardio_1'][i] = p\n"
     ]
    }
   ],
   "source": [
    "#filtering and calculate % people with CVD per weight\n",
    "aux1 = df4[(df4['weight'] >= 50) & (df4['weight'] <= 130)]\n",
    "aux1 = aux1[['weight', 'cardio']].groupby(['weight','cardio']).size().reset_index().rename(columns={0:'total'})\n",
    "aux1['%_cardio_1'] = \"\"\n",
    "aux1 = perc(aux1)"
   ]
  },
  {
   "cell_type": "code",
   "execution_count": 321,
   "metadata": {
    "ExecuteTime": {
     "end_time": "2021-07-10T22:47:18.582257Z",
     "start_time": "2021-07-10T22:47:18.547279Z"
    },
    "hidden": true
   },
   "outputs": [
    {
     "data": {
      "text/html": [
       "<div>\n",
       "<style scoped>\n",
       "    .dataframe tbody tr th:only-of-type {\n",
       "        vertical-align: middle;\n",
       "    }\n",
       "\n",
       "    .dataframe tbody tr th {\n",
       "        vertical-align: top;\n",
       "    }\n",
       "\n",
       "    .dataframe thead th {\n",
       "        text-align: right;\n",
       "    }\n",
       "</style>\n",
       "<table border=\"1\" class=\"dataframe\">\n",
       "  <thead>\n",
       "    <tr style=\"text-align: right;\">\n",
       "      <th></th>\n",
       "      <th>index</th>\n",
       "      <th>over 100</th>\n",
       "      <th>below 100</th>\n",
       "    </tr>\n",
       "  </thead>\n",
       "  <tbody>\n",
       "    <tr>\n",
       "      <th>0</th>\n",
       "      <td>age</td>\n",
       "      <td>115.000000</td>\n",
       "      <td>74.500000</td>\n",
       "    </tr>\n",
       "    <tr>\n",
       "      <th>1</th>\n",
       "      <td>cardio</td>\n",
       "      <td>1.000000</td>\n",
       "      <td>1.000000</td>\n",
       "    </tr>\n",
       "    <tr>\n",
       "      <th>2</th>\n",
       "      <td>total</td>\n",
       "      <td>77.419355</td>\n",
       "      <td>625.480000</td>\n",
       "    </tr>\n",
       "    <tr>\n",
       "      <th>3</th>\n",
       "      <td>average</td>\n",
       "      <td>69.828397</td>\n",
       "      <td>49.889188</td>\n",
       "    </tr>\n",
       "  </tbody>\n",
       "</table>\n",
       "</div>"
      ],
      "text/plain": [
       "     index    over 100   below 100\n",
       "0      age  115.000000   74.500000\n",
       "1   cardio    1.000000    1.000000\n",
       "2    total   77.419355  625.480000\n",
       "3  average   69.828397   49.889188"
      ]
     },
     "execution_count": 321,
     "metadata": {},
     "output_type": "execute_result"
    }
   ],
   "source": [
    "#divide bewtween two groups below and over 100 kg\n",
    "aux1 = aux1[(aux1['cardio'] >=1)]\n",
    "aux_100 = aux1[(aux1['weight'] >= 100)]\n",
    "aux_100 = pd.DataFrame(aux_100.apply(np.mean)).T\n",
    "\n",
    "aux_99 = aux1[(aux1['weight'] < 100)]\n",
    "aux_99 = pd.DataFrame(aux_99.apply(np.mean)).T\n",
    "\n",
    "#result of average\n",
    "m = pd.concat([aux_100, aux_99]).T.reset_index()\n",
    "m.columns = ['index','over 100','below 100']\n",
    "m['index'] = {'age': 0, 'cardio': 1, 'total': 2, 'average': 3}\n",
    "m"
   ]
  },
  {
   "cell_type": "code",
   "execution_count": 322,
   "metadata": {
    "ExecuteTime": {
     "end_time": "2021-07-10T22:47:22.634687Z",
     "start_time": "2021-07-10T22:47:19.995463Z"
    },
    "hidden": true
   },
   "outputs": [
    {
     "data": {
      "image/png": "[encoded data removed]",
      "text/plain": [
       "<Figure size 1440x1080 with 1 Axes>"
      ]
     },
     "metadata": {
      "needs_background": "light"
     },
     "output_type": "display_data"
    }
   ],
   "source": [
    "#histogram people who had CVD per height\n",
    "fig_dims = (20,15)\n",
    "fig, ax = plt.subplots(figsize=fig_dims)\n",
    "\n",
    "graph = sns.barplot(x='weight', y='%_cardio_1', ax=ax, data=aux1)\n",
    "graph.axvline(49.5, ymin=0.0, ymax=1.0, linestyle =\"--\", color='blue')\n",
    "graph.axhline(51, xmin=0.0, xmax=1.0, linestyle =\"--\", color='red')\n",
    "plt.title('% People who had CVD per BMI')\n",
    "plt.show()"
   ]
  },
  {
   "cell_type": "markdown",
   "metadata": {
    "hidden": true
   },
   "source": [
    "**5. People with a BMI above 30 (obese class I) have 25% more chance of having a CVD than below 30**\n",
    "\n",
    "**TRUE** People with a BMI above than 30 have 26.3% chance of having CVD than BMI below 30"
   ]
  },
  {
   "cell_type": "code",
   "execution_count": 323,
   "metadata": {
    "ExecuteTime": {
     "end_time": "2021-07-10T22:48:25.241017Z",
     "start_time": "2021-07-10T22:48:25.228025Z"
    },
    "hidden": true
   },
   "outputs": [],
   "source": [
    "#convert type bmi (int)\n",
    "df4['bmi'] = df4['bmi'].astype(int)"
   ]
  },
  {
   "cell_type": "code",
   "execution_count": 336,
   "metadata": {
    "ExecuteTime": {
     "end_time": "2021-07-10T23:16:00.570484Z",
     "start_time": "2021-07-10T23:15:59.901834Z"
    },
    "hidden": true
   },
   "outputs": [
    {
     "data": {
      "text/plain": [
       "<AxesSubplot:xlabel='bmi', ylabel='cardio'>"
      ]
     },
     "execution_count": 336,
     "metadata": {},
     "output_type": "execute_result"
    },
    {
     "data": {
      "image/png": "[encoded data removed]",
      "text/plain": [
       "<Figure size 1296x720 with 1 Axes>"
      ]
     },
     "metadata": {
      "needs_background": "light"
     },
     "output_type": "display_data"
    }
   ],
   "source": [
    "#cvd per weight\n",
    "aux1 = df4[(df4['bmi'] >= 15) & (df4['bmi'] <= 50)]\n",
    "aux1 = aux1[['bmi', 'cardio']].groupby('bmi').sum().reset_index()\n",
    "\n",
    "#histogram\n",
    "fig_dims = (18, 10)\n",
    "fig, ax = plt.subplots(figsize=fig_dims)\n",
    "sns.barplot(x='bmi', y='cardio', ax=ax, data=aux1)"
   ]
  },
  {
   "cell_type": "code",
   "execution_count": 326,
   "metadata": {
    "ExecuteTime": {
     "end_time": "2021-07-10T22:48:55.237082Z",
     "start_time": "2021-07-10T22:48:55.177112Z"
    },
    "hidden": true
   },
   "outputs": [
    {
     "name": "stderr",
     "output_type": "stream",
     "text": [
      "<ipython-input-231-6e4d339763c6>:30: SettingWithCopyWarning: \n",
      "A value is trying to be set on a copy of a slice from a DataFrame\n",
      "\n",
      "See the caveats in the documentation: https://pandas.pydata.org/pandas-docs/stable/user_guide/indexing.html#returning-a-view-versus-a-copy\n",
      "  x['%_cardio_1'][i] = p\n"
     ]
    }
   ],
   "source": [
    "#calculate % people with CVD per bmi\n",
    "aux1 = df4[(df4['bmi'] >= 15) & (df4['bmi'] <= 50)]\n",
    "aux1 = aux1[['bmi', 'cardio']].groupby(['bmi','cardio']).size().reset_index().rename(columns={0:'total'})\n",
    "aux1['%_cardio_1'] = \"\"\n",
    "aux1 = perc(aux1)"
   ]
  },
  {
   "cell_type": "code",
   "execution_count": 329,
   "metadata": {
    "ExecuteTime": {
     "end_time": "2021-07-10T22:49:27.891568Z",
     "start_time": "2021-07-10T22:49:27.864587Z"
    },
    "hidden": true
   },
   "outputs": [
    {
     "data": {
      "text/html": [
       "<div>\n",
       "<style scoped>\n",
       "    .dataframe tbody tr th:only-of-type {\n",
       "        vertical-align: middle;\n",
       "    }\n",
       "\n",
       "    .dataframe tbody tr th {\n",
       "        vertical-align: top;\n",
       "    }\n",
       "\n",
       "    .dataframe thead th {\n",
       "        text-align: right;\n",
       "    }\n",
       "</style>\n",
       "<table border=\"1\" class=\"dataframe\">\n",
       "  <thead>\n",
       "    <tr style=\"text-align: right;\">\n",
       "      <th></th>\n",
       "      <th>index</th>\n",
       "      <th>over 30</th>\n",
       "      <th>above 30</th>\n",
       "    </tr>\n",
       "  </thead>\n",
       "  <tbody>\n",
       "    <tr>\n",
       "      <th>0</th>\n",
       "      <td>age</td>\n",
       "      <td>40.000000</td>\n",
       "      <td>22.000000</td>\n",
       "    </tr>\n",
       "    <tr>\n",
       "      <th>1</th>\n",
       "      <td>cardio</td>\n",
       "      <td>1.000000</td>\n",
       "      <td>1.000000</td>\n",
       "    </tr>\n",
       "    <tr>\n",
       "      <th>2</th>\n",
       "      <td>total</td>\n",
       "      <td>530.285714</td>\n",
       "      <td>1505.733333</td>\n",
       "    </tr>\n",
       "    <tr>\n",
       "      <th>3</th>\n",
       "      <td>average</td>\n",
       "      <td>66.898624</td>\n",
       "      <td>40.642735</td>\n",
       "    </tr>\n",
       "  </tbody>\n",
       "</table>\n",
       "</div>"
      ],
      "text/plain": [
       "     index     over 30     above 30\n",
       "0      age   40.000000    22.000000\n",
       "1   cardio    1.000000     1.000000\n",
       "2    total  530.285714  1505.733333\n",
       "3  average   66.898624    40.642735"
      ]
     },
     "execution_count": 329,
     "metadata": {},
     "output_type": "execute_result"
    }
   ],
   "source": [
    "#divide between two groups below and over 30\n",
    "aux1 = aux1[(aux1['cardio'] >=1)]\n",
    "aux_30 = aux1[(aux1['bmi'] >= 30)]\n",
    "aux_30 = pd.DataFrame(aux_30.apply(np.mean)).T\n",
    "\n",
    "aux_29 = aux1[(aux1['bmi'] < 30)]\n",
    "aux_29 = pd.DataFrame(aux_29.apply(np.mean)).T\n",
    "\n",
    "#result of average\n",
    "m = pd.concat([aux_30, aux_29]).T.reset_index()\n",
    "m.columns = ['index','over 30','above 30']\n",
    "m['index'] = {'age': 0, 'cardio': 1, 'total': 2, 'average': 3}\n",
    "m"
   ]
  },
  {
   "cell_type": "code",
   "execution_count": 328,
   "metadata": {
    "ExecuteTime": {
     "end_time": "2021-07-10T22:49:00.137381Z",
     "start_time": "2021-07-10T22:48:59.463786Z"
    },
    "hidden": true,
    "scrolled": true
   },
   "outputs": [
    {
     "data": {
      "image/png": "[encoded data removed]",
      "text/plain": [
       "<Figure size 1296x720 with 1 Axes>"
      ]
     },
     "metadata": {
      "needs_background": "light"
     },
     "output_type": "display_data"
    }
   ],
   "source": [
    "#histogram people who had CVD per BMI\n",
    "fig_dims = (18, 10)\n",
    "fig, ax = plt.subplots(figsize=fig_dims)\n",
    "\n",
    "graph = sns.barplot(x='bmi', y='%_cardio_1', ax=ax, data=aux1)\n",
    "graph.axvline(14.5, ymin=0.0, ymax=1.0, linestyle =\"--\", color='blue')\n",
    "graph.axhline(51, xmin=0.0, xmax=1.0, linestyle =\"--\", color='red')\n",
    "plt.title('% People who had CVD per BMI')\n",
    "plt.show()"
   ]
  },
  {
   "cell_type": "markdown",
   "metadata": {
    "hidden": true
   },
   "source": [
    "**6. People who do not engage in physical activity are 40% more likely to have CVDs than who engage**\n",
    "\n",
    "**FALSE** People who engage in physical activity more have 4.6% chance of having CVD"
   ]
  },
  {
   "cell_type": "code",
   "execution_count": 330,
   "metadata": {
    "ExecuteTime": {
     "end_time": "2021-07-10T23:09:07.125149Z",
     "start_time": "2021-07-10T23:09:07.106158Z"
    },
    "hidden": true
   },
   "outputs": [],
   "source": [
    "#transform to categorical\n",
    "df42 = df4.copy()\n",
    "df42['active'] = df42['active'].apply({0:'no', 1:'yes'}.get)"
   ]
  },
  {
   "cell_type": "code",
   "execution_count": 331,
   "metadata": {
    "ExecuteTime": {
     "end_time": "2021-07-10T23:09:08.187282Z",
     "start_time": "2021-07-10T23:09:07.829793Z"
    },
    "hidden": true
   },
   "outputs": [
    {
     "data": {
      "image/png": "[encoded data removed]",
      "text/plain": [
       "<Figure size 1440x1080 with 1 Axes>"
      ]
     },
     "metadata": {
      "needs_background": "light"
     },
     "output_type": "display_data"
    }
   ],
   "source": [
    "#cvd per physical activity\n",
    "aux1 = df42[(df42['cardio'] >= 1)]\n",
    "aux1 = aux1[['active', 'cardio']].groupby('active').size().reset_index().rename(columns={0:'total_1'})\n",
    "\n",
    "aux2 = df42[(df42['cardio'] <= 0)]\n",
    "aux2 = aux2[['active', 'cardio']].groupby('active').size().reset_index().rename(columns={0:'total_0'})\n",
    "\n",
    "#histogram\n",
    "fig = plt.figure(figsize=(20,15))\n",
    "\n",
    "ax = fig.add_subplot(111)\n",
    "\n",
    "width = 0.2\n",
    "\n",
    "aux1.plot(x='active', y='total_1', kind='bar', color='red', ax=ax, width=width, position=0)\n",
    "aux2.plot(x='active', y='total_0', kind='bar', color='blue', ax=ax, width=width, position=1)\n",
    "plt.show()"
   ]
  },
  {
   "cell_type": "code",
   "execution_count": 334,
   "metadata": {
    "ExecuteTime": {
     "end_time": "2021-07-10T23:12:33.974563Z",
     "start_time": "2021-07-10T23:12:33.929591Z"
    },
    "hidden": true
   },
   "outputs": [
    {
     "name": "stderr",
     "output_type": "stream",
     "text": [
      "<ipython-input-231-6e4d339763c6>:30: SettingWithCopyWarning: \n",
      "A value is trying to be set on a copy of a slice from a DataFrame\n",
      "\n",
      "See the caveats in the documentation: https://pandas.pydata.org/pandas-docs/stable/user_guide/indexing.html#returning-a-view-versus-a-copy\n",
      "  x['%_cardio_1'][i] = p\n"
     ]
    },
    {
     "data": {
      "text/html": [
       "<div>\n",
       "<style scoped>\n",
       "    .dataframe tbody tr th:only-of-type {\n",
       "        vertical-align: middle;\n",
       "    }\n",
       "\n",
       "    .dataframe tbody tr th {\n",
       "        vertical-align: top;\n",
       "    }\n",
       "\n",
       "    .dataframe thead th {\n",
       "        text-align: right;\n",
       "    }\n",
       "</style>\n",
       "<table border=\"1\" class=\"dataframe\">\n",
       "  <thead>\n",
       "    <tr style=\"text-align: right;\">\n",
       "      <th></th>\n",
       "      <th>active</th>\n",
       "      <th>cardio</th>\n",
       "      <th>total</th>\n",
       "      <th>%_cardio_1</th>\n",
       "    </tr>\n",
       "  </thead>\n",
       "  <tbody>\n",
       "    <tr>\n",
       "      <th>1</th>\n",
       "      <td>no</td>\n",
       "      <td>1</td>\n",
       "      <td>7155</td>\n",
       "      <td>53.535354</td>\n",
       "    </tr>\n",
       "    <tr>\n",
       "      <th>3</th>\n",
       "      <td>yes</td>\n",
       "      <td>1</td>\n",
       "      <td>26629</td>\n",
       "      <td>48.890154</td>\n",
       "    </tr>\n",
       "  </tbody>\n",
       "</table>\n",
       "</div>"
      ],
      "text/plain": [
       "  active  cardio  total %_cardio_1\n",
       "1     no       1   7155  53.535354\n",
       "3    yes       1  26629  48.890154"
      ]
     },
     "execution_count": 334,
     "metadata": {},
     "output_type": "execute_result"
    }
   ],
   "source": [
    "#calculate % people with CVD per activity\n",
    "aux1 = df4[['active', 'cardio']].groupby(['active','cardio']).size().reset_index().rename(columns={0:'total'})\n",
    "aux1['%_cardio_1'] = \"\"\n",
    "aux1 = perc(aux1)\n",
    "\n",
    "#result of %\n",
    "aux1 = aux1[(aux1['cardio'] >= 1)]\n",
    "aux1['active'] = aux1['active'].apply({0:'no', 1:'yes'}.get)\n",
    "aux1"
   ]
  },
  {
   "cell_type": "code",
   "execution_count": 335,
   "metadata": {
    "ExecuteTime": {
     "end_time": "2021-07-10T23:12:37.087718Z",
     "start_time": "2021-07-10T23:12:36.856834Z"
    },
    "hidden": true
   },
   "outputs": [
    {
     "data": {
      "image/png": "[encoded data removed]",
      "text/plain": [
       "<Figure size 432x576 with 1 Axes>"
      ]
     },
     "metadata": {
      "needs_background": "light"
     },
     "output_type": "display_data"
    }
   ],
   "source": [
    "#histogram people who had CVD per activity\n",
    "fig_dims = (6, 8)\n",
    "fig, ax = plt.subplots(figsize=fig_dims)\n",
    "\n",
    "graph = sns.barplot(x='active', y='%_cardio_1', ax=ax, data=aux1)\n",
    "#graph.axvline(29.5, ymin=0.0, ymax=1.0, linestyle =\"--\", color='blue')\n",
    "graph.axhline(51, xmin=0.0, xmax=1.0, linestyle =\"--\", color='red')\n",
    "plt.title('% People who had CVD per active')\n",
    "plt.show()"
   ]
  },
  {
   "cell_type": "markdown",
   "metadata": {
    "hidden": true
   },
   "source": [
    "**7. People who regularly consume alcohol have a 10% chance of having CVD than those who do not consume**\n",
    "\n",
    "**FALSE** People who regularly consume alcohol have 1.9% less chance of having CVD than who don't consume"
   ]
  },
  {
   "cell_type": "code",
   "execution_count": 337,
   "metadata": {
    "ExecuteTime": {
     "end_time": "2021-07-10T23:16:28.823474Z",
     "start_time": "2021-07-10T23:16:28.692303Z"
    },
    "hidden": true
   },
   "outputs": [],
   "source": [
    "#transform to categorical\n",
    "df42 = df4.copy()\n",
    "df42['alco'] = df42['alco'].apply({0:'no', 1:'yes'}.get)"
   ]
  },
  {
   "cell_type": "code",
   "execution_count": 338,
   "metadata": {
    "ExecuteTime": {
     "end_time": "2021-07-10T23:16:29.878720Z",
     "start_time": "2021-07-10T23:16:29.547147Z"
    },
    "hidden": true
   },
   "outputs": [
    {
     "data": {
      "image/png": "[encoded data removed]",
      "text/plain": [
       "<Figure size 720x720 with 1 Axes>"
      ]
     },
     "metadata": {
      "needs_background": "light"
     },
     "output_type": "display_data"
    }
   ],
   "source": [
    "#cvd per people who consume alcohol\n",
    "aux1 = df42[(df42['cardio'] >= 1)]\n",
    "aux1 = aux1[['alco', 'cardio']].groupby('alco').size().reset_index().rename(columns={0:'total_1'})\n",
    "\n",
    "aux2 = df42[(df42['cardio'] <= 0)]\n",
    "aux2 = aux2[['alco', 'cardio']].groupby('alco').size().reset_index().rename(columns={0:'total_0'})\n",
    "\n",
    "#histogram\n",
    "fig = plt.figure(figsize=(10,10))\n",
    "\n",
    "ax = fig.add_subplot(111)\n",
    "\n",
    "width = 0.2\n",
    "\n",
    "aux1.plot(x='alco', y='total_1', kind='bar', color='red', ax=ax, width=width, position=0)\n",
    "aux2.plot(x='alco', y='total_0', kind='bar', color='blue', ax=ax, width=width, position=1)\n",
    "plt.show()"
   ]
  },
  {
   "cell_type": "code",
   "execution_count": 340,
   "metadata": {
    "ExecuteTime": {
     "end_time": "2021-07-10T23:16:55.829937Z",
     "start_time": "2021-07-10T23:16:55.792963Z"
    },
    "hidden": true
   },
   "outputs": [
    {
     "name": "stderr",
     "output_type": "stream",
     "text": [
      "<ipython-input-231-6e4d339763c6>:30: SettingWithCopyWarning: \n",
      "A value is trying to be set on a copy of a slice from a DataFrame\n",
      "\n",
      "See the caveats in the documentation: https://pandas.pydata.org/pandas-docs/stable/user_guide/indexing.html#returning-a-view-versus-a-copy\n",
      "  x['%_cardio_1'][i] = p\n"
     ]
    },
    {
     "data": {
      "text/html": [
       "<div>\n",
       "<style scoped>\n",
       "    .dataframe tbody tr th:only-of-type {\n",
       "        vertical-align: middle;\n",
       "    }\n",
       "\n",
       "    .dataframe tbody tr th {\n",
       "        vertical-align: top;\n",
       "    }\n",
       "\n",
       "    .dataframe thead th {\n",
       "        text-align: right;\n",
       "    }\n",
       "</style>\n",
       "<table border=\"1\" class=\"dataframe\">\n",
       "  <thead>\n",
       "    <tr style=\"text-align: right;\">\n",
       "      <th></th>\n",
       "      <th>index</th>\n",
       "      <th>alco</th>\n",
       "      <th>cardio</th>\n",
       "      <th>total</th>\n",
       "      <th>%_cardio_1</th>\n",
       "    </tr>\n",
       "  </thead>\n",
       "  <tbody>\n",
       "    <tr>\n",
       "      <th>1</th>\n",
       "      <td>1</td>\n",
       "      <td>no</td>\n",
       "      <td>1</td>\n",
       "      <td>32025</td>\n",
       "      <td>49.905721</td>\n",
       "    </tr>\n",
       "    <tr>\n",
       "      <th>3</th>\n",
       "      <td>3</td>\n",
       "      <td>yes</td>\n",
       "      <td>1</td>\n",
       "      <td>1759</td>\n",
       "      <td>48.046982</td>\n",
       "    </tr>\n",
       "  </tbody>\n",
       "</table>\n",
       "</div>"
      ],
      "text/plain": [
       "   index alco  cardio  total %_cardio_1\n",
       "1      1   no       1  32025  49.905721\n",
       "3      3  yes       1   1759  48.046982"
      ]
     },
     "execution_count": 340,
     "metadata": {},
     "output_type": "execute_result"
    }
   ],
   "source": [
    "#calculate % people with CVD per people who consume alcohol\n",
    "aux1 = df42[['alco', 'cardio']].groupby(['alco','cardio']).size().reset_index().reset_index().rename(columns={0:'total'})\n",
    "aux1['%_cardio_1'] = \"\"\n",
    "aux1 = perc(aux1)\n",
    "\n",
    "#result of %\n",
    "aux1 = aux1[(aux1['cardio'] >= 1)]\n",
    "aux1"
   ]
  },
  {
   "cell_type": "code",
   "execution_count": 341,
   "metadata": {
    "ExecuteTime": {
     "end_time": "2021-07-10T23:17:08.152728Z",
     "start_time": "2021-07-10T23:17:07.950836Z"
    },
    "hidden": true
   },
   "outputs": [
    {
     "data": {
      "image/png": "[encoded data removed]",
      "text/plain": [
       "<Figure size 432x576 with 1 Axes>"
      ]
     },
     "metadata": {
      "needs_background": "light"
     },
     "output_type": "display_data"
    }
   ],
   "source": [
    "#histogram people who had CVD per per people who consume alcohol\n",
    "fig_dims = (6, 8)\n",
    "fig, ax = plt.subplots(figsize=fig_dims)\n",
    "\n",
    "graph = sns.barplot(x='alco', y='%_cardio_1', ax=ax, data=aux1)\n",
    "#graph.axvline(29.5, ymin=0.0, ymax=1.0, linestyle =\"--\", color='blue')\n",
    "graph.axhline(51, xmin=0.0, xmax=1.0, linestyle =\"--\", color='red')\n",
    "plt.title('% People who had CVD per alco')\n",
    "plt.show()"
   ]
  },
  {
   "cell_type": "markdown",
   "metadata": {
    "hidden": true
   },
   "source": [
    "**8. People who smoke are 20% more likely to have CVD than who do not smoke**\n",
    "\n",
    "**FALSE** People who smoke have 3% less chance of having CVD than who doesn't"
   ]
  },
  {
   "cell_type": "code",
   "execution_count": 342,
   "metadata": {
    "ExecuteTime": {
     "end_time": "2021-07-10T23:18:59.315369Z",
     "start_time": "2021-07-10T23:18:59.238429Z"
    },
    "hidden": true
   },
   "outputs": [],
   "source": [
    "#transform to categorical\n",
    "df42 = df4.copy()\n",
    "df42['smoke'] = df42['smoke'].apply({0:'no', 1:'yes'}.get)"
   ]
  },
  {
   "cell_type": "code",
   "execution_count": 343,
   "metadata": {
    "ExecuteTime": {
     "end_time": "2021-07-10T23:19:00.108918Z",
     "start_time": "2021-07-10T23:18:59.820009Z"
    },
    "hidden": true
   },
   "outputs": [
    {
     "data": {
      "image/png": "[encoded data removed]",
      "text/plain": [
       "<Figure size 720x720 with 1 Axes>"
      ]
     },
     "metadata": {
      "needs_background": "light"
     },
     "output_type": "display_data"
    }
   ],
   "source": [
    "#cvd per people who smoke\n",
    "aux1 = df42[(df42['cardio'] >= 1)]\n",
    "aux1 = aux1[['smoke', 'cardio']].groupby('smoke').size().reset_index().rename(columns={0:'total_1'})\n",
    "\n",
    "aux2 = df42[(df42['cardio'] <= 0)]\n",
    "aux2 = aux2[['smoke', 'cardio']].groupby('smoke').size().reset_index().rename(columns={0:'total_0'})\n",
    "\n",
    "#histogram\n",
    "fig = plt.figure(figsize=(10,10))\n",
    "\n",
    "ax = fig.add_subplot(111)\n",
    "\n",
    "width = 0.2\n",
    "\n",
    "aux1.plot(x='smoke', y='total_1', kind='bar', color='red', ax=ax, width=width, position=0)\n",
    "aux2.plot(x='smoke', y='total_0', kind='bar', color='blue', ax=ax, width=width, position=1)\n",
    "plt.show()"
   ]
  },
  {
   "cell_type": "code",
   "execution_count": 344,
   "metadata": {
    "ExecuteTime": {
     "end_time": "2021-07-10T23:19:09.770798Z",
     "start_time": "2021-07-10T23:19:09.719827Z"
    },
    "hidden": true
   },
   "outputs": [
    {
     "name": "stderr",
     "output_type": "stream",
     "text": [
      "<ipython-input-231-6e4d339763c6>:30: SettingWithCopyWarning: \n",
      "A value is trying to be set on a copy of a slice from a DataFrame\n",
      "\n",
      "See the caveats in the documentation: https://pandas.pydata.org/pandas-docs/stable/user_guide/indexing.html#returning-a-view-versus-a-copy\n",
      "  x['%_cardio_1'][i] = p\n"
     ]
    },
    {
     "data": {
      "text/html": [
       "<div>\n",
       "<style scoped>\n",
       "    .dataframe tbody tr th:only-of-type {\n",
       "        vertical-align: middle;\n",
       "    }\n",
       "\n",
       "    .dataframe tbody tr th {\n",
       "        vertical-align: top;\n",
       "    }\n",
       "\n",
       "    .dataframe thead th {\n",
       "        text-align: right;\n",
       "    }\n",
       "</style>\n",
       "<table border=\"1\" class=\"dataframe\">\n",
       "  <thead>\n",
       "    <tr style=\"text-align: right;\">\n",
       "      <th></th>\n",
       "      <th>smoke</th>\n",
       "      <th>cardio</th>\n",
       "      <th>total</th>\n",
       "      <th>%_cardio_1</th>\n",
       "    </tr>\n",
       "  </thead>\n",
       "  <tbody>\n",
       "    <tr>\n",
       "      <th>1</th>\n",
       "      <td>no</td>\n",
       "      <td>1</td>\n",
       "      <td>30958</td>\n",
       "      <td>50.067116</td>\n",
       "    </tr>\n",
       "    <tr>\n",
       "      <th>3</th>\n",
       "      <td>yes</td>\n",
       "      <td>1</td>\n",
       "      <td>2826</td>\n",
       "      <td>47.107851</td>\n",
       "    </tr>\n",
       "  </tbody>\n",
       "</table>\n",
       "</div>"
      ],
      "text/plain": [
       "  smoke  cardio  total %_cardio_1\n",
       "1    no       1  30958  50.067116\n",
       "3   yes       1   2826  47.107851"
      ]
     },
     "execution_count": 344,
     "metadata": {},
     "output_type": "execute_result"
    }
   ],
   "source": [
    "#calculate % people with CVD per people who smoke\n",
    "aux1 = df42[['smoke', 'cardio']].groupby(['smoke','cardio']).size().reset_index().rename(columns={0:'total'})\n",
    "aux1['%_cardio_1'] = \"\"\n",
    "aux1 = perc(aux1)\n",
    "\n",
    "#result of %\n",
    "aux1 = aux1[(aux1['cardio'] >= 1)]\n",
    "aux1"
   ]
  },
  {
   "cell_type": "code",
   "execution_count": 345,
   "metadata": {
    "ExecuteTime": {
     "end_time": "2021-07-10T23:19:14.310838Z",
     "start_time": "2021-07-10T23:19:14.130949Z"
    },
    "hidden": true
   },
   "outputs": [
    {
     "data": {
      "image/png": "[encoded data removed]",
      "text/plain": [
       "<Figure size 432x576 with 1 Axes>"
      ]
     },
     "metadata": {
      "needs_background": "light"
     },
     "output_type": "display_data"
    }
   ],
   "source": [
    "#histogram people who had CVD per people who smoke\n",
    "fig_dims = (6, 8)\n",
    "fig, ax = plt.subplots(figsize=fig_dims)\n",
    "\n",
    "graph = sns.barplot(x='smoke', y='%_cardio_1', ax=ax, data=aux1)\n",
    "#graph.axvline(29.5, ymin=0.0, ymax=1.0, linestyle =\"--\", color='blue')\n",
    "graph.axhline(51, xmin=0.0, xmax=1.0, linestyle =\"--\", color='red')\n",
    "plt.title('% People who had CVD per smoke')\n",
    "plt.show()"
   ]
  },
  {
   "cell_type": "markdown",
   "metadata": {
    "hidden": true
   },
   "source": [
    "**9. People with well above normal cholesterol have a 50% chance of having CVD than normal**\n",
    "\n",
    "**FALSE** People with well above normal cholesterol have 33% likely than people with normal"
   ]
  },
  {
   "cell_type": "code",
   "execution_count": 346,
   "metadata": {
    "ExecuteTime": {
     "end_time": "2021-07-10T23:19:37.039366Z",
     "start_time": "2021-07-10T23:19:36.984399Z"
    },
    "hidden": true
   },
   "outputs": [],
   "source": [
    "#transform to categorical\n",
    "df42 = df4.copy()\n",
    "df42['cholesterol'] = df42['cholesterol'].apply({1:'normal', 2:'above normal', 3:'well above normal'}.get)"
   ]
  },
  {
   "cell_type": "code",
   "execution_count": 347,
   "metadata": {
    "ExecuteTime": {
     "end_time": "2021-07-10T23:19:37.885375Z",
     "start_time": "2021-07-10T23:19:37.501378Z"
    },
    "hidden": true
   },
   "outputs": [
    {
     "data": {
      "image/png": "[encoded data removed]",
      "text/plain": [
       "<Figure size 720x720 with 1 Axes>"
      ]
     },
     "metadata": {
      "needs_background": "light"
     },
     "output_type": "display_data"
    }
   ],
   "source": [
    "#cvd per people who have above normal cholesterol\n",
    "aux1 = df42[(df42['cardio'] >= 1)]\n",
    "aux1 = aux1[['cholesterol', 'cardio']].groupby('cholesterol').size().reset_index().rename(columns={0:'total_1'})\n",
    "\n",
    "aux2 = df42[(df42['cardio'] <= 0)]\n",
    "aux2 = aux2[['cholesterol', 'cardio']].groupby('cholesterol').size().reset_index().rename(columns={0:'total_0'})\n",
    "\n",
    "#histogram\n",
    "fig = plt.figure(figsize=(10,10))\n",
    "\n",
    "ax = fig.add_subplot(111)\n",
    "\n",
    "width = 0.2\n",
    "\n",
    "aux1.plot(x='cholesterol', y='total_1', kind='bar', color='red', ax=ax, width=width, position=0)\n",
    "aux2.plot(x='cholesterol', y='total_0', kind='bar', color='blue', ax=ax, width=width, position=1)\n",
    "plt.show()"
   ]
  },
  {
   "cell_type": "code",
   "execution_count": 348,
   "metadata": {
    "ExecuteTime": {
     "end_time": "2021-07-10T23:19:52.995941Z",
     "start_time": "2021-07-10T23:19:52.959962Z"
    },
    "hidden": true
   },
   "outputs": [
    {
     "name": "stderr",
     "output_type": "stream",
     "text": [
      "<ipython-input-231-6e4d339763c6>:30: SettingWithCopyWarning: \n",
      "A value is trying to be set on a copy of a slice from a DataFrame\n",
      "\n",
      "See the caveats in the documentation: https://pandas.pydata.org/pandas-docs/stable/user_guide/indexing.html#returning-a-view-versus-a-copy\n",
      "  x['%_cardio_1'][i] = p\n"
     ]
    },
    {
     "data": {
      "text/html": [
       "<div>\n",
       "<style scoped>\n",
       "    .dataframe tbody tr th:only-of-type {\n",
       "        vertical-align: middle;\n",
       "    }\n",
       "\n",
       "    .dataframe tbody tr th {\n",
       "        vertical-align: top;\n",
       "    }\n",
       "\n",
       "    .dataframe thead th {\n",
       "        text-align: right;\n",
       "    }\n",
       "</style>\n",
       "<table border=\"1\" class=\"dataframe\">\n",
       "  <thead>\n",
       "    <tr style=\"text-align: right;\">\n",
       "      <th></th>\n",
       "      <th>cholesterol</th>\n",
       "      <th>cardio</th>\n",
       "      <th>total</th>\n",
       "      <th>%_cardio_1</th>\n",
       "    </tr>\n",
       "  </thead>\n",
       "  <tbody>\n",
       "    <tr>\n",
       "      <th>1</th>\n",
       "      <td>above normal</td>\n",
       "      <td>1</td>\n",
       "      <td>5516</td>\n",
       "      <td>60.10024</td>\n",
       "    </tr>\n",
       "    <tr>\n",
       "      <th>3</th>\n",
       "      <td>normal</td>\n",
       "      <td>1</td>\n",
       "      <td>22296</td>\n",
       "      <td>43.861271</td>\n",
       "    </tr>\n",
       "    <tr>\n",
       "      <th>5</th>\n",
       "      <td>well above normal</td>\n",
       "      <td>1</td>\n",
       "      <td>5972</td>\n",
       "      <td>76.358522</td>\n",
       "    </tr>\n",
       "  </tbody>\n",
       "</table>\n",
       "</div>"
      ],
      "text/plain": [
       "         cholesterol  cardio  total %_cardio_1\n",
       "1       above normal       1   5516   60.10024\n",
       "3             normal       1  22296  43.861271\n",
       "5  well above normal       1   5972  76.358522"
      ]
     },
     "execution_count": 348,
     "metadata": {},
     "output_type": "execute_result"
    }
   ],
   "source": [
    "#calculate % people with CVD per people who have above normal cholesterol\n",
    "aux1 = df42[['cholesterol', 'cardio']].groupby(['cholesterol','cardio']).size().reset_index().rename(columns={0:'total'})\n",
    "aux1['%_cardio_1'] = \"\"\n",
    "aux1 = perc(aux1)\n",
    "\n",
    "#result of %\n",
    "aux1 = aux1[(aux1['cardio'] >= 1)]\n",
    "aux1"
   ]
  },
  {
   "cell_type": "code",
   "execution_count": 349,
   "metadata": {
    "ExecuteTime": {
     "end_time": "2021-07-10T23:19:58.256994Z",
     "start_time": "2021-07-10T23:19:57.971632Z"
    },
    "hidden": true
   },
   "outputs": [
    {
     "data": {
      "image/png": "[encoded data removed]",
      "text/plain": [
       "<Figure size 432x576 with 1 Axes>"
      ]
     },
     "metadata": {
      "needs_background": "light"
     },
     "output_type": "display_data"
    }
   ],
   "source": [
    "#histogram people who had CVD per people who have above normal cholesterol\n",
    "fig_dims = (6, 8)\n",
    "fig, ax = plt.subplots(figsize=fig_dims)\n",
    "\n",
    "graph = sns.barplot(x='cholesterol', y='%_cardio_1', ax=ax, data=aux1)\n",
    "#graph.axvline(29.5, ymin=0.0, ymax=1.0, linestyle =\"--\", color='blue')\n",
    "graph.axhline(51, xmin=0.0, xmax=1.0, linestyle =\"--\", color='red')\n",
    "plt.title('% People who had CVD per cholesterol')\n",
    "plt.show()"
   ]
  },
  {
   "cell_type": "markdown",
   "metadata": {
    "hidden": true
   },
   "source": [
    "**10. People with well above normal glucose have a 20% chance of having CVD than normal**\n",
    "\n",
    "**FALSE** People with well above normal glucose have 14.1% more likely than people with normal glucose"
   ]
  },
  {
   "cell_type": "code",
   "execution_count": 350,
   "metadata": {
    "ExecuteTime": {
     "end_time": "2021-07-11T00:57:52.344172Z",
     "start_time": "2021-07-11T00:57:52.243593Z"
    },
    "hidden": true
   },
   "outputs": [],
   "source": [
    "#transform to categorical\n",
    "df42 = df4.copy()\n",
    "df42['gluc'] = df42['gluc'].apply({1:'normal', 2:'above normal', 3:'well above normal'}.get)"
   ]
  },
  {
   "cell_type": "code",
   "execution_count": 351,
   "metadata": {
    "ExecuteTime": {
     "end_time": "2021-07-11T00:57:53.037537Z",
     "start_time": "2021-07-11T00:57:52.625716Z"
    },
    "hidden": true
   },
   "outputs": [
    {
     "data": {
      "image/png": "[encoded data removed]",
      "text/plain": [
       "<Figure size 720x720 with 1 Axes>"
      ]
     },
     "metadata": {
      "needs_background": "light"
     },
     "output_type": "display_data"
    }
   ],
   "source": [
    "#cvd per people who have above normal glucose\n",
    "aux1 = df42[(df42['cardio'] >= 1)]\n",
    "aux1 = aux1[['gluc', 'cardio']].groupby('gluc').size().reset_index().rename(columns={0:'total_1'})\n",
    "\n",
    "aux2 = df42[(df42['cardio'] <= 0)]\n",
    "aux2 = aux2[['gluc', 'cardio']].groupby('gluc').size().reset_index().rename(columns={0:'total_0'})\n",
    "\n",
    "#histogram\n",
    "fig = plt.figure(figsize=(10,10))\n",
    "\n",
    "ax = fig.add_subplot(111)\n",
    "\n",
    "width = 0.2\n",
    "\n",
    "aux1.plot(x='gluc', y='total_1', kind='bar', color='red', ax=ax, width=width, position=0)\n",
    "aux2.plot(x='gluc', y='total_0', kind='bar', color='blue', ax=ax, width=width, position=1)\n",
    "plt.show()"
   ]
  },
  {
   "cell_type": "code",
   "execution_count": 353,
   "metadata": {
    "ExecuteTime": {
     "end_time": "2021-07-11T00:58:05.413592Z",
     "start_time": "2021-07-11T00:58:05.359627Z"
    },
    "hidden": true
   },
   "outputs": [
    {
     "name": "stderr",
     "output_type": "stream",
     "text": [
      "<ipython-input-231-6e4d339763c6>:30: SettingWithCopyWarning: \n",
      "A value is trying to be set on a copy of a slice from a DataFrame\n",
      "\n",
      "See the caveats in the documentation: https://pandas.pydata.org/pandas-docs/stable/user_guide/indexing.html#returning-a-view-versus-a-copy\n",
      "  x['%_cardio_1'][i] = p\n"
     ]
    },
    {
     "data": {
      "text/html": [
       "<div>\n",
       "<style scoped>\n",
       "    .dataframe tbody tr th:only-of-type {\n",
       "        vertical-align: middle;\n",
       "    }\n",
       "\n",
       "    .dataframe tbody tr th {\n",
       "        vertical-align: top;\n",
       "    }\n",
       "\n",
       "    .dataframe thead th {\n",
       "        text-align: right;\n",
       "    }\n",
       "</style>\n",
       "<table border=\"1\" class=\"dataframe\">\n",
       "  <thead>\n",
       "    <tr style=\"text-align: right;\">\n",
       "      <th></th>\n",
       "      <th>gluc</th>\n",
       "      <th>cardio</th>\n",
       "      <th>total</th>\n",
       "      <th>%_cardio_1</th>\n",
       "    </tr>\n",
       "  </thead>\n",
       "  <tbody>\n",
       "    <tr>\n",
       "      <th>1</th>\n",
       "      <td>above normal</td>\n",
       "      <td>1</td>\n",
       "      <td>2971</td>\n",
       "      <td>59.242273</td>\n",
       "    </tr>\n",
       "    <tr>\n",
       "      <th>3</th>\n",
       "      <td>normal</td>\n",
       "      <td>1</td>\n",
       "      <td>27600</td>\n",
       "      <td>47.88923</td>\n",
       "    </tr>\n",
       "    <tr>\n",
       "      <th>5</th>\n",
       "      <td>well above normal</td>\n",
       "      <td>1</td>\n",
       "      <td>3213</td>\n",
       "      <td>61.979167</td>\n",
       "    </tr>\n",
       "  </tbody>\n",
       "</table>\n",
       "</div>"
      ],
      "text/plain": [
       "                gluc  cardio  total %_cardio_1\n",
       "1       above normal       1   2971  59.242273\n",
       "3             normal       1  27600   47.88923\n",
       "5  well above normal       1   3213  61.979167"
      ]
     },
     "execution_count": 353,
     "metadata": {},
     "output_type": "execute_result"
    }
   ],
   "source": [
    "#calculate % people with CVD per people who have above normal glucose\n",
    "aux1 = df42[['gluc', 'cardio']].groupby(['gluc','cardio']).size().reset_index().rename(columns={0:'total'})\n",
    "aux1['%_cardio_1'] = \"\"\n",
    "aux1 = perc(aux1)\n",
    "\n",
    "#result of %\n",
    "aux1 = aux1[(aux1['cardio'] >= 1)]\n",
    "aux1"
   ]
  },
  {
   "cell_type": "code",
   "execution_count": 354,
   "metadata": {
    "ExecuteTime": {
     "end_time": "2021-07-11T00:58:06.505711Z",
     "start_time": "2021-07-11T00:58:06.230138Z"
    },
    "hidden": true
   },
   "outputs": [
    {
     "data": {
      "image/png": "[encoded data removed]",
      "text/plain": [
       "<Figure size 432x576 with 1 Axes>"
      ]
     },
     "metadata": {
      "needs_background": "light"
     },
     "output_type": "display_data"
    }
   ],
   "source": [
    "#histogram people who had CVD per people who have above normal glucose\n",
    "fig_dims = (6, 8)\n",
    "fig, ax = plt.subplots(figsize=fig_dims)\n",
    "\n",
    "graph = sns.barplot(x='gluc', y='%_cardio_1', ax=ax, data=aux1)\n",
    "#graph.axvline(29.5, ymin=0.0, ymax=1.0, linestyle =\"--\", color='blue')\n",
    "graph.axhline(51, xmin=0.0, xmax=1.0, linestyle =\"--\", color='red')\n",
    "plt.title('% People who had CVD per gluc')\n",
    "plt.show()"
   ]
  },
  {
   "cell_type": "markdown",
   "metadata": {
    "hidden": true
   },
   "source": [
    "**11. People who have hypertension have 40% chance of having CVD than who have normal blood pressure**\n",
    "\n",
    "**TRUE** People with hypertension 3 have 54.2% more chance of having a CVD than people with normal blood pressure"
   ]
  },
  {
   "cell_type": "code",
   "execution_count": 355,
   "metadata": {
    "ExecuteTime": {
     "end_time": "2021-07-11T01:01:29.157784Z",
     "start_time": "2021-07-11T01:01:28.727779Z"
    },
    "hidden": true
   },
   "outputs": [
    {
     "data": {
      "image/png": "[encoded data removed]",
      "text/plain": [
       "<Figure size 720x720 with 1 Axes>"
      ]
     },
     "metadata": {
      "needs_background": "light"
     },
     "output_type": "display_data"
    }
   ],
   "source": [
    "#cvd per people who have hypertension\n",
    "aux1 = df4[(df4['cardio'] >= 1)]\n",
    "aux1 = aux1[['blood_pressure', 'cardio']].groupby('blood_pressure').size().reset_index().rename(columns={0:'total_1'})\n",
    "\n",
    "\n",
    "aux2 = df4[(df4['cardio'] <= 0)]\n",
    "aux2 = aux2[['blood_pressure', 'cardio']].groupby('blood_pressure').size().reset_index().rename(columns={0:'total_0'})\n",
    "\n",
    "#histogram\n",
    "fig = plt.figure(figsize=(10,10))\n",
    "\n",
    "ax = fig.add_subplot(111)\n",
    "\n",
    "width = 0.2\n",
    "\n",
    "aux1.plot(x='blood_pressure', y='total_1', kind='bar', color='red', ax=ax, width=width, position=0)\n",
    "aux2.plot(x='blood_pressure', y='total_0', kind='bar', color='blue', ax=ax, width=width, position=1)\n",
    "plt.show()"
   ]
  },
  {
   "cell_type": "code",
   "execution_count": 357,
   "metadata": {
    "ExecuteTime": {
     "end_time": "2021-07-11T01:01:47.969009Z",
     "start_time": "2021-07-11T01:01:47.920041Z"
    },
    "hidden": true
   },
   "outputs": [
    {
     "name": "stderr",
     "output_type": "stream",
     "text": [
      "<ipython-input-231-6e4d339763c6>:30: SettingWithCopyWarning: \n",
      "A value is trying to be set on a copy of a slice from a DataFrame\n",
      "\n",
      "See the caveats in the documentation: https://pandas.pydata.org/pandas-docs/stable/user_guide/indexing.html#returning-a-view-versus-a-copy\n",
      "  x['%_cardio_1'][i] = p\n"
     ]
    },
    {
     "data": {
      "text/html": [
       "<div>\n",
       "<style scoped>\n",
       "    .dataframe tbody tr th:only-of-type {\n",
       "        vertical-align: middle;\n",
       "    }\n",
       "\n",
       "    .dataframe tbody tr th {\n",
       "        vertical-align: top;\n",
       "    }\n",
       "\n",
       "    .dataframe thead th {\n",
       "        text-align: right;\n",
       "    }\n",
       "</style>\n",
       "<table border=\"1\" class=\"dataframe\">\n",
       "  <thead>\n",
       "    <tr style=\"text-align: right;\">\n",
       "      <th></th>\n",
       "      <th>blood_pressure</th>\n",
       "      <th>cardio</th>\n",
       "      <th>total</th>\n",
       "      <th>%_cardio_1</th>\n",
       "    </tr>\n",
       "  </thead>\n",
       "  <tbody>\n",
       "    <tr>\n",
       "      <th>1</th>\n",
       "      <td>0.0</td>\n",
       "      <td>1</td>\n",
       "      <td>2079</td>\n",
       "      <td>22.691552</td>\n",
       "    </tr>\n",
       "    <tr>\n",
       "      <th>3</th>\n",
       "      <td>1.0</td>\n",
       "      <td>1</td>\n",
       "      <td>994</td>\n",
       "      <td>32.441253</td>\n",
       "    </tr>\n",
       "    <tr>\n",
       "      <th>5</th>\n",
       "      <td>2.0</td>\n",
       "      <td>1</td>\n",
       "      <td>17703</td>\n",
       "      <td>44.96</td>\n",
       "    </tr>\n",
       "    <tr>\n",
       "      <th>7</th>\n",
       "      <td>3.0</td>\n",
       "      <td>1</td>\n",
       "      <td>12831</td>\n",
       "      <td>80.188738</td>\n",
       "    </tr>\n",
       "    <tr>\n",
       "      <th>9</th>\n",
       "      <td>4.0</td>\n",
       "      <td>1</td>\n",
       "      <td>177</td>\n",
       "      <td>76.956522</td>\n",
       "    </tr>\n",
       "  </tbody>\n",
       "</table>\n",
       "</div>"
      ],
      "text/plain": [
       "   blood_pressure  cardio  total %_cardio_1\n",
       "1             0.0       1   2079  22.691552\n",
       "3             1.0       1    994  32.441253\n",
       "5             2.0       1  17703      44.96\n",
       "7             3.0       1  12831  80.188738\n",
       "9             4.0       1    177  76.956522"
      ]
     },
     "execution_count": 357,
     "metadata": {},
     "output_type": "execute_result"
    }
   ],
   "source": [
    "#calculate % people with CVD per people who have hypertension\n",
    "aux1 = df4[['blood_pressure', 'cardio']].groupby(['blood_pressure','cardio']).size().reset_index().rename(columns={0:'total'})\n",
    "aux1['%_cardio_1'] = \"\"\n",
    "aux1 = perc(aux1)\n",
    "\n",
    "#result of %\n",
    "aux1 = aux1[(aux1['cardio'] >= 1)]\n",
    "aux1"
   ]
  },
  {
   "cell_type": "code",
   "execution_count": 358,
   "metadata": {
    "ExecuteTime": {
     "end_time": "2021-07-11T01:02:00.131746Z",
     "start_time": "2021-07-11T01:01:59.866612Z"
    },
    "hidden": true
   },
   "outputs": [
    {
     "data": {
      "image/png": "[encoded data removed]",
      "text/plain": [
       "<Figure size 720x576 with 1 Axes>"
      ]
     },
     "metadata": {
      "needs_background": "light"
     },
     "output_type": "display_data"
    }
   ],
   "source": [
    "#histogram people who had CVD per people who have hypertension\n",
    "fig_dims = (10, 8)\n",
    "fig, ax = plt.subplots(figsize=fig_dims)\n",
    "\n",
    "graph = sns.barplot(x='blood_pressure', y='%_cardio_1', ax=ax, data=aux1)\n",
    "#graph.axvline(29.5, ymin=0.0, ymax=1.0, linestyle =\"--\", color='blue')\n",
    "graph.axhline(51, xmin=0.0, xmax=1.0, linestyle =\"--\", color='red')\n",
    "plt.title('% People who had CVD per blood_pressure')\n",
    "plt.show()"
   ]
  },
  {
   "cell_type": "markdown",
   "metadata": {},
   "source": [
    "## 4.3. Multivariate Analysis"
   ]
  },
  {
   "cell_type": "code",
   "execution_count": null,
   "metadata": {
    "ExecuteTime": {
     "end_time": "2021-07-10T11:15:15.205161Z",
     "start_time": "2021-07-10T11:13:26.670Z"
    }
   },
   "outputs": [],
   "source": [
    "correlations = df4.corr(method='pearson')\n",
    "fig_dims = (15, 7)\n",
    "fig, ax = plt.subplots(figsize=fig_dims)\n",
    "sns.heatmap(correlations,ax=ax, annot=True);"
   ]
  },
  {
   "cell_type": "markdown",
   "metadata": {},
   "source": [
    "# 5.0. Data Preparation"
   ]
  },
  {
   "cell_type": "code",
   "execution_count": null,
   "metadata": {
    "ExecuteTime": {
     "end_time": "2021-07-10T11:15:15.206160Z",
     "start_time": "2021-07-10T11:13:26.674Z"
    }
   },
   "outputs": [],
   "source": [
    "df5 = df4.copy()"
   ]
  },
  {
   "cell_type": "markdown",
   "metadata": {},
   "source": [
    "## 5.1. Normalization"
   ]
  },
  {
   "cell_type": "code",
   "execution_count": null,
   "metadata": {
    "ExecuteTime": {
     "end_time": "2021-07-10T11:15:15.207159Z",
     "start_time": "2021-07-10T11:13:26.677Z"
    }
   },
   "outputs": [],
   "source": [
    "# define min max scaler\n",
    "scaler_mm = MinMaxScaler()\n",
    "scaler_std = StandardScaler()\n",
    "\n",
    "# transform weight - STD\n",
    "df5['weight'] = scaler_mm.fit_transform(df5[['weight']].values)\n",
    "\n",
    "# transform height - STD\n",
    "df5['height'] = scaler_mm.fit_transform(df5[['height']].values)\n",
    "\n",
    "# transform age - MM\n",
    "df5['age'] = scaler_mm.fit_transform(df5[['age']].values)\n",
    "\n",
    "# transform bmi - MM\n",
    "df5['bmi'] = scaler_mm.fit_transform(df5[['bmi']].values)\n",
    "\n",
    "# transform ap_hi - MM\n",
    "df5['ap_hi'] = scaler_mm.fit_transform(df5[['ap_hi']].values)\n",
    "\n",
    "# transform ap_lo - MM\n",
    "df5['ap_lo'] = scaler_mm.fit_transform(df5[['ap_lo']].values)\n",
    "\n",
    "df5"
   ]
  },
  {
   "cell_type": "markdown",
   "metadata": {},
   "source": [
    "# 6.0. Feature Selection"
   ]
  },
  {
   "cell_type": "code",
   "execution_count": null,
   "metadata": {
    "ExecuteTime": {
     "end_time": "2021-07-10T11:15:15.208159Z",
     "start_time": "2021-07-10T11:13:26.681Z"
    }
   },
   "outputs": [],
   "source": [
    "df6 = df5.copy()"
   ]
  },
  {
   "cell_type": "code",
   "execution_count": null,
   "metadata": {
    "ExecuteTime": {
     "end_time": "2021-07-10T11:15:15.210158Z",
     "start_time": "2021-07-10T11:13:26.683Z"
    }
   },
   "outputs": [],
   "source": [
    "#drop id, ap_hi, ap_lo\n",
    "df6 = df6.drop(['id'], axis=1)\n",
    "\n",
    "\n",
    "X = df6.drop(['cardio'], axis=1)\n",
    "y = df6['cardio'].copy()"
   ]
  },
  {
   "cell_type": "code",
   "execution_count": null,
   "metadata": {
    "ExecuteTime": {
     "end_time": "2021-07-10T11:15:15.211157Z",
     "start_time": "2021-07-10T11:13:26.686Z"
    }
   },
   "outputs": [],
   "source": [
    "#split dataset into train and test\n",
    "x, x_test, y, y_test = ms.train_test_split(X, y, test_size=0.2, random_state=32)\n",
    "x_train, x_val, y_train, y_val = ms.train_test_split( x, y, test_size=0.2 )"
   ]
  },
  {
   "cell_type": "markdown",
   "metadata": {
    "heading_collapsed": true
   },
   "source": [
    "## 6.1. Boruta as feature selector"
   ]
  },
  {
   "cell_type": "code",
   "execution_count": null,
   "metadata": {
    "ExecuteTime": {
     "end_time": "2021-07-10T11:15:15.212158Z",
     "start_time": "2021-07-10T11:13:26.689Z"
    },
    "hidden": true
   },
   "outputs": [],
   "source": [
    "#training and test dataset for Boruta\n",
    "#x_train_n = x_train.values\n",
    "#y_train_n = y_train.values.ravel()\n",
    "\n",
    "#define RandomForestRegressor\n",
    "#rf = RandomForestRegressor(n_jobs=-1)\n",
    "\n",
    "#define Boruta\n",
    "#boruta = BorutaPy(rf, n_estimators='auto',verbose=2,random_state=42).fit(x_train_n,y_train_n)"
   ]
  },
  {
   "cell_type": "markdown",
   "metadata": {
    "heading_collapsed": true
   },
   "source": [
    "## 6.1.1 Best feature from Boruta"
   ]
  },
  {
   "cell_type": "code",
   "execution_count": null,
   "metadata": {
    "ExecuteTime": {
     "end_time": "2021-07-10T11:15:15.214156Z",
     "start_time": "2021-07-10T11:13:26.695Z"
    },
    "hidden": true
   },
   "outputs": [],
   "source": [
    "#cols_selected = boruta.support_.tolist()\n",
    "\n",
    "#best feature\n",
    "#x_train_fs = x_train\n",
    "#cols_selected_boruta = x_train_fs.iloc[:,cols_selected].columns.to_list()\n",
    "#cols_selected_boruta\n",
    "\n",
    "#not selected from Boruta\n",
    "#cols_not_selected_boruta = list(np.setdiff1d(x_train_fs.columns,cols_selected_boruta))\n",
    "#cols_not_selected_boruta"
   ]
  },
  {
   "cell_type": "markdown",
   "metadata": {},
   "source": [
    "# 7.0. Machine Learning Modeling"
   ]
  },
  {
   "cell_type": "markdown",
   "metadata": {},
   "source": [
    "## 7.1. Linear Regression Model"
   ]
  },
  {
   "cell_type": "code",
   "execution_count": null,
   "metadata": {
    "ExecuteTime": {
     "end_time": "2021-07-10T11:15:15.215156Z",
     "start_time": "2021-07-10T11:13:26.699Z"
    }
   },
   "outputs": [],
   "source": [
    "#model\n",
    "lr = LinearRegression().fit(x_train,y_train)\n",
    "\n",
    "#prediction\n",
    "yhat_lr = lr.predict(x_test)\n",
    "\n",
    "#performance\n",
    "lr_result = ml_error('Linear Regression', np.expm1(y_test), np.expm1(yhat_lr))\n",
    "lr_result"
   ]
  },
  {
   "cell_type": "markdown",
   "metadata": {},
   "source": [
    "## 6.2. Linear Regression Regularized Model - Lasso"
   ]
  },
  {
   "cell_type": "code",
   "execution_count": null,
   "metadata": {
    "ExecuteTime": {
     "end_time": "2021-07-10T11:15:15.216155Z",
     "start_time": "2021-07-10T11:13:26.702Z"
    }
   },
   "outputs": [],
   "source": [
    "#model\n",
    "lrr = Lasso(alpha = 0.2).fit(x_train,y_train)\n",
    "\n",
    "#prediction\n",
    "yhat_lrr = lrr.predict(x_test)\n",
    "\n",
    "#performance\n",
    "lrr_result = ml_error('Linear Regression Regularized', np.expm1(y_test), np.expm1(yhat_lrr))\n",
    "lrr_result"
   ]
  },
  {
   "cell_type": "markdown",
   "metadata": {},
   "source": [
    "## 6.3. Random Forest Regressor"
   ]
  },
  {
   "cell_type": "code",
   "execution_count": null,
   "metadata": {
    "ExecuteTime": {
     "end_time": "2021-07-10T11:15:15.217154Z",
     "start_time": "2021-07-10T11:13:26.706Z"
    }
   },
   "outputs": [],
   "source": [
    "#model\n",
    "rf = RandomForestRegressor(n_estimators=100, n_jobs=-1, random_state=42).fit(x_train,y_train)\n",
    "\n",
    "#prediction\n",
    "yhat_rf = rf.predict(x_test)\n",
    "\n",
    "#performance\n",
    "rf_result = ml_error('Random Forest Regressor', np.expm1(y_test), np.expm1(yhat_rf))\n",
    "rf_result"
   ]
  },
  {
   "cell_type": "markdown",
   "metadata": {},
   "source": [
    "## 6.4. XGBoost"
   ]
  },
  {
   "cell_type": "code",
   "execution_count": null,
   "metadata": {
    "ExecuteTime": {
     "end_time": "2021-07-10T11:15:15.218154Z",
     "start_time": "2021-07-10T11:13:26.709Z"
    }
   },
   "outputs": [],
   "source": [
    "#model\n",
    "model_xgb = xgb.XGBRegressor(objective = 'reg:squarederror',\n",
    "                            n_estimators=100,\n",
    "                            eta=0.01,\n",
    "                            max_depth=10,\n",
    "                            subsample=0.7,\n",
    "                            colsample_bytee=0.9).fit(x_train,y_train)\n",
    "\n",
    "#prediction\n",
    "yhat_xgb = model_xgb.predict(x_test)\n",
    "\n",
    "#performance\n",
    "xgb_result = ml_error('XGBoost Regressor', np.expm1(y_test), np.expm1(yhat_xgb))\n",
    "xgb_result"
   ]
  },
  {
   "cell_type": "markdown",
   "metadata": {
    "ExecuteTime": {
     "end_time": "2021-06-26T22:02:50.298406Z",
     "start_time": "2021-06-26T22:02:50.227453Z"
    }
   },
   "source": [
    "## 6.5. Neural Network - MLP"
   ]
  },
  {
   "cell_type": "code",
   "execution_count": null,
   "metadata": {
    "ExecuteTime": {
     "end_time": "2021-07-10T11:15:15.220153Z",
     "start_time": "2021-07-10T11:13:26.714Z"
    }
   },
   "outputs": [],
   "source": [
    "x_val.shape"
   ]
  },
  {
   "cell_type": "code",
   "execution_count": null,
   "metadata": {
    "ExecuteTime": {
     "end_time": "2021-07-10T11:15:15.221152Z",
     "start_time": "2021-07-10T11:13:26.717Z"
    }
   },
   "outputs": [],
   "source": [
    "#model definition\n",
    "model = ml.Sequential()\n",
    "model.add(l.Dense(11, input_dim=x_train.shape[1], activation='relu'))\n",
    "model.add(l.Dense(1, activation='softmax'))\n",
    "\n",
    "#model compile\n",
    "model.compile(loss='categorical_crossentropy', optimizer='adam', metrics=['accuracy'])\n",
    "\n",
    "#train model\n",
    "es = EarlyStopping(monitor='val_loss', patience=10)\n",
    "history = model.fit(x_train, y_train, validation_data=(x_val, y_val), epochs=10000, callbacks=[es], verbose=1)"
   ]
  },
  {
   "cell_type": "code",
   "execution_count": null,
   "metadata": {
    "ExecuteTime": {
     "end_time": "2021-07-10T11:15:15.223150Z",
     "start_time": "2021-07-10T11:13:26.719Z"
    }
   },
   "outputs": [],
   "source": [
    "##model evaluate\n",
    "_, train_acc = model.evaluate(x_train, y_train, verbose=0)\n",
    "_, val_acc = model.evaluate(x_val, y_val, verbose=0)\n",
    "\n",
    "print('Train ACC:{} - Val ACC:{}'.format(train_acc, val_acc ))"
   ]
  },
  {
   "cell_type": "code",
   "execution_count": null,
   "metadata": {
    "ExecuteTime": {
     "end_time": "2021-07-10T11:15:15.225150Z",
     "start_time": "2021-07-10T11:13:26.722Z"
    }
   },
   "outputs": [],
   "source": [
    "#define the number of eigenvectors (autovetor) + eigenvalues (autovalores)\n",
    "pca = d.PCA().fit(x_train)\n",
    "k = np.argmax(np.cumsum(pca.explained_variance_ratio_) > 0.99)\n",
    "\n",
    "#change data to new space\n",
    "pca = d.PCA(k).fit(x_train)\n",
    "\n",
    "x_train = pca.transform(x_train)\n",
    "x_val = pca.transform(x_val)"
   ]
  },
  {
   "cell_type": "code",
   "execution_count": null,
   "metadata": {
    "ExecuteTime": {
     "end_time": "2021-07-10T11:15:15.226147Z",
     "start_time": "2021-07-10T11:13:26.725Z"
    }
   },
   "outputs": [],
   "source": [
    "#ohe = pp.OneHotEncoder()\n",
    "#y_train = ohe.fit_transform(y_train.values.reshape(-1, 1)).toarray()\n",
    "#y_val = ohe.transform(y_val.values.reshape(-1, 1)).toarray()"
   ]
  },
  {
   "cell_type": "code",
   "execution_count": null,
   "metadata": {
    "ExecuteTime": {
     "end_time": "2021-07-10T11:15:15.228147Z",
     "start_time": "2021-07-10T11:13:26.728Z"
    }
   },
   "outputs": [],
   "source": [
    "#model definition\n",
    "model = ml.Sequential()\n",
    "model.add(l.Dense(11, input_dim=x_train.shape[1], activation='relu'))\n",
    "model.add(l.Dense(1, activation='softmax'))\n",
    "\n",
    "#model compile\n",
    "model.compile(loss='categorical_crossentropy', optimizer='adam', metrics=['accuracy'])\n",
    "\n",
    "#train model\n",
    "es = EarlyStopping(monitor='val_loss', patience=10)\n",
    "history = model.fit(x_train, y_train, validation_data=(x_val, y_val), epochs=100, callbacks=[es], verbose=0)"
   ]
  },
  {
   "cell_type": "code",
   "execution_count": null,
   "metadata": {
    "ExecuteTime": {
     "end_time": "2021-07-10T11:15:15.229145Z",
     "start_time": "2021-07-10T11:13:26.731Z"
    }
   },
   "outputs": [],
   "source": [
    "##model evaluate\n",
    "_, train_acc = model.evaluate(x_train, y_train, verbose=0)\n",
    "_, val_acc = model.evaluate(x_val, y_val, verbose=0)\n",
    "\n",
    "print('Train ACC:{} - Val ACC:{}'.format(train_acc, val_acc ))"
   ]
  },
  {
   "cell_type": "code",
   "execution_count": null,
   "metadata": {},
   "outputs": [],
   "source": []
  }
 ],
 "metadata": {
  "kernelspec": {
   "display_name": "Python 3",
   "language": "python",
   "name": "python3"
  },
  "language_info": {
   "codemirror_mode": {
    "name": "ipython",
    "version": 3
   },
   "file_extension": ".py",
   "mimetype": "text/x-python",
   "name": "python",
   "nbconvert_exporter": "python",
   "pygments_lexer": "ipython3",
   "version": "3.8.5"
  }
 },
 "nbformat": 4,
 "nbformat_minor": 4
}
