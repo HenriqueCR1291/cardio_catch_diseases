{
 "cells": [
  {
   "cell_type": "markdown",
   "metadata": {
    "heading_collapsed": true
   },
   "source": [
    "# 0.0 Initial"
   ]
  },
  {
   "cell_type": "markdown",
   "metadata": {
    "hidden": true
   },
   "source": [
    "## 0.1. Import"
   ]
  },
  {
   "cell_type": "code",
   "execution_count": 106,
   "metadata": {
    "ExecuteTime": {
     "end_time": "2021-07-21T01:24:06.709593Z",
     "start_time": "2021-07-21T01:24:06.696599Z"
    },
    "hidden": true
   },
   "outputs": [],
   "source": [
    "#!pip uninstall pandas"
   ]
  },
  {
   "cell_type": "code",
   "execution_count": 107,
   "metadata": {
    "ExecuteTime": {
     "end_time": "2021-07-21T01:24:11.325671Z",
     "start_time": "2021-07-21T01:24:06.712590Z"
    },
    "hidden": true
   },
   "outputs": [
    {
     "name": "stdout",
     "output_type": "stream",
     "text": [
      "Requirement already satisfied: termcolor in c:\\users\\henrique\\anaconda3\\lib\\site-packages (1.1.0)\n"
     ]
    }
   ],
   "source": [
    "#!pip install --upgrade pandas\n",
    "#!pip install prettytable\n",
    "!pip install termcolor"
   ]
  },
  {
   "cell_type": "code",
   "execution_count": 108,
   "metadata": {
    "ExecuteTime": {
     "end_time": "2021-07-21T01:24:11.341209Z",
     "start_time": "2021-07-21T01:24:11.328668Z"
    },
    "hidden": true
   },
   "outputs": [],
   "source": [
    "import pandas            as pd\n",
    "import numpy             as np\n",
    "import seaborn           as sns\n",
    "import matplotlib.pyplot as plt\n",
    "import xgboost           as xgb\n",
    "\n",
    "from sklearn    import decomposition   as d\n",
    "from matplotlib import pyplot          as plt\n",
    "from sklearn    import model_selection as ms\n",
    "from keras      import models          as ml\n",
    "from keras      import layers          as l\n",
    "\n",
    "from termcolor             import colored\n",
    "from prettytable           import PrettyTable \n",
    "from boruta                import BorutaPy\n",
    "from keras.callbacks       import EarlyStopping\n",
    "from sklearn.ensemble      import RandomForestRegressor\n",
    "from sklearn.linear_model  import LinearRegression,Lasso\n",
    "from numpy                 import asarray\n",
    "from sklearn.preprocessing import StandardScaler\n",
    "from sklearn.preprocessing import MinMaxScaler\n",
    "from IPython.display       import Image"
   ]
  },
  {
   "cell_type": "markdown",
   "metadata": {
    "hidden": true
   },
   "source": [
    "## 0.2. Helper Functions"
   ]
  },
  {
   "cell_type": "code",
   "execution_count": 109,
   "metadata": {
    "ExecuteTime": {
     "end_time": "2021-07-21T01:24:12.276943Z",
     "start_time": "2021-07-21T01:24:11.343207Z"
    },
    "hidden": true
   },
   "outputs": [],
   "source": [
    "def bmi (height, weight):\n",
    "    bmi = weight/((height/100)**2)\n",
    "    return bmi\n",
    "\n",
    "def mean_absolute_error (y,yhat):\n",
    "    return np.mean(np.abs(y-yhat))\n",
    "\n",
    "def mean_absolute_percentage_error (y,yhat):\n",
    "    return np.mean(np.abs(y-yhat)/y)\n",
    "\n",
    "def mean_squared_error (y,yhat):\n",
    "    return np.mean(pow((yhat-y),2))\n",
    "\n",
    "def ml_error (model_name, y, yhat):\n",
    "    mae = mean_absolute_error(y,yhat)\n",
    "    mape = mean_absolute_percentage_error(y,yhat)\n",
    "    rmse = np.sqrt(mean_squared_error(y,yhat))\n",
    "    \n",
    "    return pd.DataFrame({'Model Name': model_name,\n",
    "                        'MAE': mae,\n",
    "                        'MAPE': mape,\n",
    "                        'RMSE': rmse}, index=[0])\n",
    "\n",
    "def perc (x):\n",
    "    #calculate % people who had CVD\n",
    "    j = len(x)\n",
    "    for i in range(len(x)):\n",
    "        if i < j:\n",
    "            p = ((x['total'][i])/(x['total'][i+pow(-1,(i+2))]+x['total'][i]))*100\n",
    "            x['%_cardio_1'][i] = p\n",
    "        else:\n",
    "            exit\n",
    "    return x"
   ]
  },
  {
   "cell_type": "markdown",
   "metadata": {
    "ExecuteTime": {
     "end_time": "2021-05-30T23:09:06.865182Z",
     "start_time": "2021-05-30T23:09:06.795118Z"
    },
    "hidden": true
   },
   "source": [
    "## 0.3. Loading Data"
   ]
  },
  {
   "cell_type": "code",
   "execution_count": 110,
   "metadata": {
    "ExecuteTime": {
     "end_time": "2021-07-21T01:24:12.622078Z",
     "start_time": "2021-07-21T01:24:12.276943Z"
    },
    "hidden": true
   },
   "outputs": [],
   "source": [
    "df_raw = pd.read_csv('cardio_train.csv', low_memory=False)"
   ]
  },
  {
   "cell_type": "code",
   "execution_count": 111,
   "metadata": {
    "ExecuteTime": {
     "end_time": "2021-07-21T01:24:12.920581Z",
     "start_time": "2021-07-21T01:24:12.624077Z"
    },
    "hidden": true
   },
   "outputs": [
    {
     "data": {
      "text/html": [
       "<div>\n",
       "<style scoped>\n",
       "    .dataframe tbody tr th:only-of-type {\n",
       "        vertical-align: middle;\n",
       "    }\n",
       "\n",
       "    .dataframe tbody tr th {\n",
       "        vertical-align: top;\n",
       "    }\n",
       "\n",
       "    .dataframe thead th {\n",
       "        text-align: right;\n",
       "    }\n",
       "</style>\n",
       "<table border=\"1\" class=\"dataframe\">\n",
       "  <thead>\n",
       "    <tr style=\"text-align: right;\">\n",
       "      <th></th>\n",
       "      <th>id</th>\n",
       "      <th>age</th>\n",
       "      <th>gender</th>\n",
       "      <th>height</th>\n",
       "      <th>weight</th>\n",
       "      <th>ap_hi</th>\n",
       "      <th>ap_lo</th>\n",
       "      <th>cholesterol</th>\n",
       "      <th>gluc</th>\n",
       "      <th>smoke</th>\n",
       "      <th>alco</th>\n",
       "      <th>active</th>\n",
       "      <th>cardio</th>\n",
       "    </tr>\n",
       "  </thead>\n",
       "  <tbody>\n",
       "    <tr>\n",
       "      <th>0</th>\n",
       "      <td>0</td>\n",
       "      <td>18393</td>\n",
       "      <td>2</td>\n",
       "      <td>168</td>\n",
       "      <td>62.0</td>\n",
       "      <td>110</td>\n",
       "      <td>80</td>\n",
       "      <td>1</td>\n",
       "      <td>1</td>\n",
       "      <td>0</td>\n",
       "      <td>0</td>\n",
       "      <td>1</td>\n",
       "      <td>0</td>\n",
       "    </tr>\n",
       "    <tr>\n",
       "      <th>1</th>\n",
       "      <td>1</td>\n",
       "      <td>20228</td>\n",
       "      <td>1</td>\n",
       "      <td>156</td>\n",
       "      <td>85.0</td>\n",
       "      <td>140</td>\n",
       "      <td>90</td>\n",
       "      <td>3</td>\n",
       "      <td>1</td>\n",
       "      <td>0</td>\n",
       "      <td>0</td>\n",
       "      <td>1</td>\n",
       "      <td>1</td>\n",
       "    </tr>\n",
       "    <tr>\n",
       "      <th>2</th>\n",
       "      <td>2</td>\n",
       "      <td>18857</td>\n",
       "      <td>1</td>\n",
       "      <td>165</td>\n",
       "      <td>64.0</td>\n",
       "      <td>130</td>\n",
       "      <td>70</td>\n",
       "      <td>3</td>\n",
       "      <td>1</td>\n",
       "      <td>0</td>\n",
       "      <td>0</td>\n",
       "      <td>0</td>\n",
       "      <td>1</td>\n",
       "    </tr>\n",
       "    <tr>\n",
       "      <th>3</th>\n",
       "      <td>3</td>\n",
       "      <td>17623</td>\n",
       "      <td>2</td>\n",
       "      <td>169</td>\n",
       "      <td>82.0</td>\n",
       "      <td>150</td>\n",
       "      <td>100</td>\n",
       "      <td>1</td>\n",
       "      <td>1</td>\n",
       "      <td>0</td>\n",
       "      <td>0</td>\n",
       "      <td>1</td>\n",
       "      <td>1</td>\n",
       "    </tr>\n",
       "    <tr>\n",
       "      <th>4</th>\n",
       "      <td>4</td>\n",
       "      <td>17474</td>\n",
       "      <td>1</td>\n",
       "      <td>156</td>\n",
       "      <td>56.0</td>\n",
       "      <td>100</td>\n",
       "      <td>60</td>\n",
       "      <td>1</td>\n",
       "      <td>1</td>\n",
       "      <td>0</td>\n",
       "      <td>0</td>\n",
       "      <td>0</td>\n",
       "      <td>0</td>\n",
       "    </tr>\n",
       "    <tr>\n",
       "      <th>...</th>\n",
       "      <td>...</td>\n",
       "      <td>...</td>\n",
       "      <td>...</td>\n",
       "      <td>...</td>\n",
       "      <td>...</td>\n",
       "      <td>...</td>\n",
       "      <td>...</td>\n",
       "      <td>...</td>\n",
       "      <td>...</td>\n",
       "      <td>...</td>\n",
       "      <td>...</td>\n",
       "      <td>...</td>\n",
       "      <td>...</td>\n",
       "    </tr>\n",
       "    <tr>\n",
       "      <th>69995</th>\n",
       "      <td>99993</td>\n",
       "      <td>19240</td>\n",
       "      <td>2</td>\n",
       "      <td>168</td>\n",
       "      <td>76.0</td>\n",
       "      <td>120</td>\n",
       "      <td>80</td>\n",
       "      <td>1</td>\n",
       "      <td>1</td>\n",
       "      <td>1</td>\n",
       "      <td>0</td>\n",
       "      <td>1</td>\n",
       "      <td>0</td>\n",
       "    </tr>\n",
       "    <tr>\n",
       "      <th>69996</th>\n",
       "      <td>99995</td>\n",
       "      <td>22601</td>\n",
       "      <td>1</td>\n",
       "      <td>158</td>\n",
       "      <td>126.0</td>\n",
       "      <td>140</td>\n",
       "      <td>90</td>\n",
       "      <td>2</td>\n",
       "      <td>2</td>\n",
       "      <td>0</td>\n",
       "      <td>0</td>\n",
       "      <td>1</td>\n",
       "      <td>1</td>\n",
       "    </tr>\n",
       "    <tr>\n",
       "      <th>69997</th>\n",
       "      <td>99996</td>\n",
       "      <td>19066</td>\n",
       "      <td>2</td>\n",
       "      <td>183</td>\n",
       "      <td>105.0</td>\n",
       "      <td>180</td>\n",
       "      <td>90</td>\n",
       "      <td>3</td>\n",
       "      <td>1</td>\n",
       "      <td>0</td>\n",
       "      <td>1</td>\n",
       "      <td>0</td>\n",
       "      <td>1</td>\n",
       "    </tr>\n",
       "    <tr>\n",
       "      <th>69998</th>\n",
       "      <td>99998</td>\n",
       "      <td>22431</td>\n",
       "      <td>1</td>\n",
       "      <td>163</td>\n",
       "      <td>72.0</td>\n",
       "      <td>135</td>\n",
       "      <td>80</td>\n",
       "      <td>1</td>\n",
       "      <td>2</td>\n",
       "      <td>0</td>\n",
       "      <td>0</td>\n",
       "      <td>0</td>\n",
       "      <td>1</td>\n",
       "    </tr>\n",
       "    <tr>\n",
       "      <th>69999</th>\n",
       "      <td>99999</td>\n",
       "      <td>20540</td>\n",
       "      <td>1</td>\n",
       "      <td>170</td>\n",
       "      <td>72.0</td>\n",
       "      <td>120</td>\n",
       "      <td>80</td>\n",
       "      <td>2</td>\n",
       "      <td>1</td>\n",
       "      <td>0</td>\n",
       "      <td>0</td>\n",
       "      <td>1</td>\n",
       "      <td>0</td>\n",
       "    </tr>\n",
       "  </tbody>\n",
       "</table>\n",
       "<p>70000 rows × 13 columns</p>\n",
       "</div>"
      ],
      "text/plain": [
       "          id    age  gender  height  weight  ap_hi  ap_lo  cholesterol  gluc  \\\n",
       "0          0  18393       2     168    62.0    110     80            1     1   \n",
       "1          1  20228       1     156    85.0    140     90            3     1   \n",
       "2          2  18857       1     165    64.0    130     70            3     1   \n",
       "3          3  17623       2     169    82.0    150    100            1     1   \n",
       "4          4  17474       1     156    56.0    100     60            1     1   \n",
       "...      ...    ...     ...     ...     ...    ...    ...          ...   ...   \n",
       "69995  99993  19240       2     168    76.0    120     80            1     1   \n",
       "69996  99995  22601       1     158   126.0    140     90            2     2   \n",
       "69997  99996  19066       2     183   105.0    180     90            3     1   \n",
       "69998  99998  22431       1     163    72.0    135     80            1     2   \n",
       "69999  99999  20540       1     170    72.0    120     80            2     1   \n",
       "\n",
       "       smoke  alco  active  cardio  \n",
       "0          0     0       1       0  \n",
       "1          0     0       1       1  \n",
       "2          0     0       0       1  \n",
       "3          0     0       1       1  \n",
       "4          0     0       0       0  \n",
       "...      ...   ...     ...     ...  \n",
       "69995      1     0       1       0  \n",
       "69996      0     0       1       1  \n",
       "69997      0     1       0       1  \n",
       "69998      0     0       0       1  \n",
       "69999      0     0       1       0  \n",
       "\n",
       "[70000 rows x 13 columns]"
      ]
     },
     "execution_count": 111,
     "metadata": {},
     "output_type": "execute_result"
    }
   ],
   "source": [
    "df_raw"
   ]
  },
  {
   "cell_type": "markdown",
   "metadata": {},
   "source": [
    "# 1.0. Data Description"
   ]
  },
  {
   "cell_type": "code",
   "execution_count": 112,
   "metadata": {
    "ExecuteTime": {
     "end_time": "2021-07-21T01:24:13.436676Z",
     "start_time": "2021-07-21T01:24:12.922579Z"
    }
   },
   "outputs": [],
   "source": [
    "df1 = df_raw.copy()"
   ]
  },
  {
   "cell_type": "markdown",
   "metadata": {},
   "source": [
    "## 1.1. Data Dimensions"
   ]
  },
  {
   "cell_type": "code",
   "execution_count": 113,
   "metadata": {
    "ExecuteTime": {
     "end_time": "2021-07-21T01:24:13.687482Z",
     "start_time": "2021-07-21T01:24:13.440168Z"
    }
   },
   "outputs": [
    {
     "name": "stdout",
     "output_type": "stream",
     "text": [
      "Number of columns: 13\n",
      "Number of rows: 70000\n"
     ]
    }
   ],
   "source": [
    "print('Number of columns:', format(df1.shape[1]))\n",
    "print('Number of rows:', format(df1.shape[0]))"
   ]
  },
  {
   "cell_type": "markdown",
   "metadata": {
    "ExecuteTime": {
     "end_time": "2021-05-31T00:21:53.295619Z",
     "start_time": "2021-05-31T00:21:53.279628Z"
    }
   },
   "source": [
    "## 1.2. Data Types"
   ]
  },
  {
   "cell_type": "code",
   "execution_count": 114,
   "metadata": {
    "ExecuteTime": {
     "end_time": "2021-07-21T01:24:13.935528Z",
     "start_time": "2021-07-21T01:24:13.690478Z"
    }
   },
   "outputs": [
    {
     "data": {
      "text/plain": [
       "id               int64\n",
       "age              int64\n",
       "gender           int64\n",
       "height           int64\n",
       "weight         float64\n",
       "ap_hi            int64\n",
       "ap_lo            int64\n",
       "cholesterol      int64\n",
       "gluc             int64\n",
       "smoke            int64\n",
       "alco             int64\n",
       "active           int64\n",
       "cardio           int64\n",
       "dtype: object"
      ]
     },
     "execution_count": 114,
     "metadata": {},
     "output_type": "execute_result"
    }
   ],
   "source": [
    "df1.dtypes"
   ]
  },
  {
   "cell_type": "markdown",
   "metadata": {},
   "source": [
    "## 1.3. Check NA"
   ]
  },
  {
   "cell_type": "code",
   "execution_count": 115,
   "metadata": {
    "ExecuteTime": {
     "end_time": "2021-07-21T01:24:14.232334Z",
     "start_time": "2021-07-21T01:24:13.937532Z"
    }
   },
   "outputs": [
    {
     "data": {
      "text/plain": [
       "id             0\n",
       "age            0\n",
       "gender         0\n",
       "height         0\n",
       "weight         0\n",
       "ap_hi          0\n",
       "ap_lo          0\n",
       "cholesterol    0\n",
       "gluc           0\n",
       "smoke          0\n",
       "alco           0\n",
       "active         0\n",
       "cardio         0\n",
       "dtype: int64"
      ]
     },
     "execution_count": 115,
     "metadata": {},
     "output_type": "execute_result"
    }
   ],
   "source": [
    "df1.isna().sum()"
   ]
  },
  {
   "cell_type": "markdown",
   "metadata": {},
   "source": [
    "## 1.4. Unit change"
   ]
  },
  {
   "cell_type": "code",
   "execution_count": 116,
   "metadata": {
    "ExecuteTime": {
     "end_time": "2021-07-21T01:24:14.549371Z",
     "start_time": "2021-07-21T01:24:14.234340Z"
    }
   },
   "outputs": [
    {
     "data": {
      "text/plain": [
       "id             int64\n",
       "age            int32\n",
       "gender         int64\n",
       "height         int64\n",
       "weight         int32\n",
       "ap_hi          int64\n",
       "ap_lo          int64\n",
       "cholesterol    int64\n",
       "gluc           int64\n",
       "smoke          int64\n",
       "alco           int64\n",
       "active         int64\n",
       "cardio         int64\n",
       "dtype: object"
      ]
     },
     "execution_count": 116,
     "metadata": {},
     "output_type": "execute_result"
    }
   ],
   "source": [
    "#age (int)\n",
    "df1['age'] = (df1['age']/365).astype(int)\n",
    "\n",
    "#weight (int)\n",
    "df1['weight'] = df1['weight'].astype(int)\n",
    "\n",
    "df1.dtypes"
   ]
  },
  {
   "cell_type": "markdown",
   "metadata": {},
   "source": [
    "## 1.5. Descriptive Statiscal"
   ]
  },
  {
   "cell_type": "code",
   "execution_count": 117,
   "metadata": {
    "ExecuteTime": {
     "end_time": "2021-07-21T01:24:15.081634Z",
     "start_time": "2021-07-21T01:24:14.551375Z"
    }
   },
   "outputs": [
    {
     "data": {
      "text/html": [
       "<div>\n",
       "<style scoped>\n",
       "    .dataframe tbody tr th:only-of-type {\n",
       "        vertical-align: middle;\n",
       "    }\n",
       "\n",
       "    .dataframe tbody tr th {\n",
       "        vertical-align: top;\n",
       "    }\n",
       "\n",
       "    .dataframe thead th {\n",
       "        text-align: right;\n",
       "    }\n",
       "</style>\n",
       "<table border=\"1\" class=\"dataframe\">\n",
       "  <thead>\n",
       "    <tr style=\"text-align: right;\">\n",
       "      <th></th>\n",
       "      <th>attributes</th>\n",
       "      <th>min</th>\n",
       "      <th>max</th>\n",
       "      <th>range</th>\n",
       "      <th>mean</th>\n",
       "      <th>median</th>\n",
       "      <th>std</th>\n",
       "      <th>skew</th>\n",
       "      <th>kurtosis</th>\n",
       "    </tr>\n",
       "  </thead>\n",
       "  <tbody>\n",
       "    <tr>\n",
       "      <th>0</th>\n",
       "      <td>id</td>\n",
       "      <td>0.0</td>\n",
       "      <td>99999.0</td>\n",
       "      <td>99999.0</td>\n",
       "      <td>49972.419900</td>\n",
       "      <td>50001.5</td>\n",
       "      <td>28851.096242</td>\n",
       "      <td>-0.001278</td>\n",
       "      <td>-1.198374</td>\n",
       "    </tr>\n",
       "    <tr>\n",
       "      <th>1</th>\n",
       "      <td>age</td>\n",
       "      <td>29.0</td>\n",
       "      <td>64.0</td>\n",
       "      <td>35.0</td>\n",
       "      <td>52.840671</td>\n",
       "      <td>53.0</td>\n",
       "      <td>6.766725</td>\n",
       "      <td>-0.305744</td>\n",
       "      <td>-0.818981</td>\n",
       "    </tr>\n",
       "    <tr>\n",
       "      <th>2</th>\n",
       "      <td>gender</td>\n",
       "      <td>1.0</td>\n",
       "      <td>2.0</td>\n",
       "      <td>1.0</td>\n",
       "      <td>1.349571</td>\n",
       "      <td>1.0</td>\n",
       "      <td>0.476835</td>\n",
       "      <td>0.630960</td>\n",
       "      <td>-1.601935</td>\n",
       "    </tr>\n",
       "    <tr>\n",
       "      <th>3</th>\n",
       "      <td>height</td>\n",
       "      <td>55.0</td>\n",
       "      <td>250.0</td>\n",
       "      <td>195.0</td>\n",
       "      <td>164.359229</td>\n",
       "      <td>165.0</td>\n",
       "      <td>8.210068</td>\n",
       "      <td>-0.642187</td>\n",
       "      <td>7.943653</td>\n",
       "    </tr>\n",
       "    <tr>\n",
       "      <th>4</th>\n",
       "      <td>weight</td>\n",
       "      <td>10.0</td>\n",
       "      <td>200.0</td>\n",
       "      <td>190.0</td>\n",
       "      <td>74.204329</td>\n",
       "      <td>72.0</td>\n",
       "      <td>14.395850</td>\n",
       "      <td>1.012030</td>\n",
       "      <td>2.586746</td>\n",
       "    </tr>\n",
       "    <tr>\n",
       "      <th>5</th>\n",
       "      <td>ap_hi</td>\n",
       "      <td>-150.0</td>\n",
       "      <td>16020.0</td>\n",
       "      <td>16170.0</td>\n",
       "      <td>128.817286</td>\n",
       "      <td>120.0</td>\n",
       "      <td>154.010319</td>\n",
       "      <td>85.296214</td>\n",
       "      <td>7580.074738</td>\n",
       "    </tr>\n",
       "    <tr>\n",
       "      <th>6</th>\n",
       "      <td>ap_lo</td>\n",
       "      <td>-70.0</td>\n",
       "      <td>11000.0</td>\n",
       "      <td>11070.0</td>\n",
       "      <td>96.630414</td>\n",
       "      <td>80.0</td>\n",
       "      <td>188.471184</td>\n",
       "      <td>32.114083</td>\n",
       "      <td>1425.914585</td>\n",
       "    </tr>\n",
       "    <tr>\n",
       "      <th>7</th>\n",
       "      <td>cholesterol</td>\n",
       "      <td>1.0</td>\n",
       "      <td>3.0</td>\n",
       "      <td>2.0</td>\n",
       "      <td>1.366871</td>\n",
       "      <td>1.0</td>\n",
       "      <td>0.680245</td>\n",
       "      <td>1.587123</td>\n",
       "      <td>0.993901</td>\n",
       "    </tr>\n",
       "    <tr>\n",
       "      <th>8</th>\n",
       "      <td>gluc</td>\n",
       "      <td>1.0</td>\n",
       "      <td>3.0</td>\n",
       "      <td>2.0</td>\n",
       "      <td>1.226457</td>\n",
       "      <td>1.0</td>\n",
       "      <td>0.572266</td>\n",
       "      <td>2.397462</td>\n",
       "      <td>4.294377</td>\n",
       "    </tr>\n",
       "    <tr>\n",
       "      <th>9</th>\n",
       "      <td>smoke</td>\n",
       "      <td>0.0</td>\n",
       "      <td>1.0</td>\n",
       "      <td>1.0</td>\n",
       "      <td>0.088129</td>\n",
       "      <td>0.0</td>\n",
       "      <td>0.283482</td>\n",
       "      <td>2.905867</td>\n",
       "      <td>6.444250</td>\n",
       "    </tr>\n",
       "    <tr>\n",
       "      <th>10</th>\n",
       "      <td>alco</td>\n",
       "      <td>0.0</td>\n",
       "      <td>1.0</td>\n",
       "      <td>1.0</td>\n",
       "      <td>0.053771</td>\n",
       "      <td>0.0</td>\n",
       "      <td>0.225566</td>\n",
       "      <td>3.956607</td>\n",
       "      <td>13.655125</td>\n",
       "    </tr>\n",
       "    <tr>\n",
       "      <th>11</th>\n",
       "      <td>active</td>\n",
       "      <td>0.0</td>\n",
       "      <td>1.0</td>\n",
       "      <td>1.0</td>\n",
       "      <td>0.803729</td>\n",
       "      <td>1.0</td>\n",
       "      <td>0.397176</td>\n",
       "      <td>-1.529473</td>\n",
       "      <td>0.339296</td>\n",
       "    </tr>\n",
       "    <tr>\n",
       "      <th>12</th>\n",
       "      <td>cardio</td>\n",
       "      <td>0.0</td>\n",
       "      <td>1.0</td>\n",
       "      <td>1.0</td>\n",
       "      <td>0.499700</td>\n",
       "      <td>0.0</td>\n",
       "      <td>0.500000</td>\n",
       "      <td>0.001200</td>\n",
       "      <td>-2.000056</td>\n",
       "    </tr>\n",
       "  </tbody>\n",
       "</table>\n",
       "</div>"
      ],
      "text/plain": [
       "     attributes    min      max    range          mean   median           std  \\\n",
       "0            id    0.0  99999.0  99999.0  49972.419900  50001.5  28851.096242   \n",
       "1           age   29.0     64.0     35.0     52.840671     53.0      6.766725   \n",
       "2        gender    1.0      2.0      1.0      1.349571      1.0      0.476835   \n",
       "3        height   55.0    250.0    195.0    164.359229    165.0      8.210068   \n",
       "4        weight   10.0    200.0    190.0     74.204329     72.0     14.395850   \n",
       "5         ap_hi -150.0  16020.0  16170.0    128.817286    120.0    154.010319   \n",
       "6         ap_lo  -70.0  11000.0  11070.0     96.630414     80.0    188.471184   \n",
       "7   cholesterol    1.0      3.0      2.0      1.366871      1.0      0.680245   \n",
       "8          gluc    1.0      3.0      2.0      1.226457      1.0      0.572266   \n",
       "9         smoke    0.0      1.0      1.0      0.088129      0.0      0.283482   \n",
       "10         alco    0.0      1.0      1.0      0.053771      0.0      0.225566   \n",
       "11       active    0.0      1.0      1.0      0.803729      1.0      0.397176   \n",
       "12       cardio    0.0      1.0      1.0      0.499700      0.0      0.500000   \n",
       "\n",
       "         skew     kurtosis  \n",
       "0   -0.001278    -1.198374  \n",
       "1   -0.305744    -0.818981  \n",
       "2    0.630960    -1.601935  \n",
       "3   -0.642187     7.943653  \n",
       "4    1.012030     2.586746  \n",
       "5   85.296214  7580.074738  \n",
       "6   32.114083  1425.914585  \n",
       "7    1.587123     0.993901  \n",
       "8    2.397462     4.294377  \n",
       "9    2.905867     6.444250  \n",
       "10   3.956607    13.655125  \n",
       "11  -1.529473     0.339296  \n",
       "12   0.001200    -2.000056  "
      ]
     },
     "execution_count": 117,
     "metadata": {},
     "output_type": "execute_result"
    }
   ],
   "source": [
    "#central tendency - mean, median\n",
    "ct1 = pd.DataFrame(df1.apply(np.mean)).T\n",
    "ct2 = pd.DataFrame(df1.apply(np.median)).T\n",
    "\n",
    "#Dispersion - std, min, max, range, skew, kurtosis\n",
    "d1 = pd.DataFrame(df1.apply(min)).T\n",
    "d2 = pd.DataFrame(df1.apply(max)).T\n",
    "d3 = pd.DataFrame(df1.apply(lambda x: x.max() - x.min())).T\n",
    "d4 = pd.DataFrame(df1.apply(np.std)).T\n",
    "d5 = pd.DataFrame(df1.apply(lambda x: x.skew())).T\n",
    "d6 = pd.DataFrame(df1.apply(lambda x: x.kurtosis())).T\n",
    "\n",
    "#concatenate\n",
    "m = pd.concat([d1,d2,d3,ct1,ct2,d4,d5,d6]).T.reset_index()\n",
    "m.columns = ['attributes','min','max','range','mean','median','std','skew','kurtosis']\n",
    "m"
   ]
  },
  {
   "cell_type": "markdown",
   "metadata": {},
   "source": [
    "# 2.0. Feature Engineering"
   ]
  },
  {
   "cell_type": "code",
   "execution_count": 200,
   "metadata": {
    "ExecuteTime": {
     "end_time": "2021-07-21T01:32:38.864874Z",
     "start_time": "2021-07-21T01:32:38.849885Z"
    }
   },
   "outputs": [],
   "source": [
    "df2 = df1.copy()"
   ]
  },
  {
   "cell_type": "code",
   "execution_count": 119,
   "metadata": {
    "ExecuteTime": {
     "end_time": "2021-07-21T01:24:15.863321Z",
     "start_time": "2021-07-21T01:24:15.099621Z"
    }
   },
   "outputs": [
    {
     "name": "stdout",
     "output_type": "stream",
     "text": [
      "+-------------------+--------------------------+---------------------+-------------+------------------------------------+\n",
      "|        Type       |           Name           |       Category      |     Code    |               Unity                |\n",
      "+-------------------+--------------------------+---------------------+-------------+------------------------------------+\n",
      "|   Identification  |           Age            |  Objective Feature  |     age     |             int (days)             |\n",
      "|   Identification  |          Height          |  Objective Feature  |    height   |              int (cm)              |\n",
      "|   Identification  |          Weight          |  Objective Feature  |    weight   |             float (kg)             |\n",
      "|   Identification  |          Gender          |  Objective Feature  |    gender   |         1 (women) 2 (men)          |\n",
      "| Review of Systems | Systolic blood pressure  | Examination Feature |    ap_hi    |                int                 |\n",
      "| Review of Systems | Diastolic blood pressure | Examination Feature |    ap_lo    |                int                 |\n",
      "| Review of Systems |       Cholesterol        | Examination Feature | cholesterol | 1: normal, 2: above, 3: well above |\n",
      "| Review of Systems |         Glucose          | Examination Feature |     gluc    | 1: normal, 2: above, 3: well above |\n",
      "|       Habits      |         Smoking          |  Subjective Feature |    smoke    |               binary               |\n",
      "|       Habits      |      Alcohol intake      |  Subjective Feature |     alco    |               binary               |\n",
      "|       Habits      |    Physical activity     |  Subjective Feature |    active   |               binary               |\n",
      "|  Target Variable  | Presence/absence of CVD  |   Target Variable   |    cardio   |               binary               |\n",
      "+-------------------+--------------------------+---------------------+-------------+------------------------------------+\n"
     ]
    }
   ],
   "source": [
    "# Specify the Column Names while initializing the Table \n",
    "myTable = PrettyTable(['Type','Name', 'Category', 'Code', 'Unity']) \n",
    "  \n",
    "# Add rows \n",
    "myTable.add_row(['Identification','Age','Objective Feature', 'age', 'int (days)']) \n",
    "myTable.add_row(['Identification','Height','Objective Feature', 'height', 'int (cm)']) \n",
    "myTable.add_row(['Identification','Weight','Objective Feature', 'weight', 'float (kg)'])\n",
    "myTable.add_row(['Identification','Gender','Objective Feature', 'gender', '1 (women) 2 (men)'])\n",
    "myTable.add_row(['Review of Systems','Systolic blood pressure','Examination Feature', 'ap_hi', 'int'])\n",
    "myTable.add_row(['Review of Systems','Diastolic blood pressure','Examination Feature', 'ap_lo', 'int'])\n",
    "myTable.add_row(['Review of Systems','Cholesterol','Examination Feature', 'cholesterol', '1: normal, 2: above, 3: well above'])\n",
    "myTable.add_row(['Review of Systems','Glucose','Examination Feature', 'gluc', '1: normal, 2: above, 3: well above'])\n",
    "myTable.add_row(['Habits','Smoking','Subjective Feature', 'smoke', 'binary'])\n",
    "myTable.add_row(['Habits','Alcohol intake','Subjective Feature', 'alco', 'binary'])\n",
    "myTable.add_row(['Habits','Physical activity','Subjective Feature', 'active', 'binary'])\n",
    "myTable.add_row(['Target Variable','Presence/absence of CVD','Target Variable', 'cardio', 'binary'])\n",
    "\n",
    "print(myTable)"
   ]
  },
  {
   "cell_type": "markdown",
   "metadata": {
    "heading_collapsed": true
   },
   "source": [
    "## 2.1 Mind Map Hypothesis"
   ]
  },
  {
   "cell_type": "code",
   "execution_count": 120,
   "metadata": {
    "ExecuteTime": {
     "end_time": "2021-07-21T01:24:16.050179Z",
     "start_time": "2021-07-21T01:24:15.865320Z"
    },
    "hidden": true
   },
   "outputs": [
    {
     "data": {
      "image/png": "[encoded data removed]",
      "text/plain": [
       "<IPython.core.display.Image object>"
      ]
     },
     "execution_count": 120,
     "metadata": {},
     "output_type": "execute_result"
    }
   ],
   "source": [
    "Image('CCD.png')"
   ]
  },
  {
   "cell_type": "markdown",
   "metadata": {
    "heading_collapsed": true
   },
   "source": [
    "## 2.2 Hypothesis Creation"
   ]
  },
  {
   "cell_type": "markdown",
   "metadata": {
    "hidden": true
   },
   "source": [
    "### 2.1.1 Identification Hypothesis"
   ]
  },
  {
   "cell_type": "markdown",
   "metadata": {
    "hidden": true
   },
   "source": [
    "**1.** People over 50 are on average 20% more likely to have CVD than under 50\n",
    "\n",
    "**2.** People shorter than 170 cm (5'7'') have a 5% more chance of CVDs than over 170 cm\n",
    "\n",
    "**3.** Men are 30% more likely than women to develop a CVD\n",
    "\n",
    "**4.** People over 100 kg (220 lb) have 40% more chance of having a CVD than 100 kg\n",
    "\n",
    "**5.** People with a BMI above 30 (obese class I) have 25% more chance of having a CVD than below 30"
   ]
  },
  {
   "cell_type": "markdown",
   "metadata": {
    "hidden": true
   },
   "source": [
    "### 2.1.2 Habits Hypothesis"
   ]
  },
  {
   "cell_type": "markdown",
   "metadata": {
    "hidden": true
   },
   "source": [
    "**1.** People who do not engage in physical activity are 40% more likely to have CVDs than who engage\n",
    "\n",
    "**2.** People who regularly consume alcohol have a 10% chance of having CVD than those who do not consume\n",
    "\n",
    "**3.** People who smoke are 20% more likely to have CVD than who do not smoke"
   ]
  },
  {
   "cell_type": "markdown",
   "metadata": {
    "hidden": true
   },
   "source": [
    "### 2.1.3 Exams Hypothesis"
   ]
  },
  {
   "cell_type": "markdown",
   "metadata": {
    "hidden": true
   },
   "source": [
    "**1.** People with well above normal cholesterol have a 50% chance of having CVD than normal\n",
    "\n",
    "**2.** People with well above normal glucose have a 20% chance of having CVD than normal\n",
    "\n",
    "**3.** People who have hypertension have 40% chance of having CVD than who have normal blood pressure"
   ]
  },
  {
   "cell_type": "markdown",
   "metadata": {
    "heading_collapsed": true
   },
   "source": [
    "## 2.3. Final Hypothesis"
   ]
  },
  {
   "cell_type": "markdown",
   "metadata": {
    "ExecuteTime": {
     "end_time": "2021-06-04T22:44:31.407847Z",
     "start_time": "2021-06-04T22:44:31.276834Z"
    },
    "hidden": true
   },
   "source": [
    "**1.** People over 50 are on average 20% more likely to have CVD than under 50\n",
    "\n",
    "**2.** People shorter than 170 cm (5'7'') have a 5% more chance of CVDs than over 170 cm\n",
    "\n",
    "**3.** Men are 30% more likely than women to develop a CVD\n",
    "\n",
    "**4.** People over 100 kg (220 lb) have 40% more chance of having a CVD than 100 kg\n",
    "\n",
    "**5.** People with a BMI above 30 (obese class I) have 25% more chance of having a CVD than below 30\n",
    "\n",
    "**6.** People who do not engage in physical activity are 40% more likely to have CVDs than who engage\n",
    "\n",
    "**7.** People who regularly consume alcohol have a 10% chance of having CVD than those who do not consume\n",
    "\n",
    "**8.** People who smoke are 20% more likely to have CVD than who do not smoke\n",
    "\n",
    "**9.** People with well above normal cholesterol have a 50% chance of having CVD than normal\n",
    "\n",
    "**10.** People with well above normal glucose have a 20% chance of having CVD than normal\n",
    "\n",
    "**11.** People who have hypertension have 40% chance of having CVD than who have normal blood pressure"
   ]
  },
  {
   "cell_type": "markdown",
   "metadata": {},
   "source": [
    "## 2.4. Feature Engineering"
   ]
  },
  {
   "cell_type": "code",
   "execution_count": 121,
   "metadata": {
    "ExecuteTime": {
     "end_time": "2021-07-21T01:24:16.251849Z",
     "start_time": "2021-07-21T01:24:16.052179Z"
    }
   },
   "outputs": [],
   "source": [
    "#BMI\n",
    "df2['bmi'] = bmi(df2['height'], df2['weight'])"
   ]
  },
  {
   "cell_type": "code",
   "execution_count": 201,
   "metadata": {
    "ExecuteTime": {
     "end_time": "2021-07-21T01:32:45.438148Z",
     "start_time": "2021-07-21T01:32:42.104592Z"
    }
   },
   "outputs": [
    {
     "ename": "IntCastingNaNError",
     "evalue": "Cannot convert non-finite values (NA or inf) to integer",
     "output_type": "error",
     "traceback": [
      "\u001b[1;31m---------------------------------------------------------------------------\u001b[0m",
      "\u001b[1;31mIntCastingNaNError\u001b[0m                        Traceback (most recent call last)",
      "\u001b[1;32m<ipython-input-201-ade0a7a72251>\u001b[0m in \u001b[0;36m<module>\u001b[1;34m\u001b[0m\n\u001b[0;32m     13\u001b[0m \u001b[1;31m#transform to (int)\u001b[0m\u001b[1;33m\u001b[0m\u001b[1;33m\u001b[0m\u001b[1;33m\u001b[0m\u001b[0m\n\u001b[0;32m     14\u001b[0m \u001b[0mdf2\u001b[0m\u001b[1;33m[\u001b[0m\u001b[1;34m'blood_pressure'\u001b[0m\u001b[1;33m]\u001b[0m \u001b[1;33m=\u001b[0m \u001b[0mpd\u001b[0m\u001b[1;33m.\u001b[0m\u001b[0mto_numeric\u001b[0m\u001b[1;33m(\u001b[0m\u001b[0mdf2\u001b[0m\u001b[1;33m[\u001b[0m\u001b[1;34m'blood_pressure'\u001b[0m\u001b[1;33m]\u001b[0m\u001b[1;33m,\u001b[0m\u001b[0merrors\u001b[0m \u001b[1;33m=\u001b[0m \u001b[1;34m'coerce'\u001b[0m\u001b[1;33m)\u001b[0m\u001b[1;33m\u001b[0m\u001b[1;33m\u001b[0m\u001b[0m\n\u001b[1;32m---> 15\u001b[1;33m \u001b[0mdf2\u001b[0m\u001b[1;33m[\u001b[0m\u001b[1;34m'blood_pressure'\u001b[0m\u001b[1;33m]\u001b[0m \u001b[1;33m=\u001b[0m \u001b[0mdf2\u001b[0m\u001b[1;33m[\u001b[0m\u001b[1;34m'blood_pressure'\u001b[0m\u001b[1;33m]\u001b[0m\u001b[1;33m.\u001b[0m\u001b[0mastype\u001b[0m\u001b[1;33m(\u001b[0m\u001b[0mint\u001b[0m\u001b[1;33m)\u001b[0m\u001b[1;33m\u001b[0m\u001b[1;33m\u001b[0m\u001b[0m\n\u001b[0m",
      "\u001b[1;32m~\\anaconda3\\lib\\site-packages\\pandas\\core\\generic.py\u001b[0m in \u001b[0;36mastype\u001b[1;34m(self, dtype, copy, errors)\u001b[0m\n\u001b[0;32m   5804\u001b[0m         \u001b[1;32melse\u001b[0m\u001b[1;33m:\u001b[0m\u001b[1;33m\u001b[0m\u001b[1;33m\u001b[0m\u001b[0m\n\u001b[0;32m   5805\u001b[0m             \u001b[1;31m# else, only a single dtype is given\u001b[0m\u001b[1;33m\u001b[0m\u001b[1;33m\u001b[0m\u001b[1;33m\u001b[0m\u001b[0m\n\u001b[1;32m-> 5806\u001b[1;33m             \u001b[0mnew_data\u001b[0m \u001b[1;33m=\u001b[0m \u001b[0mself\u001b[0m\u001b[1;33m.\u001b[0m\u001b[0m_mgr\u001b[0m\u001b[1;33m.\u001b[0m\u001b[0mastype\u001b[0m\u001b[1;33m(\u001b[0m\u001b[0mdtype\u001b[0m\u001b[1;33m=\u001b[0m\u001b[0mdtype\u001b[0m\u001b[1;33m,\u001b[0m \u001b[0mcopy\u001b[0m\u001b[1;33m=\u001b[0m\u001b[0mcopy\u001b[0m\u001b[1;33m,\u001b[0m \u001b[0merrors\u001b[0m\u001b[1;33m=\u001b[0m\u001b[0merrors\u001b[0m\u001b[1;33m)\u001b[0m\u001b[1;33m\u001b[0m\u001b[1;33m\u001b[0m\u001b[0m\n\u001b[0m\u001b[0;32m   5807\u001b[0m             \u001b[1;32mreturn\u001b[0m \u001b[0mself\u001b[0m\u001b[1;33m.\u001b[0m\u001b[0m_constructor\u001b[0m\u001b[1;33m(\u001b[0m\u001b[0mnew_data\u001b[0m\u001b[1;33m)\u001b[0m\u001b[1;33m.\u001b[0m\u001b[0m__finalize__\u001b[0m\u001b[1;33m(\u001b[0m\u001b[0mself\u001b[0m\u001b[1;33m,\u001b[0m \u001b[0mmethod\u001b[0m\u001b[1;33m=\u001b[0m\u001b[1;34m\"astype\"\u001b[0m\u001b[1;33m)\u001b[0m\u001b[1;33m\u001b[0m\u001b[1;33m\u001b[0m\u001b[0m\n\u001b[0;32m   5808\u001b[0m \u001b[1;33m\u001b[0m\u001b[0m\n",
      "\u001b[1;32m~\\anaconda3\\lib\\site-packages\\pandas\\core\\internals\\managers.py\u001b[0m in \u001b[0;36mastype\u001b[1;34m(self, dtype, copy, errors)\u001b[0m\n\u001b[0;32m    412\u001b[0m \u001b[1;33m\u001b[0m\u001b[0m\n\u001b[0;32m    413\u001b[0m     \u001b[1;32mdef\u001b[0m \u001b[0mastype\u001b[0m\u001b[1;33m(\u001b[0m\u001b[0mself\u001b[0m\u001b[1;33m:\u001b[0m \u001b[0mT\u001b[0m\u001b[1;33m,\u001b[0m \u001b[0mdtype\u001b[0m\u001b[1;33m,\u001b[0m \u001b[0mcopy\u001b[0m\u001b[1;33m:\u001b[0m \u001b[0mbool\u001b[0m \u001b[1;33m=\u001b[0m \u001b[1;32mFalse\u001b[0m\u001b[1;33m,\u001b[0m \u001b[0merrors\u001b[0m\u001b[1;33m:\u001b[0m \u001b[0mstr\u001b[0m \u001b[1;33m=\u001b[0m \u001b[1;34m\"raise\"\u001b[0m\u001b[1;33m)\u001b[0m \u001b[1;33m->\u001b[0m \u001b[0mT\u001b[0m\u001b[1;33m:\u001b[0m\u001b[1;33m\u001b[0m\u001b[1;33m\u001b[0m\u001b[0m\n\u001b[1;32m--> 414\u001b[1;33m         \u001b[1;32mreturn\u001b[0m \u001b[0mself\u001b[0m\u001b[1;33m.\u001b[0m\u001b[0mapply\u001b[0m\u001b[1;33m(\u001b[0m\u001b[1;34m\"astype\"\u001b[0m\u001b[1;33m,\u001b[0m \u001b[0mdtype\u001b[0m\u001b[1;33m=\u001b[0m\u001b[0mdtype\u001b[0m\u001b[1;33m,\u001b[0m \u001b[0mcopy\u001b[0m\u001b[1;33m=\u001b[0m\u001b[0mcopy\u001b[0m\u001b[1;33m,\u001b[0m \u001b[0merrors\u001b[0m\u001b[1;33m=\u001b[0m\u001b[0merrors\u001b[0m\u001b[1;33m)\u001b[0m\u001b[1;33m\u001b[0m\u001b[1;33m\u001b[0m\u001b[0m\n\u001b[0m\u001b[0;32m    415\u001b[0m \u001b[1;33m\u001b[0m\u001b[0m\n\u001b[0;32m    416\u001b[0m     def convert(\n",
      "\u001b[1;32m~\\anaconda3\\lib\\site-packages\\pandas\\core\\internals\\managers.py\u001b[0m in \u001b[0;36mapply\u001b[1;34m(self, f, align_keys, ignore_failures, **kwargs)\u001b[0m\n\u001b[0;32m    325\u001b[0m                     \u001b[0mapplied\u001b[0m \u001b[1;33m=\u001b[0m \u001b[0mb\u001b[0m\u001b[1;33m.\u001b[0m\u001b[0mapply\u001b[0m\u001b[1;33m(\u001b[0m\u001b[0mf\u001b[0m\u001b[1;33m,\u001b[0m \u001b[1;33m**\u001b[0m\u001b[0mkwargs\u001b[0m\u001b[1;33m)\u001b[0m\u001b[1;33m\u001b[0m\u001b[1;33m\u001b[0m\u001b[0m\n\u001b[0;32m    326\u001b[0m                 \u001b[1;32melse\u001b[0m\u001b[1;33m:\u001b[0m\u001b[1;33m\u001b[0m\u001b[1;33m\u001b[0m\u001b[0m\n\u001b[1;32m--> 327\u001b[1;33m                     \u001b[0mapplied\u001b[0m \u001b[1;33m=\u001b[0m \u001b[0mgetattr\u001b[0m\u001b[1;33m(\u001b[0m\u001b[0mb\u001b[0m\u001b[1;33m,\u001b[0m \u001b[0mf\u001b[0m\u001b[1;33m)\u001b[0m\u001b[1;33m(\u001b[0m\u001b[1;33m**\u001b[0m\u001b[0mkwargs\u001b[0m\u001b[1;33m)\u001b[0m\u001b[1;33m\u001b[0m\u001b[1;33m\u001b[0m\u001b[0m\n\u001b[0m\u001b[0;32m    328\u001b[0m             \u001b[1;32mexcept\u001b[0m \u001b[1;33m(\u001b[0m\u001b[0mTypeError\u001b[0m\u001b[1;33m,\u001b[0m \u001b[0mNotImplementedError\u001b[0m\u001b[1;33m)\u001b[0m\u001b[1;33m:\u001b[0m\u001b[1;33m\u001b[0m\u001b[1;33m\u001b[0m\u001b[0m\n\u001b[0;32m    329\u001b[0m                 \u001b[1;32mif\u001b[0m \u001b[1;32mnot\u001b[0m \u001b[0mignore_failures\u001b[0m\u001b[1;33m:\u001b[0m\u001b[1;33m\u001b[0m\u001b[1;33m\u001b[0m\u001b[0m\n",
      "\u001b[1;32m~\\anaconda3\\lib\\site-packages\\pandas\\core\\internals\\blocks.py\u001b[0m in \u001b[0;36mastype\u001b[1;34m(self, dtype, copy, errors)\u001b[0m\n\u001b[0;32m    590\u001b[0m         \u001b[0mvalues\u001b[0m \u001b[1;33m=\u001b[0m \u001b[0mself\u001b[0m\u001b[1;33m.\u001b[0m\u001b[0mvalues\u001b[0m\u001b[1;33m\u001b[0m\u001b[1;33m\u001b[0m\u001b[0m\n\u001b[0;32m    591\u001b[0m \u001b[1;33m\u001b[0m\u001b[0m\n\u001b[1;32m--> 592\u001b[1;33m         \u001b[0mnew_values\u001b[0m \u001b[1;33m=\u001b[0m \u001b[0mastype_array_safe\u001b[0m\u001b[1;33m(\u001b[0m\u001b[0mvalues\u001b[0m\u001b[1;33m,\u001b[0m \u001b[0mdtype\u001b[0m\u001b[1;33m,\u001b[0m \u001b[0mcopy\u001b[0m\u001b[1;33m=\u001b[0m\u001b[0mcopy\u001b[0m\u001b[1;33m,\u001b[0m \u001b[0merrors\u001b[0m\u001b[1;33m=\u001b[0m\u001b[0merrors\u001b[0m\u001b[1;33m)\u001b[0m\u001b[1;33m\u001b[0m\u001b[1;33m\u001b[0m\u001b[0m\n\u001b[0m\u001b[0;32m    593\u001b[0m \u001b[1;33m\u001b[0m\u001b[0m\n\u001b[0;32m    594\u001b[0m         \u001b[0mnew_values\u001b[0m \u001b[1;33m=\u001b[0m \u001b[0mmaybe_coerce_values\u001b[0m\u001b[1;33m(\u001b[0m\u001b[0mnew_values\u001b[0m\u001b[1;33m)\u001b[0m\u001b[1;33m\u001b[0m\u001b[1;33m\u001b[0m\u001b[0m\n",
      "\u001b[1;32m~\\anaconda3\\lib\\site-packages\\pandas\\core\\dtypes\\cast.py\u001b[0m in \u001b[0;36mastype_array_safe\u001b[1;34m(values, dtype, copy, errors)\u001b[0m\n\u001b[0;32m   1298\u001b[0m \u001b[1;33m\u001b[0m\u001b[0m\n\u001b[0;32m   1299\u001b[0m     \u001b[1;32mtry\u001b[0m\u001b[1;33m:\u001b[0m\u001b[1;33m\u001b[0m\u001b[1;33m\u001b[0m\u001b[0m\n\u001b[1;32m-> 1300\u001b[1;33m         \u001b[0mnew_values\u001b[0m \u001b[1;33m=\u001b[0m \u001b[0mastype_array\u001b[0m\u001b[1;33m(\u001b[0m\u001b[0mvalues\u001b[0m\u001b[1;33m,\u001b[0m \u001b[0mdtype\u001b[0m\u001b[1;33m,\u001b[0m \u001b[0mcopy\u001b[0m\u001b[1;33m=\u001b[0m\u001b[0mcopy\u001b[0m\u001b[1;33m)\u001b[0m\u001b[1;33m\u001b[0m\u001b[1;33m\u001b[0m\u001b[0m\n\u001b[0m\u001b[0;32m   1301\u001b[0m     \u001b[1;32mexcept\u001b[0m \u001b[1;33m(\u001b[0m\u001b[0mValueError\u001b[0m\u001b[1;33m,\u001b[0m \u001b[0mTypeError\u001b[0m\u001b[1;33m)\u001b[0m\u001b[1;33m:\u001b[0m\u001b[1;33m\u001b[0m\u001b[1;33m\u001b[0m\u001b[0m\n\u001b[0;32m   1302\u001b[0m         \u001b[1;31m# e.g. astype_nansafe can fail on object-dtype of strings\u001b[0m\u001b[1;33m\u001b[0m\u001b[1;33m\u001b[0m\u001b[1;33m\u001b[0m\u001b[0m\n",
      "\u001b[1;32m~\\anaconda3\\lib\\site-packages\\pandas\\core\\dtypes\\cast.py\u001b[0m in \u001b[0;36mastype_array\u001b[1;34m(values, dtype, copy)\u001b[0m\n\u001b[0;32m   1246\u001b[0m \u001b[1;33m\u001b[0m\u001b[0m\n\u001b[0;32m   1247\u001b[0m     \u001b[1;32melse\u001b[0m\u001b[1;33m:\u001b[0m\u001b[1;33m\u001b[0m\u001b[1;33m\u001b[0m\u001b[0m\n\u001b[1;32m-> 1248\u001b[1;33m         \u001b[0mvalues\u001b[0m \u001b[1;33m=\u001b[0m \u001b[0mastype_nansafe\u001b[0m\u001b[1;33m(\u001b[0m\u001b[0mvalues\u001b[0m\u001b[1;33m,\u001b[0m \u001b[0mdtype\u001b[0m\u001b[1;33m,\u001b[0m \u001b[0mcopy\u001b[0m\u001b[1;33m=\u001b[0m\u001b[0mcopy\u001b[0m\u001b[1;33m)\u001b[0m\u001b[1;33m\u001b[0m\u001b[1;33m\u001b[0m\u001b[0m\n\u001b[0m\u001b[0;32m   1249\u001b[0m \u001b[1;33m\u001b[0m\u001b[0m\n\u001b[0;32m   1250\u001b[0m     \u001b[1;31m# in pandas we don't store numpy str dtypes, so convert to object\u001b[0m\u001b[1;33m\u001b[0m\u001b[1;33m\u001b[0m\u001b[1;33m\u001b[0m\u001b[0m\n",
      "\u001b[1;32m~\\anaconda3\\lib\\site-packages\\pandas\\core\\dtypes\\cast.py\u001b[0m in \u001b[0;36mastype_nansafe\u001b[1;34m(arr, dtype, copy, skipna)\u001b[0m\n\u001b[0;32m   1157\u001b[0m \u001b[1;33m\u001b[0m\u001b[0m\n\u001b[0;32m   1158\u001b[0m     \u001b[1;32melif\u001b[0m \u001b[0mnp\u001b[0m\u001b[1;33m.\u001b[0m\u001b[0missubdtype\u001b[0m\u001b[1;33m(\u001b[0m\u001b[0marr\u001b[0m\u001b[1;33m.\u001b[0m\u001b[0mdtype\u001b[0m\u001b[1;33m,\u001b[0m \u001b[0mnp\u001b[0m\u001b[1;33m.\u001b[0m\u001b[0mfloating\u001b[0m\u001b[1;33m)\u001b[0m \u001b[1;32mand\u001b[0m \u001b[0mnp\u001b[0m\u001b[1;33m.\u001b[0m\u001b[0missubdtype\u001b[0m\u001b[1;33m(\u001b[0m\u001b[0mdtype\u001b[0m\u001b[1;33m,\u001b[0m \u001b[0mnp\u001b[0m\u001b[1;33m.\u001b[0m\u001b[0minteger\u001b[0m\u001b[1;33m)\u001b[0m\u001b[1;33m:\u001b[0m\u001b[1;33m\u001b[0m\u001b[1;33m\u001b[0m\u001b[0m\n\u001b[1;32m-> 1159\u001b[1;33m         \u001b[1;32mreturn\u001b[0m \u001b[0mastype_float_to_int_nansafe\u001b[0m\u001b[1;33m(\u001b[0m\u001b[0marr\u001b[0m\u001b[1;33m,\u001b[0m \u001b[0mdtype\u001b[0m\u001b[1;33m,\u001b[0m \u001b[0mcopy\u001b[0m\u001b[1;33m)\u001b[0m\u001b[1;33m\u001b[0m\u001b[1;33m\u001b[0m\u001b[0m\n\u001b[0m\u001b[0;32m   1160\u001b[0m \u001b[1;33m\u001b[0m\u001b[0m\n\u001b[0;32m   1161\u001b[0m     \u001b[1;32melif\u001b[0m \u001b[0mis_object_dtype\u001b[0m\u001b[1;33m(\u001b[0m\u001b[0marr\u001b[0m\u001b[1;33m)\u001b[0m\u001b[1;33m:\u001b[0m\u001b[1;33m\u001b[0m\u001b[1;33m\u001b[0m\u001b[0m\n",
      "\u001b[1;32m~\\anaconda3\\lib\\site-packages\\pandas\\core\\dtypes\\cast.py\u001b[0m in \u001b[0;36mastype_float_to_int_nansafe\u001b[1;34m(values, dtype, copy)\u001b[0m\n\u001b[0;32m   1202\u001b[0m     \"\"\"\n\u001b[0;32m   1203\u001b[0m     \u001b[1;32mif\u001b[0m \u001b[1;32mnot\u001b[0m \u001b[0mnp\u001b[0m\u001b[1;33m.\u001b[0m\u001b[0misfinite\u001b[0m\u001b[1;33m(\u001b[0m\u001b[0mvalues\u001b[0m\u001b[1;33m)\u001b[0m\u001b[1;33m.\u001b[0m\u001b[0mall\u001b[0m\u001b[1;33m(\u001b[0m\u001b[1;33m)\u001b[0m\u001b[1;33m:\u001b[0m\u001b[1;33m\u001b[0m\u001b[1;33m\u001b[0m\u001b[0m\n\u001b[1;32m-> 1204\u001b[1;33m         raise IntCastingNaNError(\n\u001b[0m\u001b[0;32m   1205\u001b[0m             \u001b[1;34m\"Cannot convert non-finite values (NA or inf) to integer\"\u001b[0m\u001b[1;33m\u001b[0m\u001b[1;33m\u001b[0m\u001b[0m\n\u001b[0;32m   1206\u001b[0m         )\n",
      "\u001b[1;31mIntCastingNaNError\u001b[0m: Cannot convert non-finite values (NA or inf) to integer"
     ]
    }
   ],
   "source": [
    "#blood pressure classification\n",
    "df2['blood_pressure'] = ''\n",
    "\n",
    "df2['blood_pressure'] = df2.apply(lambda x: '0' if (x['ap_hi'] > 0 and x['ap_hi'] < 120) and (x['ap_lo'] > 0 and x['ap_lo'] < 80) else '' \n",
    "                                  '1' if (x['ap_hi'] >= 120 and x['ap_hi'] <= 129) and (x['ap_lo'] < 80) else ''\n",
    "                                  '2' if (x['ap_hi'] >= 130 and x['ap_hi'] <= 139) or (x['ap_lo'] >= 80 and x['ap_lo'] <= 89) else ''\n",
    "                                  '3' if (x['ap_hi'] >= 140 and x['ap_hi'] <= 179) or (x['ap_lo'] >= 90 and x['ap_lo'] <= 119) else ''\n",
    "                                  '4' if x['ap_hi'] >= 180 or x['ap_lo'] >= 120 else '', axis=1)\n",
    "\n",
    "#remove na\n",
    "df2['blood_pressure'] = df2['blood_pressure'].dropna()\n",
    "\n",
    "#transform to (int)\n",
    "df2['blood_pressure'] = pd.to_numeric(df2['blood_pressure'],errors = 'coerce')\n",
    "df2['blood_pressure'] = df2['blood_pressure'].astype(int)"
   ]
  },
  {
   "cell_type": "code",
   "execution_count": 197,
   "metadata": {
    "ExecuteTime": {
     "end_time": "2021-07-21T01:31:04.680916Z",
     "start_time": "2021-07-21T01:31:04.671923Z"
    }
   },
   "outputs": [
    {
     "data": {
      "text/plain": [
       "id                  int64\n",
       "age                 int32\n",
       "gender              int64\n",
       "height              int64\n",
       "weight              int32\n",
       "ap_hi               int64\n",
       "ap_lo               int64\n",
       "cholesterol         int64\n",
       "gluc                int64\n",
       "smoke               int64\n",
       "alco                int64\n",
       "active              int64\n",
       "cardio              int64\n",
       "blood_pressure    float64\n",
       "dtype: object"
      ]
     },
     "execution_count": 197,
     "metadata": {},
     "output_type": "execute_result"
    }
   ],
   "source": [
    "df2.dtypes"
   ]
  },
  {
   "cell_type": "markdown",
   "metadata": {},
   "source": [
    "# 3.0. Data Filtering"
   ]
  },
  {
   "cell_type": "code",
   "execution_count": 123,
   "metadata": {
    "ExecuteTime": {
     "end_time": "2021-07-21T01:24:19.710106Z",
     "start_time": "2021-07-21T01:24:19.694502Z"
    }
   },
   "outputs": [],
   "source": [
    "df3 = df2.copy()\n",
    "df3_full = df2.copy()"
   ]
  },
  {
   "cell_type": "code",
   "execution_count": 124,
   "metadata": {
    "ExecuteTime": {
     "end_time": "2021-07-21T01:24:19.789786Z",
     "start_time": "2021-07-21T01:24:19.713103Z"
    }
   },
   "outputs": [],
   "source": [
    "#blood pressure\n",
    "#df3 = df3[~df3['blood_pressure'].isna()]\n",
    "\n",
    "#height\n",
    "#df3 = df3[(df3['height'] >= 140) & (df3['height'] <= 200)]\n",
    "\n",
    "#weight\n",
    "#df3 = df3[(df3['weight'] >= 50) & (df3['weight'] <= 150)]\n",
    "\n",
    "#ap_hi\n",
    "#df3 = df3[(df3['ap_hi'] >= 0) & (df3['ap_hi'] <= 250)]\n",
    "\n",
    "#ap_lo\n",
    "#df3 = df3[(df3['ap_lo'] >= 0) & (df3['ap_lo'] <= 250)]"
   ]
  },
  {
   "cell_type": "code",
   "execution_count": 125,
   "metadata": {
    "ExecuteTime": {
     "end_time": "2021-07-21T01:24:20.250503Z",
     "start_time": "2021-07-21T01:24:19.791788Z"
    }
   },
   "outputs": [
    {
     "data": {
      "text/html": [
       "<div>\n",
       "<style scoped>\n",
       "    .dataframe tbody tr th:only-of-type {\n",
       "        vertical-align: middle;\n",
       "    }\n",
       "\n",
       "    .dataframe tbody tr th {\n",
       "        vertical-align: top;\n",
       "    }\n",
       "\n",
       "    .dataframe thead th {\n",
       "        text-align: right;\n",
       "    }\n",
       "</style>\n",
       "<table border=\"1\" class=\"dataframe\">\n",
       "  <thead>\n",
       "    <tr style=\"text-align: right;\">\n",
       "      <th></th>\n",
       "      <th>attributes</th>\n",
       "      <th>min</th>\n",
       "      <th>max</th>\n",
       "      <th>range</th>\n",
       "      <th>mean</th>\n",
       "      <th>median</th>\n",
       "      <th>std</th>\n",
       "      <th>skew</th>\n",
       "      <th>kurtosis</th>\n",
       "      <th>total</th>\n",
       "    </tr>\n",
       "  </thead>\n",
       "  <tbody>\n",
       "    <tr>\n",
       "      <th>0</th>\n",
       "      <td>id</td>\n",
       "      <td>0.000000</td>\n",
       "      <td>99999.000000</td>\n",
       "      <td>99999.000000</td>\n",
       "      <td>49972.419900</td>\n",
       "      <td>50001.500000</td>\n",
       "      <td>28851.096242</td>\n",
       "      <td>-0.001278</td>\n",
       "      <td>-1.198374</td>\n",
       "      <td>70000.0</td>\n",
       "    </tr>\n",
       "    <tr>\n",
       "      <th>1</th>\n",
       "      <td>age</td>\n",
       "      <td>29.000000</td>\n",
       "      <td>64.000000</td>\n",
       "      <td>35.000000</td>\n",
       "      <td>52.840671</td>\n",
       "      <td>53.000000</td>\n",
       "      <td>6.766725</td>\n",
       "      <td>-0.305744</td>\n",
       "      <td>-0.818981</td>\n",
       "      <td>70000.0</td>\n",
       "    </tr>\n",
       "    <tr>\n",
       "      <th>2</th>\n",
       "      <td>gender</td>\n",
       "      <td>1.000000</td>\n",
       "      <td>2.000000</td>\n",
       "      <td>1.000000</td>\n",
       "      <td>1.349571</td>\n",
       "      <td>1.000000</td>\n",
       "      <td>0.476835</td>\n",
       "      <td>0.630960</td>\n",
       "      <td>-1.601935</td>\n",
       "      <td>70000.0</td>\n",
       "    </tr>\n",
       "    <tr>\n",
       "      <th>3</th>\n",
       "      <td>height</td>\n",
       "      <td>55.000000</td>\n",
       "      <td>250.000000</td>\n",
       "      <td>195.000000</td>\n",
       "      <td>164.359229</td>\n",
       "      <td>165.000000</td>\n",
       "      <td>8.210068</td>\n",
       "      <td>-0.642187</td>\n",
       "      <td>7.943653</td>\n",
       "      <td>70000.0</td>\n",
       "    </tr>\n",
       "    <tr>\n",
       "      <th>4</th>\n",
       "      <td>weight</td>\n",
       "      <td>10.000000</td>\n",
       "      <td>200.000000</td>\n",
       "      <td>190.000000</td>\n",
       "      <td>74.204329</td>\n",
       "      <td>72.000000</td>\n",
       "      <td>14.395850</td>\n",
       "      <td>1.012030</td>\n",
       "      <td>2.586746</td>\n",
       "      <td>70000.0</td>\n",
       "    </tr>\n",
       "    <tr>\n",
       "      <th>5</th>\n",
       "      <td>ap_hi</td>\n",
       "      <td>-150.000000</td>\n",
       "      <td>16020.000000</td>\n",
       "      <td>16170.000000</td>\n",
       "      <td>128.817286</td>\n",
       "      <td>120.000000</td>\n",
       "      <td>154.010319</td>\n",
       "      <td>85.296214</td>\n",
       "      <td>7580.074738</td>\n",
       "      <td>70000.0</td>\n",
       "    </tr>\n",
       "    <tr>\n",
       "      <th>6</th>\n",
       "      <td>ap_lo</td>\n",
       "      <td>-70.000000</td>\n",
       "      <td>11000.000000</td>\n",
       "      <td>11070.000000</td>\n",
       "      <td>96.630414</td>\n",
       "      <td>80.000000</td>\n",
       "      <td>188.471184</td>\n",
       "      <td>32.114083</td>\n",
       "      <td>1425.914585</td>\n",
       "      <td>70000.0</td>\n",
       "    </tr>\n",
       "    <tr>\n",
       "      <th>7</th>\n",
       "      <td>cholesterol</td>\n",
       "      <td>1.000000</td>\n",
       "      <td>3.000000</td>\n",
       "      <td>2.000000</td>\n",
       "      <td>1.366871</td>\n",
       "      <td>1.000000</td>\n",
       "      <td>0.680245</td>\n",
       "      <td>1.587123</td>\n",
       "      <td>0.993901</td>\n",
       "      <td>70000.0</td>\n",
       "    </tr>\n",
       "    <tr>\n",
       "      <th>8</th>\n",
       "      <td>gluc</td>\n",
       "      <td>1.000000</td>\n",
       "      <td>3.000000</td>\n",
       "      <td>2.000000</td>\n",
       "      <td>1.226457</td>\n",
       "      <td>1.000000</td>\n",
       "      <td>0.572266</td>\n",
       "      <td>2.397462</td>\n",
       "      <td>4.294377</td>\n",
       "      <td>70000.0</td>\n",
       "    </tr>\n",
       "    <tr>\n",
       "      <th>9</th>\n",
       "      <td>smoke</td>\n",
       "      <td>0.000000</td>\n",
       "      <td>1.000000</td>\n",
       "      <td>1.000000</td>\n",
       "      <td>0.088129</td>\n",
       "      <td>0.000000</td>\n",
       "      <td>0.283482</td>\n",
       "      <td>2.905867</td>\n",
       "      <td>6.444250</td>\n",
       "      <td>70000.0</td>\n",
       "    </tr>\n",
       "    <tr>\n",
       "      <th>10</th>\n",
       "      <td>alco</td>\n",
       "      <td>0.000000</td>\n",
       "      <td>1.000000</td>\n",
       "      <td>1.000000</td>\n",
       "      <td>0.053771</td>\n",
       "      <td>0.000000</td>\n",
       "      <td>0.225566</td>\n",
       "      <td>3.956607</td>\n",
       "      <td>13.655125</td>\n",
       "      <td>70000.0</td>\n",
       "    </tr>\n",
       "    <tr>\n",
       "      <th>11</th>\n",
       "      <td>active</td>\n",
       "      <td>0.000000</td>\n",
       "      <td>1.000000</td>\n",
       "      <td>1.000000</td>\n",
       "      <td>0.803729</td>\n",
       "      <td>1.000000</td>\n",
       "      <td>0.397176</td>\n",
       "      <td>-1.529473</td>\n",
       "      <td>0.339296</td>\n",
       "      <td>70000.0</td>\n",
       "    </tr>\n",
       "    <tr>\n",
       "      <th>12</th>\n",
       "      <td>cardio</td>\n",
       "      <td>0.000000</td>\n",
       "      <td>1.000000</td>\n",
       "      <td>1.000000</td>\n",
       "      <td>0.499700</td>\n",
       "      <td>0.000000</td>\n",
       "      <td>0.500000</td>\n",
       "      <td>0.001200</td>\n",
       "      <td>-2.000056</td>\n",
       "      <td>70000.0</td>\n",
       "    </tr>\n",
       "    <tr>\n",
       "      <th>13</th>\n",
       "      <td>bmi</td>\n",
       "      <td>3.471784</td>\n",
       "      <td>298.666667</td>\n",
       "      <td>295.194883</td>\n",
       "      <td>27.555968</td>\n",
       "      <td>26.370238</td>\n",
       "      <td>6.090896</td>\n",
       "      <td>7.724523</td>\n",
       "      <td>221.118596</td>\n",
       "      <td>70000.0</td>\n",
       "    </tr>\n",
       "    <tr>\n",
       "      <th>14</th>\n",
       "      <td>blood_pressure</td>\n",
       "      <td>0.000000</td>\n",
       "      <td>4.000000</td>\n",
       "      <td>4.000000</td>\n",
       "      <td>1.934622</td>\n",
       "      <td>NaN</td>\n",
       "      <td>0.924452</td>\n",
       "      <td>-0.866641</td>\n",
       "      <td>0.252762</td>\n",
       "      <td>70000.0</td>\n",
       "    </tr>\n",
       "  </tbody>\n",
       "</table>\n",
       "</div>"
      ],
      "text/plain": [
       "        attributes         min           max         range          mean  \\\n",
       "0               id    0.000000  99999.000000  99999.000000  49972.419900   \n",
       "1              age   29.000000     64.000000     35.000000     52.840671   \n",
       "2           gender    1.000000      2.000000      1.000000      1.349571   \n",
       "3           height   55.000000    250.000000    195.000000    164.359229   \n",
       "4           weight   10.000000    200.000000    190.000000     74.204329   \n",
       "5            ap_hi -150.000000  16020.000000  16170.000000    128.817286   \n",
       "6            ap_lo  -70.000000  11000.000000  11070.000000     96.630414   \n",
       "7      cholesterol    1.000000      3.000000      2.000000      1.366871   \n",
       "8             gluc    1.000000      3.000000      2.000000      1.226457   \n",
       "9            smoke    0.000000      1.000000      1.000000      0.088129   \n",
       "10            alco    0.000000      1.000000      1.000000      0.053771   \n",
       "11          active    0.000000      1.000000      1.000000      0.803729   \n",
       "12          cardio    0.000000      1.000000      1.000000      0.499700   \n",
       "13             bmi    3.471784    298.666667    295.194883     27.555968   \n",
       "14  blood_pressure    0.000000      4.000000      4.000000      1.934622   \n",
       "\n",
       "          median           std       skew     kurtosis    total  \n",
       "0   50001.500000  28851.096242  -0.001278    -1.198374  70000.0  \n",
       "1      53.000000      6.766725  -0.305744    -0.818981  70000.0  \n",
       "2       1.000000      0.476835   0.630960    -1.601935  70000.0  \n",
       "3     165.000000      8.210068  -0.642187     7.943653  70000.0  \n",
       "4      72.000000     14.395850   1.012030     2.586746  70000.0  \n",
       "5     120.000000    154.010319  85.296214  7580.074738  70000.0  \n",
       "6      80.000000    188.471184  32.114083  1425.914585  70000.0  \n",
       "7       1.000000      0.680245   1.587123     0.993901  70000.0  \n",
       "8       1.000000      0.572266   2.397462     4.294377  70000.0  \n",
       "9       0.000000      0.283482   2.905867     6.444250  70000.0  \n",
       "10      0.000000      0.225566   3.956607    13.655125  70000.0  \n",
       "11      1.000000      0.397176  -1.529473     0.339296  70000.0  \n",
       "12      0.000000      0.500000   0.001200    -2.000056  70000.0  \n",
       "13     26.370238      6.090896   7.724523   221.118596  70000.0  \n",
       "14           NaN      0.924452  -0.866641     0.252762  70000.0  "
      ]
     },
     "execution_count": 125,
     "metadata": {},
     "output_type": "execute_result"
    }
   ],
   "source": [
    "#central tendency - mean, median\n",
    "ct1 = pd.DataFrame(df3.apply(np.mean)).T\n",
    "ct2 = pd.DataFrame(df3.apply(np.median)).T\n",
    "\n",
    "#Dispersion - std, min, max, range, skew, kurtosis\n",
    "d1 = pd.DataFrame(df3.apply(min)).T\n",
    "d2 = pd.DataFrame(df3.apply(max)).T\n",
    "d3 = pd.DataFrame(df3.apply(lambda x: x.max() - x.min())).T\n",
    "d4 = pd.DataFrame(df3.apply(np.std)).T\n",
    "d5 = pd.DataFrame(df3.apply(lambda x: x.skew())).T\n",
    "d6 = pd.DataFrame(df3.apply(lambda x: x.kurtosis())).T\n",
    "d7 = pd.DataFrame(df3.apply(lambda x: len(x))).T\n",
    "\n",
    "#concatenate\n",
    "m = pd.concat([d1,d2,d3,ct1,ct2,d4,d5,d6,d7]).T.reset_index()\n",
    "m.columns = ['attributes','min','max','range','mean','median','std','skew','kurtosis','total']\n",
    "m"
   ]
  },
  {
   "cell_type": "code",
   "execution_count": 126,
   "metadata": {
    "ExecuteTime": {
     "end_time": "2021-07-21T01:24:21.829557Z",
     "start_time": "2021-07-21T01:24:20.252502Z"
    }
   },
   "outputs": [],
   "source": [
    "#calculate summary statistics\n",
    "data_mean, data_std = m['mean'][3], m['std'][3]\n",
    "#identify outliers\n",
    "cut_off = data_std * 3\n",
    "lower, upper = data_mean - cut_off, data_mean + cut_off\n",
    "#identify outliers\n",
    "df3['outliers'] = ''\n",
    "df3['outliers'] = df3.apply(lambda x: 'outlier' if (x['height'] < lower or x['height'] > upper) else '', axis=1)\n",
    "\n",
    "#remove outliers\n",
    "df3 = df3[(df3['outliers'] != 'outlier')]"
   ]
  },
  {
   "cell_type": "code",
   "execution_count": 127,
   "metadata": {
    "ExecuteTime": {
     "end_time": "2021-07-21T01:24:23.388435Z",
     "start_time": "2021-07-21T01:24:21.829557Z"
    }
   },
   "outputs": [],
   "source": [
    "#calculate summary statistics\n",
    "data_mean, data_std = m['mean'][4], m['std'][4]\n",
    "#identify outliers\n",
    "cut_off = data_std * 3\n",
    "lower, upper = data_mean - cut_off, data_mean + cut_off\n",
    "#identify outliers\n",
    "df3['outliers'] = ''\n",
    "df3['outliers'] = df3.apply(lambda x: 'outlier' if (x['weight'] < lower or x['weight'] > upper) else '', axis=1)\n",
    "\n",
    "#remove outliers\n",
    "df3 = df3[(df3['outliers'] != 'outlier')]"
   ]
  },
  {
   "cell_type": "code",
   "execution_count": 128,
   "metadata": {
    "ExecuteTime": {
     "end_time": "2021-07-21T01:24:24.936288Z",
     "start_time": "2021-07-21T01:24:23.394668Z"
    }
   },
   "outputs": [],
   "source": [
    "#calculate summary statistics\n",
    "data_mean, data_std = m['mean'][5], m['std'][5]\n",
    "#identify outliers\n",
    "cut_off = data_std * 3\n",
    "lower, upper = data_mean - cut_off, data_mean + cut_off\n",
    "#identify outliers\n",
    "df3['outliers'] = ''\n",
    "df3['outliers'] = df3.apply(lambda x: 'outlier' if (x['ap_hi'] < lower or x['ap_hi'] > upper) else '', axis=1)\n",
    "\n",
    "#remove outliers\n",
    "df3 = df3[(df3['outliers'] != 'outlier')]"
   ]
  },
  {
   "cell_type": "code",
   "execution_count": 129,
   "metadata": {
    "ExecuteTime": {
     "end_time": "2021-07-21T01:24:26.501796Z",
     "start_time": "2021-07-21T01:24:24.939562Z"
    }
   },
   "outputs": [],
   "source": [
    "#calculate summary statistics\n",
    "data_mean, data_std = m['mean'][6], m['std'][6]\n",
    "#identify outliers\n",
    "cut_off = data_std * 3\n",
    "lower, upper = data_mean - cut_off, data_mean + cut_off\n",
    "#identify outliers\n",
    "df3['outliers'] = ''\n",
    "df3['outliers'] = df3.apply(lambda x: 'outlier' if (x['ap_lo'] < lower or x['ap_lo'] > upper) else '', axis=1)\n",
    "\n",
    "#remove outliers\n",
    "df3 = df3[(df3['outliers'] != 'outlier')]"
   ]
  },
  {
   "cell_type": "code",
   "execution_count": 130,
   "metadata": {
    "ExecuteTime": {
     "end_time": "2021-07-21T01:24:27.921596Z",
     "start_time": "2021-07-21T01:24:26.501796Z"
    }
   },
   "outputs": [
    {
     "name": "stderr",
     "output_type": "stream",
     "text": [
      "<ipython-input-130-ee8f72e6fa0e>:13: FutureWarning: In a future version of pandas all arguments of DataFrame.drop except for the argument 'labels' will be keyword-only\n",
      "  df3 = df3.drop('outliers', 1)\n"
     ]
    }
   ],
   "source": [
    "#calculate summary statistics\n",
    "data_mean, data_std = m['mean'][13], m['std'][13]\n",
    "#identify outliers\n",
    "cut_off = data_std * 3\n",
    "lower, upper = data_mean - cut_off, data_mean + cut_off\n",
    "#identify outliers\n",
    "df3['outliers'] = ''\n",
    "df3['outliers'] = df3.apply(lambda x: 'outlier' if (x['bmi'] < lower or x['bmi'] > upper) else '', axis=1)\n",
    "\n",
    "#remove outliers\n",
    "df3 = df3[(df3['outliers'] != 'outlier')]\n",
    "\n",
    "df3 = df3.drop('outliers', 1)"
   ]
  },
  {
   "cell_type": "code",
   "execution_count": 131,
   "metadata": {
    "ExecuteTime": {
     "end_time": "2021-07-21T01:24:28.239156Z",
     "start_time": "2021-07-21T01:24:27.923596Z"
    }
   },
   "outputs": [
    {
     "data": {
      "text/html": [
       "<div>\n",
       "<style scoped>\n",
       "    .dataframe tbody tr th:only-of-type {\n",
       "        vertical-align: middle;\n",
       "    }\n",
       "\n",
       "    .dataframe tbody tr th {\n",
       "        vertical-align: top;\n",
       "    }\n",
       "\n",
       "    .dataframe thead th {\n",
       "        text-align: right;\n",
       "    }\n",
       "</style>\n",
       "<table border=\"1\" class=\"dataframe\">\n",
       "  <thead>\n",
       "    <tr style=\"text-align: right;\">\n",
       "      <th></th>\n",
       "      <th>attributes</th>\n",
       "      <th>min</th>\n",
       "      <th>max</th>\n",
       "      <th>range</th>\n",
       "      <th>mean</th>\n",
       "      <th>median</th>\n",
       "      <th>std</th>\n",
       "      <th>skew</th>\n",
       "      <th>kurtosis</th>\n",
       "      <th>total</th>\n",
       "    </tr>\n",
       "  </thead>\n",
       "  <tbody>\n",
       "    <tr>\n",
       "      <th>0</th>\n",
       "      <td>id</td>\n",
       "      <td>0.000000</td>\n",
       "      <td>99999.00000</td>\n",
       "      <td>99999.000000</td>\n",
       "      <td>49967.314974</td>\n",
       "      <td>50016.500000</td>\n",
       "      <td>28846.218985</td>\n",
       "      <td>-0.000958</td>\n",
       "      <td>-1.197637</td>\n",
       "      <td>67958.0</td>\n",
       "    </tr>\n",
       "    <tr>\n",
       "      <th>1</th>\n",
       "      <td>age</td>\n",
       "      <td>29.000000</td>\n",
       "      <td>64.00000</td>\n",
       "      <td>35.000000</td>\n",
       "      <td>52.830660</td>\n",
       "      <td>53.000000</td>\n",
       "      <td>6.768708</td>\n",
       "      <td>-0.303949</td>\n",
       "      <td>-0.820956</td>\n",
       "      <td>67958.0</td>\n",
       "    </tr>\n",
       "    <tr>\n",
       "      <th>2</th>\n",
       "      <td>gender</td>\n",
       "      <td>1.000000</td>\n",
       "      <td>2.00000</td>\n",
       "      <td>1.000000</td>\n",
       "      <td>1.347759</td>\n",
       "      <td>1.000000</td>\n",
       "      <td>0.476259</td>\n",
       "      <td>0.639335</td>\n",
       "      <td>-1.591298</td>\n",
       "      <td>67958.0</td>\n",
       "    </tr>\n",
       "    <tr>\n",
       "      <th>3</th>\n",
       "      <td>height</td>\n",
       "      <td>140.000000</td>\n",
       "      <td>188.00000</td>\n",
       "      <td>48.000000</td>\n",
       "      <td>164.393640</td>\n",
       "      <td>165.000000</td>\n",
       "      <td>7.678157</td>\n",
       "      <td>0.086521</td>\n",
       "      <td>-0.120945</td>\n",
       "      <td>67958.0</td>\n",
       "    </tr>\n",
       "    <tr>\n",
       "      <th>4</th>\n",
       "      <td>weight</td>\n",
       "      <td>32.000000</td>\n",
       "      <td>117.00000</td>\n",
       "      <td>85.000000</td>\n",
       "      <td>73.504621</td>\n",
       "      <td>72.000000</td>\n",
       "      <td>13.127290</td>\n",
       "      <td>0.535674</td>\n",
       "      <td>0.178201</td>\n",
       "      <td>67958.0</td>\n",
       "    </tr>\n",
       "    <tr>\n",
       "      <th>5</th>\n",
       "      <td>ap_hi</td>\n",
       "      <td>-150.000000</td>\n",
       "      <td>401.00000</td>\n",
       "      <td>551.000000</td>\n",
       "      <td>126.152903</td>\n",
       "      <td>120.000000</td>\n",
       "      <td>17.826898</td>\n",
       "      <td>-0.089847</td>\n",
       "      <td>9.852724</td>\n",
       "      <td>67958.0</td>\n",
       "    </tr>\n",
       "    <tr>\n",
       "      <th>6</th>\n",
       "      <td>ap_lo</td>\n",
       "      <td>-70.000000</td>\n",
       "      <td>602.00000</td>\n",
       "      <td>672.000000</td>\n",
       "      <td>81.277039</td>\n",
       "      <td>80.000000</td>\n",
       "      <td>10.227174</td>\n",
       "      <td>3.977074</td>\n",
       "      <td>190.831898</td>\n",
       "      <td>67958.0</td>\n",
       "    </tr>\n",
       "    <tr>\n",
       "      <th>7</th>\n",
       "      <td>cholesterol</td>\n",
       "      <td>1.000000</td>\n",
       "      <td>3.00000</td>\n",
       "      <td>2.000000</td>\n",
       "      <td>1.361679</td>\n",
       "      <td>1.000000</td>\n",
       "      <td>0.676784</td>\n",
       "      <td>1.609394</td>\n",
       "      <td>1.068386</td>\n",
       "      <td>67958.0</td>\n",
       "    </tr>\n",
       "    <tr>\n",
       "      <th>8</th>\n",
       "      <td>gluc</td>\n",
       "      <td>1.000000</td>\n",
       "      <td>3.00000</td>\n",
       "      <td>2.000000</td>\n",
       "      <td>1.223314</td>\n",
       "      <td>1.000000</td>\n",
       "      <td>0.569243</td>\n",
       "      <td>2.422682</td>\n",
       "      <td>4.417997</td>\n",
       "      <td>67958.0</td>\n",
       "    </tr>\n",
       "    <tr>\n",
       "      <th>9</th>\n",
       "      <td>smoke</td>\n",
       "      <td>0.000000</td>\n",
       "      <td>1.00000</td>\n",
       "      <td>1.000000</td>\n",
       "      <td>0.087333</td>\n",
       "      <td>0.000000</td>\n",
       "      <td>0.282323</td>\n",
       "      <td>2.923431</td>\n",
       "      <td>6.546639</td>\n",
       "      <td>67958.0</td>\n",
       "    </tr>\n",
       "    <tr>\n",
       "      <th>10</th>\n",
       "      <td>alco</td>\n",
       "      <td>0.000000</td>\n",
       "      <td>1.00000</td>\n",
       "      <td>1.000000</td>\n",
       "      <td>0.053195</td>\n",
       "      <td>0.000000</td>\n",
       "      <td>0.224421</td>\n",
       "      <td>3.981931</td>\n",
       "      <td>13.856185</td>\n",
       "      <td>67958.0</td>\n",
       "    </tr>\n",
       "    <tr>\n",
       "      <th>11</th>\n",
       "      <td>active</td>\n",
       "      <td>0.000000</td>\n",
       "      <td>1.00000</td>\n",
       "      <td>1.000000</td>\n",
       "      <td>0.803776</td>\n",
       "      <td>1.000000</td>\n",
       "      <td>0.397140</td>\n",
       "      <td>-1.529851</td>\n",
       "      <td>0.340454</td>\n",
       "      <td>67958.0</td>\n",
       "    </tr>\n",
       "    <tr>\n",
       "      <th>12</th>\n",
       "      <td>cardio</td>\n",
       "      <td>0.000000</td>\n",
       "      <td>1.00000</td>\n",
       "      <td>1.000000</td>\n",
       "      <td>0.492613</td>\n",
       "      <td>0.000000</td>\n",
       "      <td>0.499945</td>\n",
       "      <td>0.029552</td>\n",
       "      <td>-1.999186</td>\n",
       "      <td>67958.0</td>\n",
       "    </tr>\n",
       "    <tr>\n",
       "      <th>13</th>\n",
       "      <td>bmi</td>\n",
       "      <td>12.254473</td>\n",
       "      <td>45.78564</td>\n",
       "      <td>33.531167</td>\n",
       "      <td>27.231469</td>\n",
       "      <td>26.259585</td>\n",
       "      <td>4.786592</td>\n",
       "      <td>0.808882</td>\n",
       "      <td>0.580760</td>\n",
       "      <td>67958.0</td>\n",
       "    </tr>\n",
       "    <tr>\n",
       "      <th>14</th>\n",
       "      <td>blood_pressure</td>\n",
       "      <td>0.000000</td>\n",
       "      <td>4.00000</td>\n",
       "      <td>4.000000</td>\n",
       "      <td>1.912378</td>\n",
       "      <td>NaN</td>\n",
       "      <td>0.918436</td>\n",
       "      <td>-0.886464</td>\n",
       "      <td>0.224304</td>\n",
       "      <td>67958.0</td>\n",
       "    </tr>\n",
       "  </tbody>\n",
       "</table>\n",
       "</div>"
      ],
      "text/plain": [
       "        attributes         min          max         range          mean  \\\n",
       "0               id    0.000000  99999.00000  99999.000000  49967.314974   \n",
       "1              age   29.000000     64.00000     35.000000     52.830660   \n",
       "2           gender    1.000000      2.00000      1.000000      1.347759   \n",
       "3           height  140.000000    188.00000     48.000000    164.393640   \n",
       "4           weight   32.000000    117.00000     85.000000     73.504621   \n",
       "5            ap_hi -150.000000    401.00000    551.000000    126.152903   \n",
       "6            ap_lo  -70.000000    602.00000    672.000000     81.277039   \n",
       "7      cholesterol    1.000000      3.00000      2.000000      1.361679   \n",
       "8             gluc    1.000000      3.00000      2.000000      1.223314   \n",
       "9            smoke    0.000000      1.00000      1.000000      0.087333   \n",
       "10            alco    0.000000      1.00000      1.000000      0.053195   \n",
       "11          active    0.000000      1.00000      1.000000      0.803776   \n",
       "12          cardio    0.000000      1.00000      1.000000      0.492613   \n",
       "13             bmi   12.254473     45.78564     33.531167     27.231469   \n",
       "14  blood_pressure    0.000000      4.00000      4.000000      1.912378   \n",
       "\n",
       "          median           std      skew    kurtosis    total  \n",
       "0   50016.500000  28846.218985 -0.000958   -1.197637  67958.0  \n",
       "1      53.000000      6.768708 -0.303949   -0.820956  67958.0  \n",
       "2       1.000000      0.476259  0.639335   -1.591298  67958.0  \n",
       "3     165.000000      7.678157  0.086521   -0.120945  67958.0  \n",
       "4      72.000000     13.127290  0.535674    0.178201  67958.0  \n",
       "5     120.000000     17.826898 -0.089847    9.852724  67958.0  \n",
       "6      80.000000     10.227174  3.977074  190.831898  67958.0  \n",
       "7       1.000000      0.676784  1.609394    1.068386  67958.0  \n",
       "8       1.000000      0.569243  2.422682    4.417997  67958.0  \n",
       "9       0.000000      0.282323  2.923431    6.546639  67958.0  \n",
       "10      0.000000      0.224421  3.981931   13.856185  67958.0  \n",
       "11      1.000000      0.397140 -1.529851    0.340454  67958.0  \n",
       "12      0.000000      0.499945  0.029552   -1.999186  67958.0  \n",
       "13     26.259585      4.786592  0.808882    0.580760  67958.0  \n",
       "14           NaN      0.918436 -0.886464    0.224304  67958.0  "
      ]
     },
     "execution_count": 131,
     "metadata": {},
     "output_type": "execute_result"
    }
   ],
   "source": [
    "#central tendency - mean, median\n",
    "ct1 = pd.DataFrame(df3.apply(np.mean)).T\n",
    "ct2 = pd.DataFrame(df3.apply(np.median)).T\n",
    "\n",
    "#Dispersion - std, min, max, range, skew, kurtosis\n",
    "d1 = pd.DataFrame(df3.apply(min)).T\n",
    "d2 = pd.DataFrame(df3.apply(max)).T\n",
    "d3 = pd.DataFrame(df3.apply(lambda x: x.max() - x.min())).T\n",
    "d4 = pd.DataFrame(df3.apply(np.std)).T\n",
    "d5 = pd.DataFrame(df3.apply(lambda x: x.skew())).T\n",
    "d6 = pd.DataFrame(df3.apply(lambda x: x.kurtosis())).T\n",
    "d7 = pd.DataFrame(df3.apply(lambda x: len(x))).T\n",
    "\n",
    "#concatenate\n",
    "m = pd.concat([d1,d2,d3,ct1,ct2,d4,d5,d6,d7]).T.reset_index()\n",
    "m.columns = ['attributes','min','max','range','mean','median','std','skew','kurtosis','total']\n",
    "m"
   ]
  },
  {
   "cell_type": "markdown",
   "metadata": {},
   "source": [
    "# 4.0. Exploratory Data Analysis"
   ]
  },
  {
   "cell_type": "code",
   "execution_count": 132,
   "metadata": {
    "ExecuteTime": {
     "end_time": "2021-07-21T01:24:28.255146Z",
     "start_time": "2021-07-21T01:24:28.241155Z"
    }
   },
   "outputs": [],
   "source": [
    "df4 = df3.copy()"
   ]
  },
  {
   "cell_type": "markdown",
   "metadata": {
    "heading_collapsed": true
   },
   "source": [
    "## 4.1 Univariate Analysis"
   ]
  },
  {
   "cell_type": "markdown",
   "metadata": {
    "heading_collapsed": true,
    "hidden": true
   },
   "source": [
    "### 4.1.1 Response variable"
   ]
  },
  {
   "cell_type": "code",
   "execution_count": 133,
   "metadata": {
    "ExecuteTime": {
     "end_time": "2021-07-21T01:24:28.380690Z",
     "start_time": "2021-07-21T01:24:28.257145Z"
    },
    "hidden": true
   },
   "outputs": [],
   "source": [
    "#sns.displot(df4['cardio'], kde=True)"
   ]
  },
  {
   "cell_type": "markdown",
   "metadata": {
    "hidden": true
   },
   "source": [
    "### 4.1.2 Numeric variable"
   ]
  },
  {
   "cell_type": "code",
   "execution_count": 134,
   "metadata": {
    "ExecuteTime": {
     "end_time": "2021-07-21T01:24:32.506173Z",
     "start_time": "2021-07-21T01:24:28.382686Z"
    },
    "hidden": true
   },
   "outputs": [
    {
     "data": {
      "image/png": "[encoded data removed]",
      "text/plain": [
       "<Figure size 1728x864 with 16 Axes>"
      ]
     },
     "metadata": {
      "needs_background": "light"
     },
     "output_type": "display_data"
    }
   ],
   "source": [
    "df42 = df4.drop('id', axis=1)\n",
    "df42.hist(figsize=(24,12), bins=50);"
   ]
  },
  {
   "cell_type": "markdown",
   "metadata": {
    "heading_collapsed": true
   },
   "source": [
    "## 4.2. Bivariate Analysis"
   ]
  },
  {
   "cell_type": "markdown",
   "metadata": {
    "hidden": true
   },
   "source": [
    "**1. Analysis between 39 - 64. People over 50 are on average 20% more likely to have CVD than under 50**\n",
    "\n",
    "**TRUE** On average people over 50 are 56.6% likely to have CVD and 20.9% more likely than under 50. 63 years old has the highest incidence."
   ]
  },
  {
   "cell_type": "code",
   "execution_count": 135,
   "metadata": {
    "ExecuteTime": {
     "end_time": "2021-07-21T01:24:33.020410Z",
     "start_time": "2021-07-21T01:24:32.508172Z"
    },
    "hidden": true
   },
   "outputs": [
    {
     "data": {
      "image/png": "[encoded data removed]",
      "text/plain": [
       "<Figure size 1080x504 with 1 Axes>"
      ]
     },
     "metadata": {
      "needs_background": "light"
     },
     "output_type": "display_data"
    }
   ],
   "source": [
    "#cvd per age\n",
    "aux1 = df4[['age', 'cardio']].groupby('age').sum().reset_index().rename(columns={0:'total'})\n",
    "\n",
    "#histogram\n",
    "fig_dims = (15, 7)\n",
    "fig, ax = plt.subplots(figsize=fig_dims)\n",
    "sns.barplot(x='age', y='cardio', ax=ax, data=aux1)\n",
    "plt.title('People who had CVD per age')\n",
    "plt.show()"
   ]
  },
  {
   "cell_type": "code",
   "execution_count": 136,
   "metadata": {
    "ExecuteTime": {
     "end_time": "2021-07-21T01:24:33.068447Z",
     "start_time": "2021-07-21T01:24:33.022410Z"
    },
    "hidden": true
   },
   "outputs": [
    {
     "name": "stderr",
     "output_type": "stream",
     "text": [
      "<ipython-input-109-6e4d339763c6>:30: SettingWithCopyWarning: \n",
      "A value is trying to be set on a copy of a slice from a DataFrame\n",
      "\n",
      "See the caveats in the documentation: https://pandas.pydata.org/pandas-docs/stable/user_guide/indexing.html#returning-a-view-versus-a-copy\n",
      "  x['%_cardio_1'][i] = p\n"
     ]
    }
   ],
   "source": [
    "#% people with CVD per age\n",
    "aux1 = df4[(df4['age'] >= 39)]\n",
    "aux1 = aux1[['age', 'cardio']].groupby(['age','cardio']).size().reset_index().rename(columns={0:'total'})\n",
    "aux1['%_cardio_1'] = \"\"\n",
    "aux1 = perc(aux1)"
   ]
  },
  {
   "cell_type": "code",
   "execution_count": 137,
   "metadata": {
    "ExecuteTime": {
     "end_time": "2021-07-21T01:24:33.176681Z",
     "start_time": "2021-07-21T01:24:33.070445Z"
    },
    "hidden": true
   },
   "outputs": [
    {
     "data": {
      "text/html": [
       "<div>\n",
       "<style scoped>\n",
       "    .dataframe tbody tr th:only-of-type {\n",
       "        vertical-align: middle;\n",
       "    }\n",
       "\n",
       "    .dataframe tbody tr th {\n",
       "        vertical-align: top;\n",
       "    }\n",
       "\n",
       "    .dataframe thead th {\n",
       "        text-align: right;\n",
       "    }\n",
       "</style>\n",
       "<table border=\"1\" class=\"dataframe\">\n",
       "  <thead>\n",
       "    <tr style=\"text-align: right;\">\n",
       "      <th></th>\n",
       "      <th>index</th>\n",
       "      <th>over 50</th>\n",
       "      <th>under 50</th>\n",
       "    </tr>\n",
       "  </thead>\n",
       "  <tbody>\n",
       "    <tr>\n",
       "      <th>0</th>\n",
       "      <td>age</td>\n",
       "      <td>57.000000</td>\n",
       "      <td>44.000000</td>\n",
       "    </tr>\n",
       "    <tr>\n",
       "      <th>1</th>\n",
       "      <td>cardio</td>\n",
       "      <td>1.000000</td>\n",
       "      <td>1.000000</td>\n",
       "    </tr>\n",
       "    <tr>\n",
       "      <th>2</th>\n",
       "      <td>total</td>\n",
       "      <td>1733.066667</td>\n",
       "      <td>680.090909</td>\n",
       "    </tr>\n",
       "    <tr>\n",
       "      <th>3</th>\n",
       "      <td>average</td>\n",
       "      <td>56.199688</td>\n",
       "      <td>34.955832</td>\n",
       "    </tr>\n",
       "  </tbody>\n",
       "</table>\n",
       "</div>"
      ],
      "text/plain": [
       "     index      over 50    under 50\n",
       "0      age    57.000000   44.000000\n",
       "1   cardio     1.000000    1.000000\n",
       "2    total  1733.066667  680.090909\n",
       "3  average    56.199688   34.955832"
      ]
     },
     "execution_count": 137,
     "metadata": {},
     "output_type": "execute_result"
    }
   ],
   "source": [
    "#divide bewtween two groups under and over 50\n",
    "aux1 = aux1[(aux1['cardio'] >= 1)]\n",
    "aux_50 = aux1[(aux1['age'] >= 50)]\n",
    "aux_50 = pd.DataFrame(aux_50.apply(np.mean)).T\n",
    "\n",
    "aux_49 = aux1[(aux1['age'] < 50)]\n",
    "aux_49 = pd.DataFrame(aux_49.apply(np.mean)).T\n",
    "\n",
    "#result of average\n",
    "m = pd.concat([aux_50, aux_49]).T.reset_index()\n",
    "m.columns = ['index','over 50','under 50']\n",
    "m['index'] = {'age': 0, 'cardio': 1, 'total': 2, 'average': 3}\n",
    "m"
   ]
  },
  {
   "cell_type": "code",
   "execution_count": 138,
   "metadata": {
    "ExecuteTime": {
     "end_time": "2021-07-21T01:24:33.969054Z",
     "start_time": "2021-07-21T01:24:33.178676Z"
    },
    "hidden": true
   },
   "outputs": [
    {
     "data": {
      "image/png": "[encoded data removed]",
      "text/plain": [
       "<Figure size 1296x720 with 1 Axes>"
      ]
     },
     "metadata": {
      "needs_background": "light"
     },
     "output_type": "display_data"
    }
   ],
   "source": [
    "#histogram people who had CVD per age\n",
    "fig_dims = (18, 10)\n",
    "fig, ax = plt.subplots(figsize=fig_dims)\n",
    "\n",
    "graph = sns.barplot(x='age', y='%_cardio_1', ax=ax, data=aux1)\n",
    "graph.axvline(10.5, ymin=0.0, ymax=1.0, linestyle =\"--\", color='blue')\n",
    "graph.axhline(51, xmin=0.0, xmax=1.0, linestyle =\"--\", color='red')\n",
    "plt.title('% People who had CVD per age')\n",
    "plt.show()"
   ]
  },
  {
   "cell_type": "markdown",
   "metadata": {
    "hidden": true
   },
   "source": [
    "**2. Analysis between 140 - 193 cm. People shorter than 170 cm (5'7'') have a 5% more chance of CVDs than over 170 cm**\n",
    "\n",
    "**FALSE** On average people shorter than 170 cm have 4.5% more likely to have CVD than over 170."
   ]
  },
  {
   "cell_type": "code",
   "execution_count": 139,
   "metadata": {
    "ExecuteTime": {
     "end_time": "2021-07-21T01:24:35.114745Z",
     "start_time": "2021-07-21T01:24:33.971060Z"
    },
    "hidden": true
   },
   "outputs": [
    {
     "data": {
      "image/png": "[encoded data removed]",
      "text/plain": [
       "<Figure size 1296x720 with 1 Axes>"
      ]
     },
     "metadata": {
      "needs_background": "light"
     },
     "output_type": "display_data"
    }
   ],
   "source": [
    "#cvd per height\n",
    "aux1 = df4[(df4['height'] >= 140) & (df4['height'] <= 193)]\n",
    "aux1 = aux1[['height', 'cardio']].groupby('height').sum().reset_index()\n",
    "\n",
    "#histogram\n",
    "fig_dims = (18, 10)\n",
    "fig, ax = plt.subplots(figsize=fig_dims)\n",
    "sns.barplot(x='height', y='cardio', ax=ax, data=aux1)\n",
    "plt.title('People who had CVD per height (cm)')\n",
    "plt.show()"
   ]
  },
  {
   "cell_type": "code",
   "execution_count": 140,
   "metadata": {
    "ExecuteTime": {
     "end_time": "2021-07-21T01:24:35.130038Z",
     "start_time": "2021-07-21T01:24:35.116744Z"
    },
    "hidden": true
   },
   "outputs": [],
   "source": [
    "#filter height 140 - 190 and divide between two groups\n",
    "#aux1 = df4[(df4['cardio'] >= 1) & (df4['height'] >= 140) & (df4['height'] <= 190)]\n",
    "#aux1 = aux1[['height', 'cardio']].groupby('height').size().reset_index().rename(columns={0:'total_1'})\n",
    "\n",
    "#aux2 = df4[(df4['cardio'] <= 0) & (df4['height'] >= 140) & (df4['height'] <= 190)]\n",
    "#aux2 = aux2[['height', 'cardio']].groupby('height').size().reset_index().rename(columns={0:'total_0'})\n",
    "\n",
    "#fig = plt.figure(figsize=(10,10))\n",
    "\n",
    "#ax = fig.add_subplot(111)\n",
    "\n",
    "#width = 0.2\n",
    "\n",
    "#aux1.plot(x='height', y='total_1', kind='bar', color='red', ax=ax, width=width, position=0)\n",
    "#aux2.plot(x='height', y='total_0', kind='bar', color='blue', ax=ax, width=width, position=1)\n",
    "#plt.show()"
   ]
  },
  {
   "cell_type": "code",
   "execution_count": 141,
   "metadata": {
    "ExecuteTime": {
     "end_time": "2021-07-21T01:24:35.300319Z",
     "start_time": "2021-07-21T01:24:35.132408Z"
    },
    "hidden": true
   },
   "outputs": [
    {
     "name": "stderr",
     "output_type": "stream",
     "text": [
      "<ipython-input-109-6e4d339763c6>:30: SettingWithCopyWarning: \n",
      "A value is trying to be set on a copy of a slice from a DataFrame\n",
      "\n",
      "See the caveats in the documentation: https://pandas.pydata.org/pandas-docs/stable/user_guide/indexing.html#returning-a-view-versus-a-copy\n",
      "  x['%_cardio_1'][i] = p\n"
     ]
    }
   ],
   "source": [
    "#filtering and calculate % people with CVD per height\n",
    "aux1 = df4[(df4['height'] >= 135) & (df4['height'] <= 193)]\n",
    "aux1 = aux1[['height', 'cardio']].groupby(['height','cardio']).size().reset_index().rename(columns={0:'total'})\n",
    "aux1['%_cardio_1'] = \"\"\n",
    "aux1 = perc(aux1)"
   ]
  },
  {
   "cell_type": "code",
   "execution_count": 142,
   "metadata": {
    "ExecuteTime": {
     "end_time": "2021-07-21T01:24:35.348292Z",
     "start_time": "2021-07-21T01:24:35.302319Z"
    },
    "hidden": true
   },
   "outputs": [
    {
     "data": {
      "text/html": [
       "<div>\n",
       "<style scoped>\n",
       "    .dataframe tbody tr th:only-of-type {\n",
       "        vertical-align: middle;\n",
       "    }\n",
       "\n",
       "    .dataframe tbody tr th {\n",
       "        vertical-align: top;\n",
       "    }\n",
       "\n",
       "    .dataframe thead th {\n",
       "        text-align: right;\n",
       "    }\n",
       "</style>\n",
       "<table border=\"1\" class=\"dataframe\">\n",
       "  <thead>\n",
       "    <tr style=\"text-align: right;\">\n",
       "      <th></th>\n",
       "      <th>index</th>\n",
       "      <th>over 170</th>\n",
       "      <th>below 169</th>\n",
       "    </tr>\n",
       "  </thead>\n",
       "  <tbody>\n",
       "    <tr>\n",
       "      <th>0</th>\n",
       "      <td>age</td>\n",
       "      <td>179.000000</td>\n",
       "      <td>154.500000</td>\n",
       "    </tr>\n",
       "    <tr>\n",
       "      <th>1</th>\n",
       "      <td>cardio</td>\n",
       "      <td>1.000000</td>\n",
       "      <td>1.000000</td>\n",
       "    </tr>\n",
       "    <tr>\n",
       "      <th>2</th>\n",
       "      <td>total</td>\n",
       "      <td>446.842105</td>\n",
       "      <td>832.900000</td>\n",
       "    </tr>\n",
       "    <tr>\n",
       "      <th>3</th>\n",
       "      <td>average</td>\n",
       "      <td>48.707424</td>\n",
       "      <td>52.048776</td>\n",
       "    </tr>\n",
       "  </tbody>\n",
       "</table>\n",
       "</div>"
      ],
      "text/plain": [
       "     index    over 170   below 169\n",
       "0      age  179.000000  154.500000\n",
       "1   cardio    1.000000    1.000000\n",
       "2    total  446.842105  832.900000\n",
       "3  average   48.707424   52.048776"
      ]
     },
     "execution_count": 142,
     "metadata": {},
     "output_type": "execute_result"
    }
   ],
   "source": [
    "#divide bewtween two groups below and over 170\n",
    "aux1 = aux1[(aux1['cardio'] >= 1)]\n",
    "aux_170 = aux1[(aux1['height'] >= 170)]\n",
    "aux_170 = pd.DataFrame(aux_170.apply(np.mean)).T\n",
    "\n",
    "aux_169 = aux1[(aux1['height'] < 170)]\n",
    "aux_169 = pd.DataFrame(aux_169.apply(np.mean)).T\n",
    "\n",
    "#result of average\n",
    "m = pd.concat([aux_170, aux_169]).T.reset_index()\n",
    "m.columns = ['index','over 170','below 169']\n",
    "m['index'] = {'age': 0, 'cardio': 1, 'total': 2, 'average': 3}\n",
    "m"
   ]
  },
  {
   "cell_type": "code",
   "execution_count": 143,
   "metadata": {
    "ExecuteTime": {
     "end_time": "2021-07-21T01:24:36.558556Z",
     "start_time": "2021-07-21T01:24:35.351289Z"
    },
    "hidden": true
   },
   "outputs": [
    {
     "data": {
      "image/png": "[encoded data removed]",
      "text/plain": [
       "<Figure size 1296x720 with 1 Axes>"
      ]
     },
     "metadata": {
      "needs_background": "light"
     },
     "output_type": "display_data"
    }
   ],
   "source": [
    "#histogram people who had CVD per height\n",
    "fig_dims = (18, 10)\n",
    "fig, ax = plt.subplots(figsize=fig_dims)\n",
    "\n",
    "graph = sns.barplot(x='height', y='%_cardio_1', ax=ax, data=aux1)\n",
    "graph.axvline(29.5, ymin=0.0, ymax=1.0, linestyle =\"--\", color='blue')\n",
    "graph.axhline(51, xmin=0.0, xmax=1.0, linestyle =\"--\", color='red')\n",
    "plt.title('% People who had CVD per height')\n",
    "plt.show()"
   ]
  },
  {
   "cell_type": "markdown",
   "metadata": {
    "hidden": true
   },
   "source": [
    "**3. Men are 30% more likely than women to develop a CVD**\n",
    "\n",
    "**FALSE** Although men had more CVD than women, the gap are lesser than 30%. Men had 50,1% of cases of CVD, while women had 49,6%"
   ]
  },
  {
   "cell_type": "code",
   "execution_count": 144,
   "metadata": {
    "ExecuteTime": {
     "end_time": "2021-07-21T01:24:36.590487Z",
     "start_time": "2021-07-21T01:24:36.560503Z"
    },
    "hidden": true
   },
   "outputs": [],
   "source": [
    "#transform to categorical\n",
    "df42 = df4.copy()\n",
    "df42['gender'] = df42['gender'].apply({1:'women', 2:'men'}.get)"
   ]
  },
  {
   "cell_type": "code",
   "execution_count": 145,
   "metadata": {
    "ExecuteTime": {
     "end_time": "2021-07-21T01:24:36.968221Z",
     "start_time": "2021-07-21T01:24:36.592483Z"
    },
    "hidden": true
   },
   "outputs": [
    {
     "data": {
      "image/png": "[encoded data removed]",
      "text/plain": [
       "<Figure size 720x720 with 1 Axes>"
      ]
     },
     "metadata": {
      "needs_background": "light"
     },
     "output_type": "display_data"
    }
   ],
   "source": [
    "#cvd per height\n",
    "aux1 = df42[(df42['cardio'] >= 1)]\n",
    "aux1 = aux1[['gender', 'cardio']].groupby('gender').size().reset_index().rename(columns={0:'total_1'})\n",
    "\n",
    "aux2 = df42[(df42['cardio'] <= 0)]\n",
    "aux2 = aux2[['gender', 'cardio']].groupby('gender').size().reset_index().rename(columns={0:'total_0'})\n",
    "\n",
    "#histogram\n",
    "fig = plt.figure(figsize=(10,10))\n",
    "\n",
    "ax = fig.add_subplot(111)\n",
    "\n",
    "width = 0.2\n",
    "\n",
    "aux1.plot(x='gender', y='total_1', kind='bar', color='red', ax=ax, width=width, position=0)\n",
    "aux2.plot(x='gender', y='total_0', kind='bar', color='blue', ax=ax, width=width, position=1)\n",
    "plt.show()"
   ]
  },
  {
   "cell_type": "code",
   "execution_count": 146,
   "metadata": {
    "ExecuteTime": {
     "end_time": "2021-07-21T01:24:37.015288Z",
     "start_time": "2021-07-21T01:24:36.970222Z"
    },
    "hidden": true
   },
   "outputs": [
    {
     "name": "stderr",
     "output_type": "stream",
     "text": [
      "<ipython-input-109-6e4d339763c6>:30: SettingWithCopyWarning: \n",
      "A value is trying to be set on a copy of a slice from a DataFrame\n",
      "\n",
      "See the caveats in the documentation: https://pandas.pydata.org/pandas-docs/stable/user_guide/indexing.html#returning-a-view-versus-a-copy\n",
      "  x['%_cardio_1'][i] = p\n"
     ]
    },
    {
     "data": {
      "text/html": [
       "<div>\n",
       "<style scoped>\n",
       "    .dataframe tbody tr th:only-of-type {\n",
       "        vertical-align: middle;\n",
       "    }\n",
       "\n",
       "    .dataframe tbody tr th {\n",
       "        vertical-align: top;\n",
       "    }\n",
       "\n",
       "    .dataframe thead th {\n",
       "        text-align: right;\n",
       "    }\n",
       "</style>\n",
       "<table border=\"1\" class=\"dataframe\">\n",
       "  <thead>\n",
       "    <tr style=\"text-align: right;\">\n",
       "      <th></th>\n",
       "      <th>gender</th>\n",
       "      <th>cardio</th>\n",
       "      <th>total</th>\n",
       "      <th>%_cardio_1</th>\n",
       "    </tr>\n",
       "  </thead>\n",
       "  <tbody>\n",
       "    <tr>\n",
       "      <th>1</th>\n",
       "      <td>men</td>\n",
       "      <td>1</td>\n",
       "      <td>11748</td>\n",
       "      <td>49.710151</td>\n",
       "    </tr>\n",
       "    <tr>\n",
       "      <th>3</th>\n",
       "      <td>women</td>\n",
       "      <td>1</td>\n",
       "      <td>21729</td>\n",
       "      <td>49.021997</td>\n",
       "    </tr>\n",
       "  </tbody>\n",
       "</table>\n",
       "</div>"
      ],
      "text/plain": [
       "  gender  cardio  total %_cardio_1\n",
       "1    men       1  11748  49.710151\n",
       "3  women       1  21729  49.021997"
      ]
     },
     "execution_count": 146,
     "metadata": {},
     "output_type": "execute_result"
    }
   ],
   "source": [
    "#calculate % people with CVD per gender\n",
    "aux1 = df42[['gender', 'cardio']].groupby(['gender','cardio']).size().reset_index().rename(columns={0:'total'})\n",
    "aux1['%_cardio_1'] = \"\"\n",
    "aux1 = perc(aux1)\n",
    "\n",
    "#result of %\n",
    "aux1 = aux1[(aux1['cardio'] >= 1)]\n",
    "aux1"
   ]
  },
  {
   "cell_type": "code",
   "execution_count": 147,
   "metadata": {
    "ExecuteTime": {
     "end_time": "2021-07-21T01:24:37.255137Z",
     "start_time": "2021-07-21T01:24:37.018282Z"
    },
    "hidden": true
   },
   "outputs": [
    {
     "data": {
      "image/png": "[encoded data removed]",
      "text/plain": [
       "<Figure size 432x576 with 1 Axes>"
      ]
     },
     "metadata": {
      "needs_background": "light"
     },
     "output_type": "display_data"
    }
   ],
   "source": [
    "#histogram people who had CVD per gender (average)\n",
    "fig_dims = (6, 8)\n",
    "fig, ax = plt.subplots(figsize=fig_dims)\n",
    "\n",
    "graph = sns.barplot(x='gender', y='%_cardio_1', ax=ax, data=aux1)\n",
    "graph.axhline(51, xmin=0.0, xmax=1.0, linestyle =\"--\", color='red')\n",
    "plt.title('% People who had CVD per active')\n",
    "plt.show()"
   ]
  },
  {
   "cell_type": "markdown",
   "metadata": {
    "hidden": true
   },
   "source": [
    "**4. Analysis between 50 - 130. People over 100 kg (220 lb) have 40% more chance of having a CVD than 100 kg**\n",
    "\n",
    "**FALSE** On average people with over 100 kg have 19.9% more chance of having a CVD than below 100 kg"
   ]
  },
  {
   "cell_type": "code",
   "execution_count": 148,
   "metadata": {
    "ExecuteTime": {
     "end_time": "2021-07-21T01:24:39.439611Z",
     "start_time": "2021-07-21T01:24:37.258132Z"
    },
    "hidden": true
   },
   "outputs": [
    {
     "data": {
      "text/plain": [
       "<AxesSubplot:xlabel='weight', ylabel='cardio'>"
      ]
     },
     "execution_count": 148,
     "metadata": {},
     "output_type": "execute_result"
    },
    {
     "data": {
      "image/png": "[encoded data removed]",
      "text/plain": [
       "<Figure size 1296x720 with 1 Axes>"
      ]
     },
     "metadata": {
      "needs_background": "light"
     },
     "output_type": "display_data"
    }
   ],
   "source": [
    "#cvd per weight\n",
    "aux1 = df4[(df4['weight'] >= 50) & (df4['weight'] <= 130)]\n",
    "aux1 = aux1[['weight', 'cardio']].groupby('weight').sum().reset_index()\n",
    "\n",
    "#histogram\n",
    "fig_dims = (18, 10)\n",
    "fig, ax = plt.subplots(figsize=fig_dims)\n",
    "sns.barplot(x='weight', y='cardio', ax=ax, data=aux1)"
   ]
  },
  {
   "cell_type": "code",
   "execution_count": 149,
   "metadata": {
    "ExecuteTime": {
     "end_time": "2021-07-21T01:24:39.454809Z",
     "start_time": "2021-07-21T01:24:39.441615Z"
    },
    "hidden": true
   },
   "outputs": [],
   "source": [
    "#filter weight 33 - 100 and divide between two groups\n",
    "#aux1 = df4[(df4['weight'] >= 33) & (df4['weight'] <= 100) & (df4['cardio'] >= 1)]\n",
    "#aux1 = aux1[['weight', 'cardio']].groupby('weight').size().reset_index().rename(columns={0:'total_1'})\n",
    "\n",
    "#aux2 = df4[(df4['weight'] >= 33) & (df4['weight'] <= 100) & (df4['cardio'] <= 0)]\n",
    "#aux2 = aux2[['weight', 'cardio']].groupby('weight').size().reset_index().rename(columns={0:'total_0'})"
   ]
  },
  {
   "cell_type": "code",
   "execution_count": 150,
   "metadata": {
    "ExecuteTime": {
     "end_time": "2021-07-21T01:24:39.658860Z",
     "start_time": "2021-07-21T01:24:39.456059Z"
    },
    "hidden": true
   },
   "outputs": [
    {
     "name": "stderr",
     "output_type": "stream",
     "text": [
      "<ipython-input-109-6e4d339763c6>:30: SettingWithCopyWarning: \n",
      "A value is trying to be set on a copy of a slice from a DataFrame\n",
      "\n",
      "See the caveats in the documentation: https://pandas.pydata.org/pandas-docs/stable/user_guide/indexing.html#returning-a-view-versus-a-copy\n",
      "  x['%_cardio_1'][i] = p\n"
     ]
    }
   ],
   "source": [
    "#filtering and calculate % people with CVD per weight\n",
    "aux1 = df4[(df4['weight'] >= 50) & (df4['weight'] <= 130)]\n",
    "aux1 = aux1[['weight', 'cardio']].groupby(['weight','cardio']).size().reset_index().rename(columns={0:'total'})\n",
    "aux1['%_cardio_1'] = \"\"\n",
    "aux1 = perc(aux1)"
   ]
  },
  {
   "cell_type": "code",
   "execution_count": 151,
   "metadata": {
    "ExecuteTime": {
     "end_time": "2021-07-21T01:24:39.737169Z",
     "start_time": "2021-07-21T01:24:39.660852Z"
    },
    "hidden": true
   },
   "outputs": [
    {
     "data": {
      "text/html": [
       "<div>\n",
       "<style scoped>\n",
       "    .dataframe tbody tr th:only-of-type {\n",
       "        vertical-align: middle;\n",
       "    }\n",
       "\n",
       "    .dataframe tbody tr th {\n",
       "        vertical-align: top;\n",
       "    }\n",
       "\n",
       "    .dataframe thead th {\n",
       "        text-align: right;\n",
       "    }\n",
       "</style>\n",
       "<table border=\"1\" class=\"dataframe\">\n",
       "  <thead>\n",
       "    <tr style=\"text-align: right;\">\n",
       "      <th></th>\n",
       "      <th>index</th>\n",
       "      <th>over 100</th>\n",
       "      <th>below 100</th>\n",
       "    </tr>\n",
       "  </thead>\n",
       "  <tbody>\n",
       "    <tr>\n",
       "      <th>0</th>\n",
       "      <td>age</td>\n",
       "      <td>108.500000</td>\n",
       "      <td>74.500000</td>\n",
       "    </tr>\n",
       "    <tr>\n",
       "      <th>1</th>\n",
       "      <td>cardio</td>\n",
       "      <td>1.000000</td>\n",
       "      <td>1.000000</td>\n",
       "    </tr>\n",
       "    <tr>\n",
       "      <th>2</th>\n",
       "      <td>total</td>\n",
       "      <td>110.611111</td>\n",
       "      <td>624.520000</td>\n",
       "    </tr>\n",
       "    <tr>\n",
       "      <th>3</th>\n",
       "      <td>average</td>\n",
       "      <td>68.748509</td>\n",
       "      <td>49.890194</td>\n",
       "    </tr>\n",
       "  </tbody>\n",
       "</table>\n",
       "</div>"
      ],
      "text/plain": [
       "     index    over 100   below 100\n",
       "0      age  108.500000   74.500000\n",
       "1   cardio    1.000000    1.000000\n",
       "2    total  110.611111  624.520000\n",
       "3  average   68.748509   49.890194"
      ]
     },
     "execution_count": 151,
     "metadata": {},
     "output_type": "execute_result"
    }
   ],
   "source": [
    "#divide bewtween two groups below and over 100 kg\n",
    "aux1 = aux1[(aux1['cardio'] >=1)]\n",
    "aux_100 = aux1[(aux1['weight'] >= 100)]\n",
    "aux_100 = pd.DataFrame(aux_100.apply(np.mean)).T\n",
    "\n",
    "aux_99 = aux1[(aux1['weight'] < 100)]\n",
    "aux_99 = pd.DataFrame(aux_99.apply(np.mean)).T\n",
    "\n",
    "#result of average\n",
    "m = pd.concat([aux_100, aux_99]).T.reset_index()\n",
    "m.columns = ['index','over 100','below 100']\n",
    "m['index'] = {'age': 0, 'cardio': 1, 'total': 2, 'average': 3}\n",
    "m"
   ]
  },
  {
   "cell_type": "code",
   "execution_count": 152,
   "metadata": {
    "ExecuteTime": {
     "end_time": "2021-07-21T01:24:41.936046Z",
     "start_time": "2021-07-21T01:24:39.739169Z"
    },
    "hidden": true
   },
   "outputs": [
    {
     "data": {
      "image/png": "[encoded data removed]",
      "text/plain": [
       "<Figure size 1440x1080 with 1 Axes>"
      ]
     },
     "metadata": {
      "needs_background": "light"
     },
     "output_type": "display_data"
    }
   ],
   "source": [
    "#histogram people who had CVD per height\n",
    "fig_dims = (20,15)\n",
    "fig, ax = plt.subplots(figsize=fig_dims)\n",
    "\n",
    "graph = sns.barplot(x='weight', y='%_cardio_1', ax=ax, data=aux1)\n",
    "graph.axvline(49.5, ymin=0.0, ymax=1.0, linestyle =\"--\", color='blue')\n",
    "graph.axhline(51, xmin=0.0, xmax=1.0, linestyle =\"--\", color='red')\n",
    "plt.title('% People who had CVD per BMI')\n",
    "plt.show()"
   ]
  },
  {
   "cell_type": "markdown",
   "metadata": {
    "hidden": true
   },
   "source": [
    "**5. People with a BMI above 30 (obese class I) have 25% more chance of having a CVD than below 30**\n",
    "\n",
    "**TRUE** People with a BMI above than 30 have 26.3% chance of having CVD than BMI below 30"
   ]
  },
  {
   "cell_type": "code",
   "execution_count": 153,
   "metadata": {
    "ExecuteTime": {
     "end_time": "2021-07-21T01:24:41.952113Z",
     "start_time": "2021-07-21T01:24:41.938042Z"
    },
    "hidden": true
   },
   "outputs": [],
   "source": [
    "#convert type bmi (int)\n",
    "df4['bmi'] = df4['bmi'].astype(int)"
   ]
  },
  {
   "cell_type": "code",
   "execution_count": 154,
   "metadata": {
    "ExecuteTime": {
     "end_time": "2021-07-21T01:24:42.580980Z",
     "start_time": "2021-07-21T01:24:41.954116Z"
    },
    "hidden": true
   },
   "outputs": [
    {
     "data": {
      "text/plain": [
       "<AxesSubplot:xlabel='bmi', ylabel='cardio'>"
      ]
     },
     "execution_count": 154,
     "metadata": {},
     "output_type": "execute_result"
    },
    {
     "data": {
      "image/png": "[encoded data removed]",
      "text/plain": [
       "<Figure size 1296x720 with 1 Axes>"
      ]
     },
     "metadata": {
      "needs_background": "light"
     },
     "output_type": "display_data"
    }
   ],
   "source": [
    "#cvd per weight\n",
    "aux1 = df4[(df4['bmi'] >= 15) & (df4['bmi'] <= 50)]\n",
    "aux1 = aux1[['bmi', 'cardio']].groupby('bmi').sum().reset_index()\n",
    "\n",
    "#histogram\n",
    "fig_dims = (18, 10)\n",
    "fig, ax = plt.subplots(figsize=fig_dims)\n",
    "sns.barplot(x='bmi', y='cardio', ax=ax, data=aux1)"
   ]
  },
  {
   "cell_type": "code",
   "execution_count": 155,
   "metadata": {
    "ExecuteTime": {
     "end_time": "2021-07-21T01:24:42.627956Z",
     "start_time": "2021-07-21T01:24:42.582984Z"
    },
    "hidden": true
   },
   "outputs": [
    {
     "name": "stderr",
     "output_type": "stream",
     "text": [
      "<ipython-input-109-6e4d339763c6>:30: SettingWithCopyWarning: \n",
      "A value is trying to be set on a copy of a slice from a DataFrame\n",
      "\n",
      "See the caveats in the documentation: https://pandas.pydata.org/pandas-docs/stable/user_guide/indexing.html#returning-a-view-versus-a-copy\n",
      "  x['%_cardio_1'][i] = p\n"
     ]
    }
   ],
   "source": [
    "#calculate % people with CVD per bmi\n",
    "aux1 = df4[(df4['bmi'] >= 15) & (df4['bmi'] <= 50)]\n",
    "aux1 = aux1[['bmi', 'cardio']].groupby(['bmi','cardio']).size().reset_index().rename(columns={0:'total'})\n",
    "aux1['%_cardio_1'] = \"\"\n",
    "aux1 = perc(aux1)"
   ]
  },
  {
   "cell_type": "code",
   "execution_count": 156,
   "metadata": {
    "ExecuteTime": {
     "end_time": "2021-07-21T01:24:42.753822Z",
     "start_time": "2021-07-21T01:24:42.629956Z"
    },
    "hidden": true
   },
   "outputs": [
    {
     "data": {
      "text/html": [
       "<div>\n",
       "<style scoped>\n",
       "    .dataframe tbody tr th:only-of-type {\n",
       "        vertical-align: middle;\n",
       "    }\n",
       "\n",
       "    .dataframe tbody tr th {\n",
       "        vertical-align: top;\n",
       "    }\n",
       "\n",
       "    .dataframe thead th {\n",
       "        text-align: right;\n",
       "    }\n",
       "</style>\n",
       "<table border=\"1\" class=\"dataframe\">\n",
       "  <thead>\n",
       "    <tr style=\"text-align: right;\">\n",
       "      <th></th>\n",
       "      <th>index</th>\n",
       "      <th>over 30</th>\n",
       "      <th>above 30</th>\n",
       "    </tr>\n",
       "  </thead>\n",
       "  <tbody>\n",
       "    <tr>\n",
       "      <th>0</th>\n",
       "      <td>age</td>\n",
       "      <td>37.500000</td>\n",
       "      <td>22.000000</td>\n",
       "    </tr>\n",
       "    <tr>\n",
       "      <th>1</th>\n",
       "      <td>cardio</td>\n",
       "      <td>1.000000</td>\n",
       "      <td>1.000000</td>\n",
       "    </tr>\n",
       "    <tr>\n",
       "      <th>2</th>\n",
       "      <td>total</td>\n",
       "      <td>667.687500</td>\n",
       "      <td>1519.133333</td>\n",
       "    </tr>\n",
       "    <tr>\n",
       "      <th>3</th>\n",
       "      <td>average</td>\n",
       "      <td>65.873918</td>\n",
       "      <td>38.426496</td>\n",
       "    </tr>\n",
       "  </tbody>\n",
       "</table>\n",
       "</div>"
      ],
      "text/plain": [
       "     index     over 30     above 30\n",
       "0      age   37.500000    22.000000\n",
       "1   cardio    1.000000     1.000000\n",
       "2    total  667.687500  1519.133333\n",
       "3  average   65.873918    38.426496"
      ]
     },
     "execution_count": 156,
     "metadata": {},
     "output_type": "execute_result"
    }
   ],
   "source": [
    "#divide between two groups below and over 30\n",
    "aux1 = aux1[(aux1['cardio'] >=1)]\n",
    "aux_30 = aux1[(aux1['bmi'] >= 30)]\n",
    "aux_30 = pd.DataFrame(aux_30.apply(np.mean)).T\n",
    "\n",
    "aux_29 = aux1[(aux1['bmi'] < 30)]\n",
    "aux_29 = pd.DataFrame(aux_29.apply(np.mean)).T\n",
    "\n",
    "#result of average\n",
    "m = pd.concat([aux_30, aux_29]).T.reset_index()\n",
    "m.columns = ['index','over 30','above 30']\n",
    "m['index'] = {'age': 0, 'cardio': 1, 'total': 2, 'average': 3}\n",
    "m"
   ]
  },
  {
   "cell_type": "code",
   "execution_count": 157,
   "metadata": {
    "ExecuteTime": {
     "end_time": "2021-07-21T01:24:43.413299Z",
     "start_time": "2021-07-21T01:24:42.755821Z"
    },
    "hidden": true,
    "scrolled": true
   },
   "outputs": [
    {
     "data": {
      "image/png": "[encoded data removed]",
      "text/plain": [
       "<Figure size 1296x720 with 1 Axes>"
      ]
     },
     "metadata": {
      "needs_background": "light"
     },
     "output_type": "display_data"
    }
   ],
   "source": [
    "#histogram people who had CVD per BMI\n",
    "fig_dims = (18, 10)\n",
    "fig, ax = plt.subplots(figsize=fig_dims)\n",
    "\n",
    "graph = sns.barplot(x='bmi', y='%_cardio_1', ax=ax, data=aux1)\n",
    "graph.axvline(14.5, ymin=0.0, ymax=1.0, linestyle =\"--\", color='blue')\n",
    "graph.axhline(51, xmin=0.0, xmax=1.0, linestyle =\"--\", color='red')\n",
    "plt.title('% People who had CVD per BMI')\n",
    "plt.show()"
   ]
  },
  {
   "cell_type": "markdown",
   "metadata": {
    "hidden": true
   },
   "source": [
    "**6. People who do not engage in physical activity are 40% more likely to have CVDs than who engage**\n",
    "\n",
    "**FALSE** People who engage in physical activity more have 4.6% chance of having CVD"
   ]
  },
  {
   "cell_type": "code",
   "execution_count": 158,
   "metadata": {
    "ExecuteTime": {
     "end_time": "2021-07-21T01:24:43.429291Z",
     "start_time": "2021-07-21T01:24:43.415298Z"
    },
    "hidden": true
   },
   "outputs": [],
   "source": [
    "#transform to categorical\n",
    "df42 = df4.copy()\n",
    "df42['active'] = df42['active'].apply({0:'no', 1:'yes'}.get)"
   ]
  },
  {
   "cell_type": "code",
   "execution_count": 159,
   "metadata": {
    "ExecuteTime": {
     "end_time": "2021-07-21T01:24:43.824755Z",
     "start_time": "2021-07-21T01:24:43.431290Z"
    },
    "hidden": true
   },
   "outputs": [
    {
     "data": {
      "image/png": "[encoded data removed]",
      "text/plain": [
       "<Figure size 1440x1080 with 1 Axes>"
      ]
     },
     "metadata": {
      "needs_background": "light"
     },
     "output_type": "display_data"
    }
   ],
   "source": [
    "#cvd per physical activity\n",
    "aux1 = df42[(df42['cardio'] >= 1)]\n",
    "aux1 = aux1[['active', 'cardio']].groupby('active').size().reset_index().rename(columns={0:'total_1'})\n",
    "\n",
    "aux2 = df42[(df42['cardio'] <= 0)]\n",
    "aux2 = aux2[['active', 'cardio']].groupby('active').size().reset_index().rename(columns={0:'total_0'})\n",
    "\n",
    "#histogram\n",
    "fig = plt.figure(figsize=(20,15))\n",
    "\n",
    "ax = fig.add_subplot(111)\n",
    "\n",
    "width = 0.2\n",
    "\n",
    "aux1.plot(x='active', y='total_1', kind='bar', color='red', ax=ax, width=width, position=0)\n",
    "aux2.plot(x='active', y='total_0', kind='bar', color='blue', ax=ax, width=width, position=1)\n",
    "plt.show()"
   ]
  },
  {
   "cell_type": "code",
   "execution_count": 160,
   "metadata": {
    "ExecuteTime": {
     "end_time": "2021-07-21T01:24:43.856733Z",
     "start_time": "2021-07-21T01:24:43.826753Z"
    },
    "hidden": true
   },
   "outputs": [
    {
     "name": "stderr",
     "output_type": "stream",
     "text": [
      "<ipython-input-109-6e4d339763c6>:30: SettingWithCopyWarning: \n",
      "A value is trying to be set on a copy of a slice from a DataFrame\n",
      "\n",
      "See the caveats in the documentation: https://pandas.pydata.org/pandas-docs/stable/user_guide/indexing.html#returning-a-view-versus-a-copy\n",
      "  x['%_cardio_1'][i] = p\n"
     ]
    },
    {
     "data": {
      "text/html": [
       "<div>\n",
       "<style scoped>\n",
       "    .dataframe tbody tr th:only-of-type {\n",
       "        vertical-align: middle;\n",
       "    }\n",
       "\n",
       "    .dataframe tbody tr th {\n",
       "        vertical-align: top;\n",
       "    }\n",
       "\n",
       "    .dataframe thead th {\n",
       "        text-align: right;\n",
       "    }\n",
       "</style>\n",
       "<table border=\"1\" class=\"dataframe\">\n",
       "  <thead>\n",
       "    <tr style=\"text-align: right;\">\n",
       "      <th></th>\n",
       "      <th>active</th>\n",
       "      <th>cardio</th>\n",
       "      <th>total</th>\n",
       "      <th>%_cardio_1</th>\n",
       "    </tr>\n",
       "  </thead>\n",
       "  <tbody>\n",
       "    <tr>\n",
       "      <th>1</th>\n",
       "      <td>no</td>\n",
       "      <td>1</td>\n",
       "      <td>7074</td>\n",
       "      <td>53.048369</td>\n",
       "    </tr>\n",
       "    <tr>\n",
       "      <th>3</th>\n",
       "      <td>yes</td>\n",
       "      <td>1</td>\n",
       "      <td>26403</td>\n",
       "      <td>48.336781</td>\n",
       "    </tr>\n",
       "  </tbody>\n",
       "</table>\n",
       "</div>"
      ],
      "text/plain": [
       "  active  cardio  total %_cardio_1\n",
       "1     no       1   7074  53.048369\n",
       "3    yes       1  26403  48.336781"
      ]
     },
     "execution_count": 160,
     "metadata": {},
     "output_type": "execute_result"
    }
   ],
   "source": [
    "#calculate % people with CVD per activity\n",
    "aux1 = df4[['active', 'cardio']].groupby(['active','cardio']).size().reset_index().rename(columns={0:'total'})\n",
    "aux1['%_cardio_1'] = \"\"\n",
    "aux1 = perc(aux1)\n",
    "\n",
    "#result of %\n",
    "aux1 = aux1[(aux1['cardio'] >= 1)]\n",
    "aux1['active'] = aux1['active'].apply({0:'no', 1:'yes'}.get)\n",
    "aux1"
   ]
  },
  {
   "cell_type": "code",
   "execution_count": 161,
   "metadata": {
    "ExecuteTime": {
     "end_time": "2021-07-21T01:24:44.250476Z",
     "start_time": "2021-07-21T01:24:43.858733Z"
    },
    "hidden": true
   },
   "outputs": [
    {
     "data": {
      "image/png": "[encoded data removed]",
      "text/plain": [
       "<Figure size 432x576 with 1 Axes>"
      ]
     },
     "metadata": {
      "needs_background": "light"
     },
     "output_type": "display_data"
    }
   ],
   "source": [
    "#histogram people who had CVD per activity\n",
    "fig_dims = (6, 8)\n",
    "fig, ax = plt.subplots(figsize=fig_dims)\n",
    "\n",
    "graph = sns.barplot(x='active', y='%_cardio_1', ax=ax, data=aux1)\n",
    "#graph.axvline(29.5, ymin=0.0, ymax=1.0, linestyle =\"--\", color='blue')\n",
    "graph.axhline(51, xmin=0.0, xmax=1.0, linestyle =\"--\", color='red')\n",
    "plt.title('% People who had CVD per active')\n",
    "plt.show()"
   ]
  },
  {
   "cell_type": "markdown",
   "metadata": {
    "hidden": true
   },
   "source": [
    "**7. People who regularly consume alcohol have a 10% chance of having CVD than those who do not consume**\n",
    "\n",
    "**FALSE** People who regularly consume alcohol have 1.9% less chance of having CVD than who don't consume"
   ]
  },
  {
   "cell_type": "code",
   "execution_count": 162,
   "metadata": {
    "ExecuteTime": {
     "end_time": "2021-07-21T01:24:44.281342Z",
     "start_time": "2021-07-21T01:24:44.252480Z"
    },
    "hidden": true
   },
   "outputs": [],
   "source": [
    "#transform to categorical\n",
    "df42 = df4.copy()\n",
    "df42['alco'] = df42['alco'].apply({0:'no', 1:'yes'}.get)"
   ]
  },
  {
   "cell_type": "code",
   "execution_count": 163,
   "metadata": {
    "ExecuteTime": {
     "end_time": "2021-07-21T01:24:44.627433Z",
     "start_time": "2021-07-21T01:24:44.283348Z"
    },
    "hidden": true
   },
   "outputs": [
    {
     "data": {
      "image/png": "[encoded data removed]",
      "text/plain": [
       "<Figure size 720x720 with 1 Axes>"
      ]
     },
     "metadata": {
      "needs_background": "light"
     },
     "output_type": "display_data"
    }
   ],
   "source": [
    "#cvd per people who consume alcohol\n",
    "aux1 = df42[(df42['cardio'] >= 1)]\n",
    "aux1 = aux1[['alco', 'cardio']].groupby('alco').size().reset_index().rename(columns={0:'total_1'})\n",
    "\n",
    "aux2 = df42[(df42['cardio'] <= 0)]\n",
    "aux2 = aux2[['alco', 'cardio']].groupby('alco').size().reset_index().rename(columns={0:'total_0'})\n",
    "\n",
    "#histogram\n",
    "fig = plt.figure(figsize=(10,10))\n",
    "\n",
    "ax = fig.add_subplot(111)\n",
    "\n",
    "width = 0.2\n",
    "\n",
    "aux1.plot(x='alco', y='total_1', kind='bar', color='red', ax=ax, width=width, position=0)\n",
    "aux2.plot(x='alco', y='total_0', kind='bar', color='blue', ax=ax, width=width, position=1)\n",
    "plt.show()"
   ]
  },
  {
   "cell_type": "code",
   "execution_count": 164,
   "metadata": {
    "ExecuteTime": {
     "end_time": "2021-07-21T01:24:44.674403Z",
     "start_time": "2021-07-21T01:24:44.629431Z"
    },
    "hidden": true
   },
   "outputs": [
    {
     "name": "stderr",
     "output_type": "stream",
     "text": [
      "<ipython-input-109-6e4d339763c6>:30: SettingWithCopyWarning: \n",
      "A value is trying to be set on a copy of a slice from a DataFrame\n",
      "\n",
      "See the caveats in the documentation: https://pandas.pydata.org/pandas-docs/stable/user_guide/indexing.html#returning-a-view-versus-a-copy\n",
      "  x['%_cardio_1'][i] = p\n"
     ]
    },
    {
     "data": {
      "text/html": [
       "<div>\n",
       "<style scoped>\n",
       "    .dataframe tbody tr th:only-of-type {\n",
       "        vertical-align: middle;\n",
       "    }\n",
       "\n",
       "    .dataframe tbody tr th {\n",
       "        vertical-align: top;\n",
       "    }\n",
       "\n",
       "    .dataframe thead th {\n",
       "        text-align: right;\n",
       "    }\n",
       "</style>\n",
       "<table border=\"1\" class=\"dataframe\">\n",
       "  <thead>\n",
       "    <tr style=\"text-align: right;\">\n",
       "      <th></th>\n",
       "      <th>index</th>\n",
       "      <th>alco</th>\n",
       "      <th>cardio</th>\n",
       "      <th>total</th>\n",
       "      <th>%_cardio_1</th>\n",
       "    </tr>\n",
       "  </thead>\n",
       "  <tbody>\n",
       "    <tr>\n",
       "      <th>1</th>\n",
       "      <td>1</td>\n",
       "      <td>no</td>\n",
       "      <td>1</td>\n",
       "      <td>31760</td>\n",
       "      <td>49.360459</td>\n",
       "    </tr>\n",
       "    <tr>\n",
       "      <th>3</th>\n",
       "      <td>3</td>\n",
       "      <td>yes</td>\n",
       "      <td>1</td>\n",
       "      <td>1717</td>\n",
       "      <td>47.496542</td>\n",
       "    </tr>\n",
       "  </tbody>\n",
       "</table>\n",
       "</div>"
      ],
      "text/plain": [
       "   index alco  cardio  total %_cardio_1\n",
       "1      1   no       1  31760  49.360459\n",
       "3      3  yes       1   1717  47.496542"
      ]
     },
     "execution_count": 164,
     "metadata": {},
     "output_type": "execute_result"
    }
   ],
   "source": [
    "#calculate % people with CVD per people who consume alcohol\n",
    "aux1 = df42[['alco', 'cardio']].groupby(['alco','cardio']).size().reset_index().reset_index().rename(columns={0:'total'})\n",
    "aux1['%_cardio_1'] = \"\"\n",
    "aux1 = perc(aux1)\n",
    "\n",
    "#result of %\n",
    "aux1 = aux1[(aux1['cardio'] >= 1)]\n",
    "aux1"
   ]
  },
  {
   "cell_type": "code",
   "execution_count": 165,
   "metadata": {
    "ExecuteTime": {
     "end_time": "2021-07-21T01:24:44.944801Z",
     "start_time": "2021-07-21T01:24:44.676400Z"
    },
    "hidden": true
   },
   "outputs": [
    {
     "data": {
      "image/png": "[encoded data removed]",
      "text/plain": [
       "<Figure size 432x576 with 1 Axes>"
      ]
     },
     "metadata": {
      "needs_background": "light"
     },
     "output_type": "display_data"
    }
   ],
   "source": [
    "#histogram people who had CVD per per people who consume alcohol\n",
    "fig_dims = (6, 8)\n",
    "fig, ax = plt.subplots(figsize=fig_dims)\n",
    "\n",
    "graph = sns.barplot(x='alco', y='%_cardio_1', ax=ax, data=aux1)\n",
    "#graph.axvline(29.5, ymin=0.0, ymax=1.0, linestyle =\"--\", color='blue')\n",
    "graph.axhline(51, xmin=0.0, xmax=1.0, linestyle =\"--\", color='red')\n",
    "plt.title('% People who had CVD per alco')\n",
    "plt.show()"
   ]
  },
  {
   "cell_type": "markdown",
   "metadata": {
    "hidden": true
   },
   "source": [
    "**8. People who smoke are 20% more likely to have CVD than who do not smoke**\n",
    "\n",
    "**FALSE** People who smoke have 3% less chance of having CVD than who doesn't"
   ]
  },
  {
   "cell_type": "code",
   "execution_count": 166,
   "metadata": {
    "ExecuteTime": {
     "end_time": "2021-07-21T01:24:44.976162Z",
     "start_time": "2021-07-21T01:24:44.946795Z"
    },
    "hidden": true
   },
   "outputs": [],
   "source": [
    "#transform to categorical\n",
    "df42 = df4.copy()\n",
    "df42['smoke'] = df42['smoke'].apply({0:'no', 1:'yes'}.get)"
   ]
  },
  {
   "cell_type": "code",
   "execution_count": 167,
   "metadata": {
    "ExecuteTime": {
     "end_time": "2021-07-21T01:24:45.355176Z",
     "start_time": "2021-07-21T01:24:44.977167Z"
    },
    "hidden": true
   },
   "outputs": [
    {
     "data": {
      "image/png": "[encoded data removed]",
      "text/plain": [
       "<Figure size 720x720 with 1 Axes>"
      ]
     },
     "metadata": {
      "needs_background": "light"
     },
     "output_type": "display_data"
    }
   ],
   "source": [
    "#cvd per people who smoke\n",
    "aux1 = df42[(df42['cardio'] >= 1)]\n",
    "aux1 = aux1[['smoke', 'cardio']].groupby('smoke').size().reset_index().rename(columns={0:'total_1'})\n",
    "\n",
    "aux2 = df42[(df42['cardio'] <= 0)]\n",
    "aux2 = aux2[['smoke', 'cardio']].groupby('smoke').size().reset_index().rename(columns={0:'total_0'})\n",
    "\n",
    "#histogram\n",
    "fig = plt.figure(figsize=(10,10))\n",
    "\n",
    "ax = fig.add_subplot(111)\n",
    "\n",
    "width = 0.2\n",
    "\n",
    "aux1.plot(x='smoke', y='total_1', kind='bar', color='red', ax=ax, width=width, position=0)\n",
    "aux2.plot(x='smoke', y='total_0', kind='bar', color='blue', ax=ax, width=width, position=1)\n",
    "plt.show()"
   ]
  },
  {
   "cell_type": "code",
   "execution_count": 168,
   "metadata": {
    "ExecuteTime": {
     "end_time": "2021-07-21T01:24:45.402147Z",
     "start_time": "2021-07-21T01:24:45.357175Z"
    },
    "hidden": true
   },
   "outputs": [
    {
     "name": "stderr",
     "output_type": "stream",
     "text": [
      "<ipython-input-109-6e4d339763c6>:30: SettingWithCopyWarning: \n",
      "A value is trying to be set on a copy of a slice from a DataFrame\n",
      "\n",
      "See the caveats in the documentation: https://pandas.pydata.org/pandas-docs/stable/user_guide/indexing.html#returning-a-view-versus-a-copy\n",
      "  x['%_cardio_1'][i] = p\n"
     ]
    },
    {
     "data": {
      "text/html": [
       "<div>\n",
       "<style scoped>\n",
       "    .dataframe tbody tr th:only-of-type {\n",
       "        vertical-align: middle;\n",
       "    }\n",
       "\n",
       "    .dataframe tbody tr th {\n",
       "        vertical-align: top;\n",
       "    }\n",
       "\n",
       "    .dataframe thead th {\n",
       "        text-align: right;\n",
       "    }\n",
       "</style>\n",
       "<table border=\"1\" class=\"dataframe\">\n",
       "  <thead>\n",
       "    <tr style=\"text-align: right;\">\n",
       "      <th></th>\n",
       "      <th>smoke</th>\n",
       "      <th>cardio</th>\n",
       "      <th>total</th>\n",
       "      <th>%_cardio_1</th>\n",
       "    </tr>\n",
       "  </thead>\n",
       "  <tbody>\n",
       "    <tr>\n",
       "      <th>1</th>\n",
       "      <td>no</td>\n",
       "      <td>1</td>\n",
       "      <td>30717</td>\n",
       "      <td>49.525176</td>\n",
       "    </tr>\n",
       "    <tr>\n",
       "      <th>3</th>\n",
       "      <td>yes</td>\n",
       "      <td>1</td>\n",
       "      <td>2760</td>\n",
       "      <td>46.503791</td>\n",
       "    </tr>\n",
       "  </tbody>\n",
       "</table>\n",
       "</div>"
      ],
      "text/plain": [
       "  smoke  cardio  total %_cardio_1\n",
       "1    no       1  30717  49.525176\n",
       "3   yes       1   2760  46.503791"
      ]
     },
     "execution_count": 168,
     "metadata": {},
     "output_type": "execute_result"
    }
   ],
   "source": [
    "#calculate % people with CVD per people who smoke\n",
    "aux1 = df42[['smoke', 'cardio']].groupby(['smoke','cardio']).size().reset_index().rename(columns={0:'total'})\n",
    "aux1['%_cardio_1'] = \"\"\n",
    "aux1 = perc(aux1)\n",
    "\n",
    "#result of %\n",
    "aux1 = aux1[(aux1['cardio'] >= 1)]\n",
    "aux1"
   ]
  },
  {
   "cell_type": "code",
   "execution_count": 169,
   "metadata": {
    "ExecuteTime": {
     "end_time": "2021-07-21T01:24:45.623033Z",
     "start_time": "2021-07-21T01:24:45.404146Z"
    },
    "hidden": true
   },
   "outputs": [
    {
     "data": {
      "image/png": "[encoded data removed]",
      "text/plain": [
       "<Figure size 432x576 with 1 Axes>"
      ]
     },
     "metadata": {
      "needs_background": "light"
     },
     "output_type": "display_data"
    }
   ],
   "source": [
    "#histogram people who had CVD per people who smoke\n",
    "fig_dims = (6, 8)\n",
    "fig, ax = plt.subplots(figsize=fig_dims)\n",
    "\n",
    "graph = sns.barplot(x='smoke', y='%_cardio_1', ax=ax, data=aux1)\n",
    "#graph.axvline(29.5, ymin=0.0, ymax=1.0, linestyle =\"--\", color='blue')\n",
    "graph.axhline(51, xmin=0.0, xmax=1.0, linestyle =\"--\", color='red')\n",
    "plt.title('% People who had CVD per smoke')\n",
    "plt.show()"
   ]
  },
  {
   "cell_type": "markdown",
   "metadata": {
    "hidden": true
   },
   "source": [
    "**9. People with well above normal cholesterol have a 50% chance of having CVD than normal**\n",
    "\n",
    "**FALSE** People with well above normal cholesterol have 33% likely than people with normal"
   ]
  },
  {
   "cell_type": "code",
   "execution_count": 170,
   "metadata": {
    "ExecuteTime": {
     "end_time": "2021-07-21T01:24:45.654070Z",
     "start_time": "2021-07-21T01:24:45.625034Z"
    },
    "hidden": true
   },
   "outputs": [],
   "source": [
    "#transform to categorical\n",
    "df42 = df4.copy()\n",
    "df42['cholesterol'] = df42['cholesterol'].apply({1:'normal', 2:'above normal', 3:'well above normal'}.get)"
   ]
  },
  {
   "cell_type": "code",
   "execution_count": 171,
   "metadata": {
    "ExecuteTime": {
     "end_time": "2021-07-21T01:24:45.987901Z",
     "start_time": "2021-07-21T01:24:45.656031Z"
    },
    "hidden": true
   },
   "outputs": [
    {
     "data": {
      "image/png": "[encoded data removed]",
      "text/plain": [
       "<Figure size 720x720 with 1 Axes>"
      ]
     },
     "metadata": {
      "needs_background": "light"
     },
     "output_type": "display_data"
    }
   ],
   "source": [
    "#cvd per people who have above normal cholesterol\n",
    "aux1 = df42[(df42['cardio'] >= 1)]\n",
    "aux1 = aux1[['cholesterol', 'cardio']].groupby('cholesterol').size().reset_index().rename(columns={0:'total_1'})\n",
    "\n",
    "aux2 = df42[(df42['cardio'] <= 0)]\n",
    "aux2 = aux2[['cholesterol', 'cardio']].groupby('cholesterol').size().reset_index().rename(columns={0:'total_0'})\n",
    "\n",
    "#histogram\n",
    "fig = plt.figure(figsize=(10,10))\n",
    "\n",
    "ax = fig.add_subplot(111)\n",
    "\n",
    "width = 0.2\n",
    "\n",
    "aux1.plot(x='cholesterol', y='total_1', kind='bar', color='red', ax=ax, width=width, position=0)\n",
    "aux2.plot(x='cholesterol', y='total_0', kind='bar', color='blue', ax=ax, width=width, position=1)\n",
    "plt.show()"
   ]
  },
  {
   "cell_type": "code",
   "execution_count": 172,
   "metadata": {
    "ExecuteTime": {
     "end_time": "2021-07-21T01:24:46.034872Z",
     "start_time": "2021-07-21T01:24:45.989898Z"
    },
    "hidden": true
   },
   "outputs": [
    {
     "name": "stderr",
     "output_type": "stream",
     "text": [
      "<ipython-input-109-6e4d339763c6>:30: SettingWithCopyWarning: \n",
      "A value is trying to be set on a copy of a slice from a DataFrame\n",
      "\n",
      "See the caveats in the documentation: https://pandas.pydata.org/pandas-docs/stable/user_guide/indexing.html#returning-a-view-versus-a-copy\n",
      "  x['%_cardio_1'][i] = p\n"
     ]
    },
    {
     "data": {
      "text/html": [
       "<div>\n",
       "<style scoped>\n",
       "    .dataframe tbody tr th:only-of-type {\n",
       "        vertical-align: middle;\n",
       "    }\n",
       "\n",
       "    .dataframe tbody tr th {\n",
       "        vertical-align: top;\n",
       "    }\n",
       "\n",
       "    .dataframe thead th {\n",
       "        text-align: right;\n",
       "    }\n",
       "</style>\n",
       "<table border=\"1\" class=\"dataframe\">\n",
       "  <thead>\n",
       "    <tr style=\"text-align: right;\">\n",
       "      <th></th>\n",
       "      <th>cholesterol</th>\n",
       "      <th>cardio</th>\n",
       "      <th>total</th>\n",
       "      <th>%_cardio_1</th>\n",
       "    </tr>\n",
       "  </thead>\n",
       "  <tbody>\n",
       "    <tr>\n",
       "      <th>1</th>\n",
       "      <td>above normal</td>\n",
       "      <td>1</td>\n",
       "      <td>5435</td>\n",
       "      <td>59.45739</td>\n",
       "    </tr>\n",
       "    <tr>\n",
       "      <th>3</th>\n",
       "      <td>normal</td>\n",
       "      <td>1</td>\n",
       "      <td>22162</td>\n",
       "      <td>43.371561</td>\n",
       "    </tr>\n",
       "    <tr>\n",
       "      <th>5</th>\n",
       "      <td>well above normal</td>\n",
       "      <td>1</td>\n",
       "      <td>5880</td>\n",
       "      <td>76.17567</td>\n",
       "    </tr>\n",
       "  </tbody>\n",
       "</table>\n",
       "</div>"
      ],
      "text/plain": [
       "         cholesterol  cardio  total %_cardio_1\n",
       "1       above normal       1   5435   59.45739\n",
       "3             normal       1  22162  43.371561\n",
       "5  well above normal       1   5880   76.17567"
      ]
     },
     "execution_count": 172,
     "metadata": {},
     "output_type": "execute_result"
    }
   ],
   "source": [
    "#calculate % people with CVD per people who have above normal cholesterol\n",
    "aux1 = df42[['cholesterol', 'cardio']].groupby(['cholesterol','cardio']).size().reset_index().rename(columns={0:'total'})\n",
    "aux1['%_cardio_1'] = \"\"\n",
    "aux1 = perc(aux1)\n",
    "\n",
    "#result of %\n",
    "aux1 = aux1[(aux1['cardio'] >= 1)]\n",
    "aux1"
   ]
  },
  {
   "cell_type": "code",
   "execution_count": 173,
   "metadata": {
    "ExecuteTime": {
     "end_time": "2021-07-21T01:24:46.303495Z",
     "start_time": "2021-07-21T01:24:46.045864Z"
    },
    "hidden": true
   },
   "outputs": [
    {
     "data": {
      "image/png": "[encoded data removed]",
      "text/plain": [
       "<Figure size 432x576 with 1 Axes>"
      ]
     },
     "metadata": {
      "needs_background": "light"
     },
     "output_type": "display_data"
    }
   ],
   "source": [
    "#histogram people who had CVD per people who have above normal cholesterol\n",
    "fig_dims = (6, 8)\n",
    "fig, ax = plt.subplots(figsize=fig_dims)\n",
    "\n",
    "graph = sns.barplot(x='cholesterol', y='%_cardio_1', ax=ax, data=aux1)\n",
    "#graph.axvline(29.5, ymin=0.0, ymax=1.0, linestyle =\"--\", color='blue')\n",
    "graph.axhline(51, xmin=0.0, xmax=1.0, linestyle =\"--\", color='red')\n",
    "plt.title('% People who had CVD per cholesterol')\n",
    "plt.show()"
   ]
  },
  {
   "cell_type": "markdown",
   "metadata": {
    "hidden": true
   },
   "source": [
    "**10. People with well above normal glucose have a 20% chance of having CVD than normal**\n",
    "\n",
    "**FALSE** People with well above normal glucose have 14.1% more likely than people with normal glucose"
   ]
  },
  {
   "cell_type": "code",
   "execution_count": 174,
   "metadata": {
    "ExecuteTime": {
     "end_time": "2021-07-21T01:24:46.334495Z",
     "start_time": "2021-07-21T01:24:46.306494Z"
    },
    "hidden": true
   },
   "outputs": [],
   "source": [
    "#transform to categorical\n",
    "df42 = df4.copy()\n",
    "df42['gluc'] = df42['gluc'].apply({1:'normal', 2:'above normal', 3:'well above normal'}.get)"
   ]
  },
  {
   "cell_type": "code",
   "execution_count": 175,
   "metadata": {
    "ExecuteTime": {
     "end_time": "2021-07-21T01:24:46.667648Z",
     "start_time": "2021-07-21T01:24:46.336489Z"
    },
    "hidden": true
   },
   "outputs": [
    {
     "data": {
      "image/png": "[encoded data removed]",
      "text/plain": [
       "<Figure size 720x720 with 1 Axes>"
      ]
     },
     "metadata": {
      "needs_background": "light"
     },
     "output_type": "display_data"
    }
   ],
   "source": [
    "#cvd per people who have above normal glucose\n",
    "aux1 = df42[(df42['cardio'] >= 1)]\n",
    "aux1 = aux1[['gluc', 'cardio']].groupby('gluc').size().reset_index().rename(columns={0:'total_1'})\n",
    "\n",
    "aux2 = df42[(df42['cardio'] <= 0)]\n",
    "aux2 = aux2[['gluc', 'cardio']].groupby('gluc').size().reset_index().rename(columns={0:'total_0'})\n",
    "\n",
    "#histogram\n",
    "fig = plt.figure(figsize=(10,10))\n",
    "\n",
    "ax = fig.add_subplot(111)\n",
    "\n",
    "width = 0.2\n",
    "\n",
    "aux1.plot(x='gluc', y='total_1', kind='bar', color='red', ax=ax, width=width, position=0)\n",
    "aux2.plot(x='gluc', y='total_0', kind='bar', color='blue', ax=ax, width=width, position=1)\n",
    "plt.show()"
   ]
  },
  {
   "cell_type": "code",
   "execution_count": 176,
   "metadata": {
    "ExecuteTime": {
     "end_time": "2021-07-21T01:24:46.715619Z",
     "start_time": "2021-07-21T01:24:46.669647Z"
    },
    "hidden": true
   },
   "outputs": [
    {
     "name": "stderr",
     "output_type": "stream",
     "text": [
      "<ipython-input-109-6e4d339763c6>:30: SettingWithCopyWarning: \n",
      "A value is trying to be set on a copy of a slice from a DataFrame\n",
      "\n",
      "See the caveats in the documentation: https://pandas.pydata.org/pandas-docs/stable/user_guide/indexing.html#returning-a-view-versus-a-copy\n",
      "  x['%_cardio_1'][i] = p\n"
     ]
    },
    {
     "data": {
      "text/html": [
       "<div>\n",
       "<style scoped>\n",
       "    .dataframe tbody tr th:only-of-type {\n",
       "        vertical-align: middle;\n",
       "    }\n",
       "\n",
       "    .dataframe tbody tr th {\n",
       "        vertical-align: top;\n",
       "    }\n",
       "\n",
       "    .dataframe thead th {\n",
       "        text-align: right;\n",
       "    }\n",
       "</style>\n",
       "<table border=\"1\" class=\"dataframe\">\n",
       "  <thead>\n",
       "    <tr style=\"text-align: right;\">\n",
       "      <th></th>\n",
       "      <th>gluc</th>\n",
       "      <th>cardio</th>\n",
       "      <th>total</th>\n",
       "      <th>%_cardio_1</th>\n",
       "    </tr>\n",
       "  </thead>\n",
       "  <tbody>\n",
       "    <tr>\n",
       "      <th>1</th>\n",
       "      <td>above normal</td>\n",
       "      <td>1</td>\n",
       "      <td>2891</td>\n",
       "      <td>58.498584</td>\n",
       "    </tr>\n",
       "    <tr>\n",
       "      <th>3</th>\n",
       "      <td>normal</td>\n",
       "      <td>1</td>\n",
       "      <td>27433</td>\n",
       "      <td>47.380784</td>\n",
       "    </tr>\n",
       "    <tr>\n",
       "      <th>5</th>\n",
       "      <td>well above normal</td>\n",
       "      <td>1</td>\n",
       "      <td>3153</td>\n",
       "      <td>61.618136</td>\n",
       "    </tr>\n",
       "  </tbody>\n",
       "</table>\n",
       "</div>"
      ],
      "text/plain": [
       "                gluc  cardio  total %_cardio_1\n",
       "1       above normal       1   2891  58.498584\n",
       "3             normal       1  27433  47.380784\n",
       "5  well above normal       1   3153  61.618136"
      ]
     },
     "execution_count": 176,
     "metadata": {},
     "output_type": "execute_result"
    }
   ],
   "source": [
    "#calculate % people with CVD per people who have above normal glucose\n",
    "aux1 = df42[['gluc', 'cardio']].groupby(['gluc','cardio']).size().reset_index().rename(columns={0:'total'})\n",
    "aux1['%_cardio_1'] = \"\"\n",
    "aux1 = perc(aux1)\n",
    "\n",
    "#result of %\n",
    "aux1 = aux1[(aux1['cardio'] >= 1)]\n",
    "aux1"
   ]
  },
  {
   "cell_type": "code",
   "execution_count": 177,
   "metadata": {
    "ExecuteTime": {
     "end_time": "2021-07-21T01:24:46.984104Z",
     "start_time": "2021-07-21T01:24:46.717618Z"
    },
    "hidden": true
   },
   "outputs": [
    {
     "data": {
      "image/png": "[encoded data removed]",
      "text/plain": [
       "<Figure size 432x576 with 1 Axes>"
      ]
     },
     "metadata": {
      "needs_background": "light"
     },
     "output_type": "display_data"
    }
   ],
   "source": [
    "#histogram people who had CVD per people who have above normal glucose\n",
    "fig_dims = (6, 8)\n",
    "fig, ax = plt.subplots(figsize=fig_dims)\n",
    "\n",
    "graph = sns.barplot(x='gluc', y='%_cardio_1', ax=ax, data=aux1)\n",
    "#graph.axvline(29.5, ymin=0.0, ymax=1.0, linestyle =\"--\", color='blue')\n",
    "graph.axhline(51, xmin=0.0, xmax=1.0, linestyle =\"--\", color='red')\n",
    "plt.title('% People who had CVD per gluc')\n",
    "plt.show()"
   ]
  },
  {
   "cell_type": "markdown",
   "metadata": {
    "hidden": true
   },
   "source": [
    "**11. People who have hypertension have 40% chance of having CVD than who have normal blood pressure**\n",
    "\n",
    "**TRUE** People with hypertension 3 have 54.2% more chance of having a CVD than people with normal blood pressure"
   ]
  },
  {
   "cell_type": "code",
   "execution_count": 178,
   "metadata": {
    "ExecuteTime": {
     "end_time": "2021-07-21T01:24:47.390903Z",
     "start_time": "2021-07-21T01:24:46.986103Z"
    },
    "hidden": true
   },
   "outputs": [
    {
     "data": {
      "image/png": "[encoded data removed]",
      "text/plain": [
       "<Figure size 720x720 with 1 Axes>"
      ]
     },
     "metadata": {
      "needs_background": "light"
     },
     "output_type": "display_data"
    }
   ],
   "source": [
    "#cvd per people who have hypertension\n",
    "aux1 = df4[(df4['cardio'] >= 1)]\n",
    "aux1 = aux1[['blood_pressure', 'cardio']].groupby('blood_pressure').size().reset_index().rename(columns={0:'total_1'})\n",
    "\n",
    "\n",
    "aux2 = df4[(df4['cardio'] <= 0)]\n",
    "aux2 = aux2[['blood_pressure', 'cardio']].groupby('blood_pressure').size().reset_index().rename(columns={0:'total_0'})\n",
    "\n",
    "#histogram\n",
    "fig = plt.figure(figsize=(10,10))\n",
    "\n",
    "ax = fig.add_subplot(111)\n",
    "\n",
    "width = 0.2\n",
    "\n",
    "aux1.plot(x='blood_pressure', y='total_1', kind='bar', color='red', ax=ax, width=width, position=0)\n",
    "aux2.plot(x='blood_pressure', y='total_0', kind='bar', color='blue', ax=ax, width=width, position=1)\n",
    "plt.show()"
   ]
  },
  {
   "cell_type": "code",
   "execution_count": 179,
   "metadata": {
    "ExecuteTime": {
     "end_time": "2021-07-21T01:24:47.421882Z",
     "start_time": "2021-07-21T01:24:47.392898Z"
    },
    "hidden": true
   },
   "outputs": [
    {
     "name": "stderr",
     "output_type": "stream",
     "text": [
      "<ipython-input-109-6e4d339763c6>:30: SettingWithCopyWarning: \n",
      "A value is trying to be set on a copy of a slice from a DataFrame\n",
      "\n",
      "See the caveats in the documentation: https://pandas.pydata.org/pandas-docs/stable/user_guide/indexing.html#returning-a-view-versus-a-copy\n",
      "  x['%_cardio_1'][i] = p\n"
     ]
    },
    {
     "data": {
      "text/html": [
       "<div>\n",
       "<style scoped>\n",
       "    .dataframe tbody tr th:only-of-type {\n",
       "        vertical-align: middle;\n",
       "    }\n",
       "\n",
       "    .dataframe tbody tr th {\n",
       "        vertical-align: top;\n",
       "    }\n",
       "\n",
       "    .dataframe thead th {\n",
       "        text-align: right;\n",
       "    }\n",
       "</style>\n",
       "<table border=\"1\" class=\"dataframe\">\n",
       "  <thead>\n",
       "    <tr style=\"text-align: right;\">\n",
       "      <th></th>\n",
       "      <th>blood_pressure</th>\n",
       "      <th>cardio</th>\n",
       "      <th>total</th>\n",
       "      <th>%_cardio_1</th>\n",
       "    </tr>\n",
       "  </thead>\n",
       "  <tbody>\n",
       "    <tr>\n",
       "      <th>1</th>\n",
       "      <td>0.0</td>\n",
       "      <td>1</td>\n",
       "      <td>2117</td>\n",
       "      <td>22.216392</td>\n",
       "    </tr>\n",
       "    <tr>\n",
       "      <th>3</th>\n",
       "      <td>1.0</td>\n",
       "      <td>1</td>\n",
       "      <td>996</td>\n",
       "      <td>32.285251</td>\n",
       "    </tr>\n",
       "    <tr>\n",
       "      <th>5</th>\n",
       "      <td>2.0</td>\n",
       "      <td>1</td>\n",
       "      <td>17594</td>\n",
       "      <td>44.685444</td>\n",
       "    </tr>\n",
       "    <tr>\n",
       "      <th>7</th>\n",
       "      <td>3.0</td>\n",
       "      <td>1</td>\n",
       "      <td>12598</td>\n",
       "      <td>80.043205</td>\n",
       "    </tr>\n",
       "    <tr>\n",
       "      <th>9</th>\n",
       "      <td>4.0</td>\n",
       "      <td>1</td>\n",
       "      <td>171</td>\n",
       "      <td>76.0</td>\n",
       "    </tr>\n",
       "  </tbody>\n",
       "</table>\n",
       "</div>"
      ],
      "text/plain": [
       "   blood_pressure  cardio  total %_cardio_1\n",
       "1             0.0       1   2117  22.216392\n",
       "3             1.0       1    996  32.285251\n",
       "5             2.0       1  17594  44.685444\n",
       "7             3.0       1  12598  80.043205\n",
       "9             4.0       1    171       76.0"
      ]
     },
     "execution_count": 179,
     "metadata": {},
     "output_type": "execute_result"
    }
   ],
   "source": [
    "#calculate % people with CVD per people who have hypertension\n",
    "aux1 = df4[['blood_pressure', 'cardio']].groupby(['blood_pressure','cardio']).size().reset_index().rename(columns={0:'total'})\n",
    "aux1['%_cardio_1'] = \"\"\n",
    "aux1 = perc(aux1)\n",
    "\n",
    "#result of %\n",
    "aux1 = aux1[(aux1['cardio'] >= 1)]\n",
    "aux1"
   ]
  },
  {
   "cell_type": "code",
   "execution_count": 180,
   "metadata": {
    "ExecuteTime": {
     "end_time": "2021-07-21T01:24:47.786179Z",
     "start_time": "2021-07-21T01:24:47.423882Z"
    },
    "hidden": true
   },
   "outputs": [
    {
     "data": {
      "image/png": "[encoded data removed]",
      "text/plain": [
       "<Figure size 720x576 with 1 Axes>"
      ]
     },
     "metadata": {
      "needs_background": "light"
     },
     "output_type": "display_data"
    }
   ],
   "source": [
    "#histogram people who had CVD per people who have hypertension\n",
    "fig_dims = (10, 8)\n",
    "fig, ax = plt.subplots(figsize=fig_dims)\n",
    "\n",
    "graph = sns.barplot(x='blood_pressure', y='%_cardio_1', ax=ax, data=aux1)\n",
    "#graph.axvline(29.5, ymin=0.0, ymax=1.0, linestyle =\"--\", color='blue')\n",
    "graph.axhline(51, xmin=0.0, xmax=1.0, linestyle =\"--\", color='red')\n",
    "plt.title('% People who had CVD per blood_pressure')\n",
    "plt.show()"
   ]
  },
  {
   "cell_type": "markdown",
   "metadata": {},
   "source": [
    "## 4.3. Multivariate Analysis"
   ]
  },
  {
   "cell_type": "code",
   "execution_count": 181,
   "metadata": {
    "ExecuteTime": {
     "end_time": "2021-07-21T01:24:49.610919Z",
     "start_time": "2021-07-21T01:24:47.788175Z"
    }
   },
   "outputs": [
    {
     "data": {
      "image/png": "[encoded data removed]",
      "text/plain": [
       "<Figure size 1080x504 with 2 Axes>"
      ]
     },
     "metadata": {},
     "output_type": "display_data"
    }
   ],
   "source": [
    "correlations = df4.corr(method='pearson')\n",
    "mask = np.zeros_like(correlations)\n",
    "mask[np.triu_indices_from(mask)] = True\n",
    "#fig_dims = (15, 7)\n",
    "#fig, ax = plt.subplots(figsize=fig_dims)\n",
    "#sns.heatmap(correlations,ax=ax, annot=True);\n",
    "\n",
    "with sns.axes_style(\"white\"):\n",
    "    f, ax = plt.subplots(figsize=(15, 7))\n",
    "    ax = sns.heatmap(correlations, mask=mask, vmax=.3, annot=True)"
   ]
  },
  {
   "cell_type": "markdown",
   "metadata": {
    "heading_collapsed": true
   },
   "source": [
    "# 5.0. Data Preparation"
   ]
  },
  {
   "cell_type": "code",
   "execution_count": 182,
   "metadata": {
    "ExecuteTime": {
     "end_time": "2021-07-21T01:24:49.626909Z",
     "start_time": "2021-07-21T01:24:49.612916Z"
    },
    "hidden": true
   },
   "outputs": [],
   "source": [
    "df5 = df4.copy()"
   ]
  },
  {
   "cell_type": "markdown",
   "metadata": {
    "heading_collapsed": true,
    "hidden": true
   },
   "source": [
    "## 5.1. Normalization"
   ]
  },
  {
   "cell_type": "code",
   "execution_count": 183,
   "metadata": {
    "ExecuteTime": {
     "end_time": "2021-07-21T01:24:49.860634Z",
     "start_time": "2021-07-21T01:24:49.628907Z"
    },
    "hidden": true
   },
   "outputs": [
    {
     "data": {
      "text/html": [
       "<div>\n",
       "<style scoped>\n",
       "    .dataframe tbody tr th:only-of-type {\n",
       "        vertical-align: middle;\n",
       "    }\n",
       "\n",
       "    .dataframe tbody tr th {\n",
       "        vertical-align: top;\n",
       "    }\n",
       "\n",
       "    .dataframe thead th {\n",
       "        text-align: right;\n",
       "    }\n",
       "</style>\n",
       "<table border=\"1\" class=\"dataframe\">\n",
       "  <thead>\n",
       "    <tr style=\"text-align: right;\">\n",
       "      <th></th>\n",
       "      <th>id</th>\n",
       "      <th>age</th>\n",
       "      <th>gender</th>\n",
       "      <th>height</th>\n",
       "      <th>weight</th>\n",
       "      <th>ap_hi</th>\n",
       "      <th>ap_lo</th>\n",
       "      <th>cholesterol</th>\n",
       "      <th>gluc</th>\n",
       "      <th>smoke</th>\n",
       "      <th>alco</th>\n",
       "      <th>active</th>\n",
       "      <th>cardio</th>\n",
       "      <th>bmi</th>\n",
       "      <th>blood_pressure</th>\n",
       "    </tr>\n",
       "  </thead>\n",
       "  <tbody>\n",
       "    <tr>\n",
       "      <th>0</th>\n",
       "      <td>0</td>\n",
       "      <td>0.600000</td>\n",
       "      <td>2</td>\n",
       "      <td>0.583333</td>\n",
       "      <td>0.352941</td>\n",
       "      <td>0.471869</td>\n",
       "      <td>0.223214</td>\n",
       "      <td>1</td>\n",
       "      <td>1</td>\n",
       "      <td>0</td>\n",
       "      <td>0</td>\n",
       "      <td>1</td>\n",
       "      <td>0</td>\n",
       "      <td>0.272727</td>\n",
       "      <td>2.0</td>\n",
       "    </tr>\n",
       "    <tr>\n",
       "      <th>1</th>\n",
       "      <td>1</td>\n",
       "      <td>0.742857</td>\n",
       "      <td>1</td>\n",
       "      <td>0.333333</td>\n",
       "      <td>0.623529</td>\n",
       "      <td>0.526316</td>\n",
       "      <td>0.238095</td>\n",
       "      <td>3</td>\n",
       "      <td>1</td>\n",
       "      <td>0</td>\n",
       "      <td>0</td>\n",
       "      <td>1</td>\n",
       "      <td>1</td>\n",
       "      <td>0.666667</td>\n",
       "      <td>3.0</td>\n",
       "    </tr>\n",
       "    <tr>\n",
       "      <th>2</th>\n",
       "      <td>2</td>\n",
       "      <td>0.628571</td>\n",
       "      <td>1</td>\n",
       "      <td>0.520833</td>\n",
       "      <td>0.376471</td>\n",
       "      <td>0.508167</td>\n",
       "      <td>0.208333</td>\n",
       "      <td>3</td>\n",
       "      <td>1</td>\n",
       "      <td>0</td>\n",
       "      <td>0</td>\n",
       "      <td>0</td>\n",
       "      <td>1</td>\n",
       "      <td>0.333333</td>\n",
       "      <td>2.0</td>\n",
       "    </tr>\n",
       "    <tr>\n",
       "      <th>3</th>\n",
       "      <td>3</td>\n",
       "      <td>0.542857</td>\n",
       "      <td>2</td>\n",
       "      <td>0.604167</td>\n",
       "      <td>0.588235</td>\n",
       "      <td>0.544465</td>\n",
       "      <td>0.252976</td>\n",
       "      <td>1</td>\n",
       "      <td>1</td>\n",
       "      <td>0</td>\n",
       "      <td>0</td>\n",
       "      <td>1</td>\n",
       "      <td>1</td>\n",
       "      <td>0.484848</td>\n",
       "      <td>3.0</td>\n",
       "    </tr>\n",
       "    <tr>\n",
       "      <th>4</th>\n",
       "      <td>4</td>\n",
       "      <td>0.514286</td>\n",
       "      <td>1</td>\n",
       "      <td>0.333333</td>\n",
       "      <td>0.282353</td>\n",
       "      <td>0.453721</td>\n",
       "      <td>0.193452</td>\n",
       "      <td>1</td>\n",
       "      <td>1</td>\n",
       "      <td>0</td>\n",
       "      <td>0</td>\n",
       "      <td>0</td>\n",
       "      <td>0</td>\n",
       "      <td>0.333333</td>\n",
       "      <td>0.0</td>\n",
       "    </tr>\n",
       "    <tr>\n",
       "      <th>...</th>\n",
       "      <td>...</td>\n",
       "      <td>...</td>\n",
       "      <td>...</td>\n",
       "      <td>...</td>\n",
       "      <td>...</td>\n",
       "      <td>...</td>\n",
       "      <td>...</td>\n",
       "      <td>...</td>\n",
       "      <td>...</td>\n",
       "      <td>...</td>\n",
       "      <td>...</td>\n",
       "      <td>...</td>\n",
       "      <td>...</td>\n",
       "      <td>...</td>\n",
       "      <td>...</td>\n",
       "    </tr>\n",
       "    <tr>\n",
       "      <th>69994</th>\n",
       "      <td>99992</td>\n",
       "      <td>0.800000</td>\n",
       "      <td>1</td>\n",
       "      <td>0.520833</td>\n",
       "      <td>0.564706</td>\n",
       "      <td>0.544465</td>\n",
       "      <td>0.223214</td>\n",
       "      <td>1</td>\n",
       "      <td>1</td>\n",
       "      <td>0</td>\n",
       "      <td>0</td>\n",
       "      <td>1</td>\n",
       "      <td>1</td>\n",
       "      <td>0.515152</td>\n",
       "      <td>2.0</td>\n",
       "    </tr>\n",
       "    <tr>\n",
       "      <th>69995</th>\n",
       "      <td>99993</td>\n",
       "      <td>0.657143</td>\n",
       "      <td>2</td>\n",
       "      <td>0.583333</td>\n",
       "      <td>0.517647</td>\n",
       "      <td>0.490018</td>\n",
       "      <td>0.223214</td>\n",
       "      <td>1</td>\n",
       "      <td>1</td>\n",
       "      <td>1</td>\n",
       "      <td>0</td>\n",
       "      <td>1</td>\n",
       "      <td>0</td>\n",
       "      <td>0.424242</td>\n",
       "      <td>2.0</td>\n",
       "    </tr>\n",
       "    <tr>\n",
       "      <th>69997</th>\n",
       "      <td>99996</td>\n",
       "      <td>0.657143</td>\n",
       "      <td>2</td>\n",
       "      <td>0.895833</td>\n",
       "      <td>0.858824</td>\n",
       "      <td>0.598911</td>\n",
       "      <td>0.238095</td>\n",
       "      <td>3</td>\n",
       "      <td>1</td>\n",
       "      <td>0</td>\n",
       "      <td>1</td>\n",
       "      <td>0</td>\n",
       "      <td>1</td>\n",
       "      <td>0.575758</td>\n",
       "      <td>3.0</td>\n",
       "    </tr>\n",
       "    <tr>\n",
       "      <th>69998</th>\n",
       "      <td>99998</td>\n",
       "      <td>0.914286</td>\n",
       "      <td>1</td>\n",
       "      <td>0.479167</td>\n",
       "      <td>0.470588</td>\n",
       "      <td>0.517241</td>\n",
       "      <td>0.223214</td>\n",
       "      <td>1</td>\n",
       "      <td>2</td>\n",
       "      <td>0</td>\n",
       "      <td>0</td>\n",
       "      <td>0</td>\n",
       "      <td>1</td>\n",
       "      <td>0.454545</td>\n",
       "      <td>2.0</td>\n",
       "    </tr>\n",
       "    <tr>\n",
       "      <th>69999</th>\n",
       "      <td>99999</td>\n",
       "      <td>0.771429</td>\n",
       "      <td>1</td>\n",
       "      <td>0.625000</td>\n",
       "      <td>0.470588</td>\n",
       "      <td>0.490018</td>\n",
       "      <td>0.223214</td>\n",
       "      <td>2</td>\n",
       "      <td>1</td>\n",
       "      <td>0</td>\n",
       "      <td>0</td>\n",
       "      <td>1</td>\n",
       "      <td>0</td>\n",
       "      <td>0.363636</td>\n",
       "      <td>2.0</td>\n",
       "    </tr>\n",
       "  </tbody>\n",
       "</table>\n",
       "<p>67958 rows × 15 columns</p>\n",
       "</div>"
      ],
      "text/plain": [
       "          id       age  gender    height    weight     ap_hi     ap_lo  \\\n",
       "0          0  0.600000       2  0.583333  0.352941  0.471869  0.223214   \n",
       "1          1  0.742857       1  0.333333  0.623529  0.526316  0.238095   \n",
       "2          2  0.628571       1  0.520833  0.376471  0.508167  0.208333   \n",
       "3          3  0.542857       2  0.604167  0.588235  0.544465  0.252976   \n",
       "4          4  0.514286       1  0.333333  0.282353  0.453721  0.193452   \n",
       "...      ...       ...     ...       ...       ...       ...       ...   \n",
       "69994  99992  0.800000       1  0.520833  0.564706  0.544465  0.223214   \n",
       "69995  99993  0.657143       2  0.583333  0.517647  0.490018  0.223214   \n",
       "69997  99996  0.657143       2  0.895833  0.858824  0.598911  0.238095   \n",
       "69998  99998  0.914286       1  0.479167  0.470588  0.517241  0.223214   \n",
       "69999  99999  0.771429       1  0.625000  0.470588  0.490018  0.223214   \n",
       "\n",
       "       cholesterol  gluc  smoke  alco  active  cardio       bmi  \\\n",
       "0                1     1      0     0       1       0  0.272727   \n",
       "1                3     1      0     0       1       1  0.666667   \n",
       "2                3     1      0     0       0       1  0.333333   \n",
       "3                1     1      0     0       1       1  0.484848   \n",
       "4                1     1      0     0       0       0  0.333333   \n",
       "...            ...   ...    ...   ...     ...     ...       ...   \n",
       "69994            1     1      0     0       1       1  0.515152   \n",
       "69995            1     1      1     0       1       0  0.424242   \n",
       "69997            3     1      0     1       0       1  0.575758   \n",
       "69998            1     2      0     0       0       1  0.454545   \n",
       "69999            2     1      0     0       1       0  0.363636   \n",
       "\n",
       "       blood_pressure  \n",
       "0                 2.0  \n",
       "1                 3.0  \n",
       "2                 2.0  \n",
       "3                 3.0  \n",
       "4                 0.0  \n",
       "...               ...  \n",
       "69994             2.0  \n",
       "69995             2.0  \n",
       "69997             3.0  \n",
       "69998             2.0  \n",
       "69999             2.0  \n",
       "\n",
       "[67958 rows x 15 columns]"
      ]
     },
     "execution_count": 183,
     "metadata": {},
     "output_type": "execute_result"
    }
   ],
   "source": [
    "# define min max scaler\n",
    "scaler_mm = MinMaxScaler()\n",
    "scaler_std = StandardScaler()\n",
    "\n",
    "# transform weight - STD\n",
    "df5['weight'] = scaler_mm.fit_transform(df5[['weight']].values)\n",
    "\n",
    "# transform height - STD\n",
    "df5['height'] = scaler_mm.fit_transform(df5[['height']].values)\n",
    "\n",
    "# transform age - MM\n",
    "df5['age'] = scaler_mm.fit_transform(df5[['age']].values)\n",
    "\n",
    "# transform bmi - MM\n",
    "df5['bmi'] = scaler_mm.fit_transform(df5[['bmi']].values)\n",
    "\n",
    "# transform ap_hi - MM\n",
    "df5['ap_hi'] = scaler_mm.fit_transform(df5[['ap_hi']].values)\n",
    "\n",
    "# transform ap_lo - MM\n",
    "df5['ap_lo'] = scaler_mm.fit_transform(df5[['ap_lo']].values)\n",
    "\n",
    "df5"
   ]
  },
  {
   "cell_type": "markdown",
   "metadata": {},
   "source": [
    "# 6.0. Feature Selection"
   ]
  },
  {
   "cell_type": "code",
   "execution_count": 202,
   "metadata": {
    "ExecuteTime": {
     "end_time": "2021-07-21T01:35:04.551335Z",
     "start_time": "2021-07-21T01:35:04.530346Z"
    }
   },
   "outputs": [],
   "source": [
    "df6 = df5.copy()"
   ]
  },
  {
   "cell_type": "code",
   "execution_count": 204,
   "metadata": {
    "ExecuteTime": {
     "end_time": "2021-07-21T01:35:19.876162Z",
     "start_time": "2021-07-21T01:35:19.853176Z"
    }
   },
   "outputs": [],
   "source": [
    "#drop id, ap_hi, ap_lo\n",
    "df6 = df6.drop(['id','blood_pressure'], axis=1)\n",
    "\n",
    "\n",
    "X = df6.drop(['cardio'], axis=1)\n",
    "y = df6['cardio'].copy()"
   ]
  },
  {
   "cell_type": "code",
   "execution_count": 205,
   "metadata": {
    "ExecuteTime": {
     "end_time": "2021-07-21T01:35:21.438167Z",
     "start_time": "2021-07-21T01:35:21.398189Z"
    }
   },
   "outputs": [],
   "source": [
    "#split dataset into train and test\n",
    "x, x_test, y, y_test = ms.train_test_split(X, y, test_size=0.2, random_state=32)\n",
    "x_train, x_val, y_train, y_val = ms.train_test_split( x, y, test_size=0.2 )"
   ]
  },
  {
   "cell_type": "markdown",
   "metadata": {},
   "source": [
    "## 6.1. Boruta as feature selector"
   ]
  },
  {
   "cell_type": "code",
   "execution_count": 206,
   "metadata": {
    "ExecuteTime": {
     "end_time": "2021-07-21T01:35:22.804950Z",
     "start_time": "2021-07-21T01:35:22.793076Z"
    }
   },
   "outputs": [],
   "source": [
    "#training and test dataset for Boruta\n",
    "#x_train_n = x_train.values\n",
    "#y_train_n = y_train.values.ravel()\n",
    "\n",
    "#define RandomForestRegressor\n",
    "#rf = RandomForestRegressor(n_jobs=-1)\n",
    "\n",
    "#define Boruta\n",
    "#boruta = BorutaPy(rf, n_estimators='auto',verbose=2,random_state=42).fit(x_train_n,y_train_n)"
   ]
  },
  {
   "cell_type": "markdown",
   "metadata": {
    "heading_collapsed": true
   },
   "source": [
    "## 6.1.1 Best feature from Boruta"
   ]
  },
  {
   "cell_type": "code",
   "execution_count": 188,
   "metadata": {
    "ExecuteTime": {
     "end_time": "2021-07-21T01:24:50.546423Z",
     "start_time": "2021-07-21T01:24:50.436491Z"
    },
    "hidden": true
   },
   "outputs": [],
   "source": [
    "#cols_selected = boruta.support_.tolist()\n",
    "\n",
    "#best feature\n",
    "#x_train_fs = x_train\n",
    "#cols_selected_boruta = x_train_fs.iloc[:,cols_selected].columns.to_list()\n",
    "#cols_selected_boruta\n",
    "\n",
    "#not selected from Boruta\n",
    "#cols_not_selected_boruta = list(np.setdiff1d(x_train_fs.columns,cols_selected_boruta))\n",
    "#cols_not_selected_boruta"
   ]
  },
  {
   "cell_type": "markdown",
   "metadata": {},
   "source": [
    "# 7.0. Machine Learning Modeling"
   ]
  },
  {
   "cell_type": "markdown",
   "metadata": {},
   "source": [
    "## 7.1. Linear Regression Model"
   ]
  },
  {
   "cell_type": "code",
   "execution_count": 207,
   "metadata": {
    "ExecuteTime": {
     "end_time": "2021-07-21T01:35:26.800539Z",
     "start_time": "2021-07-21T01:35:25.454151Z"
    }
   },
   "outputs": [
    {
     "data": {
      "text/html": [
       "<div>\n",
       "<style scoped>\n",
       "    .dataframe tbody tr th:only-of-type {\n",
       "        vertical-align: middle;\n",
       "    }\n",
       "\n",
       "    .dataframe tbody tr th {\n",
       "        vertical-align: top;\n",
       "    }\n",
       "\n",
       "    .dataframe thead th {\n",
       "        text-align: right;\n",
       "    }\n",
       "</style>\n",
       "<table border=\"1\" class=\"dataframe\">\n",
       "  <thead>\n",
       "    <tr style=\"text-align: right;\">\n",
       "      <th></th>\n",
       "      <th>Model Name</th>\n",
       "      <th>MAE</th>\n",
       "      <th>MAPE</th>\n",
       "      <th>RMSE</th>\n",
       "    </tr>\n",
       "  </thead>\n",
       "  <tbody>\n",
       "    <tr>\n",
       "      <th>0</th>\n",
       "      <td>Linear Regression</td>\n",
       "      <td>0.685494</td>\n",
       "      <td>inf</td>\n",
       "      <td>0.785659</td>\n",
       "    </tr>\n",
       "  </tbody>\n",
       "</table>\n",
       "</div>"
      ],
      "text/plain": [
       "          Model Name       MAE  MAPE      RMSE\n",
       "0  Linear Regression  0.685494   inf  0.785659"
      ]
     },
     "execution_count": 207,
     "metadata": {},
     "output_type": "execute_result"
    }
   ],
   "source": [
    "#model\n",
    "lr = LinearRegression().fit(x_train,y_train)\n",
    "\n",
    "#prediction\n",
    "yhat_lr = lr.predict(x_test)\n",
    "\n",
    "#performance\n",
    "lr_result = ml_error('Linear Regression', np.expm1(y_test), np.expm1(yhat_lr))\n",
    "lr_result"
   ]
  },
  {
   "cell_type": "markdown",
   "metadata": {},
   "source": [
    "## 6.2. Linear Regression Regularized Model - Lasso"
   ]
  },
  {
   "cell_type": "code",
   "execution_count": null,
   "metadata": {
    "ExecuteTime": {
     "end_time": "2021-07-21T01:24:50.674788Z",
     "start_time": "2021-07-21T01:24:07.019Z"
    }
   },
   "outputs": [],
   "source": [
    "#model\n",
    "lrr = Lasso(alpha = 0.2).fit(x_train,y_train)\n",
    "\n",
    "#prediction\n",
    "yhat_lrr = lrr.predict(x_test)\n",
    "\n",
    "#performance\n",
    "lrr_result = ml_error('Linear Regression Regularized', np.expm1(y_test), np.expm1(yhat_lrr))\n",
    "lrr_result"
   ]
  },
  {
   "cell_type": "markdown",
   "metadata": {},
   "source": [
    "## 6.3. Random Forest Regressor"
   ]
  },
  {
   "cell_type": "code",
   "execution_count": null,
   "metadata": {
    "ExecuteTime": {
     "end_time": "2021-07-21T01:24:50.676787Z",
     "start_time": "2021-07-21T01:24:07.023Z"
    }
   },
   "outputs": [],
   "source": [
    "#model\n",
    "rf = RandomForestRegressor(n_estimators=100, n_jobs=-1, random_state=42).fit(x_train,y_train)\n",
    "\n",
    "#prediction\n",
    "yhat_rf = rf.predict(x_test)\n",
    "\n",
    "#performance\n",
    "rf_result = ml_error('Random Forest Regressor', np.expm1(y_test), np.expm1(yhat_rf))\n",
    "rf_result"
   ]
  },
  {
   "cell_type": "markdown",
   "metadata": {},
   "source": [
    "## 6.4. XGBoost"
   ]
  },
  {
   "cell_type": "code",
   "execution_count": null,
   "metadata": {
    "ExecuteTime": {
     "end_time": "2021-07-21T01:24:50.678784Z",
     "start_time": "2021-07-21T01:24:07.026Z"
    }
   },
   "outputs": [],
   "source": [
    "#model\n",
    "model_xgb = xgb.XGBRegressor(objective = 'reg:squarederror',\n",
    "                            n_estimators=100,\n",
    "                            eta=0.01,\n",
    "                            max_depth=10,\n",
    "                            subsample=0.7,\n",
    "                            colsample_bytee=0.9).fit(x_train,y_train)\n",
    "\n",
    "#prediction\n",
    "yhat_xgb = model_xgb.predict(x_test)\n",
    "\n",
    "#performance\n",
    "xgb_result = ml_error('XGBoost Regressor', np.expm1(y_test), np.expm1(yhat_xgb))\n",
    "xgb_result"
   ]
  },
  {
   "cell_type": "markdown",
   "metadata": {
    "ExecuteTime": {
     "end_time": "2021-06-26T22:02:50.298406Z",
     "start_time": "2021-06-26T22:02:50.227453Z"
    }
   },
   "source": [
    "## 6.5. Neural Network - MLP"
   ]
  },
  {
   "cell_type": "code",
   "execution_count": null,
   "metadata": {
    "ExecuteTime": {
     "end_time": "2021-07-21T01:24:50.679783Z",
     "start_time": "2021-07-21T01:24:07.029Z"
    }
   },
   "outputs": [],
   "source": [
    "x_val.shape"
   ]
  },
  {
   "cell_type": "code",
   "execution_count": null,
   "metadata": {
    "ExecuteTime": {
     "end_time": "2021-07-21T01:24:50.681782Z",
     "start_time": "2021-07-21T01:24:07.032Z"
    }
   },
   "outputs": [],
   "source": [
    "#model definition\n",
    "model = ml.Sequential()\n",
    "model.add(l.Dense(11, input_dim=x_train.shape[1], activation='relu'))\n",
    "model.add(l.Dense(1, activation='softmax'))\n",
    "\n",
    "#model compile\n",
    "model.compile(loss='categorical_crossentropy', optimizer='adam', metrics=['accuracy'])\n",
    "\n",
    "#train model\n",
    "es = EarlyStopping(monitor='val_loss', patience=10)\n",
    "history = model.fit(x_train, y_train, validation_data=(x_val, y_val), epochs=10000, callbacks=[es], verbose=1)"
   ]
  },
  {
   "cell_type": "code",
   "execution_count": null,
   "metadata": {
    "ExecuteTime": {
     "end_time": "2021-07-21T01:24:50.683781Z",
     "start_time": "2021-07-21T01:24:07.035Z"
    }
   },
   "outputs": [],
   "source": [
    "##model evaluate\n",
    "_, train_acc = model.evaluate(x_train, y_train, verbose=0)\n",
    "_, val_acc = model.evaluate(x_val, y_val, verbose=0)\n",
    "\n",
    "print('Train ACC:{} - Val ACC:{}'.format(train_acc, val_acc ))"
   ]
  },
  {
   "cell_type": "code",
   "execution_count": null,
   "metadata": {
    "ExecuteTime": {
     "end_time": "2021-07-21T01:24:50.685780Z",
     "start_time": "2021-07-21T01:24:07.037Z"
    }
   },
   "outputs": [],
   "source": [
    "#define the number of eigenvectors (autovetor) + eigenvalues (autovalores)\n",
    "pca = d.PCA().fit(x_train)\n",
    "k = np.argmax(np.cumsum(pca.explained_variance_ratio_) > 0.99)\n",
    "\n",
    "#change data to new space\n",
    "pca = d.PCA(k).fit(x_train)\n",
    "\n",
    "x_train = pca.transform(x_train)\n",
    "x_val = pca.transform(x_val)"
   ]
  },
  {
   "cell_type": "code",
   "execution_count": null,
   "metadata": {
    "ExecuteTime": {
     "end_time": "2021-07-21T01:24:50.686779Z",
     "start_time": "2021-07-21T01:24:07.041Z"
    }
   },
   "outputs": [],
   "source": [
    "#ohe = pp.OneHotEncoder()\n",
    "#y_train = ohe.fit_transform(y_train.values.reshape(-1, 1)).toarray()\n",
    "#y_val = ohe.transform(y_val.values.reshape(-1, 1)).toarray()"
   ]
  },
  {
   "cell_type": "code",
   "execution_count": null,
   "metadata": {
    "ExecuteTime": {
     "end_time": "2021-07-21T01:24:50.688778Z",
     "start_time": "2021-07-21T01:24:07.043Z"
    }
   },
   "outputs": [],
   "source": [
    "#model definition\n",
    "model = ml.Sequential()\n",
    "model.add(l.Dense(11, input_dim=x_train.shape[1], activation='relu'))\n",
    "model.add(l.Dense(1, activation='softmax'))\n",
    "\n",
    "#model compile\n",
    "model.compile(loss='categorical_crossentropy', optimizer='adam', metrics=['accuracy'])\n",
    "\n",
    "#train model\n",
    "es = EarlyStopping(monitor='val_loss', patience=10)\n",
    "history = model.fit(x_train, y_train, validation_data=(x_val, y_val), epochs=100, callbacks=[es], verbose=0)"
   ]
  },
  {
   "cell_type": "code",
   "execution_count": null,
   "metadata": {
    "ExecuteTime": {
     "end_time": "2021-07-21T01:24:50.689777Z",
     "start_time": "2021-07-21T01:24:07.046Z"
    }
   },
   "outputs": [],
   "source": [
    "##model evaluate\n",
    "_, train_acc = model.evaluate(x_train, y_train, verbose=0)\n",
    "_, val_acc = model.evaluate(x_val, y_val, verbose=0)\n",
    "\n",
    "print('Train ACC:{} - Val ACC:{}'.format(train_acc, val_acc ))"
   ]
  },
  {
   "cell_type": "code",
   "execution_count": null,
   "metadata": {},
   "outputs": [],
   "source": []
  }
 ],
 "metadata": {
  "kernelspec": {
   "display_name": "Python 3",
   "language": "python",
   "name": "python3"
  },
  "language_info": {
   "codemirror_mode": {
    "name": "ipython",
    "version": 3
   },
   "file_extension": ".py",
   "mimetype": "text/x-python",
   "name": "python",
   "nbconvert_exporter": "python",
   "pygments_lexer": "ipython3",
   "version": "3.8.5"
  }
 },
 "nbformat": 4,
 "nbformat_minor": 4
}
