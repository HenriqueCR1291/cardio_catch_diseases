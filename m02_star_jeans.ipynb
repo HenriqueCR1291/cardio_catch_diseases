{
 "cells": [
  {
   "cell_type": "code",
   "execution_count": 1,
   "metadata": {
    "ExecuteTime": {
     "end_time": "2021-09-21T22:19:38.847783Z",
     "start_time": "2021-09-21T22:19:38.831792Z"
    }
   },
   "outputs": [],
   "source": [
    "#!pip install beautifulsoup4\n",
    "#!pip install sqlite3\n",
    "#!pip install sqlalchemy"
   ]
  },
  {
   "cell_type": "markdown",
   "metadata": {},
   "source": [
    "# Imports"
   ]
  },
  {
   "cell_type": "code",
   "execution_count": 2,
   "metadata": {
    "ExecuteTime": {
     "end_time": "2021-09-21T22:19:58.408349Z",
     "start_time": "2021-09-21T22:19:38.850782Z"
    }
   },
   "outputs": [],
   "source": [
    "import requests\n",
    "from bs4 import BeautifulSoup\n",
    "from datetime import datetime\n",
    "import pandas as pd\n",
    "import numpy as np\n",
    "import re\n",
    "import sqlite3\n",
    "from sqlalchemy import create_engine"
   ]
  },
  {
   "cell_type": "markdown",
   "metadata": {},
   "source": [
    "# Collect Data"
   ]
  },
  {
   "cell_type": "code",
   "execution_count": 3,
   "metadata": {
    "ExecuteTime": {
     "end_time": "2021-09-21T22:19:59.375675Z",
     "start_time": "2021-09-21T22:19:58.412345Z"
    }
   },
   "outputs": [],
   "source": [
    "#parameters\n",
    "headers = {'User-Agent': 'Mozilla/5.0 (Windows NT 10.0; Win64; x64) AppleWebKit/537.36 (KHTML, like Gecko) Chrome/80.0.3987.149 Safari/537.36'}\n",
    "\n",
    "#URL\n",
    "url = 'https://www2.hm.com/en_us/men/products/jeans.html'\n",
    "\n",
    "#Request to URL\n",
    "page = requests.get (url, headers=headers)\n",
    "\n",
    "#Beautiful soup object\n",
    "soup = BeautifulSoup (page.text, 'html.parser')\n",
    "\n",
    "#produts data\n",
    "products = soup.find ('ul', class_= 'products-listing small')\n",
    "products_list = products.find_all ('article', class_ = 'hm-product-item')\n",
    "\n",
    "#product id\n",
    "products_id = [p.get('data-articlecode') for p in products_list]\n",
    "\n",
    "#product category\n",
    "products_category = [p.get('data-category') for p in products_list]\n",
    "\n",
    "#products name\n",
    "products_list = products.find_all ('a', class_ = 'link')\n",
    "products_name = [p.get_text() for p in products_list]\n",
    "\n",
    "#product price\n",
    "products_list = products.find_all ('span', class_ = 'price regular')\n",
    "products_price = [p.get_text() for p in products_list]\n",
    "\n",
    "#dataframe\n",
    "data = pd.DataFrame([products_id, products_category, products_name, products_price]).T\n",
    "data.columns = ['product_id', 'product_category', 'product_name', 'product_price']\n",
    "\n",
    "#scrapy datetime\n",
    "data['scrapy_datetime'] = datetime.now().strftime('%Y-%m-%d %H: %M: %S')"
   ]
  },
  {
   "cell_type": "markdown",
   "metadata": {
    "ExecuteTime": {
     "end_time": "2021-09-17T00:07:43.708786Z",
     "start_time": "2021-09-17T00:07:43.554833Z"
    }
   },
   "source": [
    "# Data Collect by product"
   ]
  },
  {
   "cell_type": "code",
   "execution_count": 4,
   "metadata": {
    "ExecuteTime": {
     "end_time": "2021-09-21T22:24:00.214672Z",
     "start_time": "2021-09-21T22:19:59.377679Z"
    },
    "code_folding": []
   },
   "outputs": [],
   "source": [
    "#headers = {'User-Agent': 'Mozilla/5.0 (Windows NT 10.0; Win64; x64) AppleWebKit/537.36 (KHTML, like Gecko) Chrome/80.0.3987.149 Safari/537.36'}\n",
    "\n",
    "#empty dataframe\n",
    "df_compositions = pd.DataFrame()\n",
    "\n",
    "#unique features\n",
    "aux = []\n",
    "\n",
    "df_pattern = pd.DataFrame(columns=['Art. No.', 'Composition', 'Fit', 'Product safety', 'Size', 'More sustainable materials'])\n",
    "\n",
    "for i in range(len(data)):\n",
    "    #API request\n",
    "    url = 'https://www2.hm.com/en_us/productpage.' + data.loc[i, 'product_id'] + '.html'\n",
    "    \n",
    "    page = requests.get (url, headers=headers)\n",
    "    \n",
    "    #beautiful soup object\n",
    "    soup = BeautifulSoup (page.text, 'html.parser')\n",
    "    \n",
    "    #color product-----------------------------------------------------------------------------------\n",
    "    product_list = soup.find_all('a', class_='filter-option miniature active') + soup.find_all('a', class_='filter-option miniature')\n",
    "    product_color = [p.get('data-color') for p in product_list]\n",
    "    \n",
    "    #product id\n",
    "    product_id = [p.get('data-articlecode') for p in product_list]\n",
    "    \n",
    "    df_color = pd.DataFrame([product_id, product_color]).T\n",
    "    df_color.columns = ['product_id', 'product_color']\n",
    "    \n",
    "    for j in range(len(df_color)):\n",
    "        #API request\n",
    "        url = 'https://www2.hm.com/en_us/productpage.' + df_color.loc[j, 'product_id'] + '.html'\n",
    "    \n",
    "        page = requests.get (url, headers=headers)\n",
    "    \n",
    "        #beautiful soup object\n",
    "        soup = BeautifulSoup (page.text, 'html.parser')\n",
    "        \n",
    "        #product name\n",
    "        product_name = soup.find_all('h1', class_ = 'primary product-item-headline')\n",
    "        product_name = product_name[0].get_text()\n",
    "        \n",
    "        #product price\n",
    "        product_price = soup.find_all('div', class_ = 'primary-row product-item-price')\n",
    "        product_price = re.findall(r'\\d+\\.?\\d+', product_price[0].get_text())[0]\n",
    "\n",
    "        #composition--------------------------------------------------------------------------\n",
    "        product_composition_list = soup.find_all ('div', class_='pdp-description-list-item')\n",
    "        product_composition = [list(filter(None, p.get_text().split('\\n'))) for p in product_composition_list]\n",
    "\n",
    "        #rename df\n",
    "        df_composition = pd.DataFrame(product_composition).T\n",
    "        df_composition.columns = df_composition.iloc[0]\n",
    "\n",
    "        #delete first row\n",
    "        df_composition = df_composition.iloc[1:].fillna(method='ffill')\n",
    "\n",
    "        #remove pocket lining, lining, shell\n",
    "        df_composition['Composition'] = df_composition['Composition'].str.replace('Pocket lining: ', '', regex=True)\n",
    "        df_composition['Composition'] = df_composition['Composition'].str.replace('Lining: ', '', regex=True)\n",
    "        df_composition['Composition'] = df_composition['Composition'].str.replace('Shell: ', '', regex=True)\n",
    "\n",
    "        #garantee same size of attributes\n",
    "        df_composition = pd.concat([df_pattern, df_composition], axis=0)\n",
    "        \n",
    "        #rename columns\n",
    "        df_composition.columns = ['product_id', 'composition', 'fit', 'product_safety', 'size', 'sustainable_materials']\n",
    "        df_compositions['product_name'] = product_name\n",
    "        df_compositions['product_price'] = product_price\n",
    "        \n",
    "        #kepp new column if it shows up\n",
    "        aux = aux + df_composition.columns.tolist()\n",
    "\n",
    "        #merge data color + decomposition\n",
    "        df_composition = pd.merge(df_composition, df_color,  how='left', on='product_id')\n",
    "\n",
    "        #all products\n",
    "        df_compositions = pd.concat([df_compositions, df_composition], axis=0)\n",
    "\n",
    "        \n",
    "#join showroom data + analysis\n",
    "df_compositions['style_id'] = df_compositions['product_id'].apply(lambda x: x[:-3])\n",
    "df_compositions['color_id'] = df_compositions['product_id'].apply(lambda x: x[-3:])\n",
    "\n",
    "#scrapy datetime\n",
    "df_compositions['scrapy_datetime'] = datetime.now().strftime('%Y-%m-%d %H: %M: %S')"
   ]
  },
  {
   "cell_type": "markdown",
   "metadata": {},
   "source": [
    "# Cleaning"
   ]
  },
  {
   "cell_type": "code",
   "execution_count": 13,
   "metadata": {
    "ExecuteTime": {
     "end_time": "2021-09-21T22:33:29.540087Z",
     "start_time": "2021-09-21T22:33:29.433873Z"
    }
   },
   "outputs": [],
   "source": [
    "#product id\n",
    "df_data = df_compositions.dropna(subset=['product_id'])\n",
    "\n",
    "#product name\n",
    "df_data['product_name'] = df_data['product_name'].str.replace('\\n','')\n",
    "df_data['product_name'] = df_data['product_name'].str.replace('\\t','')\n",
    "df_data['product_name'] = df_data['product_name'].str.replace('  ',' ')\n",
    "df_data['product_name'] = df_data['product_name'].str.replace(' ','_').str.lower()\n",
    "\n",
    "#product_price\n",
    "df_data['product_price'] = df_data['product_price'].astype(float)\n",
    "\n",
    "#color name\n",
    "df_data['product_color'] = df_data['product_color'].str.replace(' ', '_').str.lower()\n",
    "\n",
    "#fit\n",
    "df_data['fit'] = df_data['fit'].apply(lambda x: x.replace(' ','_').lower() if pd.notnull(x) else x)\n",
    "\n",
    "#size number\n",
    "df_data['size_number'] = df_data['size'].apply(lambda x: re.search('\\d{3}cm', x).group(0) if pd.notnull(x) else x)\n",
    "df_data['size_number'] = df_data['size_number'].apply(lambda x: re.search('\\d+', x).group(0) if pd.notnull(x) else x)\n",
    "\n",
    "#size model\n",
    "df_data['size_model'] = df_data['size'].str.extract('(\\d+/\\\\d+)')\n",
    "\n",
    "#break composition by comma\n",
    "df1 = df_data['composition'].str.split(',', expand=True).reset_index(drop=True)\n",
    "\n",
    "\n",
    "\n",
    "\n",
    "#cotton | polyester | elastane | elasterell---------------------------------\n",
    "df_ref = pd.DataFrame(index=np.arange(len(df_data)),  columns=['cotton', 'polyester', 'elastane', 'elasterell'])\n",
    "\n",
    "#cotton\n",
    "df_cotton_0 = df1.loc[df1[0].str.contains('Cotton',na=True),0]\n",
    "df_cotton_0.name = 'cotton'\n",
    "\n",
    "df_cotton_1 = df1.loc[df1[1].str.contains('Cotton',na=True),1]\n",
    "df_cotton_1.name = 'cotton'\n",
    "\n",
    "#combine\n",
    "df_cotton = df_cotton_0.combine_first(df_cotton_1)\n",
    "\n",
    "df_ref = pd.concat([df_ref, df_cotton], axis=1)\n",
    "df_ref = df_ref.iloc[:, ~df_ref.columns.duplicated(keep='last')]\n",
    "\n",
    "\n",
    "\n",
    "\n",
    "#polyester\n",
    "df_polyester_0 = df1.loc[df1[0].str.contains('Polyester', na=True),0]\n",
    "df_polyester_0.name = 'polyester'\n",
    "\n",
    "df_polyester_1 = df1.loc[df1[1].str.contains('Polyester', na=True),1]\n",
    "df_polyester_1.name = 'polyester'\n",
    "\n",
    "#combine\n",
    "df_polyester = df_polyester_0.combine_first(df_polyester_1)\n",
    "\n",
    "df_ref = pd.concat([df_ref, df_polyester], axis=1)\n",
    "df_ref = df_ref.iloc[:, ~df_ref.columns.duplicated(keep='last')]\n",
    "\n",
    "\n",
    "\n",
    "\n",
    "#elastane\n",
    "df_elastane_1 = df1.loc[df1[1].str.contains('Elastane', na=True),1]\n",
    "df_elastane_1.name = 'elastane'\n",
    "\n",
    "df_elastane_2 = df1.loc[df1[2].str.contains('Elastane', na=True),2]\n",
    "df_elastane_2.name = 'elastane'\n",
    "\n",
    "df_elastane_3 = df1.loc[df1[3].str.contains('Elastane', na=True),3]\n",
    "df_elastane_3.name = 'elastane'\n",
    "\n",
    "#combine elastane from both columns 1 and 2\n",
    "df_elastane_c12 = df_elastane_1.combine_first(df_elastane_2)\n",
    "df_elastane = df_elastane_c12.combine_first(df_elastane_3)\n",
    "\n",
    "df_ref = pd.concat([df_ref, df_elastane], axis=1)\n",
    "df_ref = df_ref.iloc[:, ~df_ref.columns.duplicated(keep='last')]\n",
    "\n",
    "\n",
    "\n",
    "\n",
    "#elasterell\n",
    "df_elasterell = df1.loc[df1[1].str.contains('Elasterell-P', na=True),1]\n",
    "df_elasterell.name = 'elasterell'\n",
    "\n",
    "df_ref = pd.concat([df_ref, df_elasterell], axis=1)\n",
    "df_ref = df_ref.iloc[:, ~df_ref.columns.duplicated(keep='last')]\n",
    "\n",
    "\n",
    "\n",
    "\n",
    "\n",
    "#join dfs\n",
    "df_aux = pd.concat([df_data['product_id'].reset_index(drop=True), df_ref], axis=1)\n",
    "\n",
    "#format composition\n",
    "df_aux['cotton']     = df_aux['cotton'].apply(lambda x: int(re.search('\\d+', x).group(0))/100 if pd.notnull(x) else x)\n",
    "df_aux['polyester']  = df_aux['polyester'].apply(lambda x: int(re.search('\\d+', x).group(0))/100 if pd.notnull(x) else x)\n",
    "df_aux['elastane']   = df_aux['elastane'].apply(lambda x: int(re.search('\\d+', x).group(0))/100 if pd.notnull(x) else x)\n",
    "df_aux['elasterell'] = df_aux['elasterell'].apply(lambda x: int(re.search('\\d+', x).group(0))/100 if pd.notnull(x) else x)\n",
    "\n",
    "#final join\n",
    "df_aux = df_aux.groupby('product_id').max().reset_index().fillna(0)\n",
    "df_data = pd.merge(df_data, df_aux, on='product_id', how='left')                    \n",
    "                    \n",
    "                    \n",
    "\n",
    "                    \n",
    "#drop columns\n",
    "df_data = df_data.drop(columns=['size', 'product_safety', 'composition'], axis=1)\n",
    "\n",
    "#drop duplicates\n",
    "df_data = df_data.drop_duplicates()"
   ]
  },
  {
   "cell_type": "code",
   "execution_count": 15,
   "metadata": {
    "ExecuteTime": {
     "end_time": "2021-09-21T22:48:47.187154Z",
     "start_time": "2021-09-21T22:48:46.779079Z"
    }
   },
   "outputs": [
    {
     "data": {
      "text/html": [
       "<div>\n",
       "<style scoped>\n",
       "    .dataframe tbody tr th:only-of-type {\n",
       "        vertical-align: middle;\n",
       "    }\n",
       "\n",
       "    .dataframe tbody tr th {\n",
       "        vertical-align: top;\n",
       "    }\n",
       "\n",
       "    .dataframe thead th {\n",
       "        text-align: right;\n",
       "    }\n",
       "</style>\n",
       "<table border=\"1\" class=\"dataframe\">\n",
       "  <thead>\n",
       "    <tr style=\"text-align: right;\">\n",
       "      <th></th>\n",
       "      <th>product_name</th>\n",
       "      <th>product_price</th>\n",
       "      <th>product_id</th>\n",
       "      <th>fit</th>\n",
       "      <th>sustainable_materials</th>\n",
       "      <th>product_color</th>\n",
       "      <th>style_id</th>\n",
       "      <th>color_id</th>\n",
       "      <th>scrapy_datetime</th>\n",
       "      <th>size_number</th>\n",
       "      <th>size_model</th>\n",
       "      <th>cotton</th>\n",
       "      <th>polyester</th>\n",
       "      <th>elastane</th>\n",
       "      <th>elasterell</th>\n",
       "    </tr>\n",
       "  </thead>\n",
       "  <tbody>\n",
       "    <tr>\n",
       "      <th>0</th>\n",
       "      <td>_relaxed_tapered_pull-on_jeans</td>\n",
       "      <td>29.99</td>\n",
       "      <td>0985159001</td>\n",
       "      <td>skinny_fit</td>\n",
       "      <td>NaN</td>\n",
       "      <td>black</td>\n",
       "      <td>0985159</td>\n",
       "      <td>001</td>\n",
       "      <td>2021-09-21 19: 24: 00</td>\n",
       "      <td>187</td>\n",
       "      <td>31/32</td>\n",
       "      <td>1.00</td>\n",
       "      <td>0.00</td>\n",
       "      <td>0.01</td>\n",
       "      <td>0.0</td>\n",
       "    </tr>\n",
       "    <tr>\n",
       "      <th>2</th>\n",
       "      <td>_relaxed_tapered_pull-on_jeans</td>\n",
       "      <td>29.99</td>\n",
       "      <td>0985159002</td>\n",
       "      <td>skinny_fit</td>\n",
       "      <td>NaN</td>\n",
       "      <td>denim_blue</td>\n",
       "      <td>0985159</td>\n",
       "      <td>002</td>\n",
       "      <td>2021-09-21 19: 24: 00</td>\n",
       "      <td>187</td>\n",
       "      <td>31/32</td>\n",
       "      <td>1.00</td>\n",
       "      <td>0.00</td>\n",
       "      <td>0.01</td>\n",
       "      <td>0.0</td>\n",
       "    </tr>\n",
       "    <tr>\n",
       "      <th>4</th>\n",
       "      <td>_relaxed_tapered_pull-on_jeans</td>\n",
       "      <td>29.99</td>\n",
       "      <td>0985159003</td>\n",
       "      <td>skinny_fit</td>\n",
       "      <td>NaN</td>\n",
       "      <td>dark_gray</td>\n",
       "      <td>0985159</td>\n",
       "      <td>003</td>\n",
       "      <td>2021-09-21 19: 24: 00</td>\n",
       "      <td>NaN</td>\n",
       "      <td>NaN</td>\n",
       "      <td>0.99</td>\n",
       "      <td>0.63</td>\n",
       "      <td>0.01</td>\n",
       "      <td>0.0</td>\n",
       "    </tr>\n",
       "    <tr>\n",
       "      <th>6</th>\n",
       "      <td>_relaxed_tapered_pull-on_jeans</td>\n",
       "      <td>29.99</td>\n",
       "      <td>0985159004</td>\n",
       "      <td>skinny_fit</td>\n",
       "      <td>NaN</td>\n",
       "      <td>light_denim_blue</td>\n",
       "      <td>0985159</td>\n",
       "      <td>004</td>\n",
       "      <td>2021-09-21 19: 24: 00</td>\n",
       "      <td>NaN</td>\n",
       "      <td>NaN</td>\n",
       "      <td>1.00</td>\n",
       "      <td>0.00</td>\n",
       "      <td>0.01</td>\n",
       "      <td>0.0</td>\n",
       "    </tr>\n",
       "    <tr>\n",
       "      <th>8</th>\n",
       "      <td>_relaxed_tapered_pull-on_jeans</td>\n",
       "      <td>29.99</td>\n",
       "      <td>0985159005</td>\n",
       "      <td>skinny_fit</td>\n",
       "      <td>NaN</td>\n",
       "      <td>dark_blue</td>\n",
       "      <td>0985159</td>\n",
       "      <td>005</td>\n",
       "      <td>2021-09-21 19: 24: 00</td>\n",
       "      <td>187</td>\n",
       "      <td>32/32</td>\n",
       "      <td>1.00</td>\n",
       "      <td>0.00</td>\n",
       "      <td>0.01</td>\n",
       "      <td>0.0</td>\n",
       "    </tr>\n",
       "    <tr>\n",
       "      <th>...</th>\n",
       "      <td>...</td>\n",
       "      <td>...</td>\n",
       "      <td>...</td>\n",
       "      <td>...</td>\n",
       "      <td>...</td>\n",
       "      <td>...</td>\n",
       "      <td>...</td>\n",
       "      <td>...</td>\n",
       "      <td>...</td>\n",
       "      <td>...</td>\n",
       "      <td>...</td>\n",
       "      <td>...</td>\n",
       "      <td>...</td>\n",
       "      <td>...</td>\n",
       "      <td>...</td>\n",
       "    </tr>\n",
       "    <tr>\n",
       "      <th>401</th>\n",
       "      <td>_relaxed_tapered_pull-on_jeans</td>\n",
       "      <td>29.99</td>\n",
       "      <td>0875105011</td>\n",
       "      <td>relaxed_fit</td>\n",
       "      <td>Recycled cotton 20%</td>\n",
       "      <td>light_denim_blue</td>\n",
       "      <td>0875105</td>\n",
       "      <td>011</td>\n",
       "      <td>2021-09-21 19: 24: 00</td>\n",
       "      <td>NaN</td>\n",
       "      <td>NaN</td>\n",
       "      <td>1.00</td>\n",
       "      <td>0.65</td>\n",
       "      <td>0.00</td>\n",
       "      <td>0.0</td>\n",
       "    </tr>\n",
       "    <tr>\n",
       "      <th>450</th>\n",
       "      <td>_relaxed_tapered_pull-on_jeans</td>\n",
       "      <td>29.99</td>\n",
       "      <td>0986779005</td>\n",
       "      <td>relaxed_fit</td>\n",
       "      <td>NaN</td>\n",
       "      <td>denim_blue</td>\n",
       "      <td>0986779</td>\n",
       "      <td>005</td>\n",
       "      <td>2021-09-21 19: 24: 00</td>\n",
       "      <td>NaN</td>\n",
       "      <td>NaN</td>\n",
       "      <td>1.00</td>\n",
       "      <td>0.65</td>\n",
       "      <td>0.00</td>\n",
       "      <td>0.0</td>\n",
       "    </tr>\n",
       "    <tr>\n",
       "      <th>452</th>\n",
       "      <td>_relaxed_tapered_pull-on_jeans</td>\n",
       "      <td>29.99</td>\n",
       "      <td>0986779002</td>\n",
       "      <td>relaxed_fit</td>\n",
       "      <td>NaN</td>\n",
       "      <td>denim_blue</td>\n",
       "      <td>0986779</td>\n",
       "      <td>002</td>\n",
       "      <td>2021-09-21 19: 24: 00</td>\n",
       "      <td>NaN</td>\n",
       "      <td>NaN</td>\n",
       "      <td>1.00</td>\n",
       "      <td>0.65</td>\n",
       "      <td>0.00</td>\n",
       "      <td>0.0</td>\n",
       "    </tr>\n",
       "    <tr>\n",
       "      <th>454</th>\n",
       "      <td>_relaxed_tapered_pull-on_jeans</td>\n",
       "      <td>29.99</td>\n",
       "      <td>0986779003</td>\n",
       "      <td>relaxed_fit</td>\n",
       "      <td>NaN</td>\n",
       "      <td>black</td>\n",
       "      <td>0986779</td>\n",
       "      <td>003</td>\n",
       "      <td>2021-09-21 19: 24: 00</td>\n",
       "      <td>NaN</td>\n",
       "      <td>NaN</td>\n",
       "      <td>1.00</td>\n",
       "      <td>0.65</td>\n",
       "      <td>0.00</td>\n",
       "      <td>0.0</td>\n",
       "    </tr>\n",
       "    <tr>\n",
       "      <th>456</th>\n",
       "      <td>NaN</td>\n",
       "      <td>NaN</td>\n",
       "      <td>0986779004</td>\n",
       "      <td>relaxed_fit</td>\n",
       "      <td>NaN</td>\n",
       "      <td>dark_denim_blue</td>\n",
       "      <td>0986779</td>\n",
       "      <td>004</td>\n",
       "      <td>2021-09-21 19: 24: 00</td>\n",
       "      <td>NaN</td>\n",
       "      <td>NaN</td>\n",
       "      <td>1.00</td>\n",
       "      <td>0.65</td>\n",
       "      <td>0.00</td>\n",
       "      <td>0.0</td>\n",
       "    </tr>\n",
       "  </tbody>\n",
       "</table>\n",
       "<p>133 rows × 15 columns</p>\n",
       "</div>"
      ],
      "text/plain": [
       "                       product_name  product_price  product_id          fit  \\\n",
       "0    _relaxed_tapered_pull-on_jeans          29.99  0985159001   skinny_fit   \n",
       "2    _relaxed_tapered_pull-on_jeans          29.99  0985159002   skinny_fit   \n",
       "4    _relaxed_tapered_pull-on_jeans          29.99  0985159003   skinny_fit   \n",
       "6    _relaxed_tapered_pull-on_jeans          29.99  0985159004   skinny_fit   \n",
       "8    _relaxed_tapered_pull-on_jeans          29.99  0985159005   skinny_fit   \n",
       "..                              ...            ...         ...          ...   \n",
       "401  _relaxed_tapered_pull-on_jeans          29.99  0875105011  relaxed_fit   \n",
       "450  _relaxed_tapered_pull-on_jeans          29.99  0986779005  relaxed_fit   \n",
       "452  _relaxed_tapered_pull-on_jeans          29.99  0986779002  relaxed_fit   \n",
       "454  _relaxed_tapered_pull-on_jeans          29.99  0986779003  relaxed_fit   \n",
       "456                             NaN            NaN  0986779004  relaxed_fit   \n",
       "\n",
       "    sustainable_materials     product_color style_id color_id  \\\n",
       "0                     NaN             black  0985159      001   \n",
       "2                     NaN        denim_blue  0985159      002   \n",
       "4                     NaN         dark_gray  0985159      003   \n",
       "6                     NaN  light_denim_blue  0985159      004   \n",
       "8                     NaN         dark_blue  0985159      005   \n",
       "..                    ...               ...      ...      ...   \n",
       "401   Recycled cotton 20%  light_denim_blue  0875105      011   \n",
       "450                   NaN        denim_blue  0986779      005   \n",
       "452                   NaN        denim_blue  0986779      002   \n",
       "454                   NaN             black  0986779      003   \n",
       "456                   NaN   dark_denim_blue  0986779      004   \n",
       "\n",
       "           scrapy_datetime size_number size_model  cotton  polyester  \\\n",
       "0    2021-09-21 19: 24: 00         187      31/32    1.00       0.00   \n",
       "2    2021-09-21 19: 24: 00         187      31/32    1.00       0.00   \n",
       "4    2021-09-21 19: 24: 00         NaN        NaN    0.99       0.63   \n",
       "6    2021-09-21 19: 24: 00         NaN        NaN    1.00       0.00   \n",
       "8    2021-09-21 19: 24: 00         187      32/32    1.00       0.00   \n",
       "..                     ...         ...        ...     ...        ...   \n",
       "401  2021-09-21 19: 24: 00         NaN        NaN    1.00       0.65   \n",
       "450  2021-09-21 19: 24: 00         NaN        NaN    1.00       0.65   \n",
       "452  2021-09-21 19: 24: 00         NaN        NaN    1.00       0.65   \n",
       "454  2021-09-21 19: 24: 00         NaN        NaN    1.00       0.65   \n",
       "456  2021-09-21 19: 24: 00         NaN        NaN    1.00       0.65   \n",
       "\n",
       "     elastane  elasterell  \n",
       "0        0.01         0.0  \n",
       "2        0.01         0.0  \n",
       "4        0.01         0.0  \n",
       "6        0.01         0.0  \n",
       "8        0.01         0.0  \n",
       "..        ...         ...  \n",
       "401      0.00         0.0  \n",
       "450      0.00         0.0  \n",
       "452      0.00         0.0  \n",
       "454      0.00         0.0  \n",
       "456      0.00         0.0  \n",
       "\n",
       "[133 rows x 15 columns]"
      ]
     },
     "execution_count": 15,
     "metadata": {},
     "output_type": "execute_result"
    }
   ],
   "source": [
    "df_data"
   ]
  },
  {
   "cell_type": "markdown",
   "metadata": {},
   "source": [
    "# Data Insert"
   ]
  },
  {
   "cell_type": "code",
   "execution_count": 18,
   "metadata": {
    "ExecuteTime": {
     "end_time": "2021-09-21T22:55:07.319578Z",
     "start_time": "2021-09-21T22:55:07.305589Z"
    }
   },
   "outputs": [],
   "source": [
    "data_insert = df_data[[\n",
    "    'product_id',\n",
    "    'style_id',\n",
    "    'color_id',\n",
    "    'product_name',\n",
    "    'product_color',\n",
    "    'fit',\n",
    "    'product_price',\n",
    "    'size_number',\n",
    "    'size_model',\n",
    "    'cotton',\n",
    "    'polyester',\n",
    "    'elastane',\n",
    "    'elasterell',\n",
    "    'scrapy_datetime'\n",
    "]]"
   ]
  },
  {
   "cell_type": "code",
   "execution_count": 19,
   "metadata": {
    "ExecuteTime": {
     "end_time": "2021-09-21T22:55:08.201583Z",
     "start_time": "2021-09-21T22:55:08.196588Z"
    }
   },
   "outputs": [],
   "source": [
    "#create table\n",
    "query_showroom_schema = \"\"\"\n",
    "    CREATE TABLE vitrine(\n",
    "    'product_id'             TEXT,\n",
    "    'style_id'               TEXT,\n",
    "    'color_id'               TEXT,\n",
    "    'product_name'           TEXT,\n",
    "    'product_color'          TEXT,\n",
    "    'fit'                    TEXT,\n",
    "    'product_price'          REAL,\n",
    "    'size_number'            TEXT,\n",
    "    'size_model'             TEXT,\n",
    "    'cotton'                 TEXT,\n",
    "    'polyester'              REAL,\n",
    "    'elastane'               REAL,\n",
    "    'elasterell'             REAL,\n",
    "    'scrapy_datetime'        TEXT\n",
    "    )\n",
    "\"\"\""
   ]
  },
  {
   "cell_type": "code",
   "execution_count": 20,
   "metadata": {
    "ExecuteTime": {
     "end_time": "2021-09-21T22:55:09.458350Z",
     "start_time": "2021-09-21T22:55:09.212575Z"
    }
   },
   "outputs": [],
   "source": [
    "#create table\n",
    "conn = sqlite3.connect('database_hm.sqlite')\n",
    "cursor = conn.execute(query_showroom_schema)\n",
    "conn.commit()\n",
    "#conn.close()"
   ]
  },
  {
   "cell_type": "code",
   "execution_count": 22,
   "metadata": {
    "ExecuteTime": {
     "end_time": "2021-09-21T22:55:42.803735Z",
     "start_time": "2021-09-21T22:55:42.424305Z"
    }
   },
   "outputs": [],
   "source": [
    "#engine db\n",
    "conn = create_engine('sqlite:///database_hm.sqlite', echo=False)\n",
    "\n",
    "#insert data to table\n",
    "data_insert.to_sql('vitrine', con=conn, if_exists='append', index=False)"
   ]
  },
  {
   "cell_type": "code",
   "execution_count": null,
   "metadata": {},
   "outputs": [],
   "source": []
  },
  {
   "cell_type": "code",
   "execution_count": null,
   "metadata": {},
   "outputs": [],
   "source": []
  },
  {
   "cell_type": "code",
   "execution_count": null,
   "metadata": {},
   "outputs": [],
   "source": []
  },
  {
   "cell_type": "code",
   "execution_count": null,
   "metadata": {
    "ExecuteTime": {
     "end_time": "2021-09-21T22:24:00.281409Z",
     "start_time": "2021-09-21T22:19:38.850Z"
    }
   },
   "outputs": [],
   "source": [
    "url = 'https://www2.hm.com/en_us/men/products/jeans.html'\n",
    "    \n",
    "headers = {'User-Agent': 'Mozilla/5.0 (Windows NT 10.0; Win64; x64) AppleWebKit/537.36 (KHTML, like Gecko) Chrome/80.0.3987.149 Safari/537.36'}\n",
    "\n",
    "page = requests.get (url, headers=headers)\n",
    "soup = BeautifulSoup (page.text, 'html.parser')"
   ]
  },
  {
   "cell_type": "code",
   "execution_count": null,
   "metadata": {
    "ExecuteTime": {
     "end_time": "2021-09-21T22:24:00.283410Z",
     "start_time": "2021-09-21T22:19:38.853Z"
    }
   },
   "outputs": [],
   "source": [
    "total_item = soup.find_all ('h2', class_='load-more-heading')[0].get('data-total')\n",
    "total_item\n",
    "\n",
    "page_number = np.round(int(total_item)/36)\n",
    "\n",
    "url2 = url + \"?page-size=\" + str(int(page_number*36))\n",
    "\n",
    "page = requests.get (url2, headers=headers)\n",
    "soup = BeautifulSoup (page.text, 'html.parser')"
   ]
  },
  {
   "cell_type": "code",
   "execution_count": null,
   "metadata": {
    "ExecuteTime": {
     "end_time": "2021-09-21T22:24:00.284409Z",
     "start_time": "2021-09-21T22:19:38.856Z"
    }
   },
   "outputs": [],
   "source": [
    "products = soup.find ('ul', class_= 'products-listing small')\n",
    "products_list = products.find_all ('article', class_ = 'hm-product-item')\n",
    "\n",
    "#product id\n",
    "products_id = [p.get('data-articlecode') for p in products_list]\n",
    "\n",
    "#product category\n",
    "products_category = [p.get('data-category') for p in products_list]\n",
    "\n",
    "#products name\n",
    "products_list = products.find_all ('a', class_ = 'link')\n",
    "products_name = [p.get_text() for p in products_list]\n",
    "\n",
    "#product price\n",
    "products_list = products.find_all ('span', class_ = 'price regular')\n",
    "products_price = [p.get_text() for p in products_list]\n",
    "\n",
    "#dataframe\n",
    "data = pd.DataFrame([products_id, products_category, products_name, products_price]).T\n",
    "data.columns = ['product_id', 'product_category', 'product_name', 'product_price']\n",
    "\n",
    "#scrapy datetime\n",
    "data['scrapy_datetime'] = datetime.now().strftime('%Y-%m-%d %H: %M: %S')\n",
    "data"
   ]
  },
  {
   "cell_type": "code",
   "execution_count": null,
   "metadata": {
    "ExecuteTime": {
     "end_time": "2021-09-17T01:12:45.839962Z",
     "start_time": "2021-09-17T01:12:45.695850Z"
    }
   },
   "outputs": [],
   "source": []
  },
  {
   "cell_type": "code",
   "execution_count": null,
   "metadata": {
    "ExecuteTime": {
     "end_time": "2021-09-21T22:24:00.285407Z",
     "start_time": "2021-09-21T22:19:38.862Z"
    }
   },
   "outputs": [],
   "source": [
    "data"
   ]
  },
  {
   "cell_type": "code",
   "execution_count": null,
   "metadata": {
    "ExecuteTime": {
     "end_time": "2021-09-21T22:24:00.287407Z",
     "start_time": "2021-09-21T22:19:38.864Z"
    }
   },
   "outputs": [],
   "source": [
    "#create table\n",
    "query_showroom_schema = \"\"\"\n",
    "    CREATE TABLE vitrine_hm(\n",
    "    product_id             INTEGER,\n",
    "    product_category       TEXT,\n",
    "    product_name           TEXT,\n",
    "    product_price          REAL,\n",
    "    scrapy_datetime        TEXT,\n",
    "    style_id               INTEGER,\n",
    "    color_id               INTEGER,\n",
    "    product_color          TEXT,\n",
    "    fit                    TEXT,\n",
    "    size_number            REAL,\n",
    "    size_model             TEXT,\n",
    "    cotton                 REAL,\n",
    "    polyester              REAL,\n",
    "    elastane               REAL,\n",
    "    elasterell             REAL\n",
    "    )\n",
    "\"\"\""
   ]
  },
  {
   "cell_type": "code",
   "execution_count": null,
   "metadata": {
    "ExecuteTime": {
     "end_time": "2021-09-21T22:24:00.288404Z",
     "start_time": "2021-09-21T22:19:38.866Z"
    }
   },
   "outputs": [],
   "source": [
    "#connect to dataset\n",
    "conn = sqlite3.connect('hm_db.sqlite')\n",
    "cursor = conn.execute(query_showroom_schema)\n",
    "conn.commit()\n",
    "conn.close()"
   ]
  },
  {
   "cell_type": "code",
   "execution_count": null,
   "metadata": {
    "ExecuteTime": {
     "end_time": "2021-09-21T22:24:00.289404Z",
     "start_time": "2021-09-21T22:19:38.868Z"
    }
   },
   "outputs": [],
   "source": [
    "#engine db\n",
    "conn = create_engine('sqlite:///hm_db.sqlite', echo=False)\n",
    "\n",
    "#create columns\n",
    "query = \"\"\"\n",
    "    SELECT * FROM vitrine_hm\n",
    "\"\"\"\n",
    "\n",
    "#df = pd.read_sql_query(query,conn)\n",
    "#df.head()\n",
    "\n",
    "#insert data to table\n",
    "data.to_sql('vitrine_hm', con=conn, if_exists='append', index=False)\n",
    "#data"
   ]
  },
  {
   "cell_type": "code",
   "execution_count": null,
   "metadata": {
    "ExecuteTime": {
     "end_time": "2021-09-21T22:24:00.290404Z",
     "start_time": "2021-09-21T22:19:38.871Z"
    }
   },
   "outputs": [],
   "source": [
    "df = pd.read_sql_query(query,conn)\n",
    "df.head()"
   ]
  },
  {
   "cell_type": "code",
   "execution_count": null,
   "metadata": {
    "ExecuteTime": {
     "end_time": "2021-09-21T22:24:00.291405Z",
     "start_time": "2021-09-21T22:19:38.873Z"
    }
   },
   "outputs": [],
   "source": [
    "#drop table\n",
    "query = \"\"\"\n",
    "    DROP TABLE vitrine_hm\n",
    "    \n",
    "\"\"\"\n",
    "\n",
    "conn = sqlite3.connect('hm_db.sqlite')\n",
    "cursor = conn.execute(query)\n",
    "conn.commit()\n",
    "conn.close()"
   ]
  },
  {
   "cell_type": "code",
   "execution_count": null,
   "metadata": {},
   "outputs": [],
   "source": []
  },
  {
   "cell_type": "code",
   "execution_count": null,
   "metadata": {},
   "outputs": [],
   "source": []
  },
  {
   "cell_type": "code",
   "execution_count": null,
   "metadata": {},
   "outputs": [],
   "source": []
  },
  {
   "cell_type": "code",
   "execution_count": null,
   "metadata": {},
   "outputs": [],
   "source": []
  },
  {
   "cell_type": "code",
   "execution_count": null,
   "metadata": {},
   "outputs": [],
   "source": []
  }
 ],
 "metadata": {
  "kernelspec": {
   "display_name": "Python 3",
   "language": "python",
   "name": "python3"
  },
  "language_info": {
   "codemirror_mode": {
    "name": "ipython",
    "version": 3
   },
   "file_extension": ".py",
   "mimetype": "text/x-python",
   "name": "python",
   "nbconvert_exporter": "python",
   "pygments_lexer": "ipython3",
   "version": "3.8.5"
  }
 },
 "nbformat": 4,
 "nbformat_minor": 4
}
